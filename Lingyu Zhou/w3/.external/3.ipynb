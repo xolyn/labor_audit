{
 "cells": [
  {
   "cell_type": "code",
   "execution_count": 1,
   "metadata": {},
   "outputs": [],
   "source": [
    "import pandas as pd\n",
    "import os\n",
    "# from sentence_transformers import SentenceTransformer\n",
    "# from sklearn.cluster import AgglomerativeClustering\n",
    "from tqdm import tqdm"
   ]
  },
  {
   "cell_type": "code",
   "execution_count": 2,
   "metadata": {},
   "outputs": [],
   "source": [
    "df=pd.read_stata(\"d://r3.dta\")\n",
    "df.drop([\"index\",\"year\"],axis=1,inplace= True)"
   ]
  },
  {
   "cell_type": "code",
   "execution_count": 12,
   "metadata": {},
   "outputs": [],
   "source": [
    "# df[[\"CP\", \"Q\", \"CPCleaned\", \"QCleaned\"]]=df[[\"CP\", \"Q\", \"CPCleaned\", \"QCleaned\"]].applymap(lambda x : x.replace(\"  \", \" \").lower().strip())\n",
    "CPCleanedUnique=list(df.CPCleaned.unique())"
   ]
  },
  {
   "cell_type": "code",
   "execution_count": 13,
   "metadata": {},
   "outputs": [],
   "source": [
    "def assign(q,orig:bool=False, cp=\"delete\"):\n",
    "    global df\n",
    "    if orig==True:\n",
    "        df.loc[df.Q==q,\"CPCleaned\"]=cp\n",
    "    else:\n",
    "        df.loc[df.QCleaned==q,\"CPCleaned\"]=cp\n",
    "        \n",
    "def getOriginalQ(cleanedQ):\n",
    "    global df\n",
    "    return df[df.QCleaned==cleanedQ].Q.value_counts()\n",
    "\n",
    "def undo(combinedQ:str):\n",
    "    global df\n",
    "    df.loc[df.QCleaned==combinedQ,\"QCleaned\"]=df.loc[df.QCleaned==combinedQ,\"Q\"]\n",
    "\n",
    "def groupSent(sentences, threshold=0.75):\n",
    "    # Load pre-trained Sentence-BERT model\n",
    "    model = SentenceTransformer('all-MiniLM-L6-v2')\n",
    "    embeddings = model.encode(sentences,show_progress_bar=False)\n",
    "    clustering = AgglomerativeClustering(n_clusters=None, affinity='cosine', linkage='average', distance_threshold=1-threshold)\n",
    "    clustering.fit(embeddings)\n",
    "    clusters = {}\n",
    "    for sentence_id, cluster_id in enumerate(clustering.labels_):\n",
    "        if cluster_id not in clusters:\n",
    "            clusters[cluster_id] = []\n",
    "        clusters[cluster_id].append(sentences[sentence_id])\n",
    "    return [group for group in clusters.values()]\n",
    "\n",
    "genSubRule=lambda lol: {x: sorted(t, key=lambda x: len(x))[0] for t in lol for x in t}\n",
    "\n",
    "def getQNum(qstr):\n",
    "    global df\n",
    "    return len(df[df.QCleaned==qstr])\n",
    "\n",
    "def tabCountry(q):\n",
    "    global df\n",
    "    return df[df.QCleaned==q].Country.value_counts()\n",
    "\n",
    "# with open(\"grpdQ.txt\",\"r\") as txt:\n",
    "#     grpdQ=eval(txt.read())\n",
    "\n",
    "def replace(qset, brief=None):\n",
    "    '''list of questions, replace all with shortest/given'''\n",
    "    qset=[x.strip() for x in qset]\n",
    "    global df\n",
    "    if brief==None:\n",
    "        brief=sorted(qset,key=lambda x : len(x))[0]\n",
    "    rplcidx=list(df[df[\"QCleaned\"].isin(qset)].index)\n",
    "    df.loc[rplcidx,\"QCleaned\"]=brief\n",
    "    # df.loc[rplcidx,\"cleaned\"]=1\n",
    "\n",
    "def getCountry(q):\n",
    "    global df\n",
    "    return df[df.QCleaned==q].Country.unique()\n",
    "\n",
    "def CPVC(n):\n",
    "    print(CPCleanedUnique[n])\n",
    "    return df[df.CPCleaned==CPCleanedUnique[n]].QCleaned.value_counts()\n",
    "\n",
    "def discard(q):\n",
    "    global df\n",
    "    df.drop(df[df.QCleaned==q].index, inplace=True)\n",
    "\n",
    "def getYear(q):\n",
    "    return df[df.QCleaned==q].AssesmentDate.str[-4:].unique()\n",
    "\n",
    "def collapse(qcleaned, country):\n",
    "    global df\n",
    "    return df[(df.QCleaned==qcleaned) & (df.Country==country)].Q.value_counts()\n",
    "\n",
    "def tab(cpnum=None,cp=None):\n",
    "    assert cpnum!=None or cp!=None, \"pass in at least 1 param.\"\n",
    "    if cpnum!=None:\n",
    "        cp=CPCleanedUnique[cpnum]\n",
    "    print(cp)\n",
    "    global df\n",
    "    filtered_df=df[df['CPCleaned']==cp]\n",
    "    return pd.crosstab(filtered_df['Country'], filtered_df['QCleaned'],margins=True).transpose()\n",
    "\n",
    "def discardYear(qcleaned, country, year:int=2021):\n",
    "    global df\n",
    "    df.loc[(df.QCleaned==qcleaned) & (df.Country==country) & (df.AssesmentDate.str[-4:]==str(year)),\"CPCleaned\"]=\"delete\""
   ]
  },
  {
   "cell_type": "markdown",
   "metadata": {},
   "source": [
    "---"
   ]
  },
  {
   "cell_type": "code",
   "execution_count": 14,
   "metadata": {},
   "outputs": [
    {
     "name": "stdout",
     "output_type": "stream",
     "text": [
      "osh management systems\n"
     ]
    },
    {
     "data": {
      "text/html": [
       "<div>\n",
       "<style scoped>\n",
       "    .dataframe tbody tr th:only-of-type {\n",
       "        vertical-align: middle;\n",
       "    }\n",
       "\n",
       "    .dataframe tbody tr th {\n",
       "        vertical-align: top;\n",
       "    }\n",
       "\n",
       "    .dataframe thead th {\n",
       "        text-align: right;\n",
       "    }\n",
       "</style>\n",
       "<table border=\"1\" class=\"dataframe\">\n",
       "  <thead>\n",
       "    <tr style=\"text-align: right;\">\n",
       "      <th>Country</th>\n",
       "      <th>Bangladesh</th>\n",
       "      <th>Cambodia</th>\n",
       "      <th>Haiti</th>\n",
       "      <th>Indonesia</th>\n",
       "      <th>Jordan</th>\n",
       "      <th>Nicaragua</th>\n",
       "      <th>Vietnam</th>\n",
       "      <th>All</th>\n",
       "    </tr>\n",
       "    <tr>\n",
       "      <th>QCleaned</th>\n",
       "      <th></th>\n",
       "      <th></th>\n",
       "      <th></th>\n",
       "      <th></th>\n",
       "      <th></th>\n",
       "      <th></th>\n",
       "      <th></th>\n",
       "      <th></th>\n",
       "    </tr>\n",
       "  </thead>\n",
       "  <tbody>\n",
       "    <tr>\n",
       "      <th>does the employer investigate work-related accidents and indicate the technical recommendations necessary to prevent them?</th>\n",
       "      <td>0</td>\n",
       "      <td>0</td>\n",
       "      <td>0</td>\n",
       "      <td>0</td>\n",
       "      <td>0</td>\n",
       "      <td>122</td>\n",
       "      <td>0</td>\n",
       "      <td>122</td>\n",
       "    </tr>\n",
       "    <tr>\n",
       "      <th>does the employer record work-related accidents?</th>\n",
       "      <td>0</td>\n",
       "      <td>0</td>\n",
       "      <td>161</td>\n",
       "      <td>0</td>\n",
       "      <td>0</td>\n",
       "      <td>0</td>\n",
       "      <td>0</td>\n",
       "      <td>161</td>\n",
       "    </tr>\n",
       "    <tr>\n",
       "      <th>does the factory have a written osh policy?</th>\n",
       "      <td>0</td>\n",
       "      <td>0</td>\n",
       "      <td>0</td>\n",
       "      <td>0</td>\n",
       "      <td>474</td>\n",
       "      <td>0</td>\n",
       "      <td>0</td>\n",
       "      <td>474</td>\n",
       "    </tr>\n",
       "    <tr>\n",
       "      <th>has legal construction permits/structural safety certificate</th>\n",
       "      <td>3486</td>\n",
       "      <td>9266</td>\n",
       "      <td>428</td>\n",
       "      <td>5070</td>\n",
       "      <td>2370</td>\n",
       "      <td>1205</td>\n",
       "      <td>12614</td>\n",
       "      <td>34439</td>\n",
       "    </tr>\n",
       "    <tr>\n",
       "      <th>has the employer performed an assessment of general occupational safety and health issues in the factory?</th>\n",
       "      <td>0</td>\n",
       "      <td>502</td>\n",
       "      <td>0</td>\n",
       "      <td>0</td>\n",
       "      <td>0</td>\n",
       "      <td>0</td>\n",
       "      <td>1802</td>\n",
       "      <td>2304</td>\n",
       "    </tr>\n",
       "    <tr>\n",
       "      <th>mechanisms/committee for cooperation on osh</th>\n",
       "      <td>0</td>\n",
       "      <td>2503</td>\n",
       "      <td>55</td>\n",
       "      <td>0</td>\n",
       "      <td>0</td>\n",
       "      <td>0</td>\n",
       "      <td>0</td>\n",
       "      <td>2558</td>\n",
       "    </tr>\n",
       "    <tr>\n",
       "      <th>All</th>\n",
       "      <td>3486</td>\n",
       "      <td>12271</td>\n",
       "      <td>644</td>\n",
       "      <td>5070</td>\n",
       "      <td>2844</td>\n",
       "      <td>1327</td>\n",
       "      <td>14416</td>\n",
       "      <td>40058</td>\n",
       "    </tr>\n",
       "  </tbody>\n",
       "</table>\n",
       "</div>"
      ],
      "text/plain": [
       "Country                                             Bangladesh  Cambodia  \\\n",
       "QCleaned                                                                   \n",
       "does the employer investigate work-related acci...           0         0   \n",
       "does the employer record work-related accidents?             0         0   \n",
       "does the factory have a written osh policy?                  0         0   \n",
       "has legal construction permits/structural safet...        3486      9266   \n",
       "has the employer performed an assessment of gen...           0       502   \n",
       "mechanisms/committee for cooperation on osh                  0      2503   \n",
       "All                                                       3486     12271   \n",
       "\n",
       "Country                                             Haiti  Indonesia  Jordan  \\\n",
       "QCleaned                                                                       \n",
       "does the employer investigate work-related acci...      0          0       0   \n",
       "does the employer record work-related accidents?      161          0       0   \n",
       "does the factory have a written osh policy?             0          0     474   \n",
       "has legal construction permits/structural safet...    428       5070    2370   \n",
       "has the employer performed an assessment of gen...      0          0       0   \n",
       "mechanisms/committee for cooperation on osh            55          0       0   \n",
       "All                                                   644       5070    2844   \n",
       "\n",
       "Country                                             Nicaragua  Vietnam    All  \n",
       "QCleaned                                                                       \n",
       "does the employer investigate work-related acci...        122        0    122  \n",
       "does the employer record work-related accidents?            0        0    161  \n",
       "does the factory have a written osh policy?                 0        0    474  \n",
       "has legal construction permits/structural safet...       1205    12614  34439  \n",
       "has the employer performed an assessment of gen...          0     1802   2304  \n",
       "mechanisms/committee for cooperation on osh                 0        0   2558  \n",
       "All                                                      1327    14416  40058  "
      ]
     },
     "execution_count": 14,
     "metadata": {},
     "output_type": "execute_result"
    }
   ],
   "source": [
    "tab(cp='osh management systems')\n"
   ]
  },
  {
   "cell_type": "code",
   "execution_count": 15,
   "metadata": {},
   "outputs": [],
   "source": [
    "replace([\"has the employer done an initial industrial hygiene risk assessment, a risk map, and annual risk assessments?\",\"has the employer performed an assessment of general occupational safety and health issues in the factory?\"],\"Assess OSH issues\")\n",
    "#combined Nicaragua item with others"
   ]
  },
  {
   "cell_type": "code",
   "execution_count": 16,
   "metadata": {},
   "outputs": [],
   "source": [
    "replace([\"has legal construction permits/structural safety certificate\",\"does the employer have osh technical organizational regulations (tor) that are approved by the ministry of labor?\"])\n",
    "#combined one in Nicaragua with others"
   ]
  },
  {
   "cell_type": "code",
   "execution_count": 17,
   "metadata": {},
   "outputs": [],
   "source": [
    "df.loc[(df.QCleaned==\"does the factory have a valid business license?\") & (df.Country==\"Jordan\"),\"QCleaned\"]=\"has legal construction permits/structural safety certificate\"\n",
    "##move one in Jordan to others"
   ]
  },
  {
   "cell_type": "code",
   "execution_count": 18,
   "metadata": {},
   "outputs": [],
   "source": [
    "replace([\"does the employer develop an osh plan annually?\",\"does the employer have an osh license?\"],\"does the factory have a written osh policy?\")\n",
    "#move one item in Vietnam to others"
   ]
  },
  {
   "cell_type": "code",
   "execution_count": 19,
   "metadata": {},
   "outputs": [],
   "source": [
    "replace([\"does the factory employ the required osh specialists?\",\"has the employer appointed an officer trained in firefighting, rescue and first aid?\"])"
   ]
  },
  {
   "cell_type": "code",
   "execution_count": 20,
   "metadata": {},
   "outputs": [],
   "source": [
    "discard(\"does the employer have an steam generator license?\") #one unique in Nicaragua\n",
    "discard(\"does the employer report both accidents and non-occurrences to the ministry of labor?\") #one unique item in Nicaragua"
   ]
  },
  {
   "cell_type": "code",
   "execution_count": 21,
   "metadata": {},
   "outputs": [],
   "source": [
    "replace([\"has the employer set up a properly functioning osh collaborators network?\"],\"does the factory employ the required osh specialists?\")\n",
    "#move one in Vietnam to similar others on osh personnel"
   ]
  },
  {
   "cell_type": "code",
   "execution_count": 22,
   "metadata": {},
   "outputs": [],
   "source": [
    "df.loc[(df.QCleaned==\"does the factory have a valid business license?\") & (df.Country==\"Bangladesh\"),\"QCleaned\"]=\"does the factory have a written osh policy?\"\n",
    "##move one in Bangladesh to others"
   ]
  },
  {
   "cell_type": "code",
   "execution_count": 23,
   "metadata": {},
   "outputs": [],
   "source": [
    "for i in [\"does the employer have the required certificates for the installation/ operation of electrical installations and other machines and equipment?\",\n",
    "       \"does the employer inspect and measure the environmental conditions in the workplace on a annual basis?\",\n",
    "       \"does the employer investigate work-related accidents and indicate the technical recommendations necessary to prevent them?\",\n",
    "       \"does the employer regularly inspect and maintain machines, equipment, buildings and stores?\",\n",
    "       \"has the employer designated a person exclusively devoted to osh promotion, prevention and protection?\",\n",
    "       \"has the employer elaborated an osh training program?\",\n",
    "       \"does the factory employ the required osh specialists?\"]:\n",
    "    assign(i)\n"
   ]
  },
  {
   "cell_type": "code",
   "execution_count": 24,
   "metadata": {},
   "outputs": [],
   "source": [
    "assign(\"does the employer comply with requirements on hiv/aids?\")"
   ]
  },
  {
   "cell_type": "code",
   "execution_count": 25,
   "metadata": {},
   "outputs": [
    {
     "data": {
      "text/plain": [
       "has the employer developed mechanisms to ensure cooperation between workers and management on osh matters?    2558\n",
       "Name: Q, dtype: int64"
      ]
     },
     "execution_count": 25,
     "metadata": {},
     "output_type": "execute_result"
    }
   ],
   "source": [
    "getOriginalQ(\"mechanisms/committee for cooperation on osh\")"
   ]
  },
  {
   "cell_type": "code",
   "execution_count": 26,
   "metadata": {},
   "outputs": [
    {
     "data": {
      "text/plain": [
       "has the employer developed mechanisms to ensure cooperation between workers and management on osh matters?    2503\n",
       "Name: Q, dtype: int64"
      ]
     },
     "execution_count": 26,
     "metadata": {},
     "output_type": "execute_result"
    }
   ],
   "source": [
    "collapse(\"mechanisms/committee for cooperation on osh\",\"Cambodia\")"
   ]
  },
  {
   "cell_type": "code",
   "execution_count": 27,
   "metadata": {},
   "outputs": [],
   "source": [
    "# df.loc[df.Q==\"does the workplace have a functioning hiv/aids committee?\", \"QCleaned\"]=\"does the workplace have a functioning hiv/aids committee?\""
   ]
  },
  {
   "cell_type": "code",
   "execution_count": 28,
   "metadata": {},
   "outputs": [],
   "source": [
    "df.to_csv(\"d://r4.csv\",index=False)"
   ]
  },
  {
   "cell_type": "code",
   "execution_count": 31,
   "metadata": {},
   "outputs": [],
   "source": [
    "# df.to_pickle(\"d://r4.pkl\")\n",
    "df.to_feather(\"d://r4.feather\")"
   ]
  },
  {
   "cell_type": "code",
   "execution_count": 40,
   "metadata": {},
   "outputs": [],
   "source": [
    "for i in range(1000000):\n",
    "    print(i,\"\\r\",end=\"\")"
   ]
  }
 ],
 "metadata": {
  "kernelspec": {
   "display_name": "base",
   "language": "python",
   "name": "python3"
  },
  "language_info": {
   "codemirror_mode": {
    "name": "ipython",
    "version": 3
   },
   "file_extension": ".py",
   "mimetype": "text/x-python",
   "name": "python",
   "nbconvert_exporter": "python",
   "pygments_lexer": "ipython3",
   "version": "3.9.13"
  }
 },
 "nbformat": 4,
 "nbformat_minor": 2
}
