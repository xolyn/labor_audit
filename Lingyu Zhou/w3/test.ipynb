{
 "cells": [
  {
   "cell_type": "code",
   "execution_count": 1,
   "metadata": {},
   "outputs": [],
   "source": [
    "import pandas as pd\n",
    "df=pd.read_csv(\"raw.csv\")\n",
    "df[[\"CP\", \"Q\", \"CPCleaned\", \"QCleaned\"]]=df[[\"CP\", \"Q\", \"CPCleaned\", \"QCleaned\"]].applymap(lambda x : x.replace(\"  \", \" \").lower().strip())"
   ]
  },
  {
   "cell_type": "code",
   "execution_count": 6,
   "metadata": {},
   "outputs": [
    {
     "data": {
      "text/html": [
       "<div>\n",
       "<style scoped>\n",
       "    .dataframe tbody tr th:only-of-type {\n",
       "        vertical-align: middle;\n",
       "    }\n",
       "\n",
       "    .dataframe tbody tr th {\n",
       "        vertical-align: top;\n",
       "    }\n",
       "\n",
       "    .dataframe thead th {\n",
       "        text-align: right;\n",
       "    }\n",
       "</style>\n",
       "<table border=\"1\" class=\"dataframe\">\n",
       "  <thead>\n",
       "    <tr style=\"text-align: right;\">\n",
       "      <th>Country</th>\n",
       "      <th>Bangladesh</th>\n",
       "      <th>Cambodia</th>\n",
       "      <th>Haiti</th>\n",
       "      <th>Indonesia</th>\n",
       "      <th>Jordan</th>\n",
       "      <th>Nicaragua</th>\n",
       "      <th>Vietnam</th>\n",
       "      <th>All</th>\n",
       "    </tr>\n",
       "    <tr>\n",
       "      <th>QCleaned</th>\n",
       "      <th></th>\n",
       "      <th></th>\n",
       "      <th></th>\n",
       "      <th></th>\n",
       "      <th></th>\n",
       "      <th></th>\n",
       "      <th></th>\n",
       "      <th></th>\n",
       "    </tr>\n",
       "  </thead>\n",
       "  <tbody>\n",
       "    <tr>\n",
       "      <th>accessable unlocked emergency exits</th>\n",
       "      <td>584</td>\n",
       "      <td>2503</td>\n",
       "      <td>161</td>\n",
       "      <td>851</td>\n",
       "      <td>474</td>\n",
       "      <td>122</td>\n",
       "      <td>1802</td>\n",
       "      <td>6497</td>\n",
       "    </tr>\n",
       "  </tbody>\n",
       "</table>\n",
       "</div>"
      ],
      "text/plain": [
       "Country                              Bangladesh  Cambodia  Haiti  Indonesia  \\\n",
       "QCleaned                                                                      \n",
       "accessable unlocked emergency exits         584      2503    161        851   \n",
       "\n",
       "Country                              Jordan  Nicaragua  Vietnam   All  \n",
       "QCleaned                                                               \n",
       "accessable unlocked emergency exits     474        122     1802  6497  "
      ]
     },
     "execution_count": 6,
     "metadata": {},
     "output_type": "execute_result"
    }
   ],
   "source": [
    "filtered_df=df[df['CPCleaned']==\"emergency preparedness\"]\n",
    "pd.crosstab(filtered_df['Country'], filtered_df['QCleaned'],margins=True).transpose().head(1)"
   ]
  },
  {
   "cell_type": "code",
   "execution_count": 5,
   "metadata": {},
   "outputs": [
    {
     "data": {
      "text/plain": [
       "are the emergency exits accessible, unobstructed and unlocked during working hours, including overtime?    122\n",
       "Name: Q, dtype: int64"
      ]
     },
     "execution_count": 5,
     "metadata": {},
     "output_type": "execute_result"
    }
   ],
   "source": [
    "df[(df.QCleaned==\"accessable unlocked emergency exits\")&(df.Country==\"Nicaragua\")].Q.value_counts()"
   ]
  },
  {
   "cell_type": "code",
   "execution_count": 45,
   "metadata": {},
   "outputs": [],
   "source": [
    "with open(\"./stata.do\", \"r\") as docmd:\n",
    "    dol=docmd.read().split(\"\\n\")\n",
    "    dol=[x for x in dol if x.startswith(\"//\")==False and x.strip()!=\"\"]"
   ]
  },
  {
   "cell_type": "markdown",
   "metadata": {},
   "source": [
    "```stata\n",
    "replace Itemscleaned=\"Forced overtime under threat of penalty\" if regexm(Q,\"workers forced to work overtime in order to earn minimum wage\") \n",
    "\n",
    "drop if regexm(Itemscleaned,\"employer delay or withhold\") & Country==\"Nicaragua\"\n",
    "\n",
    "drop if Itemscleaned==\"Paid temporary workers correcdtly\" & Country==\"Haiti\"\n",
    "\n",
    "drop if Itemscleaned==\"Paid piece rate workers correctluy\" & Country==\"Haiti\"\n",
    "\n",
    "drop if Q==\"Are HIV/AIDS tests required at hiring or at any time during employment?\" \n",
    "\n",
    "drop if Q==\"Does the employer restrict workers from leaving the workplace?  \" & Country==\"Haiti\"\n",
    "\n",
    "drop if Q==\"Has the employer communicated and disseminated laws and regulations on prevention and control of sexual harassment at the workplace to workers?\" & Country==\"Vietnam\"\n",
    "```"
   ]
  },
  {
   "cell_type": "code",
   "execution_count": 53,
   "metadata": {},
   "outputs": [],
   "source": [
    "import pandas as pd\n",
    "dff=pd.read_stata(\"d://raw.dta\") #1277521\n",
    "df=dff.copy()"
   ]
  },
  {
   "cell_type": "code",
   "execution_count": 54,
   "metadata": {},
   "outputs": [],
   "source": [
    "for i in dol:\n",
    "    stataparser(i)"
   ]
  },
  {
   "cell_type": "code",
   "execution_count": 55,
   "metadata": {},
   "outputs": [
    {
     "data": {
      "text/plain": [
       "1265047"
      ]
     },
     "execution_count": 55,
     "metadata": {},
     "output_type": "execute_result"
    }
   ],
   "source": [
    "len(df)"
   ]
  },
  {
   "cell_type": "code",
   "execution_count": 52,
   "metadata": {},
   "outputs": [],
   "source": [
    "import re\n",
    "def stataparser(stata_command):\n",
    "    global df\n",
    "    pattern_match = re.search(r'regexm\\(Q,\"(.*?)\"\\)', stata_command)\n",
    "    if not pattern_match:\n",
    "        raise ValueError(\"Invalid Stata command: missing regex pattern.\")\n",
    "    pattern = pattern_match.group(1)\n",
    "\n",
    "    condition_match = re.search(r'&\\s*(\\w+)\\s*==\\s*\"(.*?)\"', stata_command)\n",
    "    if condition_match:\n",
    "        column, value = condition_match.group(1), condition_match.group(2)\n",
    "        # print(2,pattern,column,value,sep=\"\\n\")\n",
    "        df = df[~(df['Q'].str.contains(pattern) & (df[column] == value))]\n",
    "    else:\n",
    "        pass\n",
    "        # print(1,pattern,sep=\"\\n\")\n",
    "        df = df[~df['Q'].str.contains(pattern)]\n",
    "    \n",
    "    # return df"
   ]
  },
  {
   "cell_type": "code",
   "execution_count": 34,
   "metadata": {},
   "outputs": [
    {
     "name": "stdout",
     "output_type": "stream",
     "text": [
      "1\n",
      "in advance in order to obtain the authorization before the dismissal of a pregnant worker?\n"
     ]
    }
   ],
   "source": [
    "stataparser('drop if regexm(Q,\"in advance in order to obtain the authorization before the dismissal of a pregnant worker?\") ')"
   ]
  },
  {
   "cell_type": "markdown",
   "metadata": {},
   "source": [
    "---\n",
    "# [V2](https://cornell.app.box.com/file/1564849247058?sb=/activity/versions/1720499049236) (`1.03GB`):"
   ]
  },
  {
   "cell_type": "code",
   "execution_count": 56,
   "metadata": {},
   "outputs": [],
   "source": [
    "df=pd.read_stata(\"d://raw.dta\")\n",
    "df.drop([\"year\"],axis=1, inplace=True)\n",
    "df[\"id\"]=df.index"
   ]
  },
  {
   "cell_type": "code",
   "execution_count": 61,
   "metadata": {},
   "outputs": [],
   "source": [
    "df.to_csv(\"raw.csv\", index=False,encoding=\"utf-8\")"
   ]
  }
 ],
 "metadata": {
  "kernelspec": {
   "display_name": "base",
   "language": "python",
   "name": "python3"
  },
  "language_info": {
   "codemirror_mode": {
    "name": "ipython",
    "version": 3
   },
   "file_extension": ".py",
   "mimetype": "text/x-python",
   "name": "python",
   "nbconvert_exporter": "python",
   "pygments_lexer": "ipython3",
   "version": "3.9.13"
  }
 },
 "nbformat": 4,
 "nbformat_minor": 2
}
