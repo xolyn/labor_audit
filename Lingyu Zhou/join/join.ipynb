{
 "cells": [
  {
   "cell_type": "code",
   "execution_count": 15,
   "metadata": {},
   "outputs": [
    {
     "name": "stderr",
     "output_type": "stream",
     "text": [
      "C:\\Users\\JselZ\\AppData\\Local\\Temp\\ipykernel_9824\\3716765457.py:3: DtypeWarning: Columns (1,16,18,19,20,21,23,24,25,26,28,29,30) have mixed types. Specify dtype option on import or set low_memory=False.\n",
      "  f1718=pd.read_csv(\"17-18.csv\", encoding='latin1')\n"
     ]
    }
   ],
   "source": [
    "import pandas as pd\n",
    "f1516=pd.read_csv(\"15-16.csv\")\n",
    "f1718=pd.read_csv(\"17-18.csv\", encoding='latin1')\n",
    "f1921=pd.read_csv(\"19-21.csv\", encoding='latin1')\n",
    "\n",
    "# f1516=pd.read_excel(\"15-16.xlsx\")\n",
    "# f1718=pd.read_excel(\"17-18.xlsx\")\n",
    "# f1921=pd.read_excel(\"19-21.xlsx\")"
   ]
  },
  {
   "cell_type": "code",
   "execution_count": 23,
   "metadata": {},
   "outputs": [],
   "source": [
    "f1516=f1516.drop(columns=f1516.filter(like='buyer').columns)\n",
    "f1718=f1718.drop(columns=f1718.filter(like='buyer').columns)\n",
    "f1921=f1921.drop(columns=f1921.filter(like='buyer').columns)"
   ]
  },
  {
   "cell_type": "code",
   "execution_count": 27,
   "metadata": {},
   "outputs": [],
   "source": [
    "f1718.columns=['Country', 'City', 'Factory Assessed ID', 'Assesment Start Date',\n",
    "       'Quest ID', 'Cluster', 'CP', 'Parent Question', 'Original Question ID',\n",
    "       'Question ID', 'Q Label', 'Question type', 'Finding', 'Finding Text',\n",
    "       'Cycle', 'Tags']"
   ]
  },
  {
   "cell_type": "code",
   "execution_count": 33,
   "metadata": {},
   "outputs": [
    {
     "data": {
      "text/plain": [
       "1795446"
      ]
     },
     "execution_count": 33,
     "metadata": {},
     "output_type": "execute_result"
    }
   ],
   "source": [
    "len(f1516)+len(f1718)+len(1921)"
   ]
  },
  {
   "cell_type": "code",
   "execution_count": 37,
   "metadata": {},
   "outputs": [
    {
     "data": {
      "text/plain": [
       "True"
      ]
     },
     "execution_count": 37,
     "metadata": {},
     "output_type": "execute_result"
    }
   ],
   "source": [
    "list(f1516.columns)==list(f1718.columns)==list(f1921.columns)"
   ]
  },
  {
   "cell_type": "code",
   "execution_count": 38,
   "metadata": {},
   "outputs": [],
   "source": [
    "df=pd.concat([f1516,f1718,f1921], axis=0)"
   ]
  },
  {
   "cell_type": "code",
   "execution_count": 40,
   "metadata": {},
   "outputs": [],
   "source": [
    "df.to_csv(\"df_all.csv\",index=False)"
   ]
  },
  {
   "cell_type": "markdown",
   "metadata": {},
   "source": [
    "---"
   ]
  },
  {
   "cell_type": "code",
   "execution_count": 30,
   "metadata": {},
   "outputs": [
    {
     "data": {
      "text/plain": [
       "(1810, 2600)"
      ]
     },
     "execution_count": 30,
     "metadata": {},
     "output_type": "execute_result"
    }
   ],
   "source": [
    "f1718['Original Question ID'].nunique(),f1718['Question ID'].nunique()"
   ]
  },
  {
   "cell_type": "code",
   "execution_count": 6,
   "metadata": {},
   "outputs": [
    {
     "data": {
      "text/plain": [
       "(1223, 3335)"
      ]
     },
     "execution_count": 6,
     "metadata": {},
     "output_type": "execute_result"
    }
   ],
   "source": [
    "f1516['Q Label'].nunique(), f1516['Question ID'].nunique(), "
   ]
  }
 ],
 "metadata": {
  "kernelspec": {
   "display_name": "base",
   "language": "python",
   "name": "python3"
  },
  "language_info": {
   "codemirror_mode": {
    "name": "ipython",
    "version": 3
   },
   "file_extension": ".py",
   "mimetype": "text/x-python",
   "name": "python",
   "nbconvert_exporter": "python",
   "pygments_lexer": "ipython3",
   "version": "3.9.13"
  }
 },
 "nbformat": 4,
 "nbformat_minor": 2
}
