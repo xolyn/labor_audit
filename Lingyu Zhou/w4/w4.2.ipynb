{
 "cells": [
  {
   "cell_type": "markdown",
   "metadata": {},
   "source": [
    "- [get `map.json`](getmap.py)"
   ]
  },
  {
   "cell_type": "code",
   "execution_count": 80,
   "metadata": {},
   "outputs": [],
   "source": [
    "import pandas as pd\n",
    "import json"
   ]
  },
  {
   "cell_type": "code",
   "execution_count": 46,
   "metadata": {},
   "outputs": [],
   "source": [
    "df=pd.read_csv(\"../../CY/Clean Management System/ManagementSystemItems.csv\")\n",
    "raw=pd.read_feather(\"raw.feather\").drop([\"Country\",\"year\",\"Tags\"],axis=1)\n",
    "raw.Q=raw.Q.str.replace(\"  \",\" \").str.lower().str.strip()\n",
    "raw.columns=raw.columns.lower()\n",
    "\n",
    "with open(\"map.json\", \"r\") as j:\n",
    "    hint=dict(json.loads(j.read()))\n",
    "\n",
    "m13=df.columns[1:-2]\n",
    "qid=df.QuestID.to_list()"
   ]
  },
  {
   "cell_type": "code",
   "execution_count": 52,
   "metadata": {},
   "outputs": [],
   "source": [
    "# func.\n",
    "def update(fast=True):\n",
    "    global df\n",
    "    filt=df.mngitems<13 if fast==True else df.mngitems<14\n",
    "    df.loc[filt, \"mngsum13items\"]=df.loc[filt,m13].sum(axis=1, skipna=True)\n",
    "    df.loc[filt,\"mngitems\"]=13-df.loc[filt,m13].isna().sum(axis=1)\n",
    "\n",
    "def assign(qid, item, val):\n",
    "    '''assign(y-axis,x-axis,val)'''\n",
    "    global df\n",
    "    assert (item:=item.lower().strip()) not in [\"mngsum13items\",\"mngitems\"], f\"use `update()` for {item} column.\"\n",
    "    df.loc[df.QuestID==qid, item]=val\n",
    "\n",
    "def kwSearch(kw:str):\n",
    "    global raw\n",
    "    return raw[raw.Q.str.contains(kw.lower())]\n",
    "\n",
    "def match(qlist:list, item:str ,supress=True):\n",
    "    global raw,df\n",
    "    already=[]\n",
    "    matched=[]\n",
    "    tempRaw=raw[raw.Q.isin(qlist)]\n",
    "    tempQID=tempRaw.QuestID.unique()\n",
    "\n",
    "    for i in tempQID:\n",
    "        if i in qid:\n",
    "            if df.loc[df.QuestID==i, item].isna().values[0]==False:\n",
    "                already.append(i)\n",
    "            else:\n",
    "                assign( i,item,int(tempRaw.loc[tempRaw.QuestID==i,\"Finding\"]) )\n",
    "                matched.append(i)\n",
    "\n",
    "    del tempRaw\n",
    "\n",
    "    if supress==False:\n",
    "        print(f\"{len(matched)}/{len(tempQID)} successfully assigned.\\n{len(already)}/{len(tempQID)} matched but already had value.\")\n",
    "        return matched"
   ]
  },
  {
   "cell_type": "markdown",
   "metadata": {},
   "source": [
    "---"
   ]
  },
  {
   "cell_type": "code",
   "execution_count": 188,
   "metadata": {},
   "outputs": [
    {
     "name": "stdout",
     "output_type": "stream",
     "text": [
      "hrsigned\n",
      "└╴ signed: 3152\n",
      "└╴ hr policy: 0\n",
      "recruit\n",
      "└╴ recruitment: 17660\n",
      "discfire\n",
      "└╴ disciplinary and termination: 0\n",
      "grievdispute\n",
      "└╴ grievance handling: 0\n",
      "└╴ dispute resolution: 0\n",
      "accounthr\n",
      "└╴ accountability: 64\n",
      "└╴ following hr policies: 0\n",
      "└╴ following factory policies and procedures: 0\n",
      "comimplhr\n",
      "└╴ communicate and implement: 0\n",
      "└╴ implement hr: 0\n",
      "investihr\n",
      "└╴ investigate: 186\n",
      "└╴ evaluate performance of hr: 0\n",
      "└╴ hr policies and procedures to identify weaknesses: 0\n",
      "emergencepr\n",
      "└╴ emergency: 29806\n",
      "└╴ emergency preparedness: 0\n",
      "riskcontr\n",
      "└╴ risk management: 64\n",
      "accidentinvesti\n",
      "└╴ investigate: 186\n",
      "└╴ accident investigation: 0\n",
      "accohs\n",
      "└╴ accountability: 64\n",
      "└╴ for carrying out: 64\n",
      "impleosh\n",
      "└╴ implement osh: 0\n",
      "└╴ osh policies: 0\n",
      "invstiosh\n",
      "└╴ investigate: 186\n",
      "└╴ measure osh issues: 0\n"
     ]
    }
   ],
   "source": [
    "for i in hint:\n",
    "    print(i)\n",
    "    for j in range(len(hint[i])):\n",
    "        temp=kwSearch(hint[i][j])\n",
    "        print(f\"└╴ {hint[i][j]}: {len(temp)}\")"
   ]
  },
  {
   "cell_type": "markdown",
   "metadata": {},
   "source": [
    "---\n",
    "# manually check all <1000:\n",
    "## `accounthr`\n",
    "no match, see `accohs`"
   ]
  },
  {
   "cell_type": "markdown",
   "metadata": {},
   "source": [
    "## `investihr`\n",
    "no match, see `accidentinvesti`"
   ]
  },
  {
   "cell_type": "markdown",
   "metadata": {},
   "source": [
    "## `accidentinvesti`"
   ]
  },
  {
   "cell_type": "code",
   "execution_count": 106,
   "metadata": {},
   "outputs": [
    {
     "data": {
      "text/plain": [
       "array(['does the employer investigate work-related accidents and indicate the technical recommendations necessary to prevent them?',\n",
       "       'does the employer record and investigate work-related accidents and illnesses, and indicate the technical recommendations necessary to prevent them?',\n",
       "       'does the employer record, investigate and report work-related accidents and diseases to the local manpower office?'],\n",
       "      dtype=object)"
      ]
     },
     "execution_count": 106,
     "metadata": {},
     "output_type": "execute_result"
    }
   ],
   "source": [
    "kwSearch(\"investigate\").Q.unique()"
   ]
  },
  {
   "cell_type": "code",
   "execution_count": null,
   "metadata": {},
   "outputs": [],
   "source": [
    "match(kwSearch(\"investigate\").Q.unique(),item=\"accidentinvesti\")"
   ]
  },
  {
   "cell_type": "markdown",
   "metadata": {},
   "source": [
    "## `riskcontr`\n"
   ]
  },
  {
   "cell_type": "code",
   "execution_count": 191,
   "metadata": {},
   "outputs": [
    {
     "data": {
      "text/plain": [
       "array(['has the employer performed hazard/risk management and control and conducted regular reviews of occupational safety and health performance in the factory?'],\n",
       "      dtype=object)"
      ]
     },
     "execution_count": 191,
     "metadata": {},
     "output_type": "execute_result"
    }
   ],
   "source": [
    "kwSearch(\"risk management\").Q.unique()"
   ]
  },
  {
   "cell_type": "code",
   "execution_count": null,
   "metadata": {},
   "outputs": [],
   "source": [
    "#8728:1\n",
    "match(['has the employer performed hazard/risk management and control and conducted regular reviews of occupational safety and health performance in the factory?']\n",
    "       ,item=\"riskcontr\")"
   ]
  },
  {
   "cell_type": "markdown",
   "metadata": {},
   "source": [
    "## `accohs`:\n",
    "match to keyWord `accountability`"
   ]
  },
  {
   "cell_type": "code",
   "execution_count": 200,
   "metadata": {},
   "outputs": [
    {
     "data": {
      "text/plain": [
       "array(['does the factory have an osh committee and assign accountability at all levels of management for carrying out health and safety responsibilities?'],\n",
       "      dtype=object)"
      ]
     },
     "execution_count": 200,
     "metadata": {},
     "output_type": "execute_result"
    }
   ],
   "source": [
    "kwSearch(\"accountability\").Q.unique()"
   ]
  },
  {
   "cell_type": "code",
   "execution_count": 203,
   "metadata": {},
   "outputs": [],
   "source": [
    "# 8728:0\n",
    "match(['does the factory have an osh committee and assign accountability at all levels of management for carrying out health and safety responsibilities?']\n",
    "      ,\"accohs\")"
   ]
  },
  {
   "cell_type": "markdown",
   "metadata": {},
   "source": [
    "## `invstiosh`\n",
    "ambiguity with `investihr`"
   ]
  },
  {
   "cell_type": "markdown",
   "metadata": {},
   "source": [
    "---\n",
    "# update"
   ]
  },
  {
   "cell_type": "code",
   "execution_count": null,
   "metadata": {},
   "outputs": [],
   "source": [
    "update()"
   ]
  },
  {
   "cell_type": "markdown",
   "metadata": {},
   "source": [
    "---\n",
    "test"
   ]
  },
  {
   "cell_type": "code",
   "execution_count": 145,
   "metadata": {},
   "outputs": [
    {
     "name": "stdout",
     "output_type": "stream",
     "text": [
      "42730\n"
     ]
    }
   ],
   "source": [
    "aci=raw[raw.Q.isin(kwSearch(\"investigate\").Q.unique())].QuestID.to_list()\n",
    "\n",
    "for it in aci:\n",
    "    if it in df[df.mngitems<13].QuestID.unique():\n",
    "        print(it)\n",
    "        break"
   ]
  },
  {
   "cell_type": "code",
   "execution_count": 165,
   "metadata": {},
   "outputs": [
    {
     "data": {
      "text/html": [
       "<div>\n",
       "<style scoped>\n",
       "    .dataframe tbody tr th:only-of-type {\n",
       "        vertical-align: middle;\n",
       "    }\n",
       "\n",
       "    .dataframe tbody tr th {\n",
       "        vertical-align: top;\n",
       "    }\n",
       "\n",
       "    .dataframe thead th {\n",
       "        text-align: right;\n",
       "    }\n",
       "</style>\n",
       "<table border=\"1\" class=\"dataframe\">\n",
       "  <thead>\n",
       "    <tr style=\"text-align: right;\">\n",
       "      <th></th>\n",
       "      <th>QuestID</th>\n",
       "      <th>hrsigned</th>\n",
       "      <th>recruit</th>\n",
       "      <th>discfire</th>\n",
       "      <th>grievdispute</th>\n",
       "      <th>accounthr</th>\n",
       "      <th>comimplhr</th>\n",
       "      <th>investihr</th>\n",
       "      <th>emergencepr</th>\n",
       "      <th>riskcontr</th>\n",
       "      <th>accidentinvesti</th>\n",
       "      <th>accohs</th>\n",
       "      <th>impleosh</th>\n",
       "      <th>invstiosh</th>\n",
       "      <th>mngsum13items</th>\n",
       "      <th>mngitems</th>\n",
       "    </tr>\n",
       "  </thead>\n",
       "  <tbody>\n",
       "    <tr>\n",
       "      <th>32</th>\n",
       "      <td>42730</td>\n",
       "      <td>NaN</td>\n",
       "      <td>NaN</td>\n",
       "      <td>NaN</td>\n",
       "      <td>NaN</td>\n",
       "      <td>NaN</td>\n",
       "      <td>NaN</td>\n",
       "      <td>NaN</td>\n",
       "      <td>NaN</td>\n",
       "      <td>NaN</td>\n",
       "      <td>0.0</td>\n",
       "      <td>NaN</td>\n",
       "      <td>NaN</td>\n",
       "      <td>NaN</td>\n",
       "      <td>0.0</td>\n",
       "      <td>0</td>\n",
       "    </tr>\n",
       "  </tbody>\n",
       "</table>\n",
       "</div>"
      ],
      "text/plain": [
       "    QuestID  hrsigned  recruit  discfire  grievdispute  accounthr  comimplhr  \\\n",
       "32    42730       NaN      NaN       NaN           NaN        NaN        NaN   \n",
       "\n",
       "    investihr  emergencepr  riskcontr  accidentinvesti  accohs  impleosh  \\\n",
       "32        NaN          NaN        NaN              0.0     NaN       NaN   \n",
       "\n",
       "    invstiosh  mngsum13items  mngitems  \n",
       "32        NaN            0.0         0  "
      ]
     },
     "execution_count": 165,
     "metadata": {},
     "output_type": "execute_result"
    }
   ],
   "source": [
    "df[df.QuestID==42730]"
   ]
  },
  {
   "cell_type": "code",
   "execution_count": 186,
   "metadata": {},
   "outputs": [
    {
     "data": {
      "text/plain": [
       "13    5409\n",
       "10     473\n",
       "4      118\n",
       "6      109\n",
       "5      103\n",
       "1      102\n",
       "3       76\n",
       "0       69\n",
       "2       23\n",
       "7        8\n",
       "12       8\n",
       "9        1\n",
       "11       1\n",
       "Name: mngitems, dtype: int64"
      ]
     },
     "execution_count": 186,
     "metadata": {},
     "output_type": "execute_result"
    }
   ],
   "source": [
    "df.mngitems.value_counts()"
   ]
  },
  {
   "cell_type": "code",
   "execution_count": 167,
   "metadata": {},
   "outputs": [
    {
     "name": "stdout",
     "output_type": "stream",
     "text": [
      "0/184 successfully assigned.\n",
      "184/184 matched but already had value.\n"
     ]
    },
    {
     "data": {
      "text/plain": [
       "[]"
      ]
     },
     "execution_count": 167,
     "metadata": {},
     "output_type": "execute_result"
    }
   ],
   "source": []
  }
 ],
 "metadata": {
  "kernelspec": {
   "display_name": "base",
   "language": "python",
   "name": "python3"
  },
  "language_info": {
   "codemirror_mode": {
    "name": "ipython",
    "version": 3
   },
   "file_extension": ".py",
   "mimetype": "text/x-python",
   "name": "python",
   "nbconvert_exporter": "python",
   "pygments_lexer": "ipython3",
   "version": "3.9.13"
  }
 },
 "nbformat": 4,
 "nbformat_minor": 2
}
