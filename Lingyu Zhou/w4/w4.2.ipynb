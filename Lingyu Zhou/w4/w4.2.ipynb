{
 "cells": [
  {
   "cell_type": "markdown",
   "metadata": {},
   "source": [
    "- [get `map.json`](getmap.py)"
   ]
  },
  {
   "cell_type": "code",
   "execution_count": 80,
   "metadata": {},
   "outputs": [],
   "source": [
    "import pandas as pd\n",
    "import json"
   ]
  },
  {
   "cell_type": "code",
   "execution_count": 46,
   "metadata": {},
   "outputs": [],
   "source": [
    "df=pd.read_csv(\"../../CY/Clean Management System/ManagementSystemItems.csv\")\n",
    "raw=pd.read_feather(\"raw.feather\").drop([\"Country\",\"year\",\"Tags\"],axis=1)\n",
    "raw.Q=raw.Q.str.replace(\"  \",\" \").str.lower().str.strip()\n",
    "raw.columns=raw.columns.lower()\n",
    "\n",
    "with open(\"map.json\", \"r\") as j:\n",
    "    hint=dict(json.loads(j.read()))\n",
    "\n",
    "m13=df.columns[1:-2]"
   ]
  },
  {
   "cell_type": "code",
   "execution_count": 52,
   "metadata": {},
   "outputs": [],
   "source": [
    "# func.\n",
    "def update(fast=True):\n",
    "    global df\n",
    "    filt=df.mngitems<13 if fast==True else df.mngitems<14\n",
    "    df.loc[filt, \"mngsum13items\"]=df.loc[filt,m13].sum(axis=1, skipna=True)\n",
    "    df.loc[filt,\"mngitems\"]=13-df.loc[filt,m13].isna().sum(axis=1)\n",
    "\n",
    "def assign(qid, item, val):\n",
    "    '''assign(y-axis,x-axis,val)'''\n",
    "    global df\n",
    "    assert (item:=item.lower().strip()) not in [\"mngsum13items\",\"mngitems\"], f\"use `update()` for {item} column.\"\n",
    "    df.loc[df.QuestID==qid, item]=val\n",
    "\n",
    "def kwSearch(kw:str):\n",
    "    global raw\n",
    "    return raw[raw.Q.str.contains(kw.lower())]"
   ]
  },
  {
   "cell_type": "markdown",
   "metadata": {},
   "source": [
    "---"
   ]
  },
  {
   "cell_type": "code",
   "execution_count": 104,
   "metadata": {},
   "outputs": [
    {
     "name": "stdout",
     "output_type": "stream",
     "text": [
      "hrsigned\n",
      "└╴╴signed: 3152\n",
      "└╴╴hr policy: 0\n",
      "recruit\n",
      "└╴╴recruitment: 17660\n",
      "discfire\n",
      "└╴╴disciplinary and termination: 0\n",
      "grievdispute\n",
      "└╴╴grievance handling: 0\n",
      "└╴╴dispute resolution: 0\n",
      "accounthr\n",
      "└╴╴accountability: 64\n",
      "└╴╴following hr policies: 0\n",
      "└╴╴following factory policies and procedures: 0\n",
      "comimplhr\n",
      "└╴╴communicate and implement: 0\n",
      "└╴╴implement hr: 0\n",
      "investihr\n",
      "└╴╴investigate: 186\n",
      "└╴╴evaluate performance of hr: 0\n",
      "└╴╴hr policies and procedures to identify weaknesses: 0\n",
      "emergencepr\n",
      "└╴╴emergency: 29806\n",
      "└╴╴emergency preparedness: 0\n",
      "riskcontr\n",
      "└╴╴risk management: 64\n",
      "accidentinvesti\n",
      "└╴╴investigate: 186\n",
      "└╴╴accident investigation: 0\n",
      "accohs\n",
      "└╴╴accountability: 64\n",
      "└╴╴for carrying out: 64\n",
      "impleosh\n",
      "└╴╴implement osh: 0\n",
      "└╴╴osh policies: 0\n",
      "invstiosh\n",
      "└╴╴investigate: 186\n",
      "└╴╴measure osh issues: 0\n"
     ]
    }
   ],
   "source": [
    "for i in hint:\n",
    "    print(i)\n",
    "    for j in range(len(hint[i])):\n",
    "        temp=kwSearch(hint[i][j])\n",
    "        print(f\"└╴{hint[i][j]}: {len(temp)}\")"
   ]
  }
 ],
 "metadata": {
  "kernelspec": {
   "display_name": "base",
   "language": "python",
   "name": "python3"
  },
  "language_info": {
   "codemirror_mode": {
    "name": "ipython",
    "version": 3
   },
   "file_extension": ".py",
   "mimetype": "text/x-python",
   "name": "python",
   "nbconvert_exporter": "python",
   "pygments_lexer": "ipython3",
   "version": "3.9.13"
  }
 },
 "nbformat": 4,
 "nbformat_minor": 2
}
