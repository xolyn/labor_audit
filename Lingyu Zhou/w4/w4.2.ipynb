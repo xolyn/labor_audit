{
 "cells": [
  {
   "cell_type": "markdown",
   "metadata": {},
   "source": [
    "- [get `map.json`](getmap.py)"
   ]
  },
  {
   "cell_type": "code",
   "execution_count": 80,
   "metadata": {},
   "outputs": [],
   "source": [
    "import pandas as pd\n",
    "import json"
   ]
  },
  {
   "cell_type": "code",
   "execution_count": 46,
   "metadata": {},
   "outputs": [],
   "source": [
    "df=pd.read_csv(\"../../CY/Clean Management System/ManagementSystemItems.csv\")\n",
    "raw=pd.read_feather(\"raw.feather\").drop([\"Country\",\"year\",\"Tags\"],axis=1)\n",
    "raw.Q=raw.Q.str.replace(\"  \",\" \").str.lower().str.strip()\n",
    "raw.columns=raw.columns.lower()\n",
    "\n",
    "with open(\"map.json\", \"r\") as j:\n",
    "    hint=dict(json.loads(j.read()))\n",
    "\n",
    "m13=df.columns[1:-2]\n",
    "qid=df.QuestID.to_list()"
   ]
  },
  {
   "cell_type": "code",
   "execution_count": 52,
   "metadata": {},
   "outputs": [],
   "source": [
    "# func.\n",
    "def update(fast=True):\n",
    "    global df\n",
    "    filt=df.mngitems<13 if fast==True else df.mngitems<14\n",
    "    df.loc[filt, \"mngsum13items\"]=df.loc[filt,m13].sum(axis=1, skipna=True)\n",
    "    df.loc[filt,\"mngitems\"]=13-df.loc[filt,m13].isna().sum(axis=1)\n",
    "\n",
    "def assign(qid, item, val):\n",
    "    '''assign(y-axis,x-axis,val)'''\n",
    "    global df\n",
    "    assert (item:=item.lower().strip()) not in [\"mngsum13items\",\"mngitems\"], f\"use `update()` for {item} column.\"\n",
    "    df.loc[df.QuestID==qid, item]=val\n",
    "\n",
    "def kwSearch(kw:str):\n",
    "    global raw\n",
    "    return raw[raw.Q.str.contains(kw.lower())]\n",
    "\n",
    "def match(qlist:list, item:str ,supress=True):\n",
    "    global raw,df\n",
    "    already=[]\n",
    "    matched=[]\n",
    "    tempRaw=raw[raw.Q.isin(qlist)]\n",
    "    tempQID=tempRaw.QuestID.unique()\n",
    "\n",
    "    for i in tempQID:\n",
    "        if i in qid:\n",
    "            if df.loc[df.QuestID==i, item].isna().values[0]==False:\n",
    "                already.append(i)\n",
    "            else:\n",
    "                assign( i,item,int(tempRaw.loc[tempRaw.QuestID==i,\"Finding\"]) )\n",
    "                matched.append(i)\n",
    "\n",
    "    del tempRaw\n",
    "\n",
    "    if supress==False:\n",
    "        print(f\"{len(matched)}/{len(tempQID)} successfully assigned.\\n{len(already)}/{len(tempQID)} matched but already had value.\")\n",
    "        return matched"
   ]
  },
  {
   "cell_type": "markdown",
   "metadata": {},
   "source": [
    "---"
   ]
  },
  {
   "cell_type": "code",
   "execution_count": 188,
   "metadata": {},
   "outputs": [
    {
     "name": "stdout",
     "output_type": "stream",
     "text": [
      "hrsigned\n",
      "└╴ signed: 3152\n",
      "└╴ hr policy: 0\n",
      "recruit\n",
      "└╴ recruitment: 17660\n",
      "discfire\n",
      "└╴ disciplinary and termination: 0\n",
      "grievdispute\n",
      "└╴ grievance handling: 0\n",
      "└╴ dispute resolution: 0\n",
      "accounthr\n",
      "└╴ accountability: 64\n",
      "└╴ following hr policies: 0\n",
      "└╴ following factory policies and procedures: 0\n",
      "comimplhr\n",
      "└╴ communicate and implement: 0\n",
      "└╴ implement hr: 0\n",
      "investihr\n",
      "└╴ investigate: 186\n",
      "└╴ evaluate performance of hr: 0\n",
      "└╴ hr policies and procedures to identify weaknesses: 0\n",
      "emergencepr\n",
      "└╴ emergency: 29806\n",
      "└╴ emergency preparedness: 0\n",
      "riskcontr\n",
      "└╴ risk management: 64\n",
      "accidentinvesti\n",
      "└╴ investigate: 186\n",
      "└╴ accident investigation: 0\n",
      "accohs\n",
      "└╴ accountability: 64\n",
      "└╴ for carrying out: 64\n",
      "impleosh\n",
      "└╴ implement osh: 0\n",
      "└╴ osh policies: 0\n",
      "invstiosh\n",
      "└╴ investigate: 186\n",
      "└╴ measure osh issues: 0\n"
     ]
    }
   ],
   "source": [
    "for i in hint:\n",
    "    print(i)\n",
    "    for j in range(len(hint[i])):\n",
    "        temp=kwSearch(hint[i][j])\n",
    "        print(f\"└╴ {hint[i][j]}: {len(temp)}\")"
   ]
  },
  {
   "cell_type": "markdown",
   "metadata": {},
   "source": [
    "---\n",
    "# manually check all <1000:\n",
    "## `accounthr`\n",
    "no match, see `accohs`"
   ]
  },
  {
   "cell_type": "markdown",
   "metadata": {},
   "source": [
    "## `investihr`\n",
    "no match, see `accidentinvesti`"
   ]
  },
  {
   "cell_type": "markdown",
   "metadata": {},
   "source": [
    "## `accidentinvesti`"
   ]
  },
  {
   "cell_type": "code",
   "execution_count": 106,
   "metadata": {},
   "outputs": [
    {
     "data": {
      "text/plain": [
       "array(['does the employer investigate work-related accidents and indicate the technical recommendations necessary to prevent them?',\n",
       "       'does the employer record and investigate work-related accidents and illnesses, and indicate the technical recommendations necessary to prevent them?',\n",
       "       'does the employer record, investigate and report work-related accidents and diseases to the local manpower office?'],\n",
       "      dtype=object)"
      ]
     },
     "execution_count": 106,
     "metadata": {},
     "output_type": "execute_result"
    }
   ],
   "source": [
    "kwSearch(\"investigate\").Q.unique()"
   ]
  },
  {
   "cell_type": "code",
   "execution_count": null,
   "metadata": {},
   "outputs": [],
   "source": [
    "match(kwSearch(\"investigate\").Q.unique(),item=\"accidentinvesti\")"
   ]
  },
  {
   "cell_type": "markdown",
   "metadata": {},
   "source": [
    "## `riskcontr`\n"
   ]
  },
  {
   "cell_type": "code",
   "execution_count": 191,
   "metadata": {},
   "outputs": [
    {
     "data": {
      "text/plain": [
       "array(['has the employer performed hazard/risk management and control and conducted regular reviews of occupational safety and health performance in the factory?'],\n",
       "      dtype=object)"
      ]
     },
     "execution_count": 191,
     "metadata": {},
     "output_type": "execute_result"
    }
   ],
   "source": [
    "kwSearch(\"risk management\").Q.unique()"
   ]
  },
  {
   "cell_type": "code",
   "execution_count": null,
   "metadata": {},
   "outputs": [],
   "source": [
    "#8728:1\n",
    "match(['has the employer performed hazard/risk management and control and conducted regular reviews of occupational safety and health performance in the factory?']\n",
    "       ,item=\"riskcontr\")"
   ]
  },
  {
   "cell_type": "markdown",
   "metadata": {},
   "source": [
    "## `accohs`:\n",
    "match to keyWord `accountability`"
   ]
  },
  {
   "cell_type": "code",
   "execution_count": 212,
   "metadata": {},
   "outputs": [
    {
     "data": {
      "text/plain": [
       "does the factory have an osh committee and assign accountability at all levels of management for carrying out health and safety responsibilities?    64\n",
       "Name: Q, dtype: int64"
      ]
     },
     "execution_count": 212,
     "metadata": {},
     "output_type": "execute_result"
    }
   ],
   "source": [
    "kwSearch(\"accountability\").Q.value_counts()"
   ]
  },
  {
   "cell_type": "code",
   "execution_count": 203,
   "metadata": {},
   "outputs": [],
   "source": [
    "# 8728:0\n",
    "match(['does the factory have an osh committee and assign accountability at all levels of management for carrying out health and safety responsibilities?']\n",
    "      ,\"accohs\")"
   ]
  },
  {
   "cell_type": "markdown",
   "metadata": {},
   "source": [
    "## `invstiosh`\n",
    "ambiguity with `investihr`\n",
    "\n",
    "# large numbers:\n",
    "## `hrsigned`:"
   ]
  },
  {
   "cell_type": "code",
   "execution_count": 206,
   "metadata": {},
   "outputs": [
    {
     "data": {
      "text/plain": [
       "array(['do resigned or terminated workers receive all other termination benefits required by law?',\n",
       "       'do resigned or terminated workers receive correct wage for all days worked and other termination benefits required by law?',\n",
       "       'is there an adequate osh policy that is signed by top management?'],\n",
       "      dtype=object)"
      ]
     },
     "execution_count": 206,
     "metadata": {},
     "output_type": "execute_result"
    }
   ],
   "source": [
    "kwSearch(\"signed\").Q.unique()"
   ]
  },
  {
   "cell_type": "code",
   "execution_count": 208,
   "metadata": {},
   "outputs": [
    {
     "data": {
      "text/plain": [
       "array(['can workers who owe debts for recruitment fees to the employer and/or third party freely leave their jobs?',\n",
       "       'do recruitment materials such as job announcements or job application forms refer to age in a manner that could discourage older workers from applying?',\n",
       "       \"do recruitment materials such as job announcements or job application forms refer to the applicant's family responsibilities?\",\n",
       "       \"do recruitment materials such as job announcements or job application forms refer to the applicant's race, colour or origin?\",\n",
       "       \"do recruitment materials such as job announcements or job application forms refer to the applicant's religion or political opinion?\",\n",
       "       'do workers pay any recruitment fees?',\n",
       "       'have workers paid unauthorized fees to recruitment agents?',\n",
       "       \"is an applicant's gender a factor in recruitment or hiring?\",\n",
       "       \"is an applicant's race, colour, origin or citizenship status referred to in recruitment materials and/or a factor in the employer's decisions regarding hiring, termination or retirement of workers?\",\n",
       "       \"is an applicant's religion or political opinion referred to in recruitment materials such as job announcements or job application forms and/or a factor in the employer's decisions regarding hiring, termination or retirement of workers ?\",\n",
       "       \"is applicant's race, color or origin a factor in recruitment or hiring?\",\n",
       "       \"is applicant's religion or political opinion a factor in recruitment and hiring?\"],\n",
       "      dtype=object)"
      ]
     },
     "execution_count": 208,
     "metadata": {},
     "output_type": "execute_result"
    }
   ],
   "source": [
    "kwSearch(\"recruit\").Q.unique()"
   ]
  },
  {
   "cell_type": "code",
   "execution_count": 210,
   "metadata": {},
   "outputs": [
    {
     "data": {
      "text/plain": [
       "are emergency exits and escape routes clearly marked and posted in the workplace?                                                     4470\n",
       "does the employer conduct periodic emergency drills?                                                                                  4091\n",
       "are there enough emergency exits?                                                                                                     3525\n",
       "are the emergency exits locked during working hours, including overtime?                                                              2491\n",
       "are emergency exits and escape routes clearly marked?                                                                                 1802\n",
       "has the employer developed and trained workers on an emergency evacuation plan?                                                       1802\n",
       "does the employer conduct at least one emergency drill per year?                                                                      1802\n",
       "are the emergency exits inaccessible or obstructed during working hours, including overtime?                                          1350\n",
       "are the emergency exits inaccessible and obstructed during working hours, including overtime?                                         1141\n",
       "are any of the emergency exits or escape routes inaccessible, obstructed, or locked during working hours, including overtime?         1081\n",
       "does the employer comply with emergency requirements?                                                                                  837\n",
       "are any of the emergency exits inaccessible, obstructed, or locked during working hours, including overtime?                           721\n",
       "are the emergency exits and escape routes accessible, unobstructed and unlocked during working hours, including overtime?              584\n",
       "does the workplace have adequate stairways that can be used in case of emergency?                                                      584\n",
       "are there enough adequate emergency exit doors?                                                                                        566\n",
       "are the emergency exits accessible, unobstructed and unlocked during working hours, including overtime?                                530\n",
       "are there enough emergency exits ?                                                                                                     498\n",
       "are the emergency exits accessible, unobstructed and unlocked during working hours, including overtime ?                               498\n",
       "does the employer conduct periodic emergency drills ?                                                                                  498\n",
       "are the aisles and emergency exits accessible, unobstructed and unlocked during working hours, including overtime?                     474\n",
       "has the employer elaborated and implemented an emergency plan?                                                                         119\n",
       "are the emergency exits accessible, unobstructed and unlocked during working hours, including overtime? [differentiation question]     106\n",
       "are there enough emergency exits? [differentiation question]                                                                           106\n",
       "does the employer conduct periodic emergency drills? [differentiation question]                                                        106\n",
       "are the emergency exits accessible and unobstructed during working hours, including overtime?                                           12\n",
       "are the emergency exits unlocked during working hours, including overtime?                                                              12\n",
       "Name: Q, dtype: int64"
      ]
     },
     "execution_count": 210,
     "metadata": {},
     "output_type": "execute_result"
    }
   ],
   "source": [
    "kwSearch(\"emergency\").Q.value_counts()"
   ]
  },
  {
   "cell_type": "code",
   "execution_count": 223,
   "metadata": {},
   "outputs": [
    {
     "data": {
      "text/plain": [
       "array(['Nicaragua'], dtype=object)"
      ]
     },
     "execution_count": 223,
     "metadata": {},
     "output_type": "execute_result"
    }
   ],
   "source": [
    "raw[raw.Q==\"has the employer elaborated and implemented an emergency plan?\"].Country.unique()"
   ]
  },
  {
   "cell_type": "code",
   "execution_count": 224,
   "metadata": {},
   "outputs": [
    {
     "data": {
      "text/plain": [
       "Cambodia     80466\n",
       "Indonesia    12170\n",
       "Jordan        1716\n",
       "Haiti          855\n",
       "Nicaragua      631\n",
       "Vietnam        442\n",
       "Name: Country, dtype: int64"
      ]
     },
     "execution_count": 224,
     "metadata": {},
     "output_type": "execute_result"
    }
   ],
   "source": [
    "ql=df[df.emergencepr.isna()].QuestID.unique()\n",
    "raw[raw.QuestID.isin(ql)].Country.value_counts()"
   ]
  },
  {
   "cell_type": "code",
   "execution_count": 217,
   "metadata": {},
   "outputs": [
    {
     "data": {
      "text/plain": [
       "Indonesia     480\n",
       "Bangladesh    357\n",
       "Name: Country, dtype: int64"
      ]
     },
     "execution_count": 217,
     "metadata": {},
     "output_type": "execute_result"
    }
   ],
   "source": [
    "raw[raw.Q==\"does the employer comply with emergency requirements?\"].Country.value_counts()"
   ]
  },
  {
   "cell_type": "markdown",
   "metadata": {},
   "source": [
    "---\n",
    "# update"
   ]
  },
  {
   "cell_type": "code",
   "execution_count": 221,
   "metadata": {},
   "outputs": [],
   "source": [
    "update()"
   ]
  },
  {
   "cell_type": "markdown",
   "metadata": {},
   "source": [
    "---\n",
    "test"
   ]
  },
  {
   "cell_type": "code",
   "execution_count": 145,
   "metadata": {},
   "outputs": [
    {
     "name": "stdout",
     "output_type": "stream",
     "text": [
      "42730\n"
     ]
    }
   ],
   "source": [
    "aci=raw[raw.Q.isin(kwSearch(\"investigate\").Q.unique())].QuestID.to_list()\n",
    "\n",
    "for it in aci:\n",
    "    if it in df[df.mngitems<13].QuestID.unique():\n",
    "        print(it)\n",
    "        break"
   ]
  },
  {
   "cell_type": "code",
   "execution_count": 165,
   "metadata": {},
   "outputs": [
    {
     "data": {
      "text/html": [
       "<div>\n",
       "<style scoped>\n",
       "    .dataframe tbody tr th:only-of-type {\n",
       "        vertical-align: middle;\n",
       "    }\n",
       "\n",
       "    .dataframe tbody tr th {\n",
       "        vertical-align: top;\n",
       "    }\n",
       "\n",
       "    .dataframe thead th {\n",
       "        text-align: right;\n",
       "    }\n",
       "</style>\n",
       "<table border=\"1\" class=\"dataframe\">\n",
       "  <thead>\n",
       "    <tr style=\"text-align: right;\">\n",
       "      <th></th>\n",
       "      <th>QuestID</th>\n",
       "      <th>hrsigned</th>\n",
       "      <th>recruit</th>\n",
       "      <th>discfire</th>\n",
       "      <th>grievdispute</th>\n",
       "      <th>accounthr</th>\n",
       "      <th>comimplhr</th>\n",
       "      <th>investihr</th>\n",
       "      <th>emergencepr</th>\n",
       "      <th>riskcontr</th>\n",
       "      <th>accidentinvesti</th>\n",
       "      <th>accohs</th>\n",
       "      <th>impleosh</th>\n",
       "      <th>invstiosh</th>\n",
       "      <th>mngsum13items</th>\n",
       "      <th>mngitems</th>\n",
       "    </tr>\n",
       "  </thead>\n",
       "  <tbody>\n",
       "    <tr>\n",
       "      <th>32</th>\n",
       "      <td>42730</td>\n",
       "      <td>NaN</td>\n",
       "      <td>NaN</td>\n",
       "      <td>NaN</td>\n",
       "      <td>NaN</td>\n",
       "      <td>NaN</td>\n",
       "      <td>NaN</td>\n",
       "      <td>NaN</td>\n",
       "      <td>NaN</td>\n",
       "      <td>NaN</td>\n",
       "      <td>0.0</td>\n",
       "      <td>NaN</td>\n",
       "      <td>NaN</td>\n",
       "      <td>NaN</td>\n",
       "      <td>0.0</td>\n",
       "      <td>0</td>\n",
       "    </tr>\n",
       "  </tbody>\n",
       "</table>\n",
       "</div>"
      ],
      "text/plain": [
       "    QuestID  hrsigned  recruit  discfire  grievdispute  accounthr  comimplhr  \\\n",
       "32    42730       NaN      NaN       NaN           NaN        NaN        NaN   \n",
       "\n",
       "    investihr  emergencepr  riskcontr  accidentinvesti  accohs  impleosh  \\\n",
       "32        NaN          NaN        NaN              0.0     NaN       NaN   \n",
       "\n",
       "    invstiosh  mngsum13items  mngitems  \n",
       "32        NaN            0.0         0  "
      ]
     },
     "execution_count": 165,
     "metadata": {},
     "output_type": "execute_result"
    }
   ],
   "source": [
    "df[df.QuestID==42730]"
   ]
  },
  {
   "cell_type": "code",
   "execution_count": 186,
   "metadata": {},
   "outputs": [
    {
     "data": {
      "text/plain": [
       "13    5409\n",
       "10     473\n",
       "4      118\n",
       "6      109\n",
       "5      103\n",
       "1      102\n",
       "3       76\n",
       "0       69\n",
       "2       23\n",
       "7        8\n",
       "12       8\n",
       "9        1\n",
       "11       1\n",
       "Name: mngitems, dtype: int64"
      ]
     },
     "execution_count": 186,
     "metadata": {},
     "output_type": "execute_result"
    }
   ],
   "source": [
    "df.mngitems.value_counts()"
   ]
  },
  {
   "cell_type": "code",
   "execution_count": 228,
   "metadata": {},
   "outputs": [
    {
     "data": {
      "text/plain": [
       "0       66\n",
       "1      105\n",
       "2       23\n",
       "3       76\n",
       "4      118\n",
       "5      103\n",
       "6       45\n",
       "7        8\n",
       "9       65\n",
       "10     473\n",
       "11       1\n",
       "12       8\n",
       "13    5409\n",
       "Name: mngitems, dtype: int64"
      ]
     },
     "execution_count": 228,
     "metadata": {},
     "output_type": "execute_result"
    }
   ],
   "source": [
    "df.mngitems.value_counts().sort_index()"
   ]
  },
  {
   "cell_type": "code",
   "execution_count": 231,
   "metadata": {},
   "outputs": [
    {
     "data": {
      "text/html": [
       "<div>\n",
       "<style scoped>\n",
       "    .dataframe tbody tr th:only-of-type {\n",
       "        vertical-align: middle;\n",
       "    }\n",
       "\n",
       "    .dataframe tbody tr th {\n",
       "        vertical-align: top;\n",
       "    }\n",
       "\n",
       "    .dataframe thead th {\n",
       "        text-align: right;\n",
       "    }\n",
       "</style>\n",
       "<table border=\"1\" class=\"dataframe\">\n",
       "  <thead>\n",
       "    <tr style=\"text-align: right;\">\n",
       "      <th></th>\n",
       "      <th>QuestID</th>\n",
       "      <th>hrsigned</th>\n",
       "      <th>recruit</th>\n",
       "      <th>discfire</th>\n",
       "      <th>grievdispute</th>\n",
       "      <th>accounthr</th>\n",
       "      <th>comimplhr</th>\n",
       "      <th>investihr</th>\n",
       "      <th>emergencepr</th>\n",
       "      <th>riskcontr</th>\n",
       "      <th>accidentinvesti</th>\n",
       "      <th>accohs</th>\n",
       "      <th>impleosh</th>\n",
       "      <th>invstiosh</th>\n",
       "      <th>mngsum13items</th>\n",
       "      <th>mngitems</th>\n",
       "    </tr>\n",
       "  </thead>\n",
       "  <tbody>\n",
       "    <tr>\n",
       "      <th>0</th>\n",
       "      <td>41058</td>\n",
       "      <td>NaN</td>\n",
       "      <td>NaN</td>\n",
       "      <td>NaN</td>\n",
       "      <td>NaN</td>\n",
       "      <td>NaN</td>\n",
       "      <td>NaN</td>\n",
       "      <td>NaN</td>\n",
       "      <td>NaN</td>\n",
       "      <td>NaN</td>\n",
       "      <td>NaN</td>\n",
       "      <td>NaN</td>\n",
       "      <td>NaN</td>\n",
       "      <td>NaN</td>\n",
       "      <td>0.0</td>\n",
       "      <td>0</td>\n",
       "    </tr>\n",
       "    <tr>\n",
       "      <th>1</th>\n",
       "      <td>40009</td>\n",
       "      <td>NaN</td>\n",
       "      <td>NaN</td>\n",
       "      <td>NaN</td>\n",
       "      <td>NaN</td>\n",
       "      <td>NaN</td>\n",
       "      <td>NaN</td>\n",
       "      <td>NaN</td>\n",
       "      <td>NaN</td>\n",
       "      <td>NaN</td>\n",
       "      <td>NaN</td>\n",
       "      <td>NaN</td>\n",
       "      <td>NaN</td>\n",
       "      <td>NaN</td>\n",
       "      <td>0.0</td>\n",
       "      <td>0</td>\n",
       "    </tr>\n",
       "    <tr>\n",
       "      <th>2</th>\n",
       "      <td>40007</td>\n",
       "      <td>NaN</td>\n",
       "      <td>NaN</td>\n",
       "      <td>NaN</td>\n",
       "      <td>NaN</td>\n",
       "      <td>NaN</td>\n",
       "      <td>NaN</td>\n",
       "      <td>NaN</td>\n",
       "      <td>NaN</td>\n",
       "      <td>NaN</td>\n",
       "      <td>NaN</td>\n",
       "      <td>NaN</td>\n",
       "      <td>NaN</td>\n",
       "      <td>NaN</td>\n",
       "      <td>0.0</td>\n",
       "      <td>0</td>\n",
       "    </tr>\n",
       "    <tr>\n",
       "      <th>3</th>\n",
       "      <td>40892</td>\n",
       "      <td>NaN</td>\n",
       "      <td>NaN</td>\n",
       "      <td>NaN</td>\n",
       "      <td>NaN</td>\n",
       "      <td>NaN</td>\n",
       "      <td>NaN</td>\n",
       "      <td>NaN</td>\n",
       "      <td>NaN</td>\n",
       "      <td>NaN</td>\n",
       "      <td>NaN</td>\n",
       "      <td>NaN</td>\n",
       "      <td>NaN</td>\n",
       "      <td>NaN</td>\n",
       "      <td>0.0</td>\n",
       "      <td>0</td>\n",
       "    </tr>\n",
       "    <tr>\n",
       "      <th>4</th>\n",
       "      <td>40612</td>\n",
       "      <td>NaN</td>\n",
       "      <td>NaN</td>\n",
       "      <td>NaN</td>\n",
       "      <td>NaN</td>\n",
       "      <td>NaN</td>\n",
       "      <td>NaN</td>\n",
       "      <td>NaN</td>\n",
       "      <td>NaN</td>\n",
       "      <td>NaN</td>\n",
       "      <td>NaN</td>\n",
       "      <td>NaN</td>\n",
       "      <td>NaN</td>\n",
       "      <td>NaN</td>\n",
       "      <td>0.0</td>\n",
       "      <td>0</td>\n",
       "    </tr>\n",
       "    <tr>\n",
       "      <th>...</th>\n",
       "      <td>...</td>\n",
       "      <td>...</td>\n",
       "      <td>...</td>\n",
       "      <td>...</td>\n",
       "      <td>...</td>\n",
       "      <td>...</td>\n",
       "      <td>...</td>\n",
       "      <td>...</td>\n",
       "      <td>...</td>\n",
       "      <td>...</td>\n",
       "      <td>...</td>\n",
       "      <td>...</td>\n",
       "      <td>...</td>\n",
       "      <td>...</td>\n",
       "      <td>...</td>\n",
       "      <td>...</td>\n",
       "    </tr>\n",
       "    <tr>\n",
       "      <th>6495</th>\n",
       "      <td>22727</td>\n",
       "      <td>1.0</td>\n",
       "      <td>0.0</td>\n",
       "      <td>1.0</td>\n",
       "      <td>1.0</td>\n",
       "      <td>0.0</td>\n",
       "      <td>0.0</td>\n",
       "      <td>0.0</td>\n",
       "      <td>1.0</td>\n",
       "      <td>1.0</td>\n",
       "      <td>1.0</td>\n",
       "      <td>1.0</td>\n",
       "      <td>1.0</td>\n",
       "      <td>0.0</td>\n",
       "      <td>8.0</td>\n",
       "      <td>13</td>\n",
       "    </tr>\n",
       "    <tr>\n",
       "      <th>6496</th>\n",
       "      <td>15503</td>\n",
       "      <td>1.0</td>\n",
       "      <td>1.0</td>\n",
       "      <td>1.0</td>\n",
       "      <td>1.0</td>\n",
       "      <td>1.0</td>\n",
       "      <td>1.0</td>\n",
       "      <td>0.0</td>\n",
       "      <td>1.0</td>\n",
       "      <td>1.0</td>\n",
       "      <td>1.0</td>\n",
       "      <td>0.0</td>\n",
       "      <td>1.0</td>\n",
       "      <td>0.0</td>\n",
       "      <td>10.0</td>\n",
       "      <td>13</td>\n",
       "    </tr>\n",
       "    <tr>\n",
       "      <th>6497</th>\n",
       "      <td>21792</td>\n",
       "      <td>1.0</td>\n",
       "      <td>1.0</td>\n",
       "      <td>1.0</td>\n",
       "      <td>1.0</td>\n",
       "      <td>1.0</td>\n",
       "      <td>1.0</td>\n",
       "      <td>0.0</td>\n",
       "      <td>0.0</td>\n",
       "      <td>1.0</td>\n",
       "      <td>1.0</td>\n",
       "      <td>0.0</td>\n",
       "      <td>1.0</td>\n",
       "      <td>0.0</td>\n",
       "      <td>9.0</td>\n",
       "      <td>13</td>\n",
       "    </tr>\n",
       "    <tr>\n",
       "      <th>6498</th>\n",
       "      <td>17694</td>\n",
       "      <td>1.0</td>\n",
       "      <td>1.0</td>\n",
       "      <td>0.0</td>\n",
       "      <td>0.0</td>\n",
       "      <td>1.0</td>\n",
       "      <td>1.0</td>\n",
       "      <td>0.0</td>\n",
       "      <td>1.0</td>\n",
       "      <td>0.0</td>\n",
       "      <td>0.0</td>\n",
       "      <td>1.0</td>\n",
       "      <td>0.0</td>\n",
       "      <td>0.0</td>\n",
       "      <td>6.0</td>\n",
       "      <td>13</td>\n",
       "    </tr>\n",
       "    <tr>\n",
       "      <th>6499</th>\n",
       "      <td>43788</td>\n",
       "      <td>0.0</td>\n",
       "      <td>0.0</td>\n",
       "      <td>0.0</td>\n",
       "      <td>0.0</td>\n",
       "      <td>0.0</td>\n",
       "      <td>0.0</td>\n",
       "      <td>0.0</td>\n",
       "      <td>0.0</td>\n",
       "      <td>0.0</td>\n",
       "      <td>0.0</td>\n",
       "      <td>0.0</td>\n",
       "      <td>0.0</td>\n",
       "      <td>0.0</td>\n",
       "      <td>0.0</td>\n",
       "      <td>13</td>\n",
       "    </tr>\n",
       "  </tbody>\n",
       "</table>\n",
       "<p>6500 rows × 16 columns</p>\n",
       "</div>"
      ],
      "text/plain": [
       "      QuestID  hrsigned  recruit  discfire  grievdispute  accounthr  \\\n",
       "0       41058       NaN      NaN       NaN           NaN        NaN   \n",
       "1       40009       NaN      NaN       NaN           NaN        NaN   \n",
       "2       40007       NaN      NaN       NaN           NaN        NaN   \n",
       "3       40892       NaN      NaN       NaN           NaN        NaN   \n",
       "4       40612       NaN      NaN       NaN           NaN        NaN   \n",
       "...       ...       ...      ...       ...           ...        ...   \n",
       "6495    22727       1.0      0.0       1.0           1.0        0.0   \n",
       "6496    15503       1.0      1.0       1.0           1.0        1.0   \n",
       "6497    21792       1.0      1.0       1.0           1.0        1.0   \n",
       "6498    17694       1.0      1.0       0.0           0.0        1.0   \n",
       "6499    43788       0.0      0.0       0.0           0.0        0.0   \n",
       "\n",
       "      comimplhr  investihr  emergencepr  riskcontr  accidentinvesti  accohs  \\\n",
       "0           NaN        NaN          NaN        NaN              NaN     NaN   \n",
       "1           NaN        NaN          NaN        NaN              NaN     NaN   \n",
       "2           NaN        NaN          NaN        NaN              NaN     NaN   \n",
       "3           NaN        NaN          NaN        NaN              NaN     NaN   \n",
       "4           NaN        NaN          NaN        NaN              NaN     NaN   \n",
       "...         ...        ...          ...        ...              ...     ...   \n",
       "6495        0.0        0.0          1.0        1.0              1.0     1.0   \n",
       "6496        1.0        0.0          1.0        1.0              1.0     0.0   \n",
       "6497        1.0        0.0          0.0        1.0              1.0     0.0   \n",
       "6498        1.0        0.0          1.0        0.0              0.0     1.0   \n",
       "6499        0.0        0.0          0.0        0.0              0.0     0.0   \n",
       "\n",
       "      impleosh  invstiosh  mngsum13items  mngitems  \n",
       "0          NaN        NaN            0.0         0  \n",
       "1          NaN        NaN            0.0         0  \n",
       "2          NaN        NaN            0.0         0  \n",
       "3          NaN        NaN            0.0         0  \n",
       "4          NaN        NaN            0.0         0  \n",
       "...        ...        ...            ...       ...  \n",
       "6495       1.0        0.0            8.0        13  \n",
       "6496       1.0        0.0           10.0        13  \n",
       "6497       1.0        0.0            9.0        13  \n",
       "6498       0.0        0.0            6.0        13  \n",
       "6499       0.0        0.0            0.0        13  \n",
       "\n",
       "[6500 rows x 16 columns]"
      ]
     },
     "execution_count": 231,
     "metadata": {},
     "output_type": "execute_result"
    }
   ],
   "source": [
    "df"
   ]
  },
  {
   "cell_type": "code",
   "execution_count": null,
   "metadata": {},
   "outputs": [],
   "source": [
    "pd.read_excel(\"\")"
   ]
  }
 ],
 "metadata": {
  "kernelspec": {
   "display_name": "base",
   "language": "python",
   "name": "python3"
  },
  "language_info": {
   "codemirror_mode": {
    "name": "ipython",
    "version": 3
   },
   "file_extension": ".py",
   "mimetype": "text/x-python",
   "name": "python",
   "nbconvert_exporter": "python",
   "pygments_lexer": "ipython3",
   "version": "3.9.13"
  }
 },
 "nbformat": 4,
 "nbformat_minor": 2
}
