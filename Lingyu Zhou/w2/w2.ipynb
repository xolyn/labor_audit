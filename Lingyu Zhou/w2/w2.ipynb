{
 "cells": [
  {
   "cell_type": "markdown",
   "metadata": {},
   "source": [
    "```python\n",
    "df.groupby('QLabel').filter(lambda x: x['year'].nunique() <= 3)\n",
    "\n",
    "for i in CPCleanedUnique:\n",
    "    targdf=df[df.CPCleaned==i]\n",
    "    vcdf=targdf.QCleaned.value_counts().rename_axis('QCleaned').reset_index(name='counts')\n",
    "    # print(vcdf)\n",
    "    break\n",
    "\n",
    "def f(cpname,thres):\n",
    "    global df\n",
    "    targdf=df[df.CPCleaned==cpname]\n",
    "    vcdf=targdf.QCleaned.value_counts().rename_axis('QCleaned').reset_index(name='counts')\n",
    "    unqualQ=list(vcdf[vcdf.counts<6476].QCleaned)\n",
    "    gQ=groupSent(unqualQ,threshold=thres)\n",
    "    for i in gQ:\n",
    "        print(i, sum([int(vcdf[vcdf.QCleaned==x].counts) for x in i]),sep=\"\\n\")\n",
    "\n",
    "```"
   ]
  },
  {
   "cell_type": "code",
   "execution_count": 1,
   "metadata": {},
   "outputs": [
    {
     "name": "stderr",
     "output_type": "stream",
     "text": [
      "d:\\Software\\Anaconda3\\lib\\site-packages\\sentence_transformers\\cross_encoder\\CrossEncoder.py:11: TqdmExperimentalWarning: Using `tqdm.autonotebook.tqdm` in notebook mode. Use `tqdm.tqdm` instead to force console mode (e.g. in jupyter console)\n",
      "  from tqdm.autonotebook import tqdm, trange\n"
     ]
    }
   ],
   "source": [
    "import pandas as pd\n",
    "import os\n",
    "from sentence_transformers import SentenceTransformer\n",
    "from sklearn.cluster import AgglomerativeClustering\n",
    "import numpy as np\n",
    "\n",
    "def groupSent(sentences, threshold=0.75):\n",
    "    # Load pre-trained Sentence-BERT model\n",
    "    model = SentenceTransformer('all-MiniLM-L6-v2')\n",
    "    embeddings = model.encode(sentences,show_progress_bar=False)\n",
    "    clustering = AgglomerativeClustering(n_clusters=None, affinity='cosine', linkage='average', distance_threshold=1-threshold)\n",
    "    clustering.fit(embeddings)\n",
    "    clusters = {}\n",
    "    for sentence_id, cluster_id in enumerate(clustering.labels_):\n",
    "        if cluster_id not in clusters:\n",
    "            clusters[cluster_id] = []\n",
    "        clusters[cluster_id].append(sentences[sentence_id])\n",
    "    return [group for group in clusters.values()]\n",
    "\n",
    "genSubRule=lambda lol: {x: sorted(t, key=lambda x: len(x))[0] for t in lol for x in t}"
   ]
  },
  {
   "cell_type": "code",
   "execution_count": 97,
   "metadata": {},
   "outputs": [],
   "source": [
    "def getQNum(qstr):\n",
    "    global df\n",
    "    return len(df[df.QCleaned==qstr])\n",
    "\n",
    "def keyWordQuery(kw):\n",
    "    global df\n",
    "    return df[df.Q.str.contains(kw)]\n",
    "\n",
    "def tabCountry(q):\n",
    "    global df\n",
    "    return df[df.QCleaned==q].Country.value_counts()"
   ]
  },
  {
   "cell_type": "code",
   "execution_count": 171,
   "metadata": {},
   "outputs": [
    {
     "data": {
      "text/html": [
       "<div>\n",
       "<style scoped>\n",
       "    .dataframe tbody tr th:only-of-type {\n",
       "        vertical-align: middle;\n",
       "    }\n",
       "\n",
       "    .dataframe tbody tr th {\n",
       "        vertical-align: top;\n",
       "    }\n",
       "\n",
       "    .dataframe thead th {\n",
       "        text-align: right;\n",
       "    }\n",
       "</style>\n",
       "<table border=\"1\" class=\"dataframe\">\n",
       "  <thead>\n",
       "    <tr style=\"text-align: right;\">\n",
       "      <th></th>\n",
       "      <th>Country</th>\n",
       "      <th>FactoryAssessedID</th>\n",
       "      <th>AssesmentDate</th>\n",
       "      <th>QuestID</th>\n",
       "      <th>CP</th>\n",
       "      <th>Q</th>\n",
       "      <th>Finding</th>\n",
       "      <th>QCleaned</th>\n",
       "      <th>CPCleaned</th>\n",
       "      <th>cleaned</th>\n",
       "    </tr>\n",
       "  </thead>\n",
       "  <tbody>\n",
       "    <tr>\n",
       "      <th>0</th>\n",
       "      <td>Vietnam</td>\n",
       "      <td>1509</td>\n",
       "      <td>06/01/2015</td>\n",
       "      <td>8009</td>\n",
       "      <td>Emergency Preparedness</td>\n",
       "      <td>Are any of the emergency exits inaccessible, o...</td>\n",
       "      <td>1</td>\n",
       "      <td>Accessable unlocked emergency exits</td>\n",
       "      <td>Emergency Preparedness</td>\n",
       "      <td>0</td>\n",
       "    </tr>\n",
       "  </tbody>\n",
       "</table>\n",
       "</div>"
      ],
      "text/plain": [
       "   Country  FactoryAssessedID AssesmentDate  QuestID                      CP  \\\n",
       "0  Vietnam               1509    06/01/2015     8009  Emergency Preparedness   \n",
       "\n",
       "                                                   Q  Finding  \\\n",
       "0  Are any of the emergency exits inaccessible, o...        1   \n",
       "\n",
       "                              QCleaned               CPCleaned  cleaned  \n",
       "0  Accessable unlocked emergency exits  Emergency Preparedness        0  "
      ]
     },
     "execution_count": 171,
     "metadata": {},
     "output_type": "execute_result"
    }
   ],
   "source": [
    "df=pd.read_csv(\"7c.csv\").rename(columns={\"QLabel\":\"Q\",\"Itemscleaned\":\"QCleaned\",\"CPcleaned\":\"CPCleaned\"})\n",
    "df[\"cleaned\"]=0\n",
    "df.QCleaned=df.QCleaned.fillna(df.Q)\n",
    "df.QCleaned=df.QCleaned.str.strip()\n",
    "df.head(1)"
   ]
  },
  {
   "cell_type": "code",
   "execution_count": 3,
   "metadata": {},
   "outputs": [
    {
     "data": {
      "text/plain": [
       "array(['Freedom to Associate', 'Hazardous Work and other Worst Forms'],\n",
       "      dtype=object)"
      ]
     },
     "execution_count": 3,
     "metadata": {},
     "output_type": "execute_result"
    }
   ],
   "source": [
    "df[df.CP!= df.CPCleaned].CPCleaned.unique()"
   ]
  },
  {
   "cell_type": "code",
   "execution_count": 4,
   "metadata": {},
   "outputs": [
    {
     "data": {
      "text/plain": [
       "Terminate workers due to pregnancy or maternity leave                                                        6567\n",
       "Accessable unlocked emergency exits                                                                          6476\n",
       "Free exit from workplace at all times                                                                        6476\n",
       "Electrical wires/switches/plugs properly installed                                                           6476\n",
       "Safety warnings posted                                                                                       6476\n",
       "                                                                                                             ... \n",
       "Do workers have a medical check within the first three months of hiring and annual medical checks?              5\n",
       "Does the employer forward workers contributions to ONA?                                                         5\n",
       "Do workers have chairs with backrests?                                                                          5\n",
       "Are workers effectively trained and encouraged to use the personal protective equipment that is provided?       5\n",
       "Do workers have suitable chairs?                                                                                2\n",
       "Name: QCleaned, Length: 630, dtype: int64"
      ]
     },
     "execution_count": 4,
     "metadata": {},
     "output_type": "execute_result"
    }
   ],
   "source": [
    "df.QCleaned.value_counts()"
   ]
  },
  {
   "cell_type": "code",
   "execution_count": 5,
   "metadata": {},
   "outputs": [
    {
     "data": {
      "text/html": [
       "<div>\n",
       "<style scoped>\n",
       "    .dataframe tbody tr th:only-of-type {\n",
       "        vertical-align: middle;\n",
       "    }\n",
       "\n",
       "    .dataframe tbody tr th {\n",
       "        vertical-align: top;\n",
       "    }\n",
       "\n",
       "    .dataframe thead th {\n",
       "        text-align: right;\n",
       "    }\n",
       "</style>\n",
       "<table border=\"1\" class=\"dataframe\">\n",
       "  <thead>\n",
       "    <tr style=\"text-align: right;\">\n",
       "      <th></th>\n",
       "      <th>Country</th>\n",
       "      <th>FactoryAssessedID</th>\n",
       "      <th>AssesmentDate</th>\n",
       "      <th>QuestID</th>\n",
       "      <th>CP</th>\n",
       "      <th>Q</th>\n",
       "      <th>Finding</th>\n",
       "      <th>QCleaned</th>\n",
       "      <th>CPCleaned</th>\n",
       "      <th>cleaned</th>\n",
       "    </tr>\n",
       "  </thead>\n",
       "  <tbody>\n",
       "    <tr>\n",
       "      <th>0</th>\n",
       "      <td>Vietnam</td>\n",
       "      <td>1509</td>\n",
       "      <td>06/01/2015</td>\n",
       "      <td>8009</td>\n",
       "      <td>Emergency Preparedness</td>\n",
       "      <td>Are any of the emergency exits inaccessible, o...</td>\n",
       "      <td>1</td>\n",
       "      <td>Accessable unlocked emergency exits</td>\n",
       "      <td>Emergency Preparedness</td>\n",
       "      <td>0</td>\n",
       "    </tr>\n",
       "    <tr>\n",
       "      <th>1</th>\n",
       "      <td>Vietnam</td>\n",
       "      <td>1509</td>\n",
       "      <td>06/01/2015</td>\n",
       "      <td>8009</td>\n",
       "      <td>Overtime Wages</td>\n",
       "      <td>Does the employer pay workers correctly for al...</td>\n",
       "      <td>1</td>\n",
       "      <td>Payment of overtime</td>\n",
       "      <td>Overtime Wages</td>\n",
       "      <td>0</td>\n",
       "    </tr>\n",
       "    <tr>\n",
       "      <th>2</th>\n",
       "      <td>Vietnam</td>\n",
       "      <td>1509</td>\n",
       "      <td>06/01/2015</td>\n",
       "      <td>8009</td>\n",
       "      <td>Gender</td>\n",
       "      <td>Is the gender or marital status of a worker a ...</td>\n",
       "      <td>0</td>\n",
       "      <td>Gender discrimination on conditions of work</td>\n",
       "      <td>Gender</td>\n",
       "      <td>0</td>\n",
       "    </tr>\n",
       "    <tr>\n",
       "      <th>3</th>\n",
       "      <td>Vietnam</td>\n",
       "      <td>1509</td>\n",
       "      <td>06/01/2015</td>\n",
       "      <td>8009</td>\n",
       "      <td>Welfare Facilities</td>\n",
       "      <td>Does the employer provide workers enough free ...</td>\n",
       "      <td>0</td>\n",
       "      <td>Providing drinking water</td>\n",
       "      <td>Welfare Facilities</td>\n",
       "      <td>0</td>\n",
       "    </tr>\n",
       "    <tr>\n",
       "      <th>4</th>\n",
       "      <td>Vietnam</td>\n",
       "      <td>1509</td>\n",
       "      <td>06/01/2015</td>\n",
       "      <td>8009</td>\n",
       "      <td>Union Operations</td>\n",
       "      <td>Does the employer require workers to join a un...</td>\n",
       "      <td>0</td>\n",
       "      <td>Employer requires workers to join a union</td>\n",
       "      <td>Freedom to Associate</td>\n",
       "      <td>0</td>\n",
       "    </tr>\n",
       "    <tr>\n",
       "      <th>...</th>\n",
       "      <td>...</td>\n",
       "      <td>...</td>\n",
       "      <td>...</td>\n",
       "      <td>...</td>\n",
       "      <td>...</td>\n",
       "      <td>...</td>\n",
       "      <td>...</td>\n",
       "      <td>...</td>\n",
       "      <td>...</td>\n",
       "      <td>...</td>\n",
       "    </tr>\n",
       "    <tr>\n",
       "      <th>1053492</th>\n",
       "      <td>Jordan</td>\n",
       "      <td>1430</td>\n",
       "      <td>26/08/2021</td>\n",
       "      <td>43788</td>\n",
       "      <td>Interference and Discrimination</td>\n",
       "      <td>Does the employer punish workers for joining a...</td>\n",
       "      <td>0</td>\n",
       "      <td>Punish unionists</td>\n",
       "      <td>Interference and Discrimination</td>\n",
       "      <td>0</td>\n",
       "    </tr>\n",
       "    <tr>\n",
       "      <th>1053516</th>\n",
       "      <td>Jordan</td>\n",
       "      <td>1430</td>\n",
       "      <td>26/08/2021</td>\n",
       "      <td>43788</td>\n",
       "      <td>Coercion</td>\n",
       "      <td>Does the employer restrict workers' freedom to...</td>\n",
       "      <td>0</td>\n",
       "      <td>Does the employer restrict workers' freedom to...</td>\n",
       "      <td>Coercion</td>\n",
       "      <td>0</td>\n",
       "    </tr>\n",
       "    <tr>\n",
       "      <th>1053522</th>\n",
       "      <td>Jordan</td>\n",
       "      <td>1430</td>\n",
       "      <td>26/08/2021</td>\n",
       "      <td>43788</td>\n",
       "      <td>Interference and Discrimination</td>\n",
       "      <td>Does the employer threaten, intimidate, or har...</td>\n",
       "      <td>0</td>\n",
       "      <td>Does the employer threaten, intimidate, or har...</td>\n",
       "      <td>Interference and Discrimination</td>\n",
       "      <td>0</td>\n",
       "    </tr>\n",
       "    <tr>\n",
       "      <th>1053544</th>\n",
       "      <td>Jordan</td>\n",
       "      <td>1430</td>\n",
       "      <td>26/08/2021</td>\n",
       "      <td>43788</td>\n",
       "      <td>Worker Protection</td>\n",
       "      <td>Are electrical wires, cables, switches, plugs ...</td>\n",
       "      <td>0</td>\n",
       "      <td>Electrical wires/switches/plugs properly insta...</td>\n",
       "      <td>Worker Protection</td>\n",
       "      <td>0</td>\n",
       "    </tr>\n",
       "    <tr>\n",
       "      <th>1053571</th>\n",
       "      <td>Jordan</td>\n",
       "      <td>1430</td>\n",
       "      <td>26/08/2021</td>\n",
       "      <td>43788</td>\n",
       "      <td>Worker Protection</td>\n",
       "      <td>Are appropriate safety warnings posted in the ...</td>\n",
       "      <td>0</td>\n",
       "      <td>Safety warnings posted</td>\n",
       "      <td>Worker Protection</td>\n",
       "      <td>0</td>\n",
       "    </tr>\n",
       "  </tbody>\n",
       "</table>\n",
       "<p>155515 rows × 10 columns</p>\n",
       "</div>"
      ],
      "text/plain": [
       "         Country  FactoryAssessedID AssesmentDate  QuestID  \\\n",
       "0        Vietnam               1509    06/01/2015     8009   \n",
       "1        Vietnam               1509    06/01/2015     8009   \n",
       "2        Vietnam               1509    06/01/2015     8009   \n",
       "3        Vietnam               1509    06/01/2015     8009   \n",
       "4        Vietnam               1509    06/01/2015     8009   \n",
       "...          ...                ...           ...      ...   \n",
       "1053492   Jordan               1430    26/08/2021    43788   \n",
       "1053516   Jordan               1430    26/08/2021    43788   \n",
       "1053522   Jordan               1430    26/08/2021    43788   \n",
       "1053544   Jordan               1430    26/08/2021    43788   \n",
       "1053571   Jordan               1430    26/08/2021    43788   \n",
       "\n",
       "                                      CP  \\\n",
       "0                 Emergency Preparedness   \n",
       "1                         Overtime Wages   \n",
       "2                                 Gender   \n",
       "3                     Welfare Facilities   \n",
       "4                       Union Operations   \n",
       "...                                  ...   \n",
       "1053492  Interference and Discrimination   \n",
       "1053516                         Coercion   \n",
       "1053522  Interference and Discrimination   \n",
       "1053544                Worker Protection   \n",
       "1053571                Worker Protection   \n",
       "\n",
       "                                                         Q  Finding  \\\n",
       "0        Are any of the emergency exits inaccessible, o...        1   \n",
       "1        Does the employer pay workers correctly for al...        1   \n",
       "2        Is the gender or marital status of a worker a ...        0   \n",
       "3        Does the employer provide workers enough free ...        0   \n",
       "4        Does the employer require workers to join a un...        0   \n",
       "...                                                    ...      ...   \n",
       "1053492  Does the employer punish workers for joining a...        0   \n",
       "1053516  Does the employer restrict workers' freedom to...        0   \n",
       "1053522  Does the employer threaten, intimidate, or har...        0   \n",
       "1053544  Are electrical wires, cables, switches, plugs ...        0   \n",
       "1053571  Are appropriate safety warnings posted in the ...        0   \n",
       "\n",
       "                                                  QCleaned  \\\n",
       "0                      Accessable unlocked emergency exits   \n",
       "1                                      Payment of overtime   \n",
       "2              Gender discrimination on conditions of work   \n",
       "3                                 Providing drinking water   \n",
       "4                Employer requires workers to join a union   \n",
       "...                                                    ...   \n",
       "1053492                                   Punish unionists   \n",
       "1053516  Does the employer restrict workers' freedom to...   \n",
       "1053522  Does the employer threaten, intimidate, or har...   \n",
       "1053544  Electrical wires/switches/plugs properly insta...   \n",
       "1053571                             Safety warnings posted   \n",
       "\n",
       "                               CPCleaned  cleaned  \n",
       "0                 Emergency Preparedness        0  \n",
       "1                         Overtime Wages        0  \n",
       "2                                 Gender        0  \n",
       "3                     Welfare Facilities        0  \n",
       "4                   Freedom to Associate        0  \n",
       "...                                  ...      ...  \n",
       "1053492  Interference and Discrimination        0  \n",
       "1053516                         Coercion        0  \n",
       "1053522  Interference and Discrimination        0  \n",
       "1053544                Worker Protection        0  \n",
       "1053571                Worker Protection        0  \n",
       "\n",
       "[155515 rows x 10 columns]"
      ]
     },
     "execution_count": 5,
     "metadata": {},
     "output_type": "execute_result"
    }
   ],
   "source": [
    "vc=df['QCleaned'].value_counts()\n",
    "df[df['QCleaned'].isin(vc[vc >= 6476].index)]"
   ]
  },
  {
   "cell_type": "code",
   "execution_count": 6,
   "metadata": {},
   "outputs": [
    {
     "data": {
      "text/html": [
       "<div>\n",
       "<style scoped>\n",
       "    .dataframe tbody tr th:only-of-type {\n",
       "        vertical-align: middle;\n",
       "    }\n",
       "\n",
       "    .dataframe tbody tr th {\n",
       "        vertical-align: top;\n",
       "    }\n",
       "\n",
       "    .dataframe thead th {\n",
       "        text-align: right;\n",
       "    }\n",
       "</style>\n",
       "<table border=\"1\" class=\"dataframe\">\n",
       "  <thead>\n",
       "    <tr style=\"text-align: right;\">\n",
       "      <th></th>\n",
       "      <th>QCleaned</th>\n",
       "      <th>counts</th>\n",
       "    </tr>\n",
       "  </thead>\n",
       "  <tbody>\n",
       "    <tr>\n",
       "      <th>0</th>\n",
       "      <td>Terminate workers due to pregnancy or maternit...</td>\n",
       "      <td>6567</td>\n",
       "    </tr>\n",
       "    <tr>\n",
       "      <th>1</th>\n",
       "      <td>Accessable unlocked emergency exits</td>\n",
       "      <td>6476</td>\n",
       "    </tr>\n",
       "    <tr>\n",
       "      <th>2</th>\n",
       "      <td>Free exit from workplace at all times</td>\n",
       "      <td>6476</td>\n",
       "    </tr>\n",
       "    <tr>\n",
       "      <th>3</th>\n",
       "      <td>Electrical wires/switches/plugs properly insta...</td>\n",
       "      <td>6476</td>\n",
       "    </tr>\n",
       "    <tr>\n",
       "      <th>4</th>\n",
       "      <td>Safety warnings posted</td>\n",
       "      <td>6476</td>\n",
       "    </tr>\n",
       "    <tr>\n",
       "      <th>...</th>\n",
       "      <td>...</td>\n",
       "      <td>...</td>\n",
       "    </tr>\n",
       "    <tr>\n",
       "      <th>625</th>\n",
       "      <td>Do workers have a medical check within the fir...</td>\n",
       "      <td>5</td>\n",
       "    </tr>\n",
       "    <tr>\n",
       "      <th>626</th>\n",
       "      <td>Does the employer forward workers contribution...</td>\n",
       "      <td>5</td>\n",
       "    </tr>\n",
       "    <tr>\n",
       "      <th>627</th>\n",
       "      <td>Do workers have chairs with backrests?</td>\n",
       "      <td>5</td>\n",
       "    </tr>\n",
       "    <tr>\n",
       "      <th>628</th>\n",
       "      <td>Are workers effectively trained and encouraged...</td>\n",
       "      <td>5</td>\n",
       "    </tr>\n",
       "    <tr>\n",
       "      <th>629</th>\n",
       "      <td>Do workers have suitable chairs?</td>\n",
       "      <td>2</td>\n",
       "    </tr>\n",
       "  </tbody>\n",
       "</table>\n",
       "<p>630 rows × 2 columns</p>\n",
       "</div>"
      ],
      "text/plain": [
       "                                              QCleaned  counts\n",
       "0    Terminate workers due to pregnancy or maternit...    6567\n",
       "1                  Accessable unlocked emergency exits    6476\n",
       "2                Free exit from workplace at all times    6476\n",
       "3    Electrical wires/switches/plugs properly insta...    6476\n",
       "4                               Safety warnings posted    6476\n",
       "..                                                 ...     ...\n",
       "625  Do workers have a medical check within the fir...       5\n",
       "626  Does the employer forward workers contribution...       5\n",
       "627             Do workers have chairs with backrests?       5\n",
       "628  Are workers effectively trained and encouraged...       5\n",
       "629                   Do workers have suitable chairs?       2\n",
       "\n",
       "[630 rows x 2 columns]"
      ]
     },
     "execution_count": 6,
     "metadata": {},
     "output_type": "execute_result"
    }
   ],
   "source": [
    "vcdf=df['QCleaned'].value_counts().rename_axis('QCleaned').reset_index(name='counts')\n",
    "vcdf"
   ]
  },
  {
   "cell_type": "code",
   "execution_count": 7,
   "metadata": {},
   "outputs": [
    {
     "data": {
      "text/html": [
       "<div>\n",
       "<style scoped>\n",
       "    .dataframe tbody tr th:only-of-type {\n",
       "        vertical-align: middle;\n",
       "    }\n",
       "\n",
       "    .dataframe tbody tr th {\n",
       "        vertical-align: top;\n",
       "    }\n",
       "\n",
       "    .dataframe thead th {\n",
       "        text-align: right;\n",
       "    }\n",
       "</style>\n",
       "<table border=\"1\" class=\"dataframe\">\n",
       "  <thead>\n",
       "    <tr style=\"text-align: right;\">\n",
       "      <th></th>\n",
       "      <th>QCleaned</th>\n",
       "      <th>counts</th>\n",
       "    </tr>\n",
       "  </thead>\n",
       "  <tbody>\n",
       "    <tr>\n",
       "      <th>0</th>\n",
       "      <td>Terminate workers due to pregnancy or maternit...</td>\n",
       "      <td>6567</td>\n",
       "    </tr>\n",
       "    <tr>\n",
       "      <th>1</th>\n",
       "      <td>Accessable unlocked emergency exits</td>\n",
       "      <td>6476</td>\n",
       "    </tr>\n",
       "    <tr>\n",
       "      <th>2</th>\n",
       "      <td>Free exit from workplace at all times</td>\n",
       "      <td>6476</td>\n",
       "    </tr>\n",
       "    <tr>\n",
       "      <th>3</th>\n",
       "      <td>Electrical wires/switches/plugs properly insta...</td>\n",
       "      <td>6476</td>\n",
       "    </tr>\n",
       "    <tr>\n",
       "      <th>4</th>\n",
       "      <td>Safety warnings posted</td>\n",
       "      <td>6476</td>\n",
       "    </tr>\n",
       "    <tr>\n",
       "      <th>5</th>\n",
       "      <td>Does the employer restrict workers' freedom to...</td>\n",
       "      <td>6476</td>\n",
       "    </tr>\n",
       "    <tr>\n",
       "      <th>6</th>\n",
       "      <td>Does the employer threaten, intimidate, or har...</td>\n",
       "      <td>6476</td>\n",
       "    </tr>\n",
       "    <tr>\n",
       "      <th>7</th>\n",
       "      <td>Implement CBA</td>\n",
       "      <td>6476</td>\n",
       "    </tr>\n",
       "    <tr>\n",
       "      <th>8</th>\n",
       "      <td>Punish workers for striking</td>\n",
       "      <td>6476</td>\n",
       "    </tr>\n",
       "    <tr>\n",
       "      <th>9</th>\n",
       "      <td>Periodic emergency drills</td>\n",
       "      <td>6476</td>\n",
       "    </tr>\n",
       "    <tr>\n",
       "      <th>10</th>\n",
       "      <td>Minimum wages for regular workers</td>\n",
       "      <td>6476</td>\n",
       "    </tr>\n",
       "    <tr>\n",
       "      <th>11</th>\n",
       "      <td>Mechanisms/committee for cooperation on OSH</td>\n",
       "      <td>6476</td>\n",
       "    </tr>\n",
       "    <tr>\n",
       "      <th>12</th>\n",
       "      <td>At least 2 possible emergency exits</td>\n",
       "      <td>6476</td>\n",
       "    </tr>\n",
       "    <tr>\n",
       "      <th>13</th>\n",
       "      <td>Child labor</td>\n",
       "      <td>6476</td>\n",
       "    </tr>\n",
       "    <tr>\n",
       "      <th>14</th>\n",
       "      <td>Payment of overtime</td>\n",
       "      <td>6476</td>\n",
       "    </tr>\n",
       "    <tr>\n",
       "      <th>15</th>\n",
       "      <td>Bullying harassment</td>\n",
       "      <td>6476</td>\n",
       "    </tr>\n",
       "    <tr>\n",
       "      <th>16</th>\n",
       "      <td>Gender discrimination on conditions of work</td>\n",
       "      <td>6476</td>\n",
       "    </tr>\n",
       "    <tr>\n",
       "      <th>17</th>\n",
       "      <td>Storage of chemicals and hazardous substances</td>\n",
       "      <td>6476</td>\n",
       "    </tr>\n",
       "    <tr>\n",
       "      <th>18</th>\n",
       "      <td>Employer requires workers to join a union</td>\n",
       "      <td>6476</td>\n",
       "    </tr>\n",
       "    <tr>\n",
       "      <th>19</th>\n",
       "      <td>Terminate workers for union activity</td>\n",
       "      <td>6476</td>\n",
       "    </tr>\n",
       "    <tr>\n",
       "      <th>20</th>\n",
       "      <td>Providing drinking water</td>\n",
       "      <td>6476</td>\n",
       "    </tr>\n",
       "    <tr>\n",
       "      <th>21</th>\n",
       "      <td>Fire detection and alarm system</td>\n",
       "      <td>6476</td>\n",
       "    </tr>\n",
       "    <tr>\n",
       "      <th>22</th>\n",
       "      <td>Sexual harassment</td>\n",
       "      <td>6476</td>\n",
       "    </tr>\n",
       "    <tr>\n",
       "      <th>23</th>\n",
       "      <td>Punish unionists</td>\n",
       "      <td>6476</td>\n",
       "    </tr>\n",
       "    <tr>\n",
       "      <th>24</th>\n",
       "      <td>Payment for maternity leave</td>\n",
       "      <td>6474</td>\n",
       "    </tr>\n",
       "    <tr>\n",
       "      <th>25</th>\n",
       "      <td>Forced overtime under threat of penalty</td>\n",
       "      <td>6474</td>\n",
       "    </tr>\n",
       "    <tr>\n",
       "      <th>26</th>\n",
       "      <td>Interfere union</td>\n",
       "      <td>6458</td>\n",
       "    </tr>\n",
       "    <tr>\n",
       "      <th>27</th>\n",
       "      <td>Is the workplace adequately lit?</td>\n",
       "      <td>6416</td>\n",
       "    </tr>\n",
       "  </tbody>\n",
       "</table>\n",
       "</div>"
      ],
      "text/plain": [
       "                                             QCleaned  counts\n",
       "0   Terminate workers due to pregnancy or maternit...    6567\n",
       "1                 Accessable unlocked emergency exits    6476\n",
       "2               Free exit from workplace at all times    6476\n",
       "3   Electrical wires/switches/plugs properly insta...    6476\n",
       "4                              Safety warnings posted    6476\n",
       "5   Does the employer restrict workers' freedom to...    6476\n",
       "6   Does the employer threaten, intimidate, or har...    6476\n",
       "7                                       Implement CBA    6476\n",
       "8                         Punish workers for striking    6476\n",
       "9                           Periodic emergency drills    6476\n",
       "10                  Minimum wages for regular workers    6476\n",
       "11        Mechanisms/committee for cooperation on OSH    6476\n",
       "12                At least 2 possible emergency exits    6476\n",
       "13                                        Child labor    6476\n",
       "14                                Payment of overtime    6476\n",
       "15                                Bullying harassment    6476\n",
       "16        Gender discrimination on conditions of work    6476\n",
       "17      Storage of chemicals and hazardous substances    6476\n",
       "18          Employer requires workers to join a union    6476\n",
       "19               Terminate workers for union activity    6476\n",
       "20                           Providing drinking water    6476\n",
       "21                    Fire detection and alarm system    6476\n",
       "22                                  Sexual harassment    6476\n",
       "23                                   Punish unionists    6476\n",
       "24                        Payment for maternity leave    6474\n",
       "25            Forced overtime under threat of penalty    6474\n",
       "26                                    Interfere union    6458\n",
       "27                   Is the workplace adequately lit?    6416"
      ]
     },
     "execution_count": 7,
     "metadata": {},
     "output_type": "execute_result"
    }
   ],
   "source": [
    "# rerun after each substitute:\n",
    "cleaned=vcdf[vcdf.counts>=6376][\"QCleaned\"]\n",
    "vcdf[vcdf.counts>=6376]"
   ]
  },
  {
   "cell_type": "code",
   "execution_count": 100,
   "metadata": {},
   "outputs": [
    {
     "data": {
      "text/plain": [
       "array(['Emergency Preparedness', 'Overtime Wages', 'Gender',\n",
       "       'Welfare Facilities', 'Freedom to Associate',\n",
       "       'Chemicals and Hazardous Substances', 'Forced Labour and Overtime',\n",
       "       'Paid Leave', 'Wage Information, Use and Deduction',\n",
       "       'Interference and Discrimination',\n",
       "       'Dialogue, Discipline and Disputes', 'Coercion', 'Child Labourers',\n",
       "       'OSH Management Systems', 'Minimum Wages/Piece Rate Wages',\n",
       "       'Strikes', 'Collective Bargaining', 'Regular Hours',\n",
       "       'Social Security and Other Benefits', 'Employment Contracts',\n",
       "       'Contracting Procedures', 'Termination', 'Leave',\n",
       "       'Union Operations', 'Worker Protection', 'Working Environment',\n",
       "       'Health Services and First Aid',\n",
       "       'Hazardous Work and other Worst Forms',\n",
       "       'Religion and Political Opinion', 'Method of Payment',\n",
       "       'Worker Accommodation', 'Race and Origin', 'Other Grounds',\n",
       "       'Overtime', 'Documentation and Protection of Young Workers'],\n",
       "      dtype=object)"
      ]
     },
     "execution_count": 100,
     "metadata": {},
     "output_type": "execute_result"
    }
   ],
   "source": [
    "df.CPCleaned.unique()"
   ]
  },
  {
   "cell_type": "code",
   "execution_count": 103,
   "metadata": {},
   "outputs": [
    {
     "data": {
      "text/plain": [
       "array(['Gender discrimination on conditions of work',\n",
       "       'Terminate workers due to pregnancy or maternity leave',\n",
       "       'Sexual harassment',\n",
       "       'Is the gender or marital status of a worker a factor in decisions regarding pay?',\n",
       "       'Is the gender or marital status of a worker a factor in decisions regarding opportunities for promotion or access to training?',\n",
       "       'Is the gender or marital status of the worker a factor in employer decisions regarding termination or retirement of workers?',\n",
       "       'Does the employer require pregnancy tests or use of contraceptives as a condition of employment?',\n",
       "       'Does the employer change the employment status, position, wages, benefits or seniority of workers during maternity leave?',\n",
       "       \"Are periods of maternity leave included in a worker's period of continuous service?\",\n",
       "       'Do job announcements refer to the applicants gender or marital status?',\n",
       "       \"Is an applicant's gender or marital status a factor in hiring decisions?\",\n",
       "       'Is gender a factor in decisions regarding pay?',\n",
       "       'Is gender a factor in decisions regarding opportunities for promotion or access to training?',\n",
       "       \"Is gender a factor in the employer's decisions regarding termination or retirement of workers?\",\n",
       "       \"Is an applicant's gender a factor in recruitment or hiring?\",\n",
       "       \"Is maternity leave excluded from workers' period of continuous service?\",\n",
       "       'Does the employer require pregnancy tests or the use of contraceptives as a condition of employment?',\n",
       "       \"Do job announcements refer to the applicant's gender and/or is an applicant's gender a factor in decisions regarding hiring, opportunities for promotion or access to training, termination and/or retirement of workers?\",\n",
       "       \"Is an applicant's gender a factor in hiring decisions?\",\n",
       "       \"Do job announcements refer to the applicant's gender or marital status?\",\n",
       "       \"Do job announcements refer to the applicant's gender?\",\n",
       "       'Does the employer terminate workers who are on maternity leave or force them to resign?',\n",
       "       'Is the gender or marital status of a worker a factor in employer decisions regarding termination or retirement of workers?'],\n",
       "      dtype=object)"
      ]
     },
     "execution_count": 103,
     "metadata": {},
     "output_type": "execute_result"
    }
   ],
   "source": [
    "df[df.CPCleaned==\"Gender\"].QCleaned.unique()"
   ]
  },
  {
   "cell_type": "code",
   "execution_count": 8,
   "metadata": {},
   "outputs": [
    {
     "data": {
      "text/html": [
       "<div>\n",
       "<style scoped>\n",
       "    .dataframe tbody tr th:only-of-type {\n",
       "        vertical-align: middle;\n",
       "    }\n",
       "\n",
       "    .dataframe tbody tr th {\n",
       "        vertical-align: top;\n",
       "    }\n",
       "\n",
       "    .dataframe thead th {\n",
       "        text-align: right;\n",
       "    }\n",
       "</style>\n",
       "<table border=\"1\" class=\"dataframe\">\n",
       "  <thead>\n",
       "    <tr style=\"text-align: right;\">\n",
       "      <th></th>\n",
       "      <th>Country</th>\n",
       "      <th>FactoryAssessedID</th>\n",
       "      <th>AssesmentDate</th>\n",
       "      <th>QuestID</th>\n",
       "      <th>CP</th>\n",
       "      <th>Q</th>\n",
       "      <th>Finding</th>\n",
       "      <th>QCleaned</th>\n",
       "      <th>CPCleaned</th>\n",
       "      <th>cleaned</th>\n",
       "    </tr>\n",
       "  </thead>\n",
       "  <tbody>\n",
       "    <tr>\n",
       "      <th>0</th>\n",
       "      <td>Vietnam</td>\n",
       "      <td>1509</td>\n",
       "      <td>06/01/2015</td>\n",
       "      <td>8009</td>\n",
       "      <td>Emergency Preparedness</td>\n",
       "      <td>Are any of the emergency exits inaccessible, o...</td>\n",
       "      <td>1</td>\n",
       "      <td>Accessable unlocked emergency exits</td>\n",
       "      <td>Emergency Preparedness</td>\n",
       "      <td>0</td>\n",
       "    </tr>\n",
       "    <tr>\n",
       "      <th>1</th>\n",
       "      <td>Vietnam</td>\n",
       "      <td>1509</td>\n",
       "      <td>06/01/2015</td>\n",
       "      <td>8009</td>\n",
       "      <td>Overtime Wages</td>\n",
       "      <td>Does the employer pay workers correctly for al...</td>\n",
       "      <td>1</td>\n",
       "      <td>Payment of overtime</td>\n",
       "      <td>Overtime Wages</td>\n",
       "      <td>0</td>\n",
       "    </tr>\n",
       "    <tr>\n",
       "      <th>2</th>\n",
       "      <td>Vietnam</td>\n",
       "      <td>1509</td>\n",
       "      <td>06/01/2015</td>\n",
       "      <td>8009</td>\n",
       "      <td>Gender</td>\n",
       "      <td>Is the gender or marital status of a worker a ...</td>\n",
       "      <td>0</td>\n",
       "      <td>Gender discrimination on conditions of work</td>\n",
       "      <td>Gender</td>\n",
       "      <td>0</td>\n",
       "    </tr>\n",
       "    <tr>\n",
       "      <th>3</th>\n",
       "      <td>Vietnam</td>\n",
       "      <td>1509</td>\n",
       "      <td>06/01/2015</td>\n",
       "      <td>8009</td>\n",
       "      <td>Welfare Facilities</td>\n",
       "      <td>Does the employer provide workers enough free ...</td>\n",
       "      <td>0</td>\n",
       "      <td>Providing drinking water</td>\n",
       "      <td>Welfare Facilities</td>\n",
       "      <td>0</td>\n",
       "    </tr>\n",
       "    <tr>\n",
       "      <th>4</th>\n",
       "      <td>Vietnam</td>\n",
       "      <td>1509</td>\n",
       "      <td>06/01/2015</td>\n",
       "      <td>8009</td>\n",
       "      <td>Union Operations</td>\n",
       "      <td>Does the employer require workers to join a un...</td>\n",
       "      <td>0</td>\n",
       "      <td>Employer requires workers to join a union</td>\n",
       "      <td>Freedom to Associate</td>\n",
       "      <td>0</td>\n",
       "    </tr>\n",
       "    <tr>\n",
       "      <th>...</th>\n",
       "      <td>...</td>\n",
       "      <td>...</td>\n",
       "      <td>...</td>\n",
       "      <td>...</td>\n",
       "      <td>...</td>\n",
       "      <td>...</td>\n",
       "      <td>...</td>\n",
       "      <td>...</td>\n",
       "      <td>...</td>\n",
       "      <td>...</td>\n",
       "    </tr>\n",
       "    <tr>\n",
       "      <th>1053516</th>\n",
       "      <td>Jordan</td>\n",
       "      <td>1430</td>\n",
       "      <td>26/08/2021</td>\n",
       "      <td>43788</td>\n",
       "      <td>Coercion</td>\n",
       "      <td>Does the employer restrict workers' freedom to...</td>\n",
       "      <td>0</td>\n",
       "      <td>Does the employer restrict workers' freedom to...</td>\n",
       "      <td>Coercion</td>\n",
       "      <td>0</td>\n",
       "    </tr>\n",
       "    <tr>\n",
       "      <th>1053522</th>\n",
       "      <td>Jordan</td>\n",
       "      <td>1430</td>\n",
       "      <td>26/08/2021</td>\n",
       "      <td>43788</td>\n",
       "      <td>Interference and Discrimination</td>\n",
       "      <td>Does the employer threaten, intimidate, or har...</td>\n",
       "      <td>0</td>\n",
       "      <td>Does the employer threaten, intimidate, or har...</td>\n",
       "      <td>Interference and Discrimination</td>\n",
       "      <td>0</td>\n",
       "    </tr>\n",
       "    <tr>\n",
       "      <th>1053544</th>\n",
       "      <td>Jordan</td>\n",
       "      <td>1430</td>\n",
       "      <td>26/08/2021</td>\n",
       "      <td>43788</td>\n",
       "      <td>Worker Protection</td>\n",
       "      <td>Are electrical wires, cables, switches, plugs ...</td>\n",
       "      <td>0</td>\n",
       "      <td>Electrical wires/switches/plugs properly insta...</td>\n",
       "      <td>Worker Protection</td>\n",
       "      <td>0</td>\n",
       "    </tr>\n",
       "    <tr>\n",
       "      <th>1053571</th>\n",
       "      <td>Jordan</td>\n",
       "      <td>1430</td>\n",
       "      <td>26/08/2021</td>\n",
       "      <td>43788</td>\n",
       "      <td>Worker Protection</td>\n",
       "      <td>Are appropriate safety warnings posted in the ...</td>\n",
       "      <td>0</td>\n",
       "      <td>Safety warnings posted</td>\n",
       "      <td>Worker Protection</td>\n",
       "      <td>0</td>\n",
       "    </tr>\n",
       "    <tr>\n",
       "      <th>1053600</th>\n",
       "      <td>Jordan</td>\n",
       "      <td>1430</td>\n",
       "      <td>26/08/2021</td>\n",
       "      <td>43788</td>\n",
       "      <td>Working Environment</td>\n",
       "      <td>Is the workplace adequately lit?</td>\n",
       "      <td>0</td>\n",
       "      <td>Is the workplace adequately lit?</td>\n",
       "      <td>Working Environment</td>\n",
       "      <td>0</td>\n",
       "    </tr>\n",
       "  </tbody>\n",
       "</table>\n",
       "<p>181337 rows × 10 columns</p>\n",
       "</div>"
      ],
      "text/plain": [
       "         Country  FactoryAssessedID AssesmentDate  QuestID  \\\n",
       "0        Vietnam               1509    06/01/2015     8009   \n",
       "1        Vietnam               1509    06/01/2015     8009   \n",
       "2        Vietnam               1509    06/01/2015     8009   \n",
       "3        Vietnam               1509    06/01/2015     8009   \n",
       "4        Vietnam               1509    06/01/2015     8009   \n",
       "...          ...                ...           ...      ...   \n",
       "1053516   Jordan               1430    26/08/2021    43788   \n",
       "1053522   Jordan               1430    26/08/2021    43788   \n",
       "1053544   Jordan               1430    26/08/2021    43788   \n",
       "1053571   Jordan               1430    26/08/2021    43788   \n",
       "1053600   Jordan               1430    26/08/2021    43788   \n",
       "\n",
       "                                      CP  \\\n",
       "0                 Emergency Preparedness   \n",
       "1                         Overtime Wages   \n",
       "2                                 Gender   \n",
       "3                     Welfare Facilities   \n",
       "4                       Union Operations   \n",
       "...                                  ...   \n",
       "1053516                         Coercion   \n",
       "1053522  Interference and Discrimination   \n",
       "1053544                Worker Protection   \n",
       "1053571                Worker Protection   \n",
       "1053600              Working Environment   \n",
       "\n",
       "                                                         Q  Finding  \\\n",
       "0        Are any of the emergency exits inaccessible, o...        1   \n",
       "1        Does the employer pay workers correctly for al...        1   \n",
       "2        Is the gender or marital status of a worker a ...        0   \n",
       "3        Does the employer provide workers enough free ...        0   \n",
       "4        Does the employer require workers to join a un...        0   \n",
       "...                                                    ...      ...   \n",
       "1053516  Does the employer restrict workers' freedom to...        0   \n",
       "1053522  Does the employer threaten, intimidate, or har...        0   \n",
       "1053544  Are electrical wires, cables, switches, plugs ...        0   \n",
       "1053571  Are appropriate safety warnings posted in the ...        0   \n",
       "1053600                   Is the workplace adequately lit?        0   \n",
       "\n",
       "                                                  QCleaned  \\\n",
       "0                      Accessable unlocked emergency exits   \n",
       "1                                      Payment of overtime   \n",
       "2              Gender discrimination on conditions of work   \n",
       "3                                 Providing drinking water   \n",
       "4                Employer requires workers to join a union   \n",
       "...                                                    ...   \n",
       "1053516  Does the employer restrict workers' freedom to...   \n",
       "1053522  Does the employer threaten, intimidate, or har...   \n",
       "1053544  Electrical wires/switches/plugs properly insta...   \n",
       "1053571                             Safety warnings posted   \n",
       "1053600                   Is the workplace adequately lit?   \n",
       "\n",
       "                               CPCleaned  cleaned  \n",
       "0                 Emergency Preparedness        0  \n",
       "1                         Overtime Wages        0  \n",
       "2                                 Gender        0  \n",
       "3                     Welfare Facilities        0  \n",
       "4                   Freedom to Associate        0  \n",
       "...                                  ...      ...  \n",
       "1053516                         Coercion        0  \n",
       "1053522  Interference and Discrimination        0  \n",
       "1053544                Worker Protection        0  \n",
       "1053571                Worker Protection        0  \n",
       "1053600              Working Environment        0  \n",
       "\n",
       "[181337 rows x 10 columns]"
      ]
     },
     "execution_count": 8,
     "metadata": {},
     "output_type": "execute_result"
    }
   ],
   "source": [
    "# check how many rows are cleaned: len(df[df.cleaned==1])\n",
    "df[df.QCleaned.isin(cleaned)]"
   ]
  },
  {
   "cell_type": "code",
   "execution_count": 175,
   "metadata": {},
   "outputs": [
    {
     "data": {
      "text/plain": [
       "0    872267\n",
       "1    181337\n",
       "Name: cleaned, dtype: int64"
      ]
     },
     "execution_count": 175,
     "metadata": {},
     "output_type": "execute_result"
    }
   ],
   "source": [
    "cleaned=list(vcdf[vcdf.counts>=6376][\"QCleaned\"])\n",
    "df.loc[df.QCleaned.isin(cleaned), \"cleaned\"] = 1\n",
    "df.cleaned.value_counts()"
   ]
  },
  {
   "cell_type": "code",
   "execution_count": 10,
   "metadata": {},
   "outputs": [],
   "source": [
    "QList=list(vcdf[vcdf.counts<6376].QCleaned)"
   ]
  },
  {
   "cell_type": "code",
   "execution_count": 172,
   "metadata": {},
   "outputs": [
    {
     "name": "stderr",
     "output_type": "stream",
     "text": [
      "d:\\Software\\Anaconda3\\lib\\site-packages\\huggingface_hub\\file_download.py:1132: FutureWarning: `resume_download` is deprecated and will be removed in version 1.0.0. Downloads always resume when possible. If you want to force a new download, use `force_download=True`.\n",
      "  warnings.warn(\n"
     ]
    },
    {
     "name": "stdout",
     "output_type": "stream",
     "text": [
      "\tlist 6: Has the employer tried to prevent workers from participating in a strike?, total number: 12418\n",
      "\tlist 10: Did the employer resolve grievances and disputes in compliance with legal requirements?, total number: 6357\n",
      "\tlist 12: Has the employer prepared for response, control and cleaning of chemical spills?, total number: 8519\n",
      "\tlist 13: Does the employer terminate workers who are on maternity leave or force them to resign?, total number: 8238\n",
      "*\tlist 15: Does the employer keep only one accurate payroll record?, total number: 6476\n",
      "\tlist 19: Trained workers on first aid , total number: 6259\n",
      "\tlist 20: Do the working time records reflect the hours actually worked?, total number: 5368\n",
      "\tlist 21: Is an applicant's race, colour or origin a factor in hiring decisions?, total number: 11171\n",
      "\tlist 22: Is race, colour or origin a factor in decisions regarding opportunities for promotion or access to training?, total number: 5643\n",
      "\tlist 23: Does the employer compensate workers for unused paid annual leave when they resign or are terminated?, total number: 6357\n",
      "\tlist 25: Chemicals/hazardous substance properly labelled, total number: 5164\n",
      "\tlist 29: Does the workplace have adequate accessible toilets?, total number: 6252\n",
      "\tlist 32: Do the employment contracts comply with other legal requirements?, total number: 5846\n",
      "*\tlist 33: Has the employer made any unauthorized deductions from wages?, total number: 6476\n",
      "\tlist 34: Is gender a factor in decisions regarding pay?, total number: 6315\n",
      "\tlist 35: Does the employer require pregnancy tests or use of contraceptives as a condition of employment?, total number: 6209\n",
      "\tlist 36: Does the employer consult with unions where legally required?, total number: 5275\n",
      "\tlist 37: Does the employer have legally required construction/building permits?, total number: 5150\n",
      "\tlist 38: Does the employer only terminate workers for valid reasons?, total number: 8158\n",
      "\tlist 39: Is gender a factor in decisions regarding opportunities for promotion or access to training?, total number: 5841\n",
      "*\tlist 40: Is overtime voluntary?, total number: 6476\n",
      "\tlist 41: Is gender a factor in the employer's decisions regarding termination or retirement of workers?, total number: 5841\n",
      "\tlist 42: Does the employer keep an inventory of hazardous chemicals used in the workplace?, total number: 12163\n",
      "*\tlist 44: Do union representatives have access to workers in the workplace?, total number: 6476\n",
      "*\tlist 45: Proper guards installed and maintained, total number: 6476\n",
      "\tlist 49: Is maternity leave excluded from workers' period of continuous service?, total number: 8077\n",
      "\tlist 50: Are noise levels acceptable?, total number: 5511\n",
      "\tlist 51: Does the employer pay workers correctly for paid public holidays?, total number: 10958\n",
      "*\tlist 52: Does the workplace have adequate fire-fighting equipment?, total number: 6476\n",
      "\tlist 53: Is the workplace adequately ventilated?, total number: 5192\n",
      "\tlist 54: Is the accommodation protected against disease carrying animals or insects?, total number: 3857\n",
      "\tlist 56: Has the factory conducted an assessment of the potential hazards in the workplace?, total number: 6054\n",
      "\tlist 57: Is an applicant's gender a factor in hiring decisions?, total number: 6002\n",
      "\tlist 58: Has the employer trained all workers who work with chemicals and hazardous substances?, total number: 10853\n",
      "\tlist 59: Do job announcements refer to the applicant's gender?, total number: 5524\n",
      "\tlist 60: Do workers understand the terms and conditions of employment?, total number: 5468\n",
      "\tlist 61: Is the temperature and ventilation aceptable?, total number: 3107\n",
      "\tlist 62: Does the employer provide adequate first-aid facilities?, total number: 7077\n",
      "\tlist 63: Protect workers from falls from heights, total number: 4400\n",
      "\tlist 64: Does the employer provide workers proper notice of termination?, total number: 3021\n",
      "\tlist 65: Do workers who are under age 18 perform work that is hazardous by nature?, total number: 5616\n",
      "*\tlist 66: Do regular daily working hours exceed 10 hours?, total number: 6469\n",
      "\tlist 67: Does the employer provide required weekly rest periods?, total number: 4638\n",
      "\tlist 68: Does the employer comply with legal requirements before suspending workers or reducing the size of the workforce due to changes in operations?, total number: 4578\n",
      "\tlist 69: Does the employer reliably verify the age of workers prior to hiring?, total number: 5050\n",
      "\tlist 70: Does the employer pay at least minimum wage for temporary and probationary workers?, total number: 3678\n",
      "\tlist 71: Escape routes locked, total number: 4994\n",
      "*\tlist 76: Is a job applicant's union membership or union activities a factor in hiring decisions?, total number: 6476\n",
      "\tlist 77: Are the provisions of the collective agreement at least as favourable for workers as the law?, total number: 5839\n",
      "\tlist 78: Does the employer pay workers correctly for all overtime hours worked at night?, total number: 9055\n",
      "\tlist 81: Does the employer pay workers the correct compensation for work-related accidents and diseases?, total number: 2860\n",
      "\tlist 82: Does the employer provide 14 days of sick leave per year?, total number: 4473\n",
      "\tlist 85: Is overtime work limited to two hours per day?, total number: 9546\n",
      "\tlist 86: Does the employer pay all workers who work regularly the correct attendance bonus when workers take sick leave?, total number: 7312\n",
      "\tlist 87: Are workers given the opportunities required under law to defend themselves before they are terminated?, total number: 6196\n",
      "\tlist 89: Do workers have at least one day off per week?, total number: 6218\n",
      "\tlist 90: Does the employer pay workers the correct seniority bonus?, total number: 2977\n",
      "\tlist 91: Does the employer provide 12 days of annual leave per year?, total number: 4555\n",
      "\tlist 93: Does the employer pay workers the correct severance pay?, total number: 6313\n",
      "\tlist 94: Does the employer provide at least 12 weeks of maternity leave?, total number: 5801\n",
      "\tlist 95: Does the employer pay workers correctly for personal leave?, total number: 7524\n",
      "\tlist 96: Does the employer record work-related accidents and diseases?, total number: 6587\n",
      "\tlist 97: Do workers use the machines and equipment in a safe manner?, total number: 8892\n",
      "\tlist 102: Does the employer pay all outstanding wages and indemnities within 48 hours of termination?, total number: 4674\n",
      "\tlist 106: Do the internal work rules comply with national law?, total number: 4347\n",
      "\tlist 107: Does the employer get permission from the Labour Inspector before workers work overtime?, total number: 2458\n",
      "\tlist 109: Are workers' full wages paid directly to workers at the workplace on working days?, total number: 2404\n",
      "\tlist 110: Does the employer comply with limits on the period of employment for training workers?, total number: 4627\n",
      "\tlist 111: Does the employer deduct union dues from wages when workers request this in writing?, total number: 6175\n",
      "\tlist 114: Does the employer keep a record of workers under 18 years of age?, total number: 4784\n",
      "\tlist 116: Does the employer provide workers access to the collective bargaining agreements?, total number: 4622\n",
      "\tlist 118: Do workers who are under age 18 work overtime or work at night?, total number: 5929\n",
      "\tlist 124: Does the employer refuse to bargain collectively or refuse to bargain in good faith with the union, worker representatives, union federations or confederations?, total number: 3849\n",
      "\tlist 126: Are workers paid on time, twice per month?, total number: 2878\n",
      "\tlist 127: Does the employer comply with the legal limit on the use of fixed term contracts?, total number: 2503\n",
      "\tlist 128: If there is more than one union, does the employer treat them equally?, total number: 3548\n",
      "\tlist 129: Does the employer pay workers their outstanding wages and the correct indemnity for dismissal?, total number: 2412\n",
      "\tlist 130: Do disciplinary measures comply with legal requirements?, total number: 3693\n",
      "\tlist 132: Has the employer elaborated and implemented an emergency plan?, total number: 1921\n",
      "\tlist 133: Does the employer allow workers to take 30 minutes rest during their period?, total number: 3604\n",
      "\tlist 134: Are pregnant workers provided time off for prenatal visits?, total number: 3604\n",
      "\tlist 135: Does the employer develop an OSH plan annually?, total number: 2278\n",
      "\tlist 140: Does the employer pay apprentices the wage agreed to by the parties?, total number: 2386\n",
      "\tlist 141: Do workers receive correct payment during sick leave and other types of leave that are covered by social insurance?, total number: 3604\n",
      "\tlist 144: Does the employer provide required breastfeeding breaks?, total number: 9744\n",
      "\tlist 147: Does the employer pay for paternity leave when required?, total number: 4671\n",
      "\tlist 154: Does the workplace provide all workers a place to store their clothes?, total number: 2688\n",
      "\tlist 155: Does the employer allow workers to carry out trade union activities during working hours as agreed by both parties?, total number: 2635\n",
      "\tlist 157: Does the workplace have all required facilities?, total number: 2662\n",
      "\tlist 159: Does the employer comply with requirements for apprentices?, total number: 2282\n",
      "\tlist 162: Do the contracts comply with the labour law, collective agreement and work rules?, total number: 3629\n",
      "\tlist 167: Does the employer address safety and health risks to pregnant or nursing workers?, total number: 5735\n",
      "\tlist 168: Is the temperature in the workplace acceptable?, total number: 2432\n",
      "\tlist 171: Does the employer comply with daily break periods?, total number: 2666\n",
      "\tlist 172: Has the employer made required accommodations for physically disabled workers?, total number: 3109\n",
      "\tlist 173: Does the employer provide required annual leave?, total number: 4188\n",
      "\tlist 176: Do resigned or terminated workers receive all other termination benefits required by law?, total number: 1802\n",
      "\tlist 178: Does the accommodation have adequate cooking facilities?, total number: 2529\n",
      "\tlist 180: Does the employer inspect and measure the environmental conditions in the workplace on a annual basis?, total number: 1802\n",
      "\tlist 186: Does the employer pay workers correctly during work stoppages?, total number: 1891\n",
      "\tlist 188: Does the employer collect and forward workers' contributions to social insurance funds on time?, total number: 1919\n",
      "\tlist 189: Do workers receive free periodic health checks as required by law?, total number: 1963\n",
      "\tlist 190: Do the operators / technicians for boiler, generator, compressor, and pressure vessels have legally required permit and training?, total number: 2434\n",
      "\tlist 191: Does the workplace have adequate day care facilities?, total number: 2288\n",
      "\tlist 192: Does the workplace have a functioning and accessible nursing room?, total number: 2383\n",
      "\tlist 193: Are piece-rate workers paid correctly for ordinary hours of work?, total number: 1737\n",
      "\tlist 194: Have you found non-compliance with legal requirements for compensation, contracts, OSH and/or working time pertaining to non-production workers and/or sub-contracted workers?, total number: 1448\n",
      "\tlist 196: Do workers have annual medical checks?, total number: 2240\n",
      "\tlist 197: Are wages paid on time?, total number: 1113\n",
      "\tlist 202: Can female workers take time off when they feel pain during the first two days of menstruation and they notify the employer?, total number: 1666\n",
      "\tlist 204: Do workers pay any recruitment fees?, total number: 1307\n",
      "\tlist 206: Does the employer comply with documentation requirements for workers under age of 18?, total number: 1307\n",
      "\tlist 207: Does the employer prepare written instructions on overtime?, total number: 1417\n",
      "\tlist 228: Has the employer provided all workers with a letter of appointment?, total number: 1752\n",
      "\tlist 231: Does the employer provide required medical services?, total number: 1417\n",
      "\tlist 234: Does the factory have a functioning Participation Committee?, total number: 959\n",
      "\tlist 244: Does the employer pay the required amount each year into the Workers' Participation Fund?, total number: 602\n",
      "\tlist 245: Do all workers (other than apprentices, badli or casual workers) have a service book?, total number: 584\n",
      "\tlist 246: Does the employer provide terminated workers their Provident Funds (if applicable)?, total number: 584\n",
      "\tlist 249: Does the employer pay the required contributions for social insurance (BPJS Ketenagakerjaan) and health care funds (BPJS Kesehatan) to BPJS?, total number: 1666\n",
      "\tlist 250: Does the employer comply with legal requirements when subcontracting part of its work to another enterprise?, total number: 833\n",
      "\tlist 252: Does the employer correctly calculate and send the employer contribution to the Social Security Corporation?, total number: 948\n",
      "\tlist 257: Does the employer comply with other wage payments?, total number: 492\n",
      "\tlist 263: Does the factory employ the required OSH specialists?, total number: 593\n",
      "\tlist 268: Are workers paid within seven days from the date wages become payable?, total number: 474\n",
      "\tlist 270: If a Provident Fund has been established, does the employer collect and deposit workers' contributions into the fund?, total number: 584\n",
      "\tlist 273: Does the employer forward workers contributions to ONA?, total number: 322\n",
      "\tlist 274: Does the employer pay 3% of workers' salary to OFATMA for work-related accident insurance?, total number: 322\n",
      "\tlist 276: Does the employer pay workers their annual salary supplement or bonus?, total number: 322\n",
      "\tlist 299: Do workers have suitable chairs?, total number: 7\n",
      "TOTAL: 8\n"
     ]
    }
   ],
   "source": [
    "grpdQ=groupSent(QList,threshold=0.75)\n",
    "num6476=0\n",
    "for i in range(len(grpdQ)):\n",
    "    Qlist=grpdQ[i]\n",
    "    if len(Qlist)>1:\n",
    "        prefix=\"\"\n",
    "        brief=sorted(Qlist,key=lambda x : len(x))[0]\n",
    "        tnum=sum([int(vcdf[vcdf[\"QCleaned\"]==x][\"counts\"]) for x in Qlist])\n",
    "        if tnum in range(6376, 6477):\n",
    "            prefix=\"*\"\n",
    "            num6476+=1\n",
    "        print(f\"{prefix}\\tlist {i}: {brief}, total number: {tnum}\")\n",
    "print(f\"TOTAL: {num6476}\")"
   ]
  },
  {
   "cell_type": "markdown",
   "metadata": {},
   "source": [
    "|threshold|total num|\n",
    "|---|---|\n",
    "|65%|6|\n",
    "|70%|6|\n",
    "|75%|8|\n",
    "|80%|8|\n",
    "|85%|5|"
   ]
  },
  {
   "cell_type": "code",
   "execution_count": 12,
   "metadata": {},
   "outputs": [
    {
     "data": {
      "text/plain": [
       "['Do regular daily or weekly working hours exceed the legal limit?',\n",
       " 'Do regular working hours exceed 10 hours per day, or 48 hours per week?',\n",
       " 'Do regular daily and weekly working hours exceed legal limits (40 hours per week; 7 hours a day, 6 days a week or 8 hours per day, 5 days a week)?',\n",
       " 'Do regular daily or weekly working hours exceed the legal limit (8 hours per day, 48 hours per week)?',\n",
       " 'Do regular working hours exceed 11 hours per day or 48 hours per week?',\n",
       " 'Do regular daily working hours exceed 10 hours?']"
      ]
     },
     "execution_count": 12,
     "metadata": {},
     "output_type": "execute_result"
    }
   ],
   "source": [
    "grpdQ[66]"
   ]
  },
  {
   "cell_type": "code",
   "execution_count": 95,
   "metadata": {},
   "outputs": [
    {
     "data": {
      "text/plain": [
       "Cambodia      2503\n",
       "Vietnam       1802\n",
       "Indonesia      833\n",
       "Bangladesh     584\n",
       "Jordan         474\n",
       "Haiti          161\n",
       "Nicaragua      119\n",
       "Name: Country, dtype: int64"
      ]
     },
     "execution_count": 95,
     "metadata": {},
     "output_type": "execute_result"
    }
   ],
   "source": [
    "# standard distribution\n",
    "df[df.QCleaned.str.contains('Implement CBA')].Country.value_counts()"
   ]
  },
  {
   "cell_type": "code",
   "execution_count": 133,
   "metadata": {},
   "outputs": [
    {
     "name": "stdout",
     "output_type": "stream",
     "text": [
      "Accessable unlocked emergency exits Cambodia      2503\n",
      "Vietnam       1802\n",
      "Indonesia      833\n",
      "Bangladesh     584\n",
      "Jordan         474\n",
      "Haiti          161\n",
      "Nicaragua      119\n",
      "Name: Country, dtype: int64 \n",
      "\n",
      "Payment of overtime Cambodia      2503\n",
      "Vietnam       1802\n",
      "Indonesia      833\n",
      "Bangladesh     584\n",
      "Jordan         474\n",
      "Haiti          161\n",
      "Nicaragua      119\n",
      "Name: Country, dtype: int64 \n",
      "\n",
      "Gender discrimination on conditions of work Cambodia      2503\n",
      "Vietnam       1802\n",
      "Indonesia      833\n",
      "Bangladesh     584\n",
      "Jordan         474\n",
      "Haiti          161\n",
      "Nicaragua      119\n",
      "Name: Country, dtype: int64 \n",
      "\n",
      "Providing drinking water Cambodia      2503\n",
      "Vietnam       1802\n",
      "Indonesia      833\n",
      "Bangladesh     584\n",
      "Jordan         474\n",
      "Haiti          161\n",
      "Nicaragua      119\n",
      "Name: Country, dtype: int64 \n",
      "\n",
      "Employer requires workers to join a union Cambodia      2503\n",
      "Vietnam       1802\n",
      "Indonesia      833\n",
      "Bangladesh     584\n",
      "Jordan         474\n",
      "Haiti          161\n",
      "Nicaragua      119\n",
      "Name: Country, dtype: int64 \n",
      "\n",
      "Storage of chemicals and hazardous substances Cambodia      2503\n",
      "Vietnam       1802\n",
      "Indonesia      833\n",
      "Bangladesh     584\n",
      "Jordan         474\n",
      "Haiti          161\n",
      "Nicaragua      119\n",
      "Name: Country, dtype: int64 \n",
      "\n",
      "Forced overtime under threat of penalty Cambodia      2503\n",
      "Vietnam       1802\n",
      "Indonesia      833\n",
      "Bangladesh     584\n",
      "Jordan         474\n",
      "Haiti          161\n",
      "Nicaragua      117\n",
      "Name: Country, dtype: int64 \n",
      "\n",
      "Terminate workers due to pregnancy or maternity leave Cambodia      2594\n",
      "Vietnam       1802\n",
      "Indonesia      833\n",
      "Bangladesh     584\n",
      "Jordan         474\n",
      "Haiti          161\n",
      "Nicaragua      119\n",
      "Name: Country, dtype: int64 \n",
      "\n",
      "Payment for maternity leave Cambodia      2503\n",
      "Vietnam       1802\n",
      "Indonesia      833\n",
      "Bangladesh     584\n",
      "Jordan         474\n",
      "Haiti          161\n",
      "Nicaragua      117\n",
      "Name: Country, dtype: int64 \n",
      "\n",
      "Fire detection and alarm system Cambodia      2503\n",
      "Vietnam       1802\n",
      "Indonesia      833\n",
      "Bangladesh     584\n",
      "Jordan         474\n",
      "Haiti          161\n",
      "Nicaragua      119\n",
      "Name: Country, dtype: int64 \n",
      "\n",
      "Sexual harassment Cambodia      2503\n",
      "Vietnam       1802\n",
      "Indonesia      833\n",
      "Bangladesh     584\n",
      "Jordan         474\n",
      "Haiti          161\n",
      "Nicaragua      119\n",
      "Name: Country, dtype: int64 \n",
      "\n",
      "Punish unionists Cambodia      2503\n",
      "Vietnam       1802\n",
      "Indonesia      833\n",
      "Bangladesh     584\n",
      "Jordan         474\n",
      "Haiti          161\n",
      "Nicaragua      119\n",
      "Name: Country, dtype: int64 \n",
      "\n",
      "Terminate workers for union activity Cambodia      2503\n",
      "Vietnam       1802\n",
      "Indonesia      833\n",
      "Bangladesh     584\n",
      "Jordan         474\n",
      "Haiti          161\n",
      "Nicaragua      119\n",
      "Name: Country, dtype: int64 \n",
      "\n",
      "Bullying harassment Cambodia      2503\n",
      "Vietnam       1802\n",
      "Indonesia      833\n",
      "Bangladesh     584\n",
      "Jordan         474\n",
      "Haiti          161\n",
      "Nicaragua      119\n",
      "Name: Country, dtype: int64 \n",
      "\n",
      "Free exit from workplace at all times Cambodia      2503\n",
      "Vietnam       1802\n",
      "Indonesia      833\n",
      "Bangladesh     584\n",
      "Jordan         474\n",
      "Haiti          161\n",
      "Nicaragua      119\n",
      "Name: Country, dtype: int64 \n",
      "\n",
      "Child labor Cambodia      2503\n",
      "Vietnam       1802\n",
      "Indonesia      833\n",
      "Bangladesh     584\n",
      "Jordan         474\n",
      "Haiti          161\n",
      "Nicaragua      119\n",
      "Name: Country, dtype: int64 \n",
      "\n",
      "At least 2 possible emergency exits Cambodia      2503\n",
      "Vietnam       1802\n",
      "Indonesia      833\n",
      "Bangladesh     584\n",
      "Jordan         474\n",
      "Haiti          161\n",
      "Nicaragua      119\n",
      "Name: Country, dtype: int64 \n",
      "\n",
      "Mechanisms/committee for cooperation on OSH Cambodia      2503\n",
      "Vietnam       1802\n",
      "Indonesia      833\n",
      "Bangladesh     584\n",
      "Jordan         474\n",
      "Haiti          161\n",
      "Nicaragua      119\n",
      "Name: Country, dtype: int64 \n",
      "\n",
      "Minimum wages for regular workers Cambodia      2503\n",
      "Vietnam       1802\n",
      "Indonesia      833\n",
      "Bangladesh     584\n",
      "Jordan         474\n",
      "Haiti          161\n",
      "Nicaragua      119\n",
      "Name: Country, dtype: int64 \n",
      "\n",
      "Periodic emergency drills Cambodia      2503\n",
      "Vietnam       1802\n",
      "Indonesia      833\n",
      "Bangladesh     584\n",
      "Jordan         474\n",
      "Haiti          161\n",
      "Nicaragua      119\n",
      "Name: Country, dtype: int64 \n",
      "\n",
      "Punish workers for striking Cambodia      2503\n",
      "Vietnam       1802\n",
      "Indonesia      833\n",
      "Bangladesh     584\n",
      "Jordan         474\n",
      "Haiti          161\n",
      "Nicaragua      119\n",
      "Name: Country, dtype: int64 \n",
      "\n",
      "Implement CBA Cambodia      2503\n",
      "Vietnam       1802\n",
      "Indonesia      833\n",
      "Bangladesh     584\n",
      "Jordan         474\n",
      "Haiti          161\n",
      "Nicaragua      119\n",
      "Name: Country, dtype: int64 \n",
      "\n",
      "Interfere union Cambodia      2503\n",
      "Vietnam       1802\n",
      "Indonesia      833\n",
      "Bangladesh     566\n",
      "Jordan         474\n",
      "Haiti          161\n",
      "Nicaragua      119\n",
      "Name: Country, dtype: int64 \n",
      "\n",
      "Does the employer keep only one accurate payroll record? Cambodia      2503\n",
      "Vietnam       1802\n",
      "Indonesia      833\n",
      "Bangladesh     584\n",
      "Jordan         474\n",
      "Haiti          161\n",
      "Nicaragua      119\n",
      "Name: Country, dtype: int64 \n",
      "\n",
      "Has the employer made any unauthorized deductions from wages? Cambodia      2503\n",
      "Vietnam       1802\n",
      "Indonesia      833\n",
      "Bangladesh     584\n",
      "Jordan         474\n",
      "Haiti          161\n",
      "Nicaragua      119\n",
      "Name: Country, dtype: int64 \n",
      "\n",
      "Does the employer threaten, intimidate, or harass workers who join a union or engage in union activities? Cambodia      2503\n",
      "Vietnam       1802\n",
      "Indonesia      833\n",
      "Bangladesh     584\n",
      "Jordan         474\n",
      "Haiti          161\n",
      "Nicaragua      119\n",
      "Name: Country, dtype: int64 \n",
      "\n",
      "Does the workplace have adequate fire-fighting equipment? Cambodia      2503\n",
      "Vietnam       1802\n",
      "Indonesia      833\n",
      "Bangladesh     584\n",
      "Jordan         474\n",
      "Haiti          161\n",
      "Nicaragua      119\n",
      "Name: Country, dtype: int64 \n",
      "\n",
      "Is a job applicant's union membership or union activities a factor in hiring decisions? Cambodia      2503\n",
      "Vietnam       1802\n",
      "Indonesia      833\n",
      "Bangladesh     584\n",
      "Jordan         474\n",
      "Haiti          161\n",
      "Nicaragua      119\n",
      "Name: Country, dtype: int64 \n",
      "\n",
      "Does the employer restrict workers' freedom to come and go from the dormitories and/or the industrial park or zone in which the factory is located? Cambodia      2503\n",
      "Vietnam       1802\n",
      "Indonesia      833\n",
      "Bangladesh     584\n",
      "Jordan         474\n",
      "Haiti          161\n",
      "Nicaragua      119\n",
      "Name: Country, dtype: int64 \n",
      "\n",
      "Do union representatives have access to workers in the workplace? Cambodia      2503\n",
      "Vietnam       1802\n",
      "Indonesia      833\n",
      "Bangladesh     584\n",
      "Jordan         474\n",
      "Haiti          161\n",
      "Nicaragua      119\n",
      "Name: Country, dtype: int64 \n",
      "\n",
      "Do regular daily working hours exceed 10 hours? Cambodia      2503\n",
      "Vietnam       1802\n",
      "Indonesia      833\n",
      "Bangladesh     584\n",
      "Jordan         474\n",
      "Haiti          156\n",
      "Nicaragua      117\n",
      "Name: Country, dtype: int64 \n",
      "\n",
      "Is the workplace adequately lit? Cambodia      2443\n",
      "Vietnam       1802\n",
      "Indonesia      833\n",
      "Bangladesh     584\n",
      "Jordan         474\n",
      "Haiti          161\n",
      "Nicaragua      119\n",
      "Name: Country, dtype: int64 \n",
      "\n",
      "Is overtime voluntary? Cambodia      2503\n",
      "Vietnam       1802\n",
      "Indonesia      833\n",
      "Bangladesh     584\n",
      "Jordan         474\n",
      "Haiti          161\n",
      "Nicaragua      119\n",
      "Name: Country, dtype: int64 \n",
      "\n",
      "Safety warnings posted Cambodia      2503\n",
      "Vietnam       1802\n",
      "Indonesia      833\n",
      "Bangladesh     584\n",
      "Jordan         474\n",
      "Haiti          161\n",
      "Nicaragua      119\n",
      "Name: Country, dtype: int64 \n",
      "\n",
      "Electrical wires/switches/plugs properly installed Cambodia      2503\n",
      "Vietnam       1802\n",
      "Indonesia      833\n",
      "Bangladesh     584\n",
      "Jordan         474\n",
      "Haiti          161\n",
      "Nicaragua      119\n",
      "Name: Country, dtype: int64 \n",
      "\n",
      "Proper guards installed and maintained Cambodia      2503\n",
      "Vietnam       1802\n",
      "Indonesia      833\n",
      "Bangladesh     584\n",
      "Jordan         474\n",
      "Haiti          161\n",
      "Nicaragua      119\n",
      "Name: Country, dtype: int64 \n",
      "\n"
     ]
    }
   ],
   "source": [
    "for i in df[df.cleaned==1].QCleaned.unique():\n",
    "    print(i,tabCountry(i),\"\\n\")"
   ]
  },
  {
   "cell_type": "code",
   "execution_count": 13,
   "metadata": {},
   "outputs": [
    {
     "name": "stdout",
     "output_type": "stream",
     "text": [
      "5883\n",
      "474\n"
     ]
    }
   ],
   "source": [
    "for i in grpdQ[10]:\n",
    "    print(len(df[df[\"QCleaned\"]==i]))"
   ]
  },
  {
   "cell_type": "markdown",
   "metadata": {},
   "source": [
    "# Replace:\n",
    "Before:\n",
    "- 0: 872267\n",
    "- 1: 181337\n",
    "## round 1: `grpdQ[[15, 33, 40, 44, 45, 52, 66, 76]]`\n",
    "[full output](fop.txt)\n",
    "\n",
    "Result:\n",
    "- 0: 820466\n",
    "- 1: 233138"
   ]
  },
  {
   "cell_type": "code",
   "execution_count": 177,
   "metadata": {},
   "outputs": [],
   "source": [
    "def replace(qset, brief=None):\n",
    "    global df\n",
    "    if brief==None:\n",
    "        brief=sorted(qset,key=lambda x : len(x))[0]\n",
    "    rplcidx=list(df[df[\"QCleaned\"].isin(qset)].index)\n",
    "    df.loc[rplcidx,\"QCleaned\"]=brief\n",
    "    df.loc[rplcidx,\"cleaned\"]=1"
   ]
  },
  {
   "cell_type": "code",
   "execution_count": 162,
   "metadata": {},
   "outputs": [
    {
     "data": {
      "text/plain": [
       "['Does the employer keep only one accurate payroll record?',\n",
       " 'Does the employer keep only one accurate payroll record/ book?']"
      ]
     },
     "execution_count": 162,
     "metadata": {},
     "output_type": "execute_result"
    }
   ],
   "source": [
    "grpdQ[15]"
   ]
  },
  {
   "cell_type": "code",
   "execution_count": 179,
   "metadata": {},
   "outputs": [],
   "source": [
    "for i in [15, 33, 40, 44, 45, 52, 66, 76]:\n",
    "    # print(grpdQ[i])\n",
    "    replace(grpdQ[i])"
   ]
  },
  {
   "cell_type": "code",
   "execution_count": 180,
   "metadata": {},
   "outputs": [
    {
     "data": {
      "text/plain": [
       "0    820466\n",
       "1    233138\n",
       "Name: cleaned, dtype: int64"
      ]
     },
     "execution_count": 180,
     "metadata": {},
     "output_type": "execute_result"
    }
   ],
   "source": [
    "df.cleaned.value_counts()"
   ]
  },
  {
   "cell_type": "markdown",
   "metadata": {},
   "source": [
    "## round 2:"
   ]
  },
  {
   "cell_type": "code",
   "execution_count": 37,
   "metadata": {},
   "outputs": [
    {
     "name": "stdout",
     "output_type": "stream",
     "text": [
      "22 250\n",
      "57 268\n",
      "66 299\n",
      "91 132\n",
      "102 176\n",
      "102 180\n",
      "173 191\n"
     ]
    }
   ],
   "source": [
    "import itertools\n",
    "\n",
    "txt='''\n",
    "\tlist 6: Has the employer tried to prevent workers from participating in a strike?, total number: 12418\n",
    "\tlist 10: Did the employer resolve grievances and disputes in compliance with legal requirements?, total number: 6357\n",
    "\tlist 12: Has the employer prepared for response, control and cleaning of chemical spills?, total number: 8519\n",
    "\tlist 13: Does the employer terminate workers who are on maternity leave or force them to resign?, total number: 8238\n",
    "*\tlist 15: Does the employer keep only one accurate payroll record?, total number: 6476\n",
    "\tlist 19: Trained workers on first aid , total number: 6259\n",
    "\tlist 20: Do the working time records reflect the hours actually worked?, total number: 5368\n",
    "\tlist 21: Is an applicant's race, colour or origin a factor in hiring decisions?, total number: 11171\n",
    "\tlist 22: Is race, colour or origin a factor in decisions regarding opportunities for promotion or access to training?, total number: 5643\n",
    "\tlist 23: Does the employer compensate workers for unused paid annual leave when they resign or are terminated?, total number: 6357\n",
    "\tlist 25: Chemicals/hazardous substance properly labelled, total number: 5164\n",
    "\tlist 29: Does the workplace have adequate accessible toilets?, total number: 6252\n",
    "\tlist 32: Do the employment contracts comply with other legal requirements?, total number: 5846\n",
    "*\tlist 33: Has the employer made any unauthorized deductions from wages?, total number: 6476\n",
    "\tlist 34: Is gender a factor in decisions regarding pay?, total number: 6315\n",
    "\tlist 35: Does the employer require pregnancy tests or use of contraceptives as a condition of employment?, total number: 6209\n",
    "\tlist 36: Does the employer consult with unions where legally required?, total number: 5275\n",
    "\tlist 37: Does the employer have legally required construction/building permits?, total number: 5150\n",
    "\tlist 38: Does the employer only terminate workers for valid reasons?, total number: 8158\n",
    "\tlist 39: Is gender a factor in decisions regarding opportunities for promotion or access to training?, total number: 5841\n",
    "*\tlist 40: Is overtime voluntary?, total number: 6476\n",
    "\tlist 41: Is gender a factor in the employer's decisions regarding termination or retirement of workers?, total number: 5841\n",
    "\tlist 42: Does the employer keep an inventory of hazardous chemicals used in the workplace?, total number: 12163\n",
    "*\tlist 44: Do union representatives have access to workers in the workplace?, total number: 6476\n",
    "*\tlist 45: Proper guards installed and maintained, total number: 6476\n",
    "\tlist 49: Is maternity leave excluded from workers' period of continuous service?, total number: 8077\n",
    "\tlist 50: Are noise levels acceptable?, total number: 5511\n",
    "\tlist 51: Does the employer pay workers correctly for paid public holidays?, total number: 10958\n",
    "*\tlist 52: Does the workplace have adequate fire-fighting equipment?, total number: 6476\n",
    "\tlist 53: Is the workplace adequately ventilated?, total number: 5192\n",
    "\tlist 54: Is the accommodation protected against disease carrying animals or insects?, total number: 3857\n",
    "\tlist 56: Has the factory conducted an assessment of the potential hazards in the workplace?, total number: 6054\n",
    "\tlist 57: Is an applicant's gender a factor in hiring decisions?, total number: 6002\n",
    "\tlist 58: Has the employer trained all workers who work with chemicals and hazardous substances?, total number: 10853\n",
    "\tlist 59: Do job announcements refer to the applicant's gender?, total number: 5524\n",
    "\tlist 60: Do workers understand the terms and conditions of employment?, total number: 5468\n",
    "\tlist 61: Is the temperature and ventilation aceptable?, total number: 3107\n",
    "\tlist 62: Does the employer provide adequate first-aid facilities?, total number: 7077\n",
    "\tlist 63: Protect workers from falls from heights, total number: 4400\n",
    "\tlist 64: Does the employer provide workers proper notice of termination?, total number: 3021\n",
    "\tlist 65: Do workers who are under age 18 perform work that is hazardous by nature?, total number: 5616\n",
    "*\tlist 66: Do regular daily working hours exceed 10 hours?, total number: 6469\n",
    "\tlist 67: Does the employer provide required weekly rest periods?, total number: 4638\n",
    "\tlist 68: Does the employer comply with legal requirements before suspending workers or reducing the size of the workforce due to changes in operations?, total number: 4578\n",
    "\tlist 69: Does the employer reliably verify the age of workers prior to hiring?, total number: 5050\n",
    "\tlist 70: Does the employer pay at least minimum wage for temporary and probationary workers?, total number: 3678\n",
    "\tlist 71: Escape routes locked, total number: 4994\n",
    "*\tlist 76: Is a job applicant's union membership or union activities a factor in hiring decisions?, total number: 6476\n",
    "\tlist 77: Are the provisions of the collective agreement at least as favourable for workers as the law?, total number: 5839\n",
    "\tlist 78: Does the employer pay workers correctly for all overtime hours worked at night?, total number: 9055\n",
    "\tlist 81: Does the employer pay workers the correct compensation for work-related accidents and diseases?, total number: 2860\n",
    "\tlist 82: Does the employer provide 14 days of sick leave per year?, total number: 4473\n",
    "\tlist 85: Is overtime work limited to two hours per day?, total number: 9546\n",
    "\tlist 86: Does the employer pay all workers who work regularly the correct attendance bonus when workers take sick leave?, total number: 7312\n",
    "\tlist 87: Are workers given the opportunities required under law to defend themselves before they are terminated?, total number: 6196\n",
    "\tlist 89: Do workers have at least one day off per week?, total number: 6218\n",
    "\tlist 90: Does the employer pay workers the correct seniority bonus?, total number: 2977\n",
    "\tlist 91: Does the employer provide 12 days of annual leave per year?, total number: 4555\n",
    "\tlist 93: Does the employer pay workers the correct severance pay?, total number: 6313\n",
    "\tlist 94: Does the employer provide at least 12 weeks of maternity leave?, total number: 5801\n",
    "\tlist 95: Does the employer pay workers correctly for personal leave?, total number: 7524\n",
    "\tlist 96: Does the employer record work-related accidents and diseases?, total number: 6587\n",
    "\tlist 97: Do workers use the machines and equipment in a safe manner?, total number: 8892\n",
    "\tlist 102: Does the employer pay all outstanding wages and indemnities within 48 hours of termination?, total number: 4674\n",
    "\tlist 106: Do the internal work rules comply with national law?, total number: 4347\n",
    "\tlist 107: Does the employer get permission from the Labour Inspector before workers work overtime?, total number: 2458\n",
    "\tlist 109: Are workers' full wages paid directly to workers at the workplace on working days?, total number: 2404\n",
    "\tlist 110: Does the employer comply with limits on the period of employment for training workers?, total number: 4627\n",
    "\tlist 111: Does the employer deduct union dues from wages when workers request this in writing?, total number: 6175\n",
    "\tlist 114: Does the employer keep a record of workers under 18 years of age?, total number: 4784\n",
    "\tlist 116: Does the employer provide workers access to the collective bargaining agreements?, total number: 4622\n",
    "\tlist 118: Do workers who are under age 18 work overtime or work at night?, total number: 5929\n",
    "\tlist 124: Does the employer refuse to bargain collectively or refuse to bargain in good faith with the union, worker representatives, union federations or confederations?, total number: 3849\n",
    "\tlist 126: Are workers paid on time, twice per month?, total number: 2878\n",
    "\tlist 127: Does the employer comply with the legal limit on the use of fixed term contracts?, total number: 2503\n",
    "\tlist 128: If there is more than one union, does the employer treat them equally?, total number: 3548\n",
    "\tlist 129: Does the employer pay workers their outstanding wages and the correct indemnity for dismissal?, total number: 2412\n",
    "\tlist 130: Do disciplinary measures comply with legal requirements?, total number: 3693\n",
    "\tlist 132: Has the employer elaborated and implemented an emergency plan?, total number: 1921\n",
    "\tlist 133: Does the employer allow workers to take 30 minutes rest during their period?, total number: 3604\n",
    "\tlist 134: Are pregnant workers provided time off for prenatal visits?, total number: 3604\n",
    "\tlist 135: Does the employer develop an OSH plan annually?, total number: 2278\n",
    "\tlist 140: Does the employer pay apprentices the wage agreed to by the parties?, total number: 2386\n",
    "\tlist 141: Do workers receive correct payment during sick leave and other types of leave that are covered by social insurance?, total number: 3604\n",
    "\tlist 144: Does the employer provide required breastfeeding breaks?, total number: 9744\n",
    "\tlist 147: Does the employer pay for paternity leave when required?, total number: 4671\n",
    "\tlist 154: Does the workplace provide all workers a place to store their clothes?, total number: 2688\n",
    "\tlist 155: Does the employer allow workers to carry out trade union activities during working hours as agreed by both parties?, total number: 2635\n",
    "\tlist 157: Does the workplace have all required facilities?, total number: 2662\n",
    "\tlist 159: Does the employer comply with requirements for apprentices?, total number: 2282\n",
    "\tlist 162: Do the contracts comply with the labour law, collective agreement and work rules?, total number: 3629\n",
    "\tlist 167: Does the employer address safety and health risks to pregnant or nursing workers?, total number: 5735\n",
    "\tlist 168: Is the temperature in the workplace acceptable?, total number: 2432\n",
    "\tlist 171: Does the employer comply with daily break periods?, total number: 2666\n",
    "\tlist 172: Has the employer made required accommodations for physically disabled workers?, total number: 3109\n",
    "\tlist 173: Does the employer provide required annual leave?, total number: 4188\n",
    "\tlist 176: Do resigned or terminated workers receive all other termination benefits required by law?, total number: 1802\n",
    "\tlist 178: Does the accommodation have adequate cooking facilities?, total number: 2529\n",
    "\tlist 180: Does the employer inspect and measure the environmental conditions in the workplace on a annual basis?, total number: 1802\n",
    "\tlist 186: Does the employer pay workers correctly during work stoppages?, total number: 1891\n",
    "\tlist 188: Does the employer collect and forward workers' contributions to social insurance funds on time?, total number: 1919\n",
    "\tlist 189: Do workers receive free periodic health checks as required by law?, total number: 1963\n",
    "\tlist 190: Do the operators / technicians for boiler, generator, compressor, and pressure vessels have legally required permit and training?, total number: 2434\n",
    "\tlist 191: Does the workplace have adequate day care facilities?, total number: 2288\n",
    "\tlist 192: Does the workplace have a functioning and accessible nursing room?, total number: 2383\n",
    "\tlist 193: Are piece-rate workers paid correctly for ordinary hours of work?, total number: 1737\n",
    "\tlist 194: Have you found non-compliance with legal requirements for compensation, contracts, OSH and/or working time pertaining to non-production workers and/or sub-contracted workers?, total number: 1448\n",
    "\tlist 196: Do workers have annual medical checks?, total number: 2240\n",
    "\tlist 197: Are wages paid on time?, total number: 1113\n",
    "\tlist 202: Can female workers take time off when they feel pain during the first two days of menstruation and they notify the employer?, total number: 1666\n",
    "\tlist 204: Do workers pay any recruitment fees?, total number: 1307\n",
    "\tlist 206: Does the employer comply with documentation requirements for workers under age of 18?, total number: 1307\n",
    "\tlist 207: Does the employer prepare written instructions on overtime?, total number: 1417\n",
    "\tlist 228: Has the employer provided all workers with a letter of appointment?, total number: 1752\n",
    "\tlist 231: Does the employer provide required medical services?, total number: 1417\n",
    "\tlist 234: Does the factory have a functioning Participation Committee?, total number: 959\n",
    "\tlist 244: Does the employer pay the required amount each year into the Workers' Participation Fund?, total number: 602\n",
    "\tlist 245: Do all workers (other than apprentices, badli or casual workers) have a service book?, total number: 584\n",
    "\tlist 246: Does the employer provide terminated workers their Provident Funds (if applicable)?, total number: 584\n",
    "\tlist 249: Does the employer pay the required contributions for social insurance (BPJS Ketenagakerjaan) and health care funds (BPJS Kesehatan) to BPJS?, total number: 1666\n",
    "\tlist 250: Does the employer comply with legal requirements when subcontracting part of its work to another enterprise?, total number: 833\n",
    "\tlist 252: Does the employer correctly calculate and send the employer contribution to the Social Security Corporation?, total number: 948\n",
    "\tlist 257: Does the employer comply with other wage payments?, total number: 492\n",
    "\tlist 263: Does the factory employ the required OSH specialists?, total number: 593\n",
    "\tlist 268: Are workers paid within seven days from the date wages become payable?, total number: 474\n",
    "\tlist 270: If a Provident Fund has been established, does the employer collect and deposit workers' contributions into the fund?, total number: 584\n",
    "\tlist 273: Does the employer forward workers contributions to ONA?, total number: 322\n",
    "\tlist 274: Does the employer pay 3% of workers' salary to OFATMA for work-related accident insurance?, total number: 322\n",
    "\tlist 276: Does the employer pay workers their annual salary supplement or bonus?, total number: 322\n",
    "\tlist 299: Do workers have suitable chairs?, total number: 7\n",
    "'''\n",
    "\n",
    "# for i in txt.replace(\"*\",\"\").replace(\"\\t\",\"\").split(\"\\n\")[1:-1]:\n",
    "#     print(i.split(\":\")[0].split(\" \")[-1])\n",
    "\n",
    "\n",
    "idx=[x.split(\":\")[0].split(\" \")[-1] for x in txt.replace(\"*\",\"\").replace(\"\\t\",\"\").split(\"\\n\")[1:-1]]\n",
    "num=[int(x.split(\":\")[-1]) for x in txt.replace(\"*\",\"\").replace(\"\\t\",\"\").split(\"\\n\")[1:-1]]\n",
    "\n",
    "combinations = itertools.combinations(zip(idx, num), 2)\n",
    "\n",
    "valid_pairs = []\n",
    "for (i1, n1), (i2, n2) in combinations:\n",
    "    total = n1 + n2\n",
    "    if total == 6476:\n",
    "        print(i1,i2)\n"
   ]
  },
  {
   "cell_type": "markdown",
   "metadata": {},
   "source": [
    "**no useful combination**\n",
    "\n",
    "----\n",
    "\n",
    "# round 3"
   ]
  },
  {
   "cell_type": "code",
   "execution_count": 40,
   "metadata": {},
   "outputs": [
    {
     "data": {
      "text/plain": [
       "(array([15., 26., 19., 14., 24., 18.,  5.,  4.,  3.,  2.]),\n",
       " array([7.00000e+00, 1.24810e+03, 2.48920e+03, 3.73030e+03, 4.97140e+03,\n",
       "        6.21250e+03, 7.45360e+03, 8.69470e+03, 9.93580e+03, 1.11769e+04,\n",
       "        1.24180e+04]),\n",
       " <BarContainer object of 10 artists>)"
      ]
     },
     "execution_count": 40,
     "metadata": {},
     "output_type": "execute_result"
    },
    {
     "data": {
      "image/png": "[encoded data removed]",
      "text/plain": [
       "<Figure size 640x480 with 1 Axes>"
      ]
     },
     "metadata": {},
     "output_type": "display_data"
    }
   ],
   "source": [
    "from matplotlib import pyplot as plt\n",
    "plt.hist(num)"
   ]
  },
  {
   "cell_type": "markdown",
   "metadata": {},
   "source": [
    "country: <4"
   ]
  },
  {
   "cell_type": "markdown",
   "metadata": {},
   "source": [
    "**focus on combined questions with total counts>6476+100**:"
   ]
  },
  {
   "cell_type": "code",
   "execution_count": 68,
   "metadata": {},
   "outputs": [
    {
     "data": {
      "text/plain": [
       "[('6', 12418),\n",
       " ('12', 8519),\n",
       " ('13', 8238),\n",
       " ('21', 11171),\n",
       " ('38', 8158),\n",
       " ('42', 12163),\n",
       " ('49', 8077),\n",
       " ('51', 10958),\n",
       " ('58', 10853),\n",
       " ('62', 7077),\n",
       " ('78', 9055),\n",
       " ('85', 9546),\n",
       " ('86', 7312),\n",
       " ('95', 7524),\n",
       " ('96', 6587),\n",
       " ('97', 8892),\n",
       " ('144', 9744)]"
      ]
     },
     "execution_count": 68,
     "metadata": {},
     "output_type": "execute_result"
    }
   ],
   "source": [
    "[(i,j) for i,j in zip(idx,num) if j>6576]"
   ]
  },
  {
   "cell_type": "markdown",
   "metadata": {},
   "source": [
    "## [6]:"
   ]
  },
  {
   "cell_type": "code",
   "execution_count": 47,
   "metadata": {},
   "outputs": [
    {
     "data": {
      "text/plain": [
       "['Has the employer hired new workers to replace striking workers during a strike?',\n",
       " 'Has the employer tried to prevent any workers from participating in a strike?',\n",
       " 'Has the employer tried to prevent workers from participating in a strike?']"
      ]
     },
     "execution_count": 47,
     "metadata": {},
     "output_type": "execute_result"
    }
   ],
   "source": [
    "grpdQ[6]"
   ]
  },
  {
   "cell_type": "code",
   "execution_count": 54,
   "metadata": {},
   "outputs": [
    {
     "data": {
      "text/plain": [
       "(6209, 6209)"
      ]
     },
     "execution_count": 54,
     "metadata": {},
     "output_type": "execute_result"
    }
   ],
   "source": [
    "len(df[df.QCleaned.isin(['Has the employer tried to prevent any workers from participating in a strike?',\n",
    " 'Has the employer tried to prevent workers from participating in a strike?'])]),\\\n",
    "    len(df[df.QCleaned==\"Has the employer hired new workers to replace striking workers during a strike?\"])"
   ]
  },
  {
   "cell_type": "code",
   "execution_count": 99,
   "metadata": {},
   "outputs": [
    {
     "data": {
      "text/plain": [
       "Cambodia      2236\n",
       "Indonesia      833\n",
       "Bangladesh     584\n",
       "Jordan         474\n",
       "Haiti          161\n",
       "Nicaragua      119\n",
       "Name: Country, dtype: int64"
      ]
     },
     "execution_count": 99,
     "metadata": {},
     "output_type": "execute_result"
    }
   ],
   "source": [
    "tabCountry( 'Has the employer tried to prevent any workers from participating in a strike?')"
   ]
  },
  {
   "cell_type": "code",
   "execution_count": 63,
   "metadata": {},
   "outputs": [
    {
     "data": {
      "text/plain": [
       "array(['Has the employer hired new workers to replace striking workers during a strike?',\n",
       "       'Does the employer force workers to work to discipline them or as punishment for participation in a strike?',\n",
       "       'Has the employer called security guards, the police or armed forces to break up a peaceful strike or arrest striking workers?',\n",
       "       'Has the employer tried to prevent workers from participating in a strike?',\n",
       "       'Has the employer tried to prevent any workers from participating in a strike?'],\n",
       "      dtype=object)"
      ]
     },
     "execution_count": 63,
     "metadata": {},
     "output_type": "execute_result"
    }
   ],
   "source": [
    "df[df.QCleaned.str.contains(\"strike\")].QCleaned.unique()"
   ]
  },
  {
   "cell_type": "code",
   "execution_count": 65,
   "metadata": {},
   "outputs": [
    {
     "data": {
      "text/plain": [
       "1802"
      ]
     },
     "execution_count": 65,
     "metadata": {},
     "output_type": "execute_result"
    }
   ],
   "source": [
    "len(df[df.QCleaned=='Has the employer called security guards, the police or armed forces to break up a peaceful strike or arrest striking workers?'])"
   ]
  },
  {
   "cell_type": "markdown",
   "metadata": {},
   "source": [
    "**can be breakdown into 2 groups** (ask)\n",
    "## [12]:"
   ]
  },
  {
   "cell_type": "code",
   "execution_count": 66,
   "metadata": {},
   "outputs": [
    {
     "data": {
      "text/plain": [
       "['Does the employer provide adequate washing facilities and cleansing materials in the event of exposure to hazardous chemicals?',\n",
       " 'Has the employer prepared for response, control and cleaning of chemical spills?',\n",
       " 'Does the employer provide adequate washing facilities and cleaning materials in the event of exposure to hazardous chemicals?']"
      ]
     },
     "execution_count": 66,
     "metadata": {},
     "output_type": "execute_result"
    }
   ],
   "source": [
    "grpdQ[12]"
   ]
  },
  {
   "cell_type": "code",
   "execution_count": 69,
   "metadata": {},
   "outputs": [
    {
     "data": {
      "text/plain": [
       "2270"
      ]
     },
     "execution_count": 69,
     "metadata": {},
     "output_type": "execute_result"
    }
   ],
   "source": [
    "len(df[df.QCleaned=='Has the employer prepared for response, control and cleaning of chemical spills?'])"
   ]
  },
  {
   "cell_type": "markdown",
   "metadata": {},
   "source": [
    "8519-2270=6249 &rarr; ask\n",
    "## [13]:"
   ]
  },
  {
   "cell_type": "code",
   "execution_count": 71,
   "metadata": {},
   "outputs": [
    {
     "data": {
      "text/plain": [
       "['Does the employer change the employment status, position, wages, benefits or seniority of workers during maternity leave?',\n",
       " 'Does the employer terminate workers who are on maternity leave or force them to resign?']"
      ]
     },
     "execution_count": 71,
     "metadata": {},
     "output_type": "execute_result"
    }
   ],
   "source": [
    "grpdQ[13]"
   ]
  },
  {
   "cell_type": "code",
   "execution_count": 73,
   "metadata": {},
   "outputs": [
    {
     "data": {
      "text/plain": [
       "2503"
      ]
     },
     "execution_count": 73,
     "metadata": {},
     "output_type": "execute_result"
    }
   ],
   "source": [
    "len(df[df.QCleaned=='Does the employer terminate workers who are on maternity leave or force them to resign?'])"
   ]
  },
  {
   "cell_type": "code",
   "execution_count": 120,
   "metadata": {},
   "outputs": [
    {
     "data": {
      "text/plain": [
       "array([\"Does the employer terminate workers due to the worker's pregnancy, maternity leave, marriage, or breast-feeding of a child under 12 months of age or force them to resign?\",\n",
       "       'Does the employer terminate workers who are pregnant or on maternity leave or force them to resign?',\n",
       "       'Does the employer dismiss workers or force them to resign if they are pregnant, on maternity leave or nursing?',\n",
       "       'Does the employer terminate workers who are pregnant or force them to resign?',\n",
       "       'Does the employer dismiss workers or force them to resign if they are pregnant, on maternity leave or nursing? [differentiation question]',\n",
       "       'Does the employer terminate workers who are pregnant or on maternity leave or force them to resign ?',\n",
       "       \"Does the employer terminate workers due to the worker's pregnancy, maternity leave, or breast-feeding of a child under 12 months of age or force them to resign?\",\n",
       "       \"Does the employer terminate workers due to the worker's pregnancy, maternity leave, or nursing of a child under 12 months of age or force them to resign?\"],\n",
       "      dtype=object)"
      ]
     },
     "execution_count": 120,
     "metadata": {},
     "output_type": "execute_result"
    }
   ],
   "source": [
    "df[df.QCleaned.isin(['Terminate workers due to pregnancy or maternity leave'])].Q.unique()"
   ]
  },
  {
   "cell_type": "code",
   "execution_count": 125,
   "metadata": {},
   "outputs": [
    {
     "name": "stdout",
     "output_type": "stream",
     "text": [
      "721\n",
      "1621\n",
      "55\n",
      "2503\n",
      "106\n",
      "480\n",
      "1054\n",
      "27\n"
     ]
    }
   ],
   "source": [
    "for i in df[df.QCleaned.isin(['Terminate workers due to pregnancy or maternity leave'])].Q.unique():\n",
    "    print(len(df[df.Q==i]))"
   ]
  },
  {
   "cell_type": "code",
   "execution_count": 82,
   "metadata": {},
   "outputs": [
    {
     "name": "stdout",
     "output_type": "stream",
     "text": [
      "Terminate workers due to pregnancy or maternity leave 9070\n",
      "Payment for maternity leave 8977\n",
      "Does the employer change the employment status, position, wages, benefits or seniority of workers during maternity leave? 8238\n",
      "Are periods of maternity leave included in a worker's period of continuous service? 4305\n",
      "Does the employer comply with the entitlement to maternity leave? 4305\n",
      "Is maternity leave excluded from workers' period of continuous service? 6275\n",
      "Does the employer provide 1.5 months of maternity rest before a worker’s estimated due date and another 1.5 months after delivery? 2856\n",
      "Does the employer pay 3% of workers' basic salary to OFATMA for maternity and health insurance? 2664\n",
      "Does the employer terminate workers who are on maternity leave or force them to resign? 5006\n",
      "Does the employer include the entire period of continuous employment when determining workers' entitlements to maternity leave, attendance bonus, seniority bonus, and/or annual leave? 5006\n",
      "Does the employer provide workers at least 90 days of maternity leave? 5006\n",
      "Does the employer provide required time off for maternity leave? 3087\n",
      "Does the employer provide at least 12 weeks of maternity leave? 2582\n",
      "Does the employer provide the correct amount of time off for maternity rest, including in cases of miscarriage? 2983\n"
     ]
    }
   ],
   "source": [
    "for q in keyWordQuery(\"maternity\").QCleaned.unique():\n",
    "    print(q,getQNum(q)+2503)"
   ]
  },
  {
   "cell_type": "code",
   "execution_count": 143,
   "metadata": {},
   "outputs": [
    {
     "data": {
      "text/plain": [
       "0    820466\n",
       "1    233138\n",
       "Name: cleaned, dtype: int64"
      ]
     },
     "execution_count": 143,
     "metadata": {},
     "output_type": "execute_result"
    }
   ],
   "source": [
    "df.cleaned.value_counts()"
   ]
  },
  {
   "cell_type": "code",
   "execution_count": 181,
   "metadata": {},
   "outputs": [],
   "source": [
    "df.to_csv(\"r1.csv\",index=False)"
   ]
  },
  {
   "cell_type": "code",
   "execution_count": 195,
   "metadata": {},
   "outputs": [
    {
     "data": {
      "text/plain": [
       "Does the employer terminate workers who are pregnant or force them to resign?                          2503\n",
       "Does the employer terminate workers who are pregnant or on maternity leave or force them to resign?      91\n",
       "Name: Q, dtype: int64"
      ]
     },
     "execution_count": 195,
     "metadata": {},
     "output_type": "execute_result"
    }
   ],
   "source": [
    "df[(df.QCleaned.str.contains(\"Terminate workers due to pregnancy\")) & (df.Country==\"Cambodia\")].Q.value_counts()"
   ]
  },
  {
   "cell_type": "code",
   "execution_count": 191,
   "metadata": {},
   "outputs": [
    {
     "data": {
      "text/plain": [
       "Terminate workers due to pregnancy or maternity leave                                                                                                                                                                        6567\n",
       "Gender discrimination on conditions of work                                                                                                                                                                                  6476\n",
       "Sexual harassment                                                                                                                                                                                                            6476\n",
       "Does the employer change the employment status, position, wages, benefits or seniority of workers during maternity leave?                                                                                                    5735\n",
       "Is gender a factor in decisions regarding pay?                                                                                                                                                                               4513\n",
       "Does the employer require pregnancy tests or the use of contraceptives as a condition of employment?                                                                                                                         4407\n",
       "Is gender a factor in decisions regarding opportunities for promotion or access to training?                                                                                                                                 4039\n",
       "Is gender a factor in the employer's decisions regarding termination or retirement of workers?                                                                                                                               4039\n",
       "Is maternity leave excluded from workers' period of continuous service?                                                                                                                                                      3772\n",
       "Is an applicant's gender a factor in hiring decisions?                                                                                                                                                                       3206\n",
       "Do job announcements refer to the applicant's gender?                                                                                                                                                                        3087\n",
       "Does the employer terminate workers who are on maternity leave or force them to resign?                                                                                                                                      2503\n",
       "Is an applicant's gender or marital status a factor in hiring decisions?                                                                                                                                                     1963\n",
       "Is the gender or marital status of a worker a factor in decisions regarding opportunities for promotion or access to training?                                                                                               1802\n",
       "Are periods of maternity leave included in a worker's period of continuous service?                                                                                                                                          1802\n",
       "Is the gender or marital status of a worker a factor in decisions regarding pay?                                                                                                                                             1802\n",
       "Does the employer require pregnancy tests or use of contraceptives as a condition of employment?                                                                                                                             1802\n",
       "Do job announcements refer to the applicant's gender or marital status?                                                                                                                                                      1242\n",
       "Is the gender or marital status of a worker a factor in employer decisions regarding termination or retirement of workers?                                                                                                   1081\n",
       "Is an applicant's gender a factor in recruitment or hiring?                                                                                                                                                                   833\n",
       "Do job announcements refer to the applicants gender or marital status?                                                                                                                                                        721\n",
       "Is the gender or marital status of the worker a factor in employer decisions regarding termination or retirement of workers?                                                                                                  721\n",
       "Do job announcements refer to the applicant's gender and/or is an applicant's gender a factor in decisions regarding hiring, opportunities for promotion or access to training, termination and/or retirement of workers?     474\n",
       "Name: QCleaned, dtype: int64"
      ]
     },
     "execution_count": 191,
     "metadata": {},
     "output_type": "execute_result"
    }
   ],
   "source": [
    "df[df.CPCleaned==\"Gender\"].QCleaned.value_counts()"
   ]
  },
  {
   "cell_type": "code",
   "execution_count": 196,
   "metadata": {},
   "outputs": [
    {
     "data": {
      "text/plain": [
       "array(['Gender discrimination on conditions of work',\n",
       "       'Terminate workers due to pregnancy or maternity leave',\n",
       "       'Sexual harassment',\n",
       "       'Is the gender or marital status of a worker a factor in decisions regarding pay?',\n",
       "       'Is the gender or marital status of a worker a factor in decisions regarding opportunities for promotion or access to training?',\n",
       "       'Is the gender or marital status of the worker a factor in employer decisions regarding termination or retirement of workers?',\n",
       "       'Does the employer require pregnancy tests or use of contraceptives as a condition of employment?',\n",
       "       'Does the employer change the employment status, position, wages, benefits or seniority of workers during maternity leave?',\n",
       "       \"Are periods of maternity leave included in a worker's period of continuous service?\",\n",
       "       'Do job announcements refer to the applicants gender or marital status?',\n",
       "       \"Is an applicant's gender or marital status a factor in hiring decisions?\",\n",
       "       'Is gender a factor in decisions regarding pay?',\n",
       "       'Is gender a factor in decisions regarding opportunities for promotion or access to training?',\n",
       "       \"Is gender a factor in the employer's decisions regarding termination or retirement of workers?\",\n",
       "       \"Is an applicant's gender a factor in recruitment or hiring?\",\n",
       "       \"Is maternity leave excluded from workers' period of continuous service?\",\n",
       "       'Does the employer require pregnancy tests or the use of contraceptives as a condition of employment?',\n",
       "       \"Do job announcements refer to the applicant's gender and/or is an applicant's gender a factor in decisions regarding hiring, opportunities for promotion or access to training, termination and/or retirement of workers?\",\n",
       "       \"Is an applicant's gender a factor in hiring decisions?\",\n",
       "       \"Do job announcements refer to the applicant's gender or marital status?\",\n",
       "       \"Do job announcements refer to the applicant's gender?\",\n",
       "       'Does the employer terminate workers who are on maternity leave or force them to resign?',\n",
       "       'Is the gender or marital status of a worker a factor in employer decisions regarding termination or retirement of workers?'],\n",
       "      dtype=object)"
      ]
     },
     "execution_count": 196,
     "metadata": {},
     "output_type": "execute_result"
    }
   ],
   "source": [
    "df[df.CPCleaned==\"Gender\"].QCleaned.unique()"
   ]
  },
  {
   "cell_type": "code",
   "execution_count": 200,
   "metadata": {},
   "outputs": [
    {
     "data": {
      "text/plain": [
       "array(['Does the employer restrict workers from leaving the workplace?',\n",
       "       'Are workers free to terminate their employment with reasonable notice, and to leave their jobs when their contracts expire?',\n",
       "       'Does the employer force workers to work to discipline them or as punishment for participation in a strike?',\n",
       "       'Does the employer use violence or the threat of violence to intimidate workers?',\n",
       "       'Does the employer use threats such as deportation, cancellation of visas or reporting to the authorities in order to force workers to stay at the job?',\n",
       "       \"Does the employer restrict workers' freedom to come and go from the dormitories and/or the industrial park or zone in which the factory is located?\",\n",
       "       'Does the employer delay or withhold wage payments in order to coerce workers to work?'],\n",
       "      dtype=object)"
      ]
     },
     "execution_count": 200,
     "metadata": {},
     "output_type": "execute_result"
    }
   ],
   "source": [
    "df[(df.CPCleaned==\"Coercion\") & (df.Country==\"Jordan\")].Q.unique()\n"
   ]
  },
  {
   "cell_type": "code",
   "execution_count": 204,
   "metadata": {},
   "outputs": [
    {
     "data": {
      "text/plain": [
       "array(['Vietnam'], dtype=object)"
      ]
     },
     "execution_count": 204,
     "metadata": {},
     "output_type": "execute_result"
    }
   ],
   "source": [
    "df[df.CP==\"Religion and Political Opinion\"].Country.unique()"
   ]
  }
 ],
 "metadata": {
  "kernelspec": {
   "display_name": "base",
   "language": "python",
   "name": "python3"
  },
  "language_info": {
   "codemirror_mode": {
    "name": "ipython",
    "version": 3
   },
   "file_extension": ".py",
   "mimetype": "text/x-python",
   "name": "python",
   "nbconvert_exporter": "python",
   "pygments_lexer": "ipython3",
   "version": "3.9.13"
  }
 },
 "nbformat": 4,
 "nbformat_minor": 2
}
