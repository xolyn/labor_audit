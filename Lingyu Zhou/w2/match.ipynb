{
 "cells": [
  {
   "cell_type": "code",
   "execution_count": 1,
   "metadata": {},
   "outputs": [],
   "source": [
    "import pandas as pd"
   ]
  },
  {
   "cell_type": "code",
   "execution_count": 3,
   "metadata": {},
   "outputs": [],
   "source": [
    "dff=pd.read_stata(\"../w1/7c.dta\")"
   ]
  },
  {
   "cell_type": "code",
   "execution_count": 9,
   "metadata": {},
   "outputs": [
    {
     "data": {
      "text/html": [
       "<div>\n",
       "<style scoped>\n",
       "    .dataframe tbody tr th:only-of-type {\n",
       "        vertical-align: middle;\n",
       "    }\n",
       "\n",
       "    .dataframe tbody tr th {\n",
       "        vertical-align: top;\n",
       "    }\n",
       "\n",
       "    .dataframe thead th {\n",
       "        text-align: right;\n",
       "    }\n",
       "</style>\n",
       "<table border=\"1\" class=\"dataframe\">\n",
       "  <thead>\n",
       "    <tr style=\"text-align: right;\">\n",
       "      <th></th>\n",
       "      <th>Country</th>\n",
       "      <th>FactoryAssessedID</th>\n",
       "      <th>AssesmentDate</th>\n",
       "      <th>year</th>\n",
       "      <th>month</th>\n",
       "      <th>QuestID</th>\n",
       "      <th>Cluster</th>\n",
       "      <th>CP</th>\n",
       "      <th>QLabel</th>\n",
       "      <th>Finding</th>\n",
       "      <th>Tags</th>\n",
       "      <th>disclosed</th>\n",
       "      <th>Itemscleaned</th>\n",
       "      <th>CPcleaned</th>\n",
       "      <th>threestds</th>\n",
       "    </tr>\n",
       "  </thead>\n",
       "  <tbody>\n",
       "    <tr>\n",
       "      <th>0</th>\n",
       "      <td>Vietnam</td>\n",
       "      <td>1509</td>\n",
       "      <td>06/01/2015</td>\n",
       "      <td>2015</td>\n",
       "      <td>1</td>\n",
       "      <td>8009</td>\n",
       "      <td>Occupational Safety and Health</td>\n",
       "      <td>Emergency Preparedness</td>\n",
       "      <td>Are any of the emergency exits inaccessible, o...</td>\n",
       "      <td>1</td>\n",
       "      <td>Public Disclosure: Accessible unobstructed and...</td>\n",
       "      <td>1.0</td>\n",
       "      <td>Accessable unlocked emergency exits</td>\n",
       "      <td>Emergency Preparedness</td>\n",
       "      <td>1.0</td>\n",
       "    </tr>\n",
       "  </tbody>\n",
       "</table>\n",
       "</div>"
      ],
      "text/plain": [
       "   Country  FactoryAssessedID AssesmentDate  year  month  QuestID  \\\n",
       "0  Vietnam               1509    06/01/2015  2015      1     8009   \n",
       "\n",
       "                          Cluster                      CP  \\\n",
       "0  Occupational Safety and Health  Emergency Preparedness   \n",
       "\n",
       "                                              QLabel  Finding  \\\n",
       "0  Are any of the emergency exits inaccessible, o...        1   \n",
       "\n",
       "                                                Tags  disclosed  \\\n",
       "0  Public Disclosure: Accessible unobstructed and...        1.0   \n",
       "\n",
       "                          Itemscleaned               CPcleaned  threestds  \n",
       "0  Accessable unlocked emergency exits  Emergency Preparedness        1.0  "
      ]
     },
     "execution_count": 9,
     "metadata": {},
     "output_type": "execute_result"
    }
   ],
   "source": [
    "dff.head(1)"
   ]
  },
  {
   "cell_type": "code",
   "execution_count": 24,
   "metadata": {},
   "outputs": [],
   "source": [
    "dff[\"pk\"]=dff[['FactoryAssessedID', 'AssesmentDate', 'QuestID',\"CP\",\"QLabel\"]].astype(str).agg('-'.join, axis=1)"
   ]
  },
  {
   "cell_type": "code",
   "execution_count": 25,
   "metadata": {},
   "outputs": [
    {
     "data": {
      "text/plain": [
       "True"
      ]
     },
     "execution_count": 25,
     "metadata": {},
     "output_type": "execute_result"
    }
   ],
   "source": [
    "dff[\"pk\"].is_unique"
   ]
  },
  {
   "cell_type": "code",
   "execution_count": 5,
   "metadata": {},
   "outputs": [],
   "source": [
    "df=pd.read_csv(\"F:/cleaned.csv\")"
   ]
  },
  {
   "cell_type": "code",
   "execution_count": 29,
   "metadata": {},
   "outputs": [
    {
     "data": {
      "text/html": [
       "<div>\n",
       "<style scoped>\n",
       "    .dataframe tbody tr th:only-of-type {\n",
       "        vertical-align: middle;\n",
       "    }\n",
       "\n",
       "    .dataframe tbody tr th {\n",
       "        vertical-align: top;\n",
       "    }\n",
       "\n",
       "    .dataframe thead th {\n",
       "        text-align: right;\n",
       "    }\n",
       "</style>\n",
       "<table border=\"1\" class=\"dataframe\">\n",
       "  <thead>\n",
       "    <tr style=\"text-align: right;\">\n",
       "      <th></th>\n",
       "      <th>Country</th>\n",
       "      <th>FactoryAssessedID</th>\n",
       "      <th>AssesmentDate</th>\n",
       "      <th>year</th>\n",
       "      <th>month</th>\n",
       "      <th>QuestID</th>\n",
       "      <th>Cluster</th>\n",
       "      <th>CP</th>\n",
       "      <th>QLabel</th>\n",
       "      <th>Finding</th>\n",
       "      <th>Tags</th>\n",
       "      <th>disclosed</th>\n",
       "      <th>Itemscleaned</th>\n",
       "      <th>CPcleaned</th>\n",
       "      <th>threestds</th>\n",
       "    </tr>\n",
       "  </thead>\n",
       "  <tbody>\n",
       "    <tr>\n",
       "      <th>0</th>\n",
       "      <td>Vietnam</td>\n",
       "      <td>1509</td>\n",
       "      <td>06/01/2015</td>\n",
       "      <td>2015</td>\n",
       "      <td>1</td>\n",
       "      <td>8009</td>\n",
       "      <td>Occupational Safety and Health</td>\n",
       "      <td>Emergency Preparedness</td>\n",
       "      <td>Are any of the emergency exits inaccessible, o...</td>\n",
       "      <td>1</td>\n",
       "      <td>Public Disclosure: Accessible unobstructed and...</td>\n",
       "      <td>1.0</td>\n",
       "      <td>Accessable unlocked emergency exits</td>\n",
       "      <td>Emergency Preparedness</td>\n",
       "      <td>1.0</td>\n",
       "    </tr>\n",
       "  </tbody>\n",
       "</table>\n",
       "</div>"
      ],
      "text/plain": [
       "   Country  FactoryAssessedID AssesmentDate  year  month  QuestID  \\\n",
       "0  Vietnam               1509    06/01/2015  2015      1     8009   \n",
       "\n",
       "                          Cluster                      CP  \\\n",
       "0  Occupational Safety and Health  Emergency Preparedness   \n",
       "\n",
       "                                              QLabel  Finding  \\\n",
       "0  Are any of the emergency exits inaccessible, o...        1   \n",
       "\n",
       "                                                Tags  disclosed  \\\n",
       "0  Public Disclosure: Accessible unobstructed and...        1.0   \n",
       "\n",
       "                          Itemscleaned               CPcleaned  threestds  \n",
       "0  Accessable unlocked emergency exits  Emergency Preparedness        1.0  "
      ]
     },
     "execution_count": 29,
     "metadata": {},
     "output_type": "execute_result"
    }
   ],
   "source": [
    "# dff.drop([\"pk\"],axis=1,inplace=True)\n",
    "dff.head(1)"
   ]
  },
  {
   "cell_type": "code",
   "execution_count": 27,
   "metadata": {},
   "outputs": [
    {
     "data": {
      "text/html": [
       "<div>\n",
       "<style scoped>\n",
       "    .dataframe tbody tr th:only-of-type {\n",
       "        vertical-align: middle;\n",
       "    }\n",
       "\n",
       "    .dataframe tbody tr th {\n",
       "        vertical-align: top;\n",
       "    }\n",
       "\n",
       "    .dataframe thead th {\n",
       "        text-align: right;\n",
       "    }\n",
       "</style>\n",
       "<table border=\"1\" class=\"dataframe\">\n",
       "  <thead>\n",
       "    <tr style=\"text-align: right;\">\n",
       "      <th></th>\n",
       "      <th>Country</th>\n",
       "      <th>FactoryAssessedID</th>\n",
       "      <th>AssesmentDate</th>\n",
       "      <th>QuestID</th>\n",
       "      <th>CP</th>\n",
       "      <th>Q</th>\n",
       "      <th>Finding</th>\n",
       "      <th>QCleaned</th>\n",
       "      <th>CPCleaned</th>\n",
       "      <th>cleaned</th>\n",
       "    </tr>\n",
       "  </thead>\n",
       "  <tbody>\n",
       "    <tr>\n",
       "      <th>0</th>\n",
       "      <td>Vietnam</td>\n",
       "      <td>1509</td>\n",
       "      <td>06/01/2015</td>\n",
       "      <td>8009</td>\n",
       "      <td>Emergency Preparedness</td>\n",
       "      <td>Are any of the emergency exits inaccessible, o...</td>\n",
       "      <td>1</td>\n",
       "      <td>Accessable unlocked emergency exits</td>\n",
       "      <td>Emergency Preparedness</td>\n",
       "      <td>1</td>\n",
       "    </tr>\n",
       "  </tbody>\n",
       "</table>\n",
       "</div>"
      ],
      "text/plain": [
       "   Country  FactoryAssessedID AssesmentDate  QuestID                      CP  \\\n",
       "0  Vietnam               1509    06/01/2015     8009  Emergency Preparedness   \n",
       "\n",
       "                                                   Q  Finding  \\\n",
       "0  Are any of the emergency exits inaccessible, o...        1   \n",
       "\n",
       "                              QCleaned               CPCleaned  cleaned  \n",
       "0  Accessable unlocked emergency exits  Emergency Preparedness        1  "
      ]
     },
     "execution_count": 27,
     "metadata": {},
     "output_type": "execute_result"
    }
   ],
   "source": [
    "df.head(1)"
   ]
  },
  {
   "cell_type": "code",
   "execution_count": 32,
   "metadata": {},
   "outputs": [],
   "source": [
    "merged_df = pd.merge(df, dff[['FactoryAssessedID', 'AssesmentDate', 'QuestID', 'CP', 'QLabel', 'threestds']],\n",
    "                     left_on=['FactoryAssessedID', 'AssesmentDate', 'QuestID', 'CP', 'Q'],\n",
    "                     right_on=['FactoryAssessedID', 'AssesmentDate', 'QuestID', 'CP', 'QLabel'],\n",
    "                     how='left')\n",
    "\n",
    "df['threestds'] = merged_df['threestds']"
   ]
  },
  {
   "cell_type": "code",
   "execution_count": 36,
   "metadata": {},
   "outputs": [],
   "source": [
    "df.to_stata(\"cleaned_3std.dta\",version=118)"
   ]
  }
 ],
 "metadata": {
  "kernelspec": {
   "display_name": "base",
   "language": "python",
   "name": "python3"
  },
  "language_info": {
   "codemirror_mode": {
    "name": "ipython",
    "version": 3
   },
   "file_extension": ".py",
   "mimetype": "text/x-python",
   "name": "python",
   "nbconvert_exporter": "python",
   "pygments_lexer": "ipython3",
   "version": "3.9.13"
  }
 },
 "nbformat": 4,
 "nbformat_minor": 2
}
