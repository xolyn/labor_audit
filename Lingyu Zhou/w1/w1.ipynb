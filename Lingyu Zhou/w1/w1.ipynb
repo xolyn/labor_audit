{
 "cells": [
  {
   "cell_type": "code",
   "execution_count": 1,
   "metadata": {},
   "outputs": [
    {
     "data": {
      "text/html": [
       "<div>\n",
       "<style scoped>\n",
       "    .dataframe tbody tr th:only-of-type {\n",
       "        vertical-align: middle;\n",
       "    }\n",
       "\n",
       "    .dataframe tbody tr th {\n",
       "        vertical-align: top;\n",
       "    }\n",
       "\n",
       "    .dataframe thead th {\n",
       "        text-align: right;\n",
       "    }\n",
       "</style>\n",
       "<table border=\"1\" class=\"dataframe\">\n",
       "  <thead>\n",
       "    <tr style=\"text-align: right;\">\n",
       "      <th></th>\n",
       "      <th>Country</th>\n",
       "      <th>FactoryAssessedID</th>\n",
       "      <th>AssesmentDate</th>\n",
       "      <th>year</th>\n",
       "      <th>month</th>\n",
       "      <th>QuestID</th>\n",
       "      <th>Cluster</th>\n",
       "      <th>CP</th>\n",
       "      <th>QLabel</th>\n",
       "      <th>Finding</th>\n",
       "      <th>Tags</th>\n",
       "      <th>disclosed</th>\n",
       "      <th>Itemscleaned</th>\n",
       "      <th>CPcleaned</th>\n",
       "      <th>threestds</th>\n",
       "    </tr>\n",
       "  </thead>\n",
       "  <tbody>\n",
       "    <tr>\n",
       "      <th>0</th>\n",
       "      <td>Vietnam</td>\n",
       "      <td>1509</td>\n",
       "      <td>06/01/2015</td>\n",
       "      <td>2015</td>\n",
       "      <td>1</td>\n",
       "      <td>8009</td>\n",
       "      <td>Occupational Safety and Health</td>\n",
       "      <td>Emergency Preparedness</td>\n",
       "      <td>Are any of the emergency exits inaccessible, o...</td>\n",
       "      <td>1</td>\n",
       "      <td>Public Disclosure: Accessible unobstructed and...</td>\n",
       "      <td>1.0</td>\n",
       "      <td>Accessable unlocked emergency exits</td>\n",
       "      <td>Emergency Preparedness</td>\n",
       "      <td>1.0</td>\n",
       "    </tr>\n",
       "    <tr>\n",
       "      <th>1</th>\n",
       "      <td>Vietnam</td>\n",
       "      <td>1509</td>\n",
       "      <td>06/01/2015</td>\n",
       "      <td>2015</td>\n",
       "      <td>1</td>\n",
       "      <td>8009</td>\n",
       "      <td>Compensation</td>\n",
       "      <td>Overtime Wages</td>\n",
       "      <td>Does the employer pay workers correctly for al...</td>\n",
       "      <td>1</td>\n",
       "      <td>Public Disclosure: Payment for overtime, Thema...</td>\n",
       "      <td>1.0</td>\n",
       "      <td>Payment of overtime</td>\n",
       "      <td>Overtime Wages</td>\n",
       "      <td>1.0</td>\n",
       "    </tr>\n",
       "    <tr>\n",
       "      <th>2</th>\n",
       "      <td>Vietnam</td>\n",
       "      <td>1509</td>\n",
       "      <td>06/01/2015</td>\n",
       "      <td>2015</td>\n",
       "      <td>1</td>\n",
       "      <td>8009</td>\n",
       "      <td>Discrimination</td>\n",
       "      <td>Gender</td>\n",
       "      <td>Is the gender or marital status of a worker a ...</td>\n",
       "      <td>0</td>\n",
       "      <td>Gender: Gender discrimination (conditions of w...</td>\n",
       "      <td>1.0</td>\n",
       "      <td>Gender discrimination on conditions of work</td>\n",
       "      <td>Gender</td>\n",
       "      <td>1.0</td>\n",
       "    </tr>\n",
       "    <tr>\n",
       "      <th>3</th>\n",
       "      <td>Vietnam</td>\n",
       "      <td>1509</td>\n",
       "      <td>06/01/2015</td>\n",
       "      <td>2015</td>\n",
       "      <td>1</td>\n",
       "      <td>8009</td>\n",
       "      <td>Occupational Safety and Health</td>\n",
       "      <td>Welfare Facilities</td>\n",
       "      <td>Does the employer provide workers enough free ...</td>\n",
       "      <td>0</td>\n",
       "      <td>Public Disclosure: Providing drinking water, T...</td>\n",
       "      <td>1.0</td>\n",
       "      <td>Providing drinking water</td>\n",
       "      <td>Welfare Facilities</td>\n",
       "      <td>1.0</td>\n",
       "    </tr>\n",
       "    <tr>\n",
       "      <th>4</th>\n",
       "      <td>Vietnam</td>\n",
       "      <td>1509</td>\n",
       "      <td>06/01/2015</td>\n",
       "      <td>2015</td>\n",
       "      <td>1</td>\n",
       "      <td>8009</td>\n",
       "      <td>Freedom of Association and Collective Bargaining</td>\n",
       "      <td>Union Operations</td>\n",
       "      <td>Does the employer require workers to join a un...</td>\n",
       "      <td>0</td>\n",
       "      <td>Public Disclosure: Requiring workers to join a...</td>\n",
       "      <td>1.0</td>\n",
       "      <td>Employer requires workers to join a union</td>\n",
       "      <td>Freedom to Associate</td>\n",
       "      <td>1.0</td>\n",
       "    </tr>\n",
       "    <tr>\n",
       "      <th>...</th>\n",
       "      <td>...</td>\n",
       "      <td>...</td>\n",
       "      <td>...</td>\n",
       "      <td>...</td>\n",
       "      <td>...</td>\n",
       "      <td>...</td>\n",
       "      <td>...</td>\n",
       "      <td>...</td>\n",
       "      <td>...</td>\n",
       "      <td>...</td>\n",
       "      <td>...</td>\n",
       "      <td>...</td>\n",
       "      <td>...</td>\n",
       "      <td>...</td>\n",
       "      <td>...</td>\n",
       "    </tr>\n",
       "    <tr>\n",
       "      <th>1053599</th>\n",
       "      <td>Jordan</td>\n",
       "      <td>1430</td>\n",
       "      <td>26/08/2021</td>\n",
       "      <td>2021</td>\n",
       "      <td>8</td>\n",
       "      <td>43788</td>\n",
       "      <td>Freedom of Association and Collective Bargaining</td>\n",
       "      <td>Union Operations</td>\n",
       "      <td>Does the employer deduct union dues from worke...</td>\n",
       "      <td>0</td>\n",
       "      <td></td>\n",
       "      <td>0.0</td>\n",
       "      <td>Does the employer deduct union dues from worke...</td>\n",
       "      <td>Union Operations</td>\n",
       "      <td>3.0</td>\n",
       "    </tr>\n",
       "    <tr>\n",
       "      <th>1053600</th>\n",
       "      <td>Jordan</td>\n",
       "      <td>1430</td>\n",
       "      <td>26/08/2021</td>\n",
       "      <td>2021</td>\n",
       "      <td>8</td>\n",
       "      <td>43788</td>\n",
       "      <td>Occupational Safety and Health</td>\n",
       "      <td>Working Environment</td>\n",
       "      <td>Is the workplace adequately lit?</td>\n",
       "      <td>0</td>\n",
       "      <td></td>\n",
       "      <td>0.0</td>\n",
       "      <td>Is the workplace adequately lit?</td>\n",
       "      <td>Working Environment</td>\n",
       "      <td>3.0</td>\n",
       "    </tr>\n",
       "    <tr>\n",
       "      <th>1053601</th>\n",
       "      <td>Jordan</td>\n",
       "      <td>1430</td>\n",
       "      <td>26/08/2021</td>\n",
       "      <td>2021</td>\n",
       "      <td>8</td>\n",
       "      <td>43788</td>\n",
       "      <td>Contracts and Human Resources</td>\n",
       "      <td>Termination</td>\n",
       "      <td>Does the employer comply with legal requiremen...</td>\n",
       "      <td>0</td>\n",
       "      <td>Internal: Merged question</td>\n",
       "      <td>0.0</td>\n",
       "      <td>Does the employer comply with legal requiremen...</td>\n",
       "      <td>Termination</td>\n",
       "      <td>3.0</td>\n",
       "    </tr>\n",
       "    <tr>\n",
       "      <th>1053602</th>\n",
       "      <td>Jordan</td>\n",
       "      <td>1430</td>\n",
       "      <td>26/08/2021</td>\n",
       "      <td>2021</td>\n",
       "      <td>8</td>\n",
       "      <td>43788</td>\n",
       "      <td>Contracts and Human Resources</td>\n",
       "      <td>Contracting Procedures</td>\n",
       "      <td>Is the probationary period limited to 3 months?</td>\n",
       "      <td>0</td>\n",
       "      <td></td>\n",
       "      <td>0.0</td>\n",
       "      <td>Is the probationary period limited to 3 months?</td>\n",
       "      <td>Contracting Procedures</td>\n",
       "      <td>3.0</td>\n",
       "    </tr>\n",
       "    <tr>\n",
       "      <th>1053603</th>\n",
       "      <td>Jordan</td>\n",
       "      <td>1430</td>\n",
       "      <td>26/08/2021</td>\n",
       "      <td>2021</td>\n",
       "      <td>8</td>\n",
       "      <td>43788</td>\n",
       "      <td>Compensation</td>\n",
       "      <td>Social Security and Other Benefits</td>\n",
       "      <td>Does the employer correctly calculate and send...</td>\n",
       "      <td>1</td>\n",
       "      <td></td>\n",
       "      <td>0.0</td>\n",
       "      <td>Does the employer correctly calculate and send...</td>\n",
       "      <td>Social Security and Other Benefits</td>\n",
       "      <td>3.0</td>\n",
       "    </tr>\n",
       "  </tbody>\n",
       "</table>\n",
       "<p>1053604 rows × 15 columns</p>\n",
       "</div>"
      ],
      "text/plain": [
       "         Country  FactoryAssessedID AssesmentDate  year  month  QuestID  \\\n",
       "0        Vietnam               1509    06/01/2015  2015      1     8009   \n",
       "1        Vietnam               1509    06/01/2015  2015      1     8009   \n",
       "2        Vietnam               1509    06/01/2015  2015      1     8009   \n",
       "3        Vietnam               1509    06/01/2015  2015      1     8009   \n",
       "4        Vietnam               1509    06/01/2015  2015      1     8009   \n",
       "...          ...                ...           ...   ...    ...      ...   \n",
       "1053599   Jordan               1430    26/08/2021  2021      8    43788   \n",
       "1053600   Jordan               1430    26/08/2021  2021      8    43788   \n",
       "1053601   Jordan               1430    26/08/2021  2021      8    43788   \n",
       "1053602   Jordan               1430    26/08/2021  2021      8    43788   \n",
       "1053603   Jordan               1430    26/08/2021  2021      8    43788   \n",
       "\n",
       "                                                  Cluster  \\\n",
       "0                          Occupational Safety and Health   \n",
       "1                                            Compensation   \n",
       "2                                          Discrimination   \n",
       "3                          Occupational Safety and Health   \n",
       "4        Freedom of Association and Collective Bargaining   \n",
       "...                                                   ...   \n",
       "1053599  Freedom of Association and Collective Bargaining   \n",
       "1053600                    Occupational Safety and Health   \n",
       "1053601                     Contracts and Human Resources   \n",
       "1053602                     Contracts and Human Resources   \n",
       "1053603                                      Compensation   \n",
       "\n",
       "                                         CP  \\\n",
       "0                    Emergency Preparedness   \n",
       "1                            Overtime Wages   \n",
       "2                                    Gender   \n",
       "3                        Welfare Facilities   \n",
       "4                          Union Operations   \n",
       "...                                     ...   \n",
       "1053599                    Union Operations   \n",
       "1053600                 Working Environment   \n",
       "1053601                         Termination   \n",
       "1053602              Contracting Procedures   \n",
       "1053603  Social Security and Other Benefits   \n",
       "\n",
       "                                                    QLabel  Finding  \\\n",
       "0        Are any of the emergency exits inaccessible, o...        1   \n",
       "1        Does the employer pay workers correctly for al...        1   \n",
       "2        Is the gender or marital status of a worker a ...        0   \n",
       "3        Does the employer provide workers enough free ...        0   \n",
       "4        Does the employer require workers to join a un...        0   \n",
       "...                                                    ...      ...   \n",
       "1053599  Does the employer deduct union dues from worke...        0   \n",
       "1053600                   Is the workplace adequately lit?        0   \n",
       "1053601  Does the employer comply with legal requiremen...        0   \n",
       "1053602    Is the probationary period limited to 3 months?        0   \n",
       "1053603  Does the employer correctly calculate and send...        1   \n",
       "\n",
       "                                                      Tags  disclosed  \\\n",
       "0        Public Disclosure: Accessible unobstructed and...        1.0   \n",
       "1        Public Disclosure: Payment for overtime, Thema...        1.0   \n",
       "2        Gender: Gender discrimination (conditions of w...        1.0   \n",
       "3        Public Disclosure: Providing drinking water, T...        1.0   \n",
       "4        Public Disclosure: Requiring workers to join a...        1.0   \n",
       "...                                                    ...        ...   \n",
       "1053599                                                           0.0   \n",
       "1053600                                                           0.0   \n",
       "1053601                          Internal: Merged question        0.0   \n",
       "1053602                                                           0.0   \n",
       "1053603                                                           0.0   \n",
       "\n",
       "                                              Itemscleaned  \\\n",
       "0                      Accessable unlocked emergency exits   \n",
       "1                                      Payment of overtime   \n",
       "2              Gender discrimination on conditions of work   \n",
       "3                                 Providing drinking water   \n",
       "4                Employer requires workers to join a union   \n",
       "...                                                    ...   \n",
       "1053599  Does the employer deduct union dues from worke...   \n",
       "1053600                   Is the workplace adequately lit?   \n",
       "1053601  Does the employer comply with legal requiremen...   \n",
       "1053602    Is the probationary period limited to 3 months?   \n",
       "1053603  Does the employer correctly calculate and send...   \n",
       "\n",
       "                                  CPcleaned  threestds  \n",
       "0                    Emergency Preparedness        1.0  \n",
       "1                            Overtime Wages        1.0  \n",
       "2                                    Gender        1.0  \n",
       "3                        Welfare Facilities        1.0  \n",
       "4                      Freedom to Associate        1.0  \n",
       "...                                     ...        ...  \n",
       "1053599                    Union Operations        3.0  \n",
       "1053600                 Working Environment        3.0  \n",
       "1053601                         Termination        3.0  \n",
       "1053602              Contracting Procedures        3.0  \n",
       "1053603  Social Security and Other Benefits        3.0  \n",
       "\n",
       "[1053604 rows x 15 columns]"
      ]
     },
     "execution_count": 1,
     "metadata": {},
     "output_type": "execute_result"
    }
   ],
   "source": [
    "import pandas as pd\n",
    "\n",
    "df=pd.read_stata(\"7c.dta\")\n",
    "df"
   ]
  },
  {
   "cell_type": "code",
   "execution_count": 25,
   "metadata": {},
   "outputs": [
    {
     "data": {
      "text/plain": [
       "Country                 7\n",
       "FactoryAssessedID    1978\n",
       "AssesmentDate        1446\n",
       "year                    7\n",
       "month                  12\n",
       "QuestID              6476\n",
       "Cluster                 9\n",
       "CP                     36\n",
       "QLabel                788\n",
       "Finding                 2\n",
       "Tags                  110\n",
       "disclosed               2\n",
       "Itemscleaned          629\n",
       "CPcleaned              35\n",
       "threestds               3\n",
       "dtype: int64"
      ]
     },
     "execution_count": 25,
     "metadata": {},
     "output_type": "execute_result"
    }
   ],
   "source": [
    "df.nunique()"
   ]
  },
  {
   "cell_type": "code",
   "execution_count": 12,
   "metadata": {},
   "outputs": [
    {
     "data": {
      "text/plain": [
       "Country\n",
       "Bangladesh    [Freedom of Association and Collective Bargain...\n",
       "Cambodia      [Freedom of Association and Collective Bargain...\n",
       "Haiti         [Freedom of Association and Collective Bargain...\n",
       "Indonesia     [Occupational Safety and Health, Freedom of As...\n",
       "Jordan        [Forced Labour, Freedom of Association and Col...\n",
       "Nicaragua     [Occupational Safety and Health, Child Labour,...\n",
       "Vietnam       [Occupational Safety and Health, Compensation,...\n",
       "Name: Cluster, dtype: object"
      ]
     },
     "execution_count": 12,
     "metadata": {},
     "output_type": "execute_result"
    }
   ],
   "source": [
    "df.groupby(\"Country\").Cluster.unique()"
   ]
  },
  {
   "cell_type": "code",
   "execution_count": 10,
   "metadata": {},
   "outputs": [
    {
     "data": {
      "text/plain": [
       "Country\n",
       "Bangladesh          [2015, 2016, 2017, 2018, 2019, 2020]\n",
       "Cambodia      [2015, 2016, 2017, 2018, 2019, 2020, 2021]\n",
       "Haiti         [2015, 2016, 2017, 2018, 2019, 2020, 2021]\n",
       "Indonesia           [2015, 2016, 2017, 2018, 2019, 2020]\n",
       "Jordan        [2015, 2016, 2017, 2018, 2019, 2020, 2021]\n",
       "Nicaragua           [2015, 2016, 2017, 2018, 2019, 2020]\n",
       "Vietnam       [2015, 2016, 2017, 2018, 2019, 2020, 2021]\n",
       "Name: year, dtype: object"
      ]
     },
     "execution_count": 10,
     "metadata": {},
     "output_type": "execute_result"
    }
   ],
   "source": [
    "df.groupby(\"Country\").year.unique()"
   ]
  },
  {
   "cell_type": "code",
   "execution_count": 41,
   "metadata": {},
   "outputs": [
    {
     "data": {
      "text/html": [
       "<div>\n",
       "<style scoped>\n",
       "    .dataframe tbody tr th:only-of-type {\n",
       "        vertical-align: middle;\n",
       "    }\n",
       "\n",
       "    .dataframe tbody tr th {\n",
       "        vertical-align: top;\n",
       "    }\n",
       "\n",
       "    .dataframe thead th {\n",
       "        text-align: right;\n",
       "    }\n",
       "</style>\n",
       "<table border=\"1\" class=\"dataframe\">\n",
       "  <thead>\n",
       "    <tr style=\"text-align: right;\">\n",
       "      <th></th>\n",
       "      <th>Country</th>\n",
       "      <th>FactoryAssessedID</th>\n",
       "      <th>AssesmentDate</th>\n",
       "      <th>year</th>\n",
       "      <th>month</th>\n",
       "      <th>QuestID</th>\n",
       "      <th>Cluster</th>\n",
       "      <th>CP</th>\n",
       "      <th>QLabel</th>\n",
       "      <th>Finding</th>\n",
       "      <th>Tags</th>\n",
       "      <th>disclosed</th>\n",
       "      <th>Itemscleaned</th>\n",
       "      <th>CPcleaned</th>\n",
       "      <th>threestds</th>\n",
       "    </tr>\n",
       "  </thead>\n",
       "  <tbody>\n",
       "    <tr>\n",
       "      <th>4</th>\n",
       "      <td>Vietnam</td>\n",
       "      <td>1509</td>\n",
       "      <td>06/01/2015</td>\n",
       "      <td>2015</td>\n",
       "      <td>1</td>\n",
       "      <td>8009</td>\n",
       "      <td>Freedom of Association and Collective Bargaining</td>\n",
       "      <td>Union Operations</td>\n",
       "      <td>Does the employer require workers to join a un...</td>\n",
       "      <td>0</td>\n",
       "      <td>Public Disclosure: Requiring workers to join a...</td>\n",
       "      <td>1.0</td>\n",
       "      <td>Employer requires workers to join a union</td>\n",
       "      <td>Freedom to Associate</td>\n",
       "      <td>1.0</td>\n",
       "    </tr>\n",
       "  </tbody>\n",
       "</table>\n",
       "</div>"
      ],
      "text/plain": [
       "   Country  FactoryAssessedID AssesmentDate  year  month  QuestID  \\\n",
       "4  Vietnam               1509    06/01/2015  2015      1     8009   \n",
       "\n",
       "                                            Cluster                CP  \\\n",
       "4  Freedom of Association and Collective Bargaining  Union Operations   \n",
       "\n",
       "                                              QLabel  Finding  \\\n",
       "4  Does the employer require workers to join a un...        0   \n",
       "\n",
       "                                                Tags  disclosed  \\\n",
       "4  Public Disclosure: Requiring workers to join a...        1.0   \n",
       "\n",
       "                                Itemscleaned             CPcleaned  threestds  \n",
       "4  Employer requires workers to join a union  Freedom to Associate        1.0  "
      ]
     },
     "execution_count": 41,
     "metadata": {},
     "output_type": "execute_result"
    }
   ],
   "source": [
    "df[(df.QuestID==8009) & (df.CP != df.CPcleaned)]"
   ]
  },
  {
   "cell_type": "markdown",
   "metadata": {},
   "source": [
    "# 0. Code below will produce data contains nearly as much of info of previous data but only 20% of its size\n",
    "- Use `fid2country.json` to get country's name\n",
    "- use date to extract month and year"
   ]
  },
  {
   "cell_type": "code",
   "execution_count": 110,
   "metadata": {},
   "outputs": [],
   "source": [
    "df[[\"FactoryAssessedID\",\"AssesmentDate\",\"QuestID\",\"Cluster\",\"CP\",\"QLabel\",\"Finding\", \"Tags\",\"disclosed\"]].to_csv(\"dfs.csv\",index=False)"
   ]
  },
  {
   "cell_type": "markdown",
   "metadata": {},
   "source": [
    "## 1.\tHarmonize items under same CP:"
   ]
  },
  {
   "cell_type": "markdown",
   "metadata": {},
   "source": [
    "1. CP cleaned ~?~ CP\n",
    "2. ItemsCleaned ~?~ QLabel\n",
    "3. some columns not available\n",
    "4. under CP which are organized?"
   ]
  },
  {
   "cell_type": "code",
   "execution_count": null,
   "metadata": {},
   "outputs": [],
   "source": [
    "df.groupby(\"Country\").Itemscleaned"
   ]
  },
  {
   "cell_type": "code",
   "execution_count": 43,
   "metadata": {},
   "outputs": [
    {
     "data": {
      "text/plain": [
       "array(['Emergency Preparedness', 'Overtime Wages', 'Gender',\n",
       "       'Welfare Facilities', 'Union Operations',\n",
       "       'Chemicals and Hazardous Substances', 'Forced Labour and Overtime',\n",
       "       'Paid Leave', 'Wage Information, Use and Deduction',\n",
       "       'Interference and Discrimination',\n",
       "       'Dialogue, Discipline and Disputes', 'Coercion', 'Child Labourers',\n",
       "       'OSH Management Systems', 'Minimum Wages/Piece Rate Wages',\n",
       "       'Strikes', 'Collective Bargaining', 'Regular Hours',\n",
       "       'Social Security and Other Benefits', 'Employment Contracts',\n",
       "       'Contracting Procedures', 'Termination', 'Leave',\n",
       "       'Worker Protection', 'Working Environment',\n",
       "       'Health Services and First Aid',\n",
       "       'Hazardous Work and other Worst Forms',\n",
       "       'Religion and Political Opinion', 'Method of Payment',\n",
       "       'Worker Accommodation', 'Race and Origin', 'Other Grounds',\n",
       "       'Overtime', 'Documentation and Protection of Young Workers',\n",
       "       'Freedom to Associate', 'Hazardous Work'], dtype=object)"
      ]
     },
     "execution_count": 43,
     "metadata": {},
     "output_type": "execute_result"
    }
   ],
   "source": [
    "df.CP.unique()"
   ]
  },
  {
   "cell_type": "code",
   "execution_count": 100,
   "metadata": {},
   "outputs": [
    {
     "data": {
      "text/plain": [
       "array(['does the employer restrict workers from leaving the workplace',\n",
       "       'does the employer use threats such as deportation, cancellation of visas or reporting to the authorities in order to force workers to stay at the job',\n",
       "       'does the employer use violence or the threat of violence to intimidate workers',\n",
       "       'does the employer delay or withhold wage payments in order to coerce workers to work',\n",
       "       'does the employer force workers to work to discipline them or as punishment for participation in a strike',\n",
       "       'does the employer deny workers access to their personal documents (such as birth certificates, passports, work permits and id cards) when they need them',\n",
       "       \"does the employer restrict workers' freedom to come and go from the dormitories and/or the industrial park or zone in which the factory is located\",\n",
       "       'are workers free to terminate their employment with reasonable notice, and to leave their jobs when their contracts expire',\n",
       "       'does the employer restrict workers from leaving the workplace?'],\n",
       "      dtype=object)"
      ]
     },
     "execution_count": 100,
     "metadata": {},
     "output_type": "execute_result"
    }
   ],
   "source": [
    "df[df.CP==\"Coercion\"].QLabel.unique()"
   ]
  },
  {
   "cell_type": "code",
   "execution_count": 48,
   "metadata": {},
   "outputs": [
    {
     "data": {
      "text/plain": [
       "array(['Are any of the emergency exits inaccessible, obstructed, or locked during working hours, including overtime',\n",
       "       'Does the workplace have a fire detection and alarm system',\n",
       "       'Are there at least 2 possible exits for all workers, where required',\n",
       "       'Does the employer conduct at least one  emergency drill per year',\n",
       "       'Are emergency exits and escape routes clearly marked',\n",
       "       'Are possible sources of ignition appropriately safeguarded',\n",
       "       'Has the employer trained an appropriate number of workers to use the fire-fighting equipment',\n",
       "       'Does the employer comply with size requirements for escape routes',\n",
       "       'Does the workplace have adequate fire-fighting equipment',\n",
       "       'Are flammable materials safely stored',\n",
       "       'Has the employer developed and trained workers on an emergency evacuation plan',\n",
       "       'Are there enough emergency exits',\n",
       "       'Does the employer conduct periodic emergency drills',\n",
       "       'Are the emergency exits accessible, unobstructed and unlocked during working hours, including overtime',\n",
       "       'Are emergency exits and escape routes clearly marked and posted in the workplace',\n",
       "       'Has the employer appointed and trained a fire management team',\n",
       "       'Are the aisles and emergency exits accessible, unobstructed and unlocked during working hours, including overtime',\n",
       "       'Does the workplace have adequate and accessible fire-fighting equipment',\n",
       "       'Has the employer elaborated and implemented an emergency plan',\n",
       "       'Are floors and corridors in line with legal requirements',\n",
       "       'Are escape routes free of obstruction',\n",
       "       'Are the emergency exits accessible and unobstructed during working hours, including overtime',\n",
       "       'Are the emergency exits  unlocked during working hours, including overtime',\n",
       "       'Does the workplace have adequate fire-fighting equipment and within easy reach of workers',\n",
       "       'Are the emergency exits inaccessible and obstructed during working hours, including overtime',\n",
       "       'Are the emergency exits locked during working hours, including overtime',\n",
       "       'Are the emergency exits and escape routes accessible, unobstructed and unlocked during working hours, including overtime',\n",
       "       'Has the employer trained at least 80% of workers to use the fire-fighting equipment',\n",
       "       'Does the workplace have adequate stairways that can be used in case of emergency',\n",
       "       'Are there enough adequate emergency exit doors',\n",
       "       'Does the workplace have at least one adequate window exit per floor',\n",
       "       'Has the employer trained workers on fire fighting and rescue, formed fire fighting and rescue teams, and appointed a trained fire and rescue officer',\n",
       "       'Does the employer conduct at least one emergency drill per year',\n",
       "       'Does the workplace have a functioning fire detection and alarm system',\n",
       "       'Does the employer conduct periodic emergency drills? [differentiation question]',\n",
       "       'Are there enough emergency exits? [differentiation question]',\n",
       "       'Are the emergency exits accessible, unobstructed and unlocked during working hours, including overtime? [differentiation question]',\n",
       "       'Does the workplace have a fire detection and alarm system? [differentiation question]',\n",
       "       'Are solid flammable materials safely stored',\n",
       "       'Are any of the emergency exits or escape routes inaccessible, obstructed, or locked during working hours, including overtime',\n",
       "       'Are the emergency exits inaccessible or obstructed during working hours, including overtime',\n",
       "       'Does the workplace have adequate fire-fighting equipment that is within easy reach of workers'],\n",
       "      dtype=object)"
      ]
     },
     "execution_count": 48,
     "metadata": {},
     "output_type": "execute_result"
    }
   ],
   "source": [
    "df.QLabel=df.QLabel.str.strip(\"?\").str.replace(\"[differentiation question]\",\"\",regex=False)\\\n",
    "    .str.strip()\\\n",
    "    .str.replace(\"  \",\" \")\\\n",
    "    .str.lower()\n",
    "df[df.CP==\"Emergency Preparedness\"].QLabel.unique()"
   ]
  },
  {
   "cell_type": "code",
   "execution_count": null,
   "metadata": {},
   "outputs": [],
   "source": [
    "def cleanQLabel(val):\n",
    "    if val in [\n",
    "'Are escape routes free of obstruction',\n",
    "'Are the aisles and emergency exits accessible, unobstructed and unlocked during working hours, including overtime',\n",
    "'Are the emergency exits accessible and unobstructed during working hours, including overtime',\n",
    "'Are the emergency exits accessible, unobstructed and unlocked during working hours, including overtime',\n",
    "'Are the emergency exits accessible, unobstructed and unlocked during working hours, including overtime? [differentiation question]',\n",
    "'Are the emergency exits and escape routes accessible, unobstructed and unlocked during working hours, including overtime',\n",
    "'Are the emergency exits unlocked during working hours, including overtime',\n",
    "'Are floors and corridors in line with legal requirements']:\n",
    "        return \"accessible emergency exit?\"\n",
    "    \n",
    "    elif val in ['Are any of the emergency exits inaccessible, obstructed, or locked during working hours, including overtime',\n",
    "'Are any of the emergency exits or escape routes inaccessible, obstructed, or locked during working hours, including overtime',\n",
    "'Are the emergency exits inaccessible and obstructed during working hours, including overtime',\n",
    "'Are the emergency exits inaccessible or obstructed during working hours, including overtime',\n",
    "'Are the emergency exits locked during working hours, including overtime',]:\n",
    "        return \"inaccessible emergency exit?\"\n",
    "\n",
    "    elif val in ['Are flammable materials safely stored',\n",
    "'Are solid flammable materials safely stored',\n",
    "'Are possible sources of ignition appropriately safeguarded']:\n",
    "        return \"safe storage of flammable materials?\"\n",
    "\n",
    "    elif val in ['Are emergency exits and escape routes clearly marked',\n",
    "'Are emergency exits and escape routes clearly marked and posted in the workplace',]:\n",
    "        return \"emergency exits clearly marked?\"\n",
    "    \n",
    "    elif val in ['Are there at least 2 possible exits for all workers, where required',\n",
    "'Are there enough adequate emergency exit doors',\n",
    "'Are there enough emergency exits',\n",
    "'Are there enough emergency exits? [differentiation question]',\n",
    "'Does the workplace have adequate stairways that can be used in case of emergency',\n",
    "'Does the workplace have at least one adequate window exit per floor']:\n",
    "        return \"enough emergency exits?\"\n",
    "    \n",
    "    elif val in ['Does the employer comply with size requirements for escape routes']:\n",
    "        return \"appropriate size of escape routes?\"\n",
    "\n",
    "    elif val in ['Does the employer conduct at least one emergency drill per year',\n",
    "'Does the employer conduct periodic emergency drills',\n",
    "'Does the employer conduct periodic emergency drills? [differentiation question]',\n",
    "'Has the employer developed and trained workers on an emergency evacuation plan',\n",
    "'Has the employer elaborated and implemented an emergency plan',\n",
    "'Has the employer trained workers on fire fighting and rescue, formed fire fighting and rescue teams, and appointed a trained fire and rescue officer']:\n",
    "        return \"emergnecy drill/train/plan?\"\n",
    "\n",
    "    else:\n",
    "        return val"
   ]
  },
  {
   "cell_type": "code",
   "execution_count": 51,
   "metadata": {},
   "outputs": [
    {
     "data": {
      "text/plain": [
       "['Are any of the emergency exits inaccessible, obstructed, or locked during working hours, including overtime',\n",
       " 'Are any of the emergency exits or escape routes inaccessible, obstructed, or locked during working hours, including overtime',\n",
       " 'Are emergency exits and escape routes clearly marked',\n",
       " 'Are emergency exits and escape routes clearly marked and posted in the workplace',\n",
       " 'Are escape routes free of obstruction',\n",
       " 'Are flammable materials safely stored',\n",
       " 'Are floors and corridors in line with legal requirements',\n",
       " 'Are possible sources of ignition appropriately safeguarded',\n",
       " 'Are solid flammable materials safely stored',\n",
       " 'Are the aisles and emergency exits accessible, unobstructed and unlocked during working hours, including overtime',\n",
       " 'Are the emergency exits accessible and unobstructed during working hours, including overtime',\n",
       " 'Are the emergency exits accessible, unobstructed and unlocked during working hours, including overtime',\n",
       " 'Are the emergency exits accessible, unobstructed and unlocked during working hours, including overtime? [differentiation question]',\n",
       " 'Are the emergency exits and escape routes accessible, unobstructed and unlocked during working hours, including overtime',\n",
       " 'Are the emergency exits inaccessible and obstructed during working hours, including overtime',\n",
       " 'Are the emergency exits inaccessible or obstructed during working hours, including overtime',\n",
       " 'Are the emergency exits locked during working hours, including overtime',\n",
       " 'Are the emergency exits unlocked during working hours, including overtime',\n",
       " 'Are there at least 2 possible exits for all workers, where required',\n",
       " 'Are there enough adequate emergency exit doors',\n",
       " 'Are there enough emergency exits',\n",
       " 'Are there enough emergency exits? [differentiation question]',\n",
       " 'Does the employer comply with size requirements for escape routes',\n",
       " 'Does the employer conduct at least one emergency drill per year',\n",
       " 'Does the employer conduct periodic emergency drills',\n",
       " 'Does the employer conduct periodic emergency drills? [differentiation question]',\n",
       " 'Does the workplace have a fire detection and alarm system',\n",
       " 'Does the workplace have a fire detection and alarm system? [differentiation question]',\n",
       " 'Does the workplace have a functioning fire detection and alarm system',\n",
       " 'Does the workplace have adequate and accessible fire-fighting equipment',\n",
       " 'Does the workplace have adequate fire-fighting equipment',\n",
       " 'Does the workplace have adequate fire-fighting equipment and within easy reach of workers',\n",
       " 'Does the workplace have adequate fire-fighting equipment that is within easy reach of workers',\n",
       " 'Does the workplace have adequate stairways that can be used in case of emergency',\n",
       " 'Does the workplace have at least one adequate window exit per floor',\n",
       " 'Has the employer appointed and trained a fire management team',\n",
       " 'Has the employer developed and trained workers on an emergency evacuation plan',\n",
       " 'Has the employer elaborated and implemented an emergency plan',\n",
       " 'Has the employer trained an appropriate number of workers to use the fire-fighting equipment',\n",
       " 'Has the employer trained at least 80% of workers to use the fire-fighting equipment',\n",
       " 'Has the employer trained workers on fire fighting and rescue, formed fire fighting and rescue teams, and appointed a trained fire and rescue officer']"
      ]
     },
     "execution_count": 51,
     "metadata": {},
     "output_type": "execute_result"
    }
   ],
   "source": [
    "sorted(df[df.CP==\"Emergency Preparedness\"].QLabel.unique())"
   ]
  },
  {
   "cell_type": "markdown",
   "metadata": {},
   "source": [
    "- emergency exit/route unblock/accessible\n",
    "- enough emergency exits\n",
    "- emergency drill/training\n",
    "- decent emergency system\n",
    "- decent fire-fighting equipment\n",
    "- appropriate flammable material storage"
   ]
  },
  {
   "cell_type": "code",
   "execution_count": 52,
   "metadata": {},
   "outputs": [
    {
     "data": {
      "text/plain": [
       "['Does the employer pay all workers correctly for work on public holidays',\n",
       " 'Does the employer pay all workers other than piece rate workers double for all overtime hours worked after working 8 ordinary hours in one day, and/or 48 ordinary working hours in one week',\n",
       " 'Does the employer pay all workers other than piece rate workers double for all overtime hours worked on regular work days',\n",
       " 'Does the employer pay all workers the correct meal allowance or give them a reasonable free meal when they work overtime',\n",
       " 'Does the employer pay piece rate workers correctly for all overtime hours worked on regular work days',\n",
       " 'Does the employer pay workers 100% more than their normal wage for all for all ordinary overtime hours worked',\n",
       " 'Does the employer pay workers 100% more than their normal wage for all ordinary overtime hours worked',\n",
       " 'Does the employer pay workers 100% more than their normal wage for all overtime hours worked on weekly rest days',\n",
       " 'Does the employer pay workers 125% of their normal wage for all ordinary overtime hours worked',\n",
       " 'Does the employer pay workers 150% of their normal wage for all ordinary overtime hours worked',\n",
       " 'Does the employer pay workers 150% of their normal wage for overtime worked on weekly rest days and public holidays',\n",
       " 'Does the employer pay workers 50% above the normal wage for all ordinary overtime hours worked',\n",
       " 'Does the employer pay workers 50% above the normal wage for all ordinary overtime hours worked? [differentiation question]',\n",
       " 'Does the employer pay workers correctly for all ordinary overtime hours worked',\n",
       " 'Does the employer pay workers correctly for all overtime hours worked at night',\n",
       " 'Does the employer pay workers correctly for all overtime hours worked on public holidays',\n",
       " 'Does the employer pay workers correctly for all overtime hours worked on regular working days',\n",
       " 'Does the employer pay workers correctly for all overtime hours worked on weekly rest days',\n",
       " 'Does the employer pay workers correctly for all overtime hours worked, including overtime on regular working days, public holidays, and weekly rest days',\n",
       " 'Does the employer pay workers correctly when they take compensatory days off after working on weekly rest day(s)',\n",
       " 'Does the employer pay workers correctly when they take compensatory days off after working on weekly rest days',\n",
       " 'Does the employer pay workers double their normal wage for all hours worked on weekly rest days',\n",
       " 'Does the employer pay workers double their normal wage for all overtime hours worked at night',\n",
       " 'Does the employer provide meals and drinks of at least 1,400 calories to workers working overtime for 3 hours or more']"
      ]
     },
     "execution_count": 52,
     "metadata": {},
     "output_type": "execute_result"
    }
   ],
   "source": [
    "sorted(df[df.CP==\"Overtime Wages\"].QLabel.unique())"
   ]
  },
  {
   "cell_type": "markdown",
   "metadata": {},
   "source": [
    "- well-payed:\n",
    "  - 100%/ 50% normal\n",
    "  - 150%/125%/100% overtime\n",
    "  - correctly when day off\n",
    "- meals and drinks??"
   ]
  },
  {
   "cell_type": "markdown",
   "metadata": {},
   "source": [
    "## `ItemsCleaned`\n",
    "\n",
    "<!-- - len<30: 130581 rows\n",
    "- len<50: 305247 rows\n",
    "- len<70: 527120 rows -->"
   ]
  },
  {
   "cell_type": "code",
   "execution_count": 61,
   "metadata": {},
   "outputs": [
    {
     "data": {
      "text/plain": [
       "['Accessable unlocked emergency exits',\n",
       " 'Are floors and corridors in line with legal requirements?',\n",
       " 'Are possible sources of ignition appropriately safeguarded?',\n",
       " 'Are the emergency exits  unlocked during working hours, including overtime?',\n",
       " 'At least 2 possible emergency exits',\n",
       " 'Does the employer comply with size requirements for escape routes?',\n",
       " 'Does the workplace have adequate and accessible fire-fighting equipment?',\n",
       " 'Does the workplace have adequate fire-fighting equipment and within easy reach of workers?',\n",
       " 'Does the workplace have adequate fire-fighting equipment that is within easy reach of workers?',\n",
       " 'Does the workplace have adequate fire-fighting equipment?',\n",
       " 'Does the workplace have adequate stairways that can be used in case of emergency?',\n",
       " 'Does the workplace have at least one adequate window exit per floor?',\n",
       " 'Emergency exits/escape routes clearly marked',\n",
       " 'Fire detection and alarm system',\n",
       " 'Flammable materials safely stored',\n",
       " 'Has the employer appointed and trained a fire management team?',\n",
       " 'Has the employer developed and trained workers on an emergency evacuation plan?',\n",
       " 'Has the employer elaborated and implemented an emergency plan?',\n",
       " 'Periodic emergency drills',\n",
       " 'Trained workers on fire fighting ']"
      ]
     },
     "execution_count": 61,
     "metadata": {},
     "output_type": "execute_result"
    }
   ],
   "source": [
    "sorted(df[df.CP==\"Emergency Preparedness\"].Itemscleaned.unique())"
   ]
  },
  {
   "cell_type": "code",
   "execution_count": 81,
   "metadata": {},
   "outputs": [
    {
     "data": {
      "text/plain": [
       "Accessable unlocked emergency exits                                                                          11470\n",
       "Terminate workers due to pregnancy or maternity leave                                                         6567\n",
       "Bullying harassment                                                                                           6476\n",
       "Electrical wires/switches/plugs properly installed                                                            6476\n",
       "Does the employer threaten, intimidate, or harass workers who join a union or engage in union activities?     6476\n",
       "                                                                                                             ...  \n",
       "Do workers have a medical check within the first three months of hiring and annual medical checks?               5\n",
       "Does the employer forward workers contributions to ONA?                                                          5\n",
       "Do workers have chairs with backrests?                                                                           5\n",
       "Are workers effectively trained and encouraged to use the personal protective equipment that is provided?        5\n",
       "Do workers have suitable chairs?                                                                                 2\n",
       "Name: Itemscleaned, Length: 629, dtype: int64"
      ]
     },
     "execution_count": 81,
     "metadata": {},
     "output_type": "execute_result"
    }
   ],
   "source": [
    "df.Itemscleaned.value_counts()"
   ]
  },
  {
   "cell_type": "code",
   "execution_count": 86,
   "metadata": {},
   "outputs": [
    {
     "data": {
      "text/plain": [
       "does the employer threaten, intimidate, or harass workers who join a union or engage in union activities                                              6476\n",
       "does the employer restrict workers' freedom to come and go from the dormitories and/or the industrial park or zone in which the factory is located    6476\n",
       "does the employer restrict workers from leaving the workplace                                                                                         6441\n",
       "is the workplace adequately lit                                                                                                                       6416\n",
       "has the employer punished any workers for participating in a strike                                                                                   6370\n",
       "                                                                                                                                                      ... \n",
       "does the employer forward workers contributions to ona                                                                                                   5\n",
       "do workers have a medical check within the first three months of hiring and annual medical checks                                                        5\n",
       "does the employer pay workers 100% more than their normal wage for all ordinary overtime hours worked                                                    2\n",
       "does the employer pay at least minimum wage for regular hours of work to regular full time workers                                                       2\n",
       "do workers have suitable chairs                                                                                                                          2\n",
       "Name: QLabel, Length: 757, dtype: int64"
      ]
     },
     "execution_count": 86,
     "metadata": {},
     "output_type": "execute_result"
    }
   ],
   "source": [
    "df[\"QLabel\"].value_counts()"
   ]
  },
  {
   "cell_type": "markdown",
   "metadata": {},
   "source": [
    "## delete question asked in less than 3 years:\n",
    "```python\n",
    "# 20k+ rows:\n",
    "df.groupby('QLabel').filter(lambda x: x['year'].nunique() <= 3)\n",
    "```"
   ]
  }
 ],
 "metadata": {
  "kernelspec": {
   "display_name": "base",
   "language": "python",
   "name": "python3"
  },
  "language_info": {
   "codemirror_mode": {
    "name": "ipython",
    "version": 3
   },
   "file_extension": ".py",
   "mimetype": "text/x-python",
   "name": "python",
   "nbconvert_exporter": "python",
   "pygments_lexer": "ipython3",
   "version": "3.9.13"
  }
 },
 "nbformat": 4,
 "nbformat_minor": 2
}
