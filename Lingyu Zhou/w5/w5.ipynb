{
 "cells": [
  {
   "cell_type": "code",
   "execution_count": 1,
   "metadata": {},
   "outputs": [],
   "source": [
    "import pandas as pd"
   ]
  },
  {
   "cell_type": "markdown",
   "metadata": {},
   "source": [
    "1. could not verify, use old result\n",
    "2. could not verify &rarr; 0\n",
    "3. lorem &rarr; NA\n",
    "4. wierd number (7) &rarr; 1\n",
    "5. normal answer (need manually interpret) &rarr; 0"
   ]
  },
  {
   "cell_type": "code",
   "execution_count": 40,
   "metadata": {},
   "outputs": [],
   "source": [
    "def parse(strg):\n",
    "    strg=str(strg).lower()\n",
    "    if strg==\"7\":\n",
    "        return \"1\"\n",
    "    elif strg in [\"1.0\",\"0.0\"]:\n",
    "        return strg[0]\n",
    "    elif \"during\" in strg:\n",
    "        if \"yes.\" in strg and \"no.\" not in strg:\n",
    "            return \"1\"\n",
    "        elif \"no\" in strg and \"yes.\" not in strg:\n",
    "            return \"0\"\n",
    "        else:\n",
    "            return \"\"\n",
    "    elif \"doloremque\" in strg:\n",
    "        return \"\" \n",
    "    elif \"should\" in strg or \"recommend\" in strg:\n",
    "        return \"0\"\n",
    "    elif \"could not verify\" in strg:\n",
    "        return \"0\"\n",
    "    elif strg==\"nan\" or strg==\"\":\n",
    "        return pd.NA\n",
    "    else:\n",
    "        return strg\n",
    "\n",
    "def update(fast=True):\n",
    "    global df\n",
    "    filt=df.mngitems<13 if fast==True else df.mngitems<14\n",
    "    df.loc[filt, \"mngsum13items\"]=df.loc[filt,m13].sum(axis=1, skipna=True)\n",
    "    df.loc[filt,\"mngitems\"]=13-df.loc[filt,m13].isna().sum(axis=1)"
   ]
  },
  {
   "cell_type": "code",
   "execution_count": 46,
   "metadata": {},
   "outputs": [],
   "source": [
    "df=pd.read_csv(\"../w4/4.2matching/result0703.csv\")\n",
    "m13=df.columns[1:-2]\n",
    "oQ=[]\n",
    "for i in m13:\n",
    "    oQ.extend([x for x  in df[i].unique()]) #\n",
    "oQ=list(set(oQ))"
   ]
  },
  {
   "cell_type": "code",
   "execution_count": 47,
   "metadata": {},
   "outputs": [
    {
     "data": {
      "text/plain": [
       "13    5409\n",
       "10     473\n",
       "4      118\n",
       "1      105\n",
       "5      103\n",
       "3       76\n",
       "0       66\n",
       "9       65\n",
       "6       45\n",
       "2       23\n",
       "7        8\n",
       "12       8\n",
       "11       1\n",
       "Name: mngitems, dtype: int64"
      ]
     },
     "execution_count": 47,
     "metadata": {},
     "output_type": "execute_result"
    }
   ],
   "source": [
    "df.mngitems.value_counts()"
   ]
  },
  {
   "cell_type": "code",
   "execution_count": 24,
   "metadata": {},
   "outputs": [
    {
     "data": {
      "text/plain": [
       "{'', '0', '1', 'nan'}"
      ]
     },
     "execution_count": 24,
     "metadata": {},
     "output_type": "execute_result"
    }
   ],
   "source": [
    "set([parse(str(x)) for x in oQ])"
   ]
  },
  {
   "cell_type": "markdown",
   "metadata": {},
   "source": [
    "# replace:"
   ]
  },
  {
   "cell_type": "code",
   "execution_count": 48,
   "metadata": {},
   "outputs": [],
   "source": [
    "for i in m13:\n",
    "    df[i]=df[i].astype(str).apply(parse)\n",
    "    # df[i]=df[i].astype(int)"
   ]
  },
  {
   "cell_type": "code",
   "execution_count": 49,
   "metadata": {},
   "outputs": [
    {
     "name": "stderr",
     "output_type": "stream",
     "text": [
      "C:\\Users\\JselZ\\AppData\\Local\\Temp\\ipykernel_15476\\1825308755.py:28: FutureWarning: Dropping of nuisance columns in DataFrame reductions (with 'numeric_only=None') is deprecated; in a future version this will raise TypeError.  Select only valid columns before calling the reduction.\n",
      "  df.loc[filt, \"mngsum13items\"]=df.loc[filt,m13].sum(axis=1, skipna=True)\n"
     ]
    }
   ],
   "source": [
    "update()"
   ]
  },
  {
   "cell_type": "code",
   "execution_count": 50,
   "metadata": {},
   "outputs": [
    {
     "data": {
      "text/plain": [
       "13    5431\n",
       "10     476\n",
       "12     385\n",
       "1       90\n",
       "9       66\n",
       "0       26\n",
       "7        9\n",
       "11       7\n",
       "6        5\n",
       "4        2\n",
       "3        1\n",
       "2        1\n",
       "8        1\n",
       "Name: mngitems, dtype: int64"
      ]
     },
     "execution_count": 50,
     "metadata": {},
     "output_type": "execute_result"
    }
   ],
   "source": [
    "df.mngitems.value_counts()"
   ]
  },
  {
   "cell_type": "code",
   "execution_count": 51,
   "metadata": {},
   "outputs": [],
   "source": [
    "df.to_csv(\"result.csv\",index=False)"
   ]
  }
 ],
 "metadata": {
  "kernelspec": {
   "display_name": "base",
   "language": "python",
   "name": "python3"
  },
  "language_info": {
   "codemirror_mode": {
    "name": "ipython",
    "version": 3
   },
   "file_extension": ".py",
   "mimetype": "text/x-python",
   "name": "python",
   "nbconvert_exporter": "python",
   "pygments_lexer": "ipython3",
   "version": "3.9.13"
  }
 },
 "nbformat": 4,
 "nbformat_minor": 2
}
