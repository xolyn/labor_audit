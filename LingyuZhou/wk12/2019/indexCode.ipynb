{
 "cells": [
  {
   "cell_type": "code",
   "execution_count": 1,
   "metadata": {},
   "outputs": [
    {
     "name": "stderr",
     "output_type": "stream",
     "text": [
      "d:\\Software\\Anaconda3\\lib\\site-packages\\fuzzywuzzy\\fuzz.py:11: UserWarning: Using slow pure-python SequenceMatcher. Install python-Levenshtein to remove this warning\n",
      "  warnings.warn('Using slow pure-python SequenceMatcher. Install python-Levenshtein to remove this warning')\n"
     ]
    }
   ],
   "source": [
    "import pandas as pd\n",
    "import sqldf\n",
    "from tqdm import tqdm, trange\n",
    "from fuzzywuzzy import fuzz\n",
    "import math"
   ]
  },
  {
   "cell_type": "code",
   "execution_count": 2,
   "metadata": {},
   "outputs": [],
   "source": [
    "def toLevel(s):\n",
    "    try:      \n",
    "        if int(s)==0:\n",
    "            return 1\n",
    "        else:\n",
    "            return math.ceil(int(s)/10)\n",
    "    except:\n",
    "            return 0\n",
    "    \n",
    "def finalize():\n",
    "    global df\n",
    "    df['buyertracemx']=df[['buyer1trace','buyer2trace','buyer3trace']].max(axis=1)\n",
    "    df['buyerknowmx']=df[['buyer1know','buyer2know','buyer3know']].max(axis=1)"
   ]
  },
  {
   "cell_type": "code",
   "execution_count": 4,
   "metadata": {},
   "outputs": [],
   "source": [
    "df=pd.read_excel('../Buyers transparency new coding0822.xlsx',sheet_name='data')\n",
    "df.iloc[:, -10:] = df.iloc[:, -10:].fillna(-1)\n",
    "df.iloc[:,2:5]=df.iloc[:,2:5].fillna('')"
   ]
  },
  {
   "cell_type": "code",
   "execution_count": 5,
   "metadata": {},
   "outputs": [
    {
     "name": "stdout",
     "output_type": "stream",
     "text": [
      "[200, 200, 200, 200]\n"
     ]
    }
   ],
   "source": [
    "with open('2019info.txt') as info:\n",
    "    info=[x for x in info.read().split('#') if x!='']\n",
    "\n",
    "info={x.split('\\n')[0].strip():{y.strip().rsplit(' ',maxsplit=1)[0].strip().lower():int(y.strip().rsplit(' ',maxsplit=1)[1]) for y in x.split('\\n')[1:] if len(y.rsplit(' ',maxsplit=1))>1} for x in info}\n",
    "# info\n",
    "print([len(info[x]) for x in info])"
   ]
  },
  {
   "cell_type": "markdown",
   "metadata": {},
   "source": [
    "# direct match"
   ]
  },
  {
   "cell_type": "code",
   "execution_count": 7,
   "metadata": {},
   "outputs": [],
   "source": [
    "df['buyer1pol']=df['buyer1name'].map(info['pol'])\n",
    "df['buyer1gov']=df['buyer1name'].map(info['gov'])\n",
    "for i in '123':\n",
    "    for j in ['trace','know']:\n",
    "        df['buyer'+i+j]=df['buyer'+i+'name'].map(info[j])"
   ]
  },
  {
   "cell_type": "markdown",
   "metadata": {},
   "source": [
    "# fuzz match\n",
    "## `pol`"
   ]
  },
  {
   "cell_type": "code",
   "execution_count": 11,
   "metadata": {},
   "outputs": [
    {
     "name": "stdout",
     "output_type": "stream",
     "text": [
      "adida:adidas\n",
      "aldi:aldi süd,aldi nord\n",
      "american global logistics:american eagle,asics\n",
      "armani ga:armani\n",
      "aÃ©ropostale:aeropostale\n",
      "bcbg maxazria inc:bcbgmaxazria\n",
      "bershka bsk espana s.a:bershka\n",
      "centro de distribucion north carolina:caroll\n",
      "columbia:columbia sportswear\n",
      "costco:costco - kirkland signature\n",
      "dick's:dick's sporting goods\n",
      "george:george at asda\n",
      "gu:guess,gucci\n",
      "hanesbrands:hanes\n",
      "hansae:hanes\n",
      "helly hansen:hanes\n",
      "hermes otto international:hermès\n",
      "jc penney:jcpenney\n",
      "jordache:jordan\n",
      "kmart:kmart - attention\n",
      "kohl:kohl's\n",
      "levis:levi strauss & co\n",
      "lidl:lidl gb\n",
      "llbean:ll bean\n",
      "macys:macy's\n",
      "new york:new york & company,new yorker\n",
      "primark us:primark\n",
      "primary foreign service:primark\n",
      "s. oliver:s.oliver\n",
      "sainsbury:sainsbury's - tu clothing\n",
      "sketcher:skechers\n",
      "speed sourcing:speedo\n",
      "target australia:target\n",
      "tesco:tesco - f&f\n",
      "unitex:united colors of benetton\n",
      "urban outfitters:urban oufitters\n",
      "victoria secret:victoria's secret\n",
      "youngone corp.:youngor\n"
     ]
    }
   ],
   "source": [
    "unmatchedPol=sorted([x for x in df[df.buyer1pol.isna()].buyer1name.unique() if type(x)==str and x!=''])\n",
    "shres=75\n",
    "for i in unmatchedPol:\n",
    "    firstMatch=[x for x in info['pol'] if x[0].lower()==i[0].lower()]\n",
    "    possible=[x for x in firstMatch if fuzz.partial_ratio(i,x)>shres]\n",
    "    if len(possible)>=1:\n",
    "        print(i,\":\",end='',sep='')\n",
    "        print(*possible,sep=',')"
   ]
  },
  {
   "cell_type": "code",
   "execution_count": 214,
   "metadata": {},
   "outputs": [
    {
     "data": {
      "text/plain": [
       "{'adida': 'adidas',\n",
       " 'aeropostale': 'aéropostale',\n",
       " 'armani ga': 'armani',\n",
       " 'asics': 'asics corporation',\n",
       " 'aÃ©ropostale': 'aéropostale',\n",
       " 'bershka bsk espana s.a': 'bershka',\n",
       " 'columbia': 'columbia sportswear co',\n",
       " 'costco': 'costco – kirkland signature',\n",
       " \"dick's\": \"dick's sporting goods\",\n",
       " 'george': 'george at asda',\n",
       " 'gildan': 'gildan activewear',\n",
       " 'guess': 'guess?',\n",
       " 'hanesbrands': 'hanes',\n",
       " 'jc penney': 'jcpenney',\n",
       " 'kohl': \"kohl's\",\n",
       " 'levis': 'levi strauss & co',\n",
       " 'lidl': 'lidl uk',\n",
       " 'llbean': 'll bean',\n",
       " 'macys': \"macy's\",\n",
       " 'new york': 'new york & co.',\n",
       " 'primark us': 'primark',\n",
       " 'primary foreign service': 'primark',\n",
       " 'sainsbury': 'sainsburys – tu clothing',\n",
       " 'target australia': 'target',\n",
       " 'tesco': 'tesco – f&f',\n",
       " 'victoria secret': \"victoria's secret\"}"
      ]
     },
     "execution_count": 214,
     "metadata": {},
     "output_type": "execute_result"
    }
   ],
   "source": [
    "with open ('fuzz.txt') as fz:\n",
    "    fz=fz.read().split('\\n')\n",
    "    fz={x.split(':')[0]:x.split(':')[1] for x in fz}\n",
    "\n",
    "fz"
   ]
  },
  {
   "cell_type": "markdown",
   "metadata": {},
   "source": [
    "## `gov`:\n",
    "similar to `pol`"
   ]
  },
  {
   "cell_type": "markdown",
   "metadata": {},
   "source": [
    "## match"
   ]
  },
  {
   "cell_type": "code",
   "execution_count": 231,
   "metadata": {},
   "outputs": [],
   "source": [
    "# df.to_csv('temp0824.csv',index=0)\n",
    "df.loc[df.buyer1pol.isna(),'buyer1pol']=df.loc[df.buyer1pol.isna(),'buyer1name'].map({x:info['pol'][fz[x]] for x in fz})\n",
    "df.loc[df.buyer1gov.isna(),'buyer1gov']=df.loc[df.buyer1gov.isna(),'buyer1name'].map({x:info['gov'][fz[x]] for x in fz if fz[x] in info['gov'].keys()})\n",
    "df.loc[df.buyer1trace.isna(),'buyer1trace']=df.loc[df.buyer1trace.isna(),'buyer1name'].map({x:info['trace'][fz[x]] for x in fz if fz[x] in info['trace'].keys()})\n",
    "df.loc[df.buyer2trace.isna(),'buyer2trace']=df.loc[df.buyer2trace.isna(),'buyer2name'].map({x:info['trace'][fz[x]] for x in fz if fz[x] in info['trace'].keys()})\n",
    "df.loc[df.buyer3trace.isna(),'buyer3trace']=df.loc[df.buyer3trace.isna(),'buyer3name'].map({x:info['trace'][fz[x]] for x in fz if fz[x] in info['trace'].keys()})\n",
    "df.loc[df.buyer1know.isna(),'buyer1know']=df.loc[df.buyer1know.isna(),'buyer1name'].map({x:info['know'][fz[x]] for x in fz if fz[x] in info['know'].keys()})\n",
    "df.loc[df.buyer2know.isna(),'buyer2know']=df.loc[df.buyer2know.isna(),'buyer2name'].map({x:info['know'][fz[x]] for x in fz if fz[x] in info['know'].keys()})\n",
    "df.loc[df.buyer3know.isna(),'buyer3know']=df.loc[df.buyer3know.isna(),'buyer3name'].map({x:info['know'][fz[x]] for x in fz if fz[x] in info['know'].keys()})"
   ]
  },
  {
   "cell_type": "markdown",
   "metadata": {},
   "source": [
    "# buyer2, buyer3\n",
    "## trace"
   ]
  },
  {
   "cell_type": "code",
   "execution_count": 236,
   "metadata": {},
   "outputs": [
    {
     "name": "stdout",
     "output_type": "stream",
     "text": [
      "chaps:champion\n",
      "cohl's:chico's\n",
      "gu:gucci,guess?\n",
      "hansae:hanes\n",
      "hansoll:hanes\n",
      "jones:jack & jones\n",
      "w.angle:wrangler\n"
     ]
    }
   ],
   "source": [
    "def process(num,name,shres=75):\n",
    "    unmatched=sorted([x for x in df[df['buyer'+num+name].isna()]['buyer'+num+'name'].unique() if type(x)==str and x!=''])\n",
    "    for i in unmatched:\n",
    "        firstMatch=[x for x in info[name] if x[0].lower()==i[0].lower()]\n",
    "        possible=[x for x in firstMatch if fuzz.partial_ratio(i,x)>shres]\n",
    "        if len(possible)>=1:\n",
    "            print(i,\":\",end='',sep='')\n",
    "            print(*possible,sep=',')\n",
    "\n",
    "process('2','trace')"
   ]
  },
  {
   "cell_type": "code",
   "execution_count": 233,
   "metadata": {},
   "outputs": [],
   "source": [
    "for i in ['trace','know']:\n",
    "    for j in '23':\n",
    "        with open(i+j+'.txt') as file:\n",
    "            supp={x.split(':')[0]: x.split(':')[1] for x in file.read().split('\\n') if x!=''}\n",
    "            supp={x:info[i][supp[x]] for x in supp if supp[x] in info[i].keys()}\n",
    "            varName='buyer'+j+i\n",
    "            df.loc[df[varName].isna(),varName]=df.loc[df[varName].isna(),'buyer'+j+'name'].map(supp)  "
   ]
  },
  {
   "cell_type": "markdown",
   "metadata": {},
   "source": [
    "# ~~manual check~~"
   ]
  },
  {
   "cell_type": "markdown",
   "metadata": {},
   "source": [
    "# finalize + export"
   ]
  },
  {
   "cell_type": "code",
   "execution_count": 271,
   "metadata": {},
   "outputs": [],
   "source": [
    "# df[].apply(toLevel)\n",
    "\n",
    "for i in ['buyer1pol','buyer1gov','buyer1trace','buyer2trace','buyer3trace','buyer1know','buyer2know','buyer3know']:\n",
    "    df[i]=df[i].apply(toLevel).astype(int)"
   ]
  },
  {
   "cell_type": "code",
   "execution_count": 272,
   "metadata": {},
   "outputs": [
    {
     "data": {
      "text/html": [
       "<div>\n",
       "<style scoped>\n",
       "    .dataframe tbody tr th:only-of-type {\n",
       "        vertical-align: middle;\n",
       "    }\n",
       "\n",
       "    .dataframe tbody tr th {\n",
       "        vertical-align: top;\n",
       "    }\n",
       "\n",
       "    .dataframe thead th {\n",
       "        text-align: right;\n",
       "    }\n",
       "</style>\n",
       "<table border=\"1\" class=\"dataframe\">\n",
       "  <thead>\n",
       "    <tr style=\"text-align: right;\">\n",
       "      <th></th>\n",
       "      <th>QuestID</th>\n",
       "      <th>FactoryAssessedID</th>\n",
       "      <th>buyer1name</th>\n",
       "      <th>buyer2name</th>\n",
       "      <th>buyer3name</th>\n",
       "      <th>buyer1pol</th>\n",
       "      <th>buyer1gov</th>\n",
       "      <th>buyer1trace</th>\n",
       "      <th>buyer2trace</th>\n",
       "      <th>buyer3trace</th>\n",
       "      <th>buyertracemx</th>\n",
       "      <th>buyer1know</th>\n",
       "      <th>buyer2know</th>\n",
       "      <th>buyer3know</th>\n",
       "      <th>buyerknowmx</th>\n",
       "    </tr>\n",
       "  </thead>\n",
       "  <tbody>\n",
       "    <tr>\n",
       "      <th>0</th>\n",
       "      <td>12129</td>\n",
       "      <td>2</td>\n",
       "      <td>one jeans wear</td>\n",
       "      <td>li &amp; fung</td>\n",
       "      <td>kenneth cole</td>\n",
       "      <td>0</td>\n",
       "      <td>0</td>\n",
       "      <td>0</td>\n",
       "      <td>0</td>\n",
       "      <td>0</td>\n",
       "      <td>0</td>\n",
       "      <td>0</td>\n",
       "      <td>0</td>\n",
       "      <td>0</td>\n",
       "      <td>0</td>\n",
       "    </tr>\n",
       "    <tr>\n",
       "      <th>1</th>\n",
       "      <td>17215</td>\n",
       "      <td>2</td>\n",
       "      <td>one jeans wear</td>\n",
       "      <td>li &amp; fung</td>\n",
       "      <td>kenneth cole</td>\n",
       "      <td>0</td>\n",
       "      <td>0</td>\n",
       "      <td>0</td>\n",
       "      <td>0</td>\n",
       "      <td>0</td>\n",
       "      <td>0</td>\n",
       "      <td>0</td>\n",
       "      <td>0</td>\n",
       "      <td>0</td>\n",
       "      <td>0</td>\n",
       "    </tr>\n",
       "    <tr>\n",
       "      <th>2</th>\n",
       "      <td>22596</td>\n",
       "      <td>2</td>\n",
       "      <td>one jeans wear</td>\n",
       "      <td>li &amp; fung</td>\n",
       "      <td>kenneth cole</td>\n",
       "      <td>0</td>\n",
       "      <td>0</td>\n",
       "      <td>0</td>\n",
       "      <td>0</td>\n",
       "      <td>0</td>\n",
       "      <td>0</td>\n",
       "      <td>0</td>\n",
       "      <td>0</td>\n",
       "      <td>0</td>\n",
       "      <td>0</td>\n",
       "    </tr>\n",
       "    <tr>\n",
       "      <th>3</th>\n",
       "      <td>30133</td>\n",
       "      <td>2</td>\n",
       "      <td>one jeans wear</td>\n",
       "      <td>li &amp; fung</td>\n",
       "      <td>kenneth cole</td>\n",
       "      <td>0</td>\n",
       "      <td>0</td>\n",
       "      <td>0</td>\n",
       "      <td>0</td>\n",
       "      <td>0</td>\n",
       "      <td>0</td>\n",
       "      <td>0</td>\n",
       "      <td>0</td>\n",
       "      <td>0</td>\n",
       "      <td>0</td>\n",
       "    </tr>\n",
       "    <tr>\n",
       "      <th>4</th>\n",
       "      <td>36539</td>\n",
       "      <td>2</td>\n",
       "      <td>one jeans wear</td>\n",
       "      <td>li &amp; fung</td>\n",
       "      <td>kenneth cole</td>\n",
       "      <td>0</td>\n",
       "      <td>0</td>\n",
       "      <td>0</td>\n",
       "      <td>0</td>\n",
       "      <td>0</td>\n",
       "      <td>0</td>\n",
       "      <td>0</td>\n",
       "      <td>0</td>\n",
       "      <td>0</td>\n",
       "      <td>0</td>\n",
       "    </tr>\n",
       "    <tr>\n",
       "      <th>...</th>\n",
       "      <td>...</td>\n",
       "      <td>...</td>\n",
       "      <td>...</td>\n",
       "      <td>...</td>\n",
       "      <td>...</td>\n",
       "      <td>...</td>\n",
       "      <td>...</td>\n",
       "      <td>...</td>\n",
       "      <td>...</td>\n",
       "      <td>...</td>\n",
       "      <td>...</td>\n",
       "      <td>...</td>\n",
       "      <td>...</td>\n",
       "      <td>...</td>\n",
       "      <td>...</td>\n",
       "    </tr>\n",
       "    <tr>\n",
       "      <th>6495</th>\n",
       "      <td>43452</td>\n",
       "      <td>3722</td>\n",
       "      <td>NaN</td>\n",
       "      <td>NaN</td>\n",
       "      <td>NaN</td>\n",
       "      <td>0</td>\n",
       "      <td>0</td>\n",
       "      <td>0</td>\n",
       "      <td>0</td>\n",
       "      <td>0</td>\n",
       "      <td>0</td>\n",
       "      <td>0</td>\n",
       "      <td>0</td>\n",
       "      <td>0</td>\n",
       "      <td>0</td>\n",
       "    </tr>\n",
       "    <tr>\n",
       "      <th>6496</th>\n",
       "      <td>43553</td>\n",
       "      <td>3778</td>\n",
       "      <td>NaN</td>\n",
       "      <td>NaN</td>\n",
       "      <td>NaN</td>\n",
       "      <td>0</td>\n",
       "      <td>0</td>\n",
       "      <td>0</td>\n",
       "      <td>0</td>\n",
       "      <td>0</td>\n",
       "      <td>0</td>\n",
       "      <td>0</td>\n",
       "      <td>0</td>\n",
       "      <td>0</td>\n",
       "      <td>0</td>\n",
       "    </tr>\n",
       "    <tr>\n",
       "      <th>6497</th>\n",
       "      <td>43324</td>\n",
       "      <td>3788</td>\n",
       "      <td>NaN</td>\n",
       "      <td>NaN</td>\n",
       "      <td>NaN</td>\n",
       "      <td>0</td>\n",
       "      <td>0</td>\n",
       "      <td>0</td>\n",
       "      <td>0</td>\n",
       "      <td>0</td>\n",
       "      <td>0</td>\n",
       "      <td>0</td>\n",
       "      <td>0</td>\n",
       "      <td>0</td>\n",
       "      <td>0</td>\n",
       "    </tr>\n",
       "    <tr>\n",
       "      <th>6498</th>\n",
       "      <td>43573</td>\n",
       "      <td>3796</td>\n",
       "      <td>NaN</td>\n",
       "      <td>NaN</td>\n",
       "      <td>NaN</td>\n",
       "      <td>0</td>\n",
       "      <td>0</td>\n",
       "      <td>0</td>\n",
       "      <td>0</td>\n",
       "      <td>0</td>\n",
       "      <td>0</td>\n",
       "      <td>0</td>\n",
       "      <td>0</td>\n",
       "      <td>0</td>\n",
       "      <td>0</td>\n",
       "    </tr>\n",
       "    <tr>\n",
       "      <th>6499</th>\n",
       "      <td>43700</td>\n",
       "      <td>3820</td>\n",
       "      <td>NaN</td>\n",
       "      <td>NaN</td>\n",
       "      <td>NaN</td>\n",
       "      <td>0</td>\n",
       "      <td>0</td>\n",
       "      <td>0</td>\n",
       "      <td>0</td>\n",
       "      <td>0</td>\n",
       "      <td>0</td>\n",
       "      <td>0</td>\n",
       "      <td>0</td>\n",
       "      <td>0</td>\n",
       "      <td>0</td>\n",
       "    </tr>\n",
       "  </tbody>\n",
       "</table>\n",
       "<p>6500 rows × 15 columns</p>\n",
       "</div>"
      ],
      "text/plain": [
       "      QuestID  FactoryAssessedID      buyer1name buyer2name    buyer3name  \\\n",
       "0       12129                  2  one jeans wear  li & fung  kenneth cole   \n",
       "1       17215                  2  one jeans wear  li & fung  kenneth cole   \n",
       "2       22596                  2  one jeans wear  li & fung  kenneth cole   \n",
       "3       30133                  2  one jeans wear  li & fung  kenneth cole   \n",
       "4       36539                  2  one jeans wear  li & fung  kenneth cole   \n",
       "...       ...                ...             ...        ...           ...   \n",
       "6495    43452               3722             NaN        NaN           NaN   \n",
       "6496    43553               3778             NaN        NaN           NaN   \n",
       "6497    43324               3788             NaN        NaN           NaN   \n",
       "6498    43573               3796             NaN        NaN           NaN   \n",
       "6499    43700               3820             NaN        NaN           NaN   \n",
       "\n",
       "      buyer1pol  buyer1gov  buyer1trace  buyer2trace  buyer3trace  \\\n",
       "0             0          0            0            0            0   \n",
       "1             0          0            0            0            0   \n",
       "2             0          0            0            0            0   \n",
       "3             0          0            0            0            0   \n",
       "4             0          0            0            0            0   \n",
       "...         ...        ...          ...          ...          ...   \n",
       "6495          0          0            0            0            0   \n",
       "6496          0          0            0            0            0   \n",
       "6497          0          0            0            0            0   \n",
       "6498          0          0            0            0            0   \n",
       "6499          0          0            0            0            0   \n",
       "\n",
       "      buyertracemx  buyer1know  buyer2know  buyer3know  buyerknowmx  \n",
       "0                0           0           0           0            0  \n",
       "1                0           0           0           0            0  \n",
       "2                0           0           0           0            0  \n",
       "3                0           0           0           0            0  \n",
       "4                0           0           0           0            0  \n",
       "...            ...         ...         ...         ...          ...  \n",
       "6495             0           0           0           0            0  \n",
       "6496             0           0           0           0            0  \n",
       "6497             0           0           0           0            0  \n",
       "6498             0           0           0           0            0  \n",
       "6499             0           0           0           0            0  \n",
       "\n",
       "[6500 rows x 15 columns]"
      ]
     },
     "execution_count": 272,
     "metadata": {},
     "output_type": "execute_result"
    }
   ],
   "source": [
    "finalize()\n",
    "df"
   ]
  },
  {
   "cell_type": "code",
   "execution_count": 276,
   "metadata": {},
   "outputs": [],
   "source": [
    "df.to_csv('levels(2018).csv',index=0)"
   ]
  }
 ],
 "metadata": {
  "kernelspec": {
   "display_name": "base",
   "language": "python",
   "name": "python3"
  },
  "language_info": {
   "codemirror_mode": {
    "name": "ipython",
    "version": 3
   },
   "file_extension": ".py",
   "mimetype": "text/x-python",
   "name": "python",
   "nbconvert_exporter": "python",
   "pygments_lexer": "ipython3",
   "version": "3.9.13"
  }
 },
 "nbformat": 4,
 "nbformat_minor": 2
}
