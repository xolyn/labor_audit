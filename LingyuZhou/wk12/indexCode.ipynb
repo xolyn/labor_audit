{
 "cells": [
  {
   "cell_type": "code",
   "execution_count": 207,
   "metadata": {},
   "outputs": [],
   "source": [
    "import pandas as pd\n",
    "import sqldf\n",
    "from tqdm import tqdm, trange\n",
    "from fuzzywuzzy import fuzz"
   ]
  },
  {
   "cell_type": "code",
   "execution_count": 208,
   "metadata": {},
   "outputs": [],
   "source": [
    "df=pd.read_excel('Buyers transparency new coding0822.xlsx',sheet_name='data')\n",
    "df.iloc[:, -10:] = df.iloc[:, -10:].fillna(-1)\n",
    "df.iloc[:,2:5]=df.iloc[:,2:5].fillna('')"
   ]
  },
  {
   "cell_type": "code",
   "execution_count": 209,
   "metadata": {},
   "outputs": [],
   "source": [
    "def finalize():\n",
    "    global df\n",
    "    df['buyertracemx']=df[['buyer1trace','buyer2trace','buyer3trace']].max()\n",
    "    df['buyerknowmx']=df[['buyer1know','buyer2know','buyer3know']].max()"
   ]
  },
  {
   "cell_type": "code",
   "execution_count": 210,
   "metadata": {},
   "outputs": [
    {
     "name": "stdout",
     "output_type": "stream",
     "text": [
      "[150, 150, 150, 150]\n"
     ]
    }
   ],
   "source": [
    "with open('info.txt') as info:\n",
    "    info=[x for x in info.read().split('#') if x!='']\n",
    "\n",
    "info={x.split('\\n')[0].strip():{y.strip().rsplit(' ',maxsplit=1)[0].strip().lower():int(y.strip().rsplit(' ',maxsplit=1)[1]) for y in x.split('\\n')[1:] if len(y.rsplit(' ',maxsplit=1))>1} for x in info}\n",
    "# info\n",
    "print([len(info[x]) for x in info])"
   ]
  },
  {
   "cell_type": "markdown",
   "metadata": {},
   "source": [
    "# direct match"
   ]
  },
  {
   "cell_type": "code",
   "execution_count": 211,
   "metadata": {},
   "outputs": [],
   "source": [
    "df['buyer1pol']=df['buyer1name'].map(info['pol'])\n",
    "df['buyer1gov']=df['buyer1name'].map(info['gov'])\n",
    "for i in '123':\n",
    "    for j in ['trace','know']:\n",
    "        df['buyer'+i+j]=df['buyer'+i+'name'].map(info[j])"
   ]
  },
  {
   "cell_type": "markdown",
   "metadata": {},
   "source": [
    "# fuzz match\n",
    "## `pol`"
   ]
  },
  {
   "cell_type": "code",
   "execution_count": 213,
   "metadata": {},
   "outputs": [
    {
     "name": "stdout",
     "output_type": "stream",
     "text": [
      "adida:adidas\n",
      "aeropostale:aéropostale\n",
      "american global logistics:american eagle\n",
      "armani ga:armani\n",
      "asics:asics corporation\n",
      "aÃ©ropostale:aéropostale\n",
      "bershka bsk espana s.a:bershka\n",
      "columbia:columbia sportswear co\n",
      "costco:costco – kirkland signature\n",
      "dick's:dick's sporting goods\n",
      "george:george at asda\n",
      "gildan:gildan activewear\n",
      "gu:guess?,gucci\n",
      "guess:guess?\n",
      "hanesbrands:hanes\n",
      "hansae:hanes\n",
      "helly hansen:hanes\n",
      "hermes otto international:hermès\n",
      "jc penney:jcpenney\n",
      "jordache:jordan\n",
      "kohl:kohl's\n",
      "levis:levi strauss & co\n",
      "lidl:lidl uk\n",
      "llbean:ll bean\n",
      "macys:macy's\n",
      "new york:new york & co.,new yorker\n",
      "primark us:primark\n",
      "primary foreign service:primark\n",
      "sainsbury:sainsburys – tu clothing\n",
      "target australia:target\n",
      "tesco:tesco – f&f\n",
      "victoria secret:victoria's secret\n",
      "youngone corp.:youngor\n",
      "ys:ysl\n"
     ]
    }
   ],
   "source": [
    "unmatchedPol=sorted([x for x in df[df.buyer1pol.isna()].buyer1name.unique() if type(x)==str and x!=''])\n",
    "shres=75\n",
    "for i in unmatchedPol:\n",
    "    firstMatch=[x for x in info['pol'] if x[0].lower()==i[0].lower()]\n",
    "    possible=[x for x in firstMatch if fuzz.partial_ratio(i,x)>shres]\n",
    "    if len(possible)>=1:\n",
    "        print(i,\":\",end='',sep='')\n",
    "        print(*possible,sep=',')"
   ]
  },
  {
   "cell_type": "code",
   "execution_count": 214,
   "metadata": {},
   "outputs": [
    {
     "data": {
      "text/plain": [
       "{'adida': 'adidas',\n",
       " 'aeropostale': 'aéropostale',\n",
       " 'armani ga': 'armani',\n",
       " 'asics': 'asics corporation',\n",
       " 'aÃ©ropostale': 'aéropostale',\n",
       " 'bershka bsk espana s.a': 'bershka',\n",
       " 'columbia': 'columbia sportswear co',\n",
       " 'costco': 'costco – kirkland signature',\n",
       " \"dick's\": \"dick's sporting goods\",\n",
       " 'george': 'george at asda',\n",
       " 'gildan': 'gildan activewear',\n",
       " 'guess': 'guess?',\n",
       " 'hanesbrands': 'hanes',\n",
       " 'jc penney': 'jcpenney',\n",
       " 'kohl': \"kohl's\",\n",
       " 'levis': 'levi strauss & co',\n",
       " 'lidl': 'lidl uk',\n",
       " 'llbean': 'll bean',\n",
       " 'macys': \"macy's\",\n",
       " 'new york': 'new york & co.',\n",
       " 'primark us': 'primark',\n",
       " 'primary foreign service': 'primark',\n",
       " 'sainsbury': 'sainsburys – tu clothing',\n",
       " 'target australia': 'target',\n",
       " 'tesco': 'tesco – f&f',\n",
       " 'victoria secret': \"victoria's secret\"}"
      ]
     },
     "execution_count": 214,
     "metadata": {},
     "output_type": "execute_result"
    }
   ],
   "source": [
    "with open ('fuzz.txt') as fz:\n",
    "    fz=fz.read().split('\\n')\n",
    "    fz={x.split(':')[0]:x.split(':')[1] for x in fz}\n",
    "\n",
    "fz"
   ]
  },
  {
   "cell_type": "markdown",
   "metadata": {},
   "source": [
    "## `gov`:\n",
    "similar to `pol`"
   ]
  },
  {
   "cell_type": "markdown",
   "metadata": {},
   "source": [
    "## match"
   ]
  },
  {
   "cell_type": "code",
   "execution_count": 231,
   "metadata": {},
   "outputs": [],
   "source": [
    "# df.to_csv('temp0824.csv',index=0)\n",
    "df.loc[df.buyer1pol.isna(),'buyer1pol']=df.loc[df.buyer1pol.isna(),'buyer1name'].map({x:info['pol'][fz[x]] for x in fz})\n",
    "df.loc[df.buyer1gov.isna(),'buyer1gov']=df.loc[df.buyer1gov.isna(),'buyer1name'].map({x:info['gov'][fz[x]] for x in fz if fz[x] in info['gov'].keys()})\n",
    "df.loc[df.buyer1trace.isna(),'buyer1trace']=df.loc[df.buyer1trace.isna(),'buyer1name'].map({x:info['trace'][fz[x]] for x in fz if fz[x] in info['trace'].keys()})\n",
    "df.loc[df.buyer2trace.isna(),'buyer2trace']=df.loc[df.buyer2trace.isna(),'buyer2name'].map({x:info['trace'][fz[x]] for x in fz if fz[x] in info['trace'].keys()})\n",
    "df.loc[df.buyer3trace.isna(),'buyer3trace']=df.loc[df.buyer3trace.isna(),'buyer3name'].map({x:info['trace'][fz[x]] for x in fz if fz[x] in info['trace'].keys()})\n",
    "df.loc[df.buyer1know.isna(),'buyer1know']=df.loc[df.buyer1know.isna(),'buyer1name'].map({x:info['know'][fz[x]] for x in fz if fz[x] in info['know'].keys()})\n",
    "df.loc[df.buyer2know.isna(),'buyer2know']=df.loc[df.buyer2know.isna(),'buyer2name'].map({x:info['know'][fz[x]] for x in fz if fz[x] in info['know'].keys()})\n",
    "df.loc[df.buyer3know.isna(),'buyer3know']=df.loc[df.buyer3know.isna(),'buyer3name'].map({x:info['know'][fz[x]] for x in fz if fz[x] in info['know'].keys()})"
   ]
  },
  {
   "cell_type": "markdown",
   "metadata": {},
   "source": [
    "# buyer2, buyer3\n",
    "## trace"
   ]
  },
  {
   "cell_type": "code",
   "execution_count": 221,
   "metadata": {},
   "outputs": [
    {
     "name": "stdout",
     "output_type": "stream",
     "text": [
      "asics:asics corportaion\n",
      "chaps:champion\n",
      "cohl's:chico's\n",
      "dsg:dick's sporting goods,dillards\n",
      "g-star international:g-star\n",
      "gu:guess?,gucci\n",
      "hansae:hanes\n",
      "hansbrands:hanes\n",
      "hansoll:hanes\n",
      "jc penny:jcpenney\n",
      "jones:jack & jones\n",
      "kohls:kohl's\n",
      "levi's:levi strauss & co\n",
      "masimmo dutti:massimo dutti\n",
      "new york & company:new york & co.,new yorker\n",
      "newlook:new look\n",
      "newyorker:new york & co.,new yorker\n",
      "ovs hong kong sourcing ltd.:ovs\n",
      "s oliver:s. oliver\n",
      "stani:stadivarius\n",
      "tj- maxx:tj maxx\n",
      "tommy:tommy hilfiger\n",
      "under amour:under armour\n",
      "urban:urban outfitters\n",
      "w.angle:wrangler\n"
     ]
    }
   ],
   "source": [
    "def process(num,name,shres=75):\n",
    "    unmatched=sorted([x for x in df[df['buyer'+num+name].isna()]['buyer'+num+'name'].unique() if type(x)==str and x!=''])\n",
    "    for i in unmatched:\n",
    "        firstMatch=[x for x in info[name] if x[0].lower()==i[0].lower()]\n",
    "        possible=[x for x in firstMatch if fuzz.partial_ratio(i,x)>shres]\n",
    "        if len(possible)>=1:\n",
    "            print(i,\":\",end='',sep='')\n",
    "            print(*possible,sep=',')\n",
    "\n",
    "process('2','know')"
   ]
  },
  {
   "cell_type": "code",
   "execution_count": 233,
   "metadata": {},
   "outputs": [],
   "source": [
    "for i in ['trace','know']:\n",
    "    for j in '23':\n",
    "        with open(i+j+'.txt') as file:\n",
    "            supp={x.split(':')[0]: x.split(':')[1] for x in file.read().split('\\n') if x!=''}\n",
    "            supp={x:info[i][supp[x]] for x in supp if supp[x] in info[i].keys()}\n",
    "            varName='buyer'+j+i\n",
    "            df.loc[df[varName].isna(),varName]=df.loc[df[varName].isna(),'buyer'+j+'name'].map(supp)  "
   ]
  },
  {
   "cell_type": "markdown",
   "metadata": {},
   "source": [
    "# manual check"
   ]
  },
  {
   "cell_type": "markdown",
   "metadata": {},
   "source": [
    "# finalize + export"
   ]
  },
  {
   "cell_type": "code",
   "execution_count": null,
   "metadata": {},
   "outputs": [],
   "source": [
    "finalize()\n",
    "df.to_csv('indexCode.csv',index=0)"
   ]
  }
 ],
 "metadata": {
  "kernelspec": {
   "display_name": "base",
   "language": "python",
   "name": "python3"
  },
  "language_info": {
   "codemirror_mode": {
    "name": "ipython",
    "version": 3
   },
   "file_extension": ".py",
   "mimetype": "text/x-python",
   "name": "python",
   "nbconvert_exporter": "python",
   "pygments_lexer": "ipython3",
   "version": "3.9.13"
  }
 },
 "nbformat": 4,
 "nbformat_minor": 2
}
