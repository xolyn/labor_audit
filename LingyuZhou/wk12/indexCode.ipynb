{
 "cells": [
  {
   "cell_type": "code",
   "execution_count": 1,
   "metadata": {},
   "outputs": [],
   "source": [
    "import pandas as pd\n",
    "import sqldf\n",
    "from tqdm import tqdm, trange"
   ]
  },
  {
   "cell_type": "code",
   "execution_count": 72,
   "metadata": {},
   "outputs": [],
   "source": [
    "df=pd.read_excel('Buyers transparency new coding0822.xlsx',sheet_name='data')\n",
    "df.iloc[:, -10:] = df.iloc[:, -10:].fillna(-1)"
   ]
  },
  {
   "cell_type": "code",
   "execution_count": 74,
   "metadata": {},
   "outputs": [],
   "source": [
    "def finalize():\n",
    "    global df\n",
    "    df['buyertracemx']=df[['buyer1trace','buyer2trace','buyer3trace']].max()\n",
    "    df['buyerknowmx']=df[['buyer1know','buyer2know','buyer3know']].max()"
   ]
  },
  {
   "cell_type": "code",
   "execution_count": 81,
   "metadata": {},
   "outputs": [
    {
     "name": "stdout",
     "output_type": "stream",
     "text": [
      "[150, 150, 150, 150]\n"
     ]
    }
   ],
   "source": [
    "with open('info.txt') as info:\n",
    "    info=[x for x in info.read().split('#') if x!='']\n",
    "\n",
    "info={x.split('\\n')[0].strip():{y.strip().rsplit(' ',maxsplit=1)[0].strip().lower():int(y.strip().rsplit(' ',maxsplit=1)[1]) for y in x.split('\\n')[1:] if len(y.rsplit(' ',maxsplit=1))>1} for x in info}\n",
    "# info\n",
    "print([len(info[x]) for x in info])"
   ]
  },
  {
   "cell_type": "markdown",
   "metadata": {},
   "source": [
    "# direct match"
   ]
  },
  {
   "cell_type": "code",
   "execution_count": 83,
   "metadata": {},
   "outputs": [
    {
     "data": {
      "text/plain": [
       "array([nan,  0., 35., 11.,  6., 13., 46., 48., 32.,  1., 19., 12., 47.,\n",
       "       20., 24., 27., 39., 49., 22., 21., 34.])"
      ]
     },
     "execution_count": 83,
     "metadata": {},
     "output_type": "execute_result"
    }
   ],
   "source": [
    "df['buyer1pol']=df['buyer1name'].map(info['pol'])\n",
    "df['buyer1gov']=df['buyer1name'].map(info['gov'])\n",
    "for i in '123':\n",
    "    for j in ['trace','know']:\n",
    "        df['buyer'+i+j]=df['buyer'+i+'name'].map(info[j])"
   ]
  },
  {
   "cell_type": "markdown",
   "metadata": {},
   "source": [
    "# fuzz match"
   ]
  },
  {
   "cell_type": "markdown",
   "metadata": {},
   "source": [
    "# manual check"
   ]
  },
  {
   "cell_type": "markdown",
   "metadata": {},
   "source": [
    "# finalize + export"
   ]
  },
  {
   "cell_type": "code",
   "execution_count": null,
   "metadata": {},
   "outputs": [],
   "source": [
    "finalize()\n",
    "df.to_csv('indexCode.csv',index=0)"
   ]
  }
 ],
 "metadata": {
  "kernelspec": {
   "display_name": "base",
   "language": "python",
   "name": "python3"
  },
  "language_info": {
   "codemirror_mode": {
    "name": "ipython",
    "version": 3
   },
   "file_extension": ".py",
   "mimetype": "text/x-python",
   "name": "python",
   "nbconvert_exporter": "python",
   "pygments_lexer": "ipython3",
   "version": "3.9.13"
  }
 },
 "nbformat": 4,
 "nbformat_minor": 2
}
