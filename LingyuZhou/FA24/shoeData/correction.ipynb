{
 "cells": [
  {
   "cell_type": "code",
   "execution_count": 1,
   "metadata": {},
   "outputs": [],
   "source": [
    "import pandas as pd\n",
    "import matplotlib.pyplot as plt\n",
    "from tqdm import tqdm\n",
    "import os\n",
    "import numpy as np\n",
    "plt.rcParams['font.family']='Arial'"
   ]
  },
  {
   "cell_type": "code",
   "execution_count": 5,
   "metadata": {},
   "outputs": [
    {
     "data": {
      "text/plain": [
       "{'mbordering': {'Rhino': '3',\n",
       "  'Bull': '3',\n",
       "  'Crown': '3',\n",
       "  'Sparky': '3',\n",
       "  'T4 FSPL': '2',\n",
       "  'Tampa': '3'},\n",
       " 'mbleadtime': {'Rhino': '2',\n",
       "  'Bull': '2',\n",
       "  'Crown': '2',\n",
       "  'Sparky': '2',\n",
       "  'T4 FSPL': '1',\n",
       "  'Tampa': '2'},\n",
       " 'mbpricing': {'Rhino': '3',\n",
       "  'Bull': '2.5',\n",
       "  'Crown': '3',\n",
       "  'Sparky': '2.5',\n",
       "  'T4 FSPL': '1',\n",
       "  'Tampa': '3'},\n",
       " 'mbpay': {'Rhino': '1',\n",
       "  'Bull': '2',\n",
       "  'Crown': '2',\n",
       "  'Sparky': '2',\n",
       "  'T4 FSPL': '3',\n",
       "  'Tampa': '3'}}"
      ]
     },
     "execution_count": 5,
     "metadata": {},
     "output_type": "execute_result"
    }
   ],
   "source": [
    "extend=pd.read_csv('wages_extend_month.csv')\n",
    "charge=pd.read_csv('wages_charge_month.csv')\n",
    "scores=pd.read_excel(\"buyer scoring1.xlsx\",sheet_name='scoresCleaned')\n",
    "scores=scores.replace(r\"\\xa0\", '', regex=True)\n",
    "scores=scores.set_index('buyer').to_dict()\n",
    "scores"
   ]
  },
  {
   "cell_type": "code",
   "execution_count": 8,
   "metadata": {},
   "outputs": [
    {
     "data": {
      "text/plain": [
       "0    NaN\n",
       "2    NaN\n",
       "13   NaN\n",
       "14   NaN\n",
       "15   NaN\n",
       "Name: mbpricing, dtype: float64"
      ]
     },
     "execution_count": 8,
     "metadata": {},
     "output_type": "execute_result"
    }
   ],
   "source": [
    "extend.loc[extend.cus1=='Curfu','mbpricing']"
   ]
  },
  {
   "cell_type": "code",
   "execution_count": 9,
   "metadata": {},
   "outputs": [
    {
     "name": "stderr",
     "output_type": "stream",
     "text": [
      "C:\\Users\\JselZ\\AppData\\Local\\Temp\\ipykernel_26564\\39832140.py:1: FutureWarning: Setting an item of incompatible dtype is deprecated and will raise an error in a future version of pandas. Value '['2.5' '3' '3' '2.5' '3']' has dtype incompatible with float64, please explicitly cast to a compatible dtype first.\n",
      "  extend.loc[extend.cus1=='Curfu','mbpricing']=extend.loc[extend.cus1=='Curfu','cus2'].map(scores['mbpricing'])\n",
      "C:\\Users\\JselZ\\AppData\\Local\\Temp\\ipykernel_26564\\39832140.py:2: FutureWarning: Setting an item of incompatible dtype is deprecated and will raise an error in a future version of pandas. Value '['2' '1' '1' '2' '1']' has dtype incompatible with float64, please explicitly cast to a compatible dtype first.\n",
      "  extend.loc[extend.cus1=='Curfu','mbpay']=extend.loc[extend.cus1=='Curfu','cus2'].map(scores['mbpay'])\n"
     ]
    }
   ],
   "source": [
    "extend.loc[extend.cus1=='Curfu','mbpricing']=extend.loc[extend.cus1=='Curfu','cus2'].map(scores['mbpricing'])\n",
    "extend.loc[extend.cus1=='Curfu','mbpay']=extend.loc[extend.cus1=='Curfu','cus2'].map(scores['mbpay'])"
   ]
  },
  {
   "cell_type": "code",
   "execution_count": 10,
   "metadata": {},
   "outputs": [
    {
     "data": {
      "text/plain": [
       "0     2.5\n",
       "2       3\n",
       "13      3\n",
       "14    2.5\n",
       "15      3\n",
       "Name: mbpricing, dtype: object"
      ]
     },
     "execution_count": 10,
     "metadata": {},
     "output_type": "execute_result"
    }
   ],
   "source": [
    "extend.loc[extend.cus1=='Curfu','mbpricing']"
   ]
  },
  {
   "cell_type": "code",
   "execution_count": 11,
   "metadata": {},
   "outputs": [],
   "source": [
    "extend.to_csv('extend_cus1mb_imputed.csv',index=False)\n",
    "charge.to_csv('charge_cus1mb_imputed.csv',index=False)"
   ]
  },
  {
   "cell_type": "markdown",
   "metadata": {},
   "source": [
    "## create new df"
   ]
  },
  {
   "cell_type": "code",
   "execution_count": 13,
   "metadata": {},
   "outputs": [],
   "source": [
    "wage2010=pd.read_excel('1002shoes extend 2021.12 data.xlsx',sheet_name='2021data')"
   ]
  },
  {
   "cell_type": "code",
   "execution_count": 19,
   "metadata": {},
   "outputs": [
    {
     "data": {
      "text/html": [
       "<div>\n",
       "<style scoped>\n",
       "    .dataframe tbody tr th:only-of-type {\n",
       "        vertical-align: middle;\n",
       "    }\n",
       "\n",
       "    .dataframe tbody tr th {\n",
       "        vertical-align: top;\n",
       "    }\n",
       "\n",
       "    .dataframe thead th {\n",
       "        text-align: right;\n",
       "    }\n",
       "</style>\n",
       "<table border=\"1\" class=\"dataframe\">\n",
       "  <thead>\n",
       "    <tr style=\"text-align: right;\">\n",
       "      <th></th>\n",
       "      <th>conveyor</th>\n",
       "      <th>pairs</th>\n",
       "      <th>sales</th>\n",
       "    </tr>\n",
       "  </thead>\n",
       "  <tbody>\n",
       "    <tr>\n",
       "      <th>0</th>\n",
       "      <td>A-1</td>\n",
       "      <td>31051</td>\n",
       "      <td>383951.644941</td>\n",
       "    </tr>\n",
       "    <tr>\n",
       "      <th>1</th>\n",
       "      <td>A-2</td>\n",
       "      <td>15368</td>\n",
       "      <td>225185.099188</td>\n",
       "    </tr>\n",
       "    <tr>\n",
       "      <th>2</th>\n",
       "      <td>A-3</td>\n",
       "      <td>41913</td>\n",
       "      <td>732464.662216</td>\n",
       "    </tr>\n",
       "    <tr>\n",
       "      <th>3</th>\n",
       "      <td>A-4</td>\n",
       "      <td>19698</td>\n",
       "      <td>345787.651706</td>\n",
       "    </tr>\n",
       "    <tr>\n",
       "      <th>4</th>\n",
       "      <td>B-1</td>\n",
       "      <td>13301</td>\n",
       "      <td>265554.892939</td>\n",
       "    </tr>\n",
       "    <tr>\n",
       "      <th>5</th>\n",
       "      <td>B-2</td>\n",
       "      <td>13593</td>\n",
       "      <td>188553.446728</td>\n",
       "    </tr>\n",
       "    <tr>\n",
       "      <th>6</th>\n",
       "      <td>B-3</td>\n",
       "      <td>13060</td>\n",
       "      <td>247815.107384</td>\n",
       "    </tr>\n",
       "    <tr>\n",
       "      <th>7</th>\n",
       "      <td>B-4</td>\n",
       "      <td>20454</td>\n",
       "      <td>325605.597566</td>\n",
       "    </tr>\n",
       "    <tr>\n",
       "      <th>8</th>\n",
       "      <td>C-1</td>\n",
       "      <td>21520</td>\n",
       "      <td>335088.824503</td>\n",
       "    </tr>\n",
       "    <tr>\n",
       "      <th>9</th>\n",
       "      <td>C-2</td>\n",
       "      <td>26695</td>\n",
       "      <td>428045.169748</td>\n",
       "    </tr>\n",
       "    <tr>\n",
       "      <th>10</th>\n",
       "      <td>C-3</td>\n",
       "      <td>14368</td>\n",
       "      <td>242096.521854</td>\n",
       "    </tr>\n",
       "    <tr>\n",
       "      <th>11</th>\n",
       "      <td>C-4</td>\n",
       "      <td>19168</td>\n",
       "      <td>312034.063553</td>\n",
       "    </tr>\n",
       "    <tr>\n",
       "      <th>12</th>\n",
       "      <td>C-5</td>\n",
       "      <td>17322</td>\n",
       "      <td>269894.958666</td>\n",
       "    </tr>\n",
       "    <tr>\n",
       "      <th>13</th>\n",
       "      <td>C-6</td>\n",
       "      <td>9089</td>\n",
       "      <td>133445.778316</td>\n",
       "    </tr>\n",
       "    <tr>\n",
       "      <th>14</th>\n",
       "      <td>P-1</td>\n",
       "      <td>2540</td>\n",
       "      <td>14317.779655</td>\n",
       "    </tr>\n",
       "    <tr>\n",
       "      <th>15</th>\n",
       "      <td>P-2</td>\n",
       "      <td>898</td>\n",
       "      <td>3524.211002</td>\n",
       "    </tr>\n",
       "    <tr>\n",
       "      <th>16</th>\n",
       "      <td>P-3</td>\n",
       "      <td>9300</td>\n",
       "      <td>74594.997597</td>\n",
       "    </tr>\n",
       "    <tr>\n",
       "      <th>17</th>\n",
       "      <td>P-4</td>\n",
       "      <td>5808</td>\n",
       "      <td>45096.479404</td>\n",
       "    </tr>\n",
       "  </tbody>\n",
       "</table>\n",
       "</div>"
      ],
      "text/plain": [
       "   conveyor  pairs          sales\n",
       "0       A-1  31051  383951.644941\n",
       "1       A-2  15368  225185.099188\n",
       "2       A-3  41913  732464.662216\n",
       "3       A-4  19698  345787.651706\n",
       "4       B-1  13301  265554.892939\n",
       "5       B-2  13593  188553.446728\n",
       "6       B-3  13060  247815.107384\n",
       "7       B-4  20454  325605.597566\n",
       "8       C-1  21520  335088.824503\n",
       "9       C-2  26695  428045.169748\n",
       "10      C-3  14368  242096.521854\n",
       "11      C-4  19168  312034.063553\n",
       "12      C-5  17322  269894.958666\n",
       "13      C-6   9089  133445.778316\n",
       "14      P-1   2540   14317.779655\n",
       "15      P-2    898    3524.211002\n",
       "16      P-3   9300   74594.997597\n",
       "17      P-4   5808   45096.479404"
      ]
     },
     "execution_count": 19,
     "metadata": {},
     "output_type": "execute_result"
    }
   ],
   "source": [
    "wage2010['sales']=wage2010['pairs']*wage2010['priceUSD']\n",
    "summ=pd.DataFrame(wage2010.groupby('conveyor')[['pairs','sales']].sum()).reset_index()\n",
    "\n",
    "summ"
   ]
  },
  {
   "cell_type": "code",
   "execution_count": 21,
   "metadata": {},
   "outputs": [],
   "source": [
    "for i,r in summ.iterrows():\n",
    "    filteredDF=wage2010[wage2010.conveyor==r.conveyor]\n",
    "    summ.loc[i,'numBuyers']=filteredDF.buyername.nunique()\n",
    "    summ.loc[i,'numStyles']=filteredDF.stylecode.nunique()\n",
    "    summ.loc[i,'numArtno']=filteredDF.artno.nunique()\n",
    "    summ.loc[i,'numBatches']=filteredDF.batch.nunique()\n",
    "    # nbyr=filteredDF.buyername.nunique()\n",
    "    # ns=filteredDF.stylecode.nunique()\n",
    "    # na=  filteredDF.artno.nunique()\n",
    "    # nbat=filteredDF.batch.nunique()\n"
   ]
  },
  {
   "cell_type": "code",
   "execution_count": 23,
   "metadata": {},
   "outputs": [],
   "source": [
    "summ.to_csv('2010vars.csv',index=0)"
   ]
  }
 ],
 "metadata": {
  "kernelspec": {
   "display_name": "Python 3",
   "language": "python",
   "name": "python3"
  },
  "language_info": {
   "codemirror_mode": {
    "name": "ipython",
    "version": 3
   },
   "file_extension": ".py",
   "mimetype": "text/x-python",
   "name": "python",
   "nbconvert_exporter": "python",
   "pygments_lexer": "ipython3",
   "version": "3.12.5"
  }
 },
 "nbformat": 4,
 "nbformat_minor": 2
}
