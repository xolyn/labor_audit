{
 "cells": [
  {
   "cell_type": "code",
   "execution_count": 1,
   "metadata": {},
   "outputs": [],
   "source": [
    "import pandas as pd\n",
    "import os \n",
    "from tqdm import tqdm\n",
    "import numpy as np"
   ]
  },
  {
   "cell_type": "code",
   "execution_count": 2,
   "metadata": {},
   "outputs": [
    {
     "data": {
      "text/html": [
       "<div>\n",
       "<style scoped>\n",
       "    .dataframe tbody tr th:only-of-type {\n",
       "        vertical-align: middle;\n",
       "    }\n",
       "\n",
       "    .dataframe tbody tr th {\n",
       "        vertical-align: top;\n",
       "    }\n",
       "\n",
       "    .dataframe thead th {\n",
       "        text-align: right;\n",
       "    }\n",
       "</style>\n",
       "<table border=\"1\" class=\"dataframe\">\n",
       "  <thead>\n",
       "    <tr style=\"text-align: right;\">\n",
       "      <th></th>\n",
       "      <th>conveyor</th>\n",
       "      <th>month</th>\n",
       "      <th>all_salary</th>\n",
       "      <th>workers</th>\n",
       "      <th>avg_pay</th>\n",
       "      <th>attrition</th>\n",
       "      <th>cus1</th>\n",
       "      <th>cus1ps</th>\n",
       "      <th>cus2</th>\n",
       "      <th>cus2ps</th>\n",
       "      <th>cus3</th>\n",
       "      <th>cus3ps</th>\n",
       "      <th>cus4</th>\n",
       "      <th>cus4ps</th>\n",
       "      <th>cus5</th>\n",
       "      <th>cus5ps</th>\n",
       "      <th>allps</th>\n",
       "    </tr>\n",
       "  </thead>\n",
       "  <tbody>\n",
       "    <tr>\n",
       "      <th>0</th>\n",
       "      <td>A-1</td>\n",
       "      <td>1</td>\n",
       "      <td>1119218.3</td>\n",
       "      <td>126</td>\n",
       "      <td>8882.684921</td>\n",
       "      <td>NaN</td>\n",
       "      <td>NaN</td>\n",
       "      <td>NaN</td>\n",
       "      <td>NaN</td>\n",
       "      <td>NaN</td>\n",
       "      <td>NaN</td>\n",
       "      <td>NaN</td>\n",
       "      <td>NaN</td>\n",
       "      <td>NaN</td>\n",
       "      <td>NaN</td>\n",
       "      <td>NaN</td>\n",
       "      <td>NaN</td>\n",
       "    </tr>\n",
       "    <tr>\n",
       "      <th>1</th>\n",
       "      <td>A-1</td>\n",
       "      <td>2</td>\n",
       "      <td>1059743.7</td>\n",
       "      <td>114</td>\n",
       "      <td>9295.997368</td>\n",
       "      <td>9.52381</td>\n",
       "      <td>NaN</td>\n",
       "      <td>NaN</td>\n",
       "      <td>NaN</td>\n",
       "      <td>NaN</td>\n",
       "      <td>NaN</td>\n",
       "      <td>NaN</td>\n",
       "      <td>NaN</td>\n",
       "      <td>NaN</td>\n",
       "      <td>NaN</td>\n",
       "      <td>NaN</td>\n",
       "      <td>NaN</td>\n",
       "    </tr>\n",
       "    <tr>\n",
       "      <th>2</th>\n",
       "      <td>A-1</td>\n",
       "      <td>3</td>\n",
       "      <td>1042766.2</td>\n",
       "      <td>117</td>\n",
       "      <td>8912.531624</td>\n",
       "      <td>0.00000</td>\n",
       "      <td>NaN</td>\n",
       "      <td>NaN</td>\n",
       "      <td>NaN</td>\n",
       "      <td>NaN</td>\n",
       "      <td>NaN</td>\n",
       "      <td>NaN</td>\n",
       "      <td>NaN</td>\n",
       "      <td>NaN</td>\n",
       "      <td>NaN</td>\n",
       "      <td>NaN</td>\n",
       "      <td>NaN</td>\n",
       "    </tr>\n",
       "  </tbody>\n",
       "</table>\n",
       "</div>"
      ],
      "text/plain": [
       "  conveyor  month  all_salary  workers      avg_pay  attrition  cus1  cus1ps  \\\n",
       "0      A-1      1   1119218.3      126  8882.684921        NaN   NaN     NaN   \n",
       "1      A-1      2   1059743.7      114  9295.997368    9.52381   NaN     NaN   \n",
       "2      A-1      3   1042766.2      117  8912.531624    0.00000   NaN     NaN   \n",
       "\n",
       "   cus2  cus2ps  cus3  cus3ps  cus4  cus4ps  cus5  cus5ps  allps  \n",
       "0   NaN     NaN   NaN     NaN   NaN     NaN   NaN     NaN    NaN  \n",
       "1   NaN     NaN   NaN     NaN   NaN     NaN   NaN     NaN    NaN  \n",
       "2   NaN     NaN   NaN     NaN   NaN     NaN   NaN     NaN    NaN  "
      ]
     },
     "execution_count": 2,
     "metadata": {},
     "output_type": "execute_result"
    }
   ],
   "source": [
    "df=pd.read_excel('0919 shoes data and codebook.xlsx',sheet_name='wages')\n",
    "df.head(3)"
   ]
  },
  {
   "cell_type": "code",
   "execution_count": 8,
   "metadata": {},
   "outputs": [
    {
     "data": {
      "text/plain": [
       "pandas._libs.missing.NAType"
      ]
     },
     "execution_count": 8,
     "metadata": {},
     "output_type": "execute_result"
    }
   ],
   "source": [
    "type(pd.NA)"
   ]
  },
  {
   "cell_type": "code",
   "execution_count": 21,
   "metadata": {},
   "outputs": [
    {
     "data": {
      "text/plain": [
       "0           NaN\n",
       "1      0.095238\n",
       "2      0.000000\n",
       "3      0.008547\n",
       "4      0.000000\n",
       "         ...   \n",
       "125    0.173913\n",
       "126         NaN\n",
       "127    0.000000\n",
       "128    0.000000\n",
       "129    0.000000\n",
       "Name: attrition, Length: 130, dtype: float64"
      ]
     },
     "execution_count": 21,
     "metadata": {},
     "output_type": "execute_result"
    }
   ],
   "source": [
    "def f(x):\n",
    "    if x<0:\n",
    "        return -x\n",
    "    elif x>0:\n",
    "        return 0\n",
    "    else:\n",
    "        return x\n",
    "\n",
    "df.attrition=df.groupby('conveyor').workers.pct_change().apply(f)\n",
    "\n",
    "df.attrition"
   ]
  }
 ],
 "metadata": {
  "kernelspec": {
   "display_name": "base",
   "language": "python",
   "name": "python3"
  },
  "language_info": {
   "codemirror_mode": {
    "name": "ipython",
    "version": 3
   },
   "file_extension": ".py",
   "mimetype": "text/x-python",
   "name": "python",
   "nbconvert_exporter": "python",
   "pygments_lexer": "ipython3",
   "version": "3.9.13"
  }
 },
 "nbformat": 4,
 "nbformat_minor": 2
}
