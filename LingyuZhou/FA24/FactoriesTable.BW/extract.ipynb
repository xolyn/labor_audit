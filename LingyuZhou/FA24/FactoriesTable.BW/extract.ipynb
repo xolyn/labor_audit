{
 "cells": [
  {
   "cell_type": "code",
   "execution_count": 59,
   "metadata": {},
   "outputs": [],
   "source": [
    "import pdfplumber\n",
    "from collections import Counter\n",
    "import pandas as pd\n",
    "from tqdm import tqdm\n",
    "import os"
   ]
  },
  {
   "cell_type": "markdown",
   "metadata": {},
   "source": [
    "# adidas:"
   ]
  },
  {
   "cell_type": "code",
   "execution_count": null,
   "metadata": {},
   "outputs": [],
   "source": [
    "adidas2017result=[]\n",
    "with pdfplumber.open('files/Adidas 2007_November_Factory_List.pdf') as adidas2017:\n",
    "    for page in adidas2017.pages:\n",
    "        tables = page.extract_table()\n",
    "        adidas2017result.extend([x[0].replace('\\n',' ') for x in tables if x[0] and x[0].strip() not in ['','Country']])\n",
    "\n",
    "adidas2017result=Counter(adidas2017result)\n",
    "# correction:\n",
    "adidas2017result['China']+=1"
   ]
  },
  {
   "cell_type": "code",
   "execution_count": 96,
   "metadata": {},
   "outputs": [],
   "source": [
    "adidas=pd.DataFrame(adidas2017result,index=['Adidas 2017']).T.reset_index().rename(columns={'index': 'Country'})"
   ]
  },
  {
   "cell_type": "code",
   "execution_count": 97,
   "metadata": {},
   "outputs": [
    {
     "name": "stderr",
     "output_type": "stream",
     "text": [
      "  0%|          | 0/3 [00:00<?, ?it/s]"
     ]
    },
    {
     "name": "stdout",
     "output_type": "stream",
     "text": [
      "processing Adidas 2009_July_Licensee_Factory_List.pdf\n",
      "1\n"
     ]
    },
    {
     "name": "stderr",
     "output_type": "stream",
     "text": [
      " 33%|███▎      | 1/3 [00:00<00:01,  1.27it/s]"
     ]
    },
    {
     "name": "stdout",
     "output_type": "stream",
     "text": [
      "processing Adidas 2010_Jan_Licensee_Factory_List.pdf\n",
      "1\n"
     ]
    },
    {
     "name": "stderr",
     "output_type": "stream",
     "text": [
      " 67%|██████▋   | 2/3 [00:01<00:00,  1.22it/s]"
     ]
    },
    {
     "name": "stdout",
     "output_type": "stream",
     "text": [
      "processing Adidas 2012_Jan_ Licensee_Factory_List.pdf\n",
      "1\n"
     ]
    },
    {
     "name": "stderr",
     "output_type": "stream",
     "text": [
      "100%|██████████| 3/3 [00:02<00:00,  1.09it/s]\n"
     ]
    }
   ],
   "source": [
    "for fileName in tqdm([x for x in os.listdir('files') if x.startswith('Adidas') and '2007' not in x and '2022' not in x]):\n",
    "    colName=fileName.split('_')[0]\n",
    "    result=[]\n",
    "    with pdfplumber.open(f'files/{fileName}') as adidastemp:\n",
    "        print(f'processing {fileName}')\n",
    "        for page in adidastemp.pages:\n",
    "            tables = page.extract_table()\n",
    "            if not result:\n",
    "                countryIndex=[x for x in tables if 'Country' in x][0].index('Country')\n",
    "                print(countryIndex)\n",
    "            result.extend([x[countryIndex].replace('\\n',' ') for x in tables if x[countryIndex] and x[countryIndex].strip() not in ['','Country']])\n",
    "        result=pd.DataFrame(Counter(result),index=[colName]).T.reset_index().rename(columns={'index': 'Country'})\n",
    "        adidas=pd.merge(adidas, result, on='Country', how='outer')"
   ]
  },
  {
   "cell_type": "code",
   "execution_count": 99,
   "metadata": {},
   "outputs": [],
   "source": [
    "adidas.to_excel('adidas.xlsx',index=0)"
   ]
  }
 ],
 "metadata": {
  "kernelspec": {
   "display_name": "Python 3",
   "language": "python",
   "name": "python3"
  },
  "language_info": {
   "codemirror_mode": {
    "name": "ipython",
    "version": 3
   },
   "file_extension": ".py",
   "mimetype": "text/x-python",
   "name": "python",
   "nbconvert_exporter": "python",
   "pygments_lexer": "ipython3",
   "version": "3.12.5"
  }
 },
 "nbformat": 4,
 "nbformat_minor": 2
}
