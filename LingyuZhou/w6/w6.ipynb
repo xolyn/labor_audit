{
 "cells": [
  {
   "cell_type": "code",
   "execution_count": 3,
   "metadata": {},
   "outputs": [],
   "source": [
    "import os\n",
    "import pandas as pd"
   ]
  },
  {
   "cell_type": "markdown",
   "metadata": {},
   "source": [
    "| var | desc | req. |\n",
    "| ----------- | -------------- |------------------ |\n",
    "| style_mix     | count the number of unique styles in each year-month for each factory.                                                                                                                           | This is to be calculated from the variable \"Style\" for each factory in data2 dataset.        |\n",
    "| order_batches | count the number of order batches in each year-month for each factory                                                                                                                            | This is to be calculated from the variable \"Order#\" for each factory in data2 dataset.       |\n",
    "| order_quant   | the total order quantity (in paires or pieces) in each year-month for each factory                                                                                                               | This is to be calculated from the variable \"Quantity\" for each factory in data2 dataset.     |\n",
    "| lead_timeim   | the weighted ideal lead time in each month for each factory; the weight for each lead time is the percentage of \"quantity\" for the particular order among the total order quantity in the month. | calculation: (lead_timei(1) x weight1) + (lead_timei(2) x weight2)…..                        |\n",
    "| lead_timenm   | the weighted buyer lead time in each month for each factory.                                                                                                                                     | weight and calculation are the same as above                                                 |\n",
    "| lead_timecm   | the weighted factory confirmed lead time in each month for each factory                                                                                                                          | weight and calculation are the same as above                                                 |\n",
    "| ------              | **The following three variables are to be calculated for each order in data2 (not for each month)**                                                                                      |-----\n",
    "| lead_timei    | the number of days from release of order to ideal customer target ontime delivery for each order.                                                                                                | Calculation with variables in data2: \"Customer Target XFD (CTXFD)\"-\"Release Date\"            |\n",
    "| lead_timen    | the number of days from release of order to buyer requested delivery date for each order.                                                                                                        | Calculation with variables in data2: \"NB Requested XFD (NBRXFD)\"-\"Release Date\"              |\n",
    "| lead_timec    | the number of days from release of order to factory confirmed delivery date for each order.                                                                                                      | Calculation with variables in data2: \"Orig Fact Cfm XFD (OCXFD)\"-\"Release Date\"              |"
   ]
  }
 ],
 "metadata": {
  "kernelspec": {
   "display_name": "base",
   "language": "python",
   "name": "python3"
  },
  "language_info": {
   "codemirror_mode": {
    "name": "ipython",
    "version": 3
   },
   "file_extension": ".py",
   "mimetype": "text/x-python",
   "name": "python",
   "nbconvert_exporter": "python",
   "pygments_lexer": "ipython3",
   "version": "3.9.13"
  }
 },
 "nbformat": 4,
 "nbformat_minor": 2
}
