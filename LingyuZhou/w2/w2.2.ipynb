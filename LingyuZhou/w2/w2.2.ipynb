{
 "cells": [
  {
   "cell_type": "markdown",
   "metadata": {},
   "source": [
    "```python\n",
    "df.groupby('QLabel').filter(lambda x: x['year'].nunique() <= 3)\n",
    "```"
   ]
  },
  {
   "cell_type": "code",
   "execution_count": 1,
   "metadata": {},
   "outputs": [
    {
     "name": "stderr",
     "output_type": "stream",
     "text": [
      "d:\\Software\\Anaconda3\\lib\\site-packages\\sentence_transformers\\cross_encoder\\CrossEncoder.py:11: TqdmExperimentalWarning: Using `tqdm.autonotebook.tqdm` in notebook mode. Use `tqdm.tqdm` instead to force console mode (e.g. in jupyter console)\n",
      "  from tqdm.autonotebook import tqdm, trange\n"
     ]
    }
   ],
   "source": [
    "import pandas as pd\n",
    "import os\n",
    "from sentence_transformers import SentenceTransformer\n",
    "from sklearn.cluster import AgglomerativeClustering\n",
    "import numpy as np"
   ]
  },
  {
   "cell_type": "code",
   "execution_count": 115,
   "metadata": {},
   "outputs": [],
   "source": [
    "df=pd.read_csv(\"r1.csv\")\n",
    "\n",
    "CPCleanedUnique=df.CPCleaned.unique()\n",
    "\n",
    "def collapse(cp):\n",
    "    for i in df[df.CPCleaned==cp].QCleaned.unique():\n",
    "        print(i,\"\\n\",tabCountry(i),\"\\n---------------------------\\n\", getQNum(i),sep=\"\")\n",
    "        \n",
    "def getOriginalQ(cleanedQ):\n",
    "    return df[df.QCleaned==cleanedQ].Q.value_counts()\n",
    "\n",
    "def undo(combinedQ:str):\n",
    "    global df\n",
    "    df.loc[df.QCleaned==combinedQ,\"QCleaned\"]=df.loc[df.QCleaned==combinedQ,\"Q\"]\n",
    "\n",
    "def groupSent(sentences, threshold=0.75):\n",
    "    # Load pre-trained Sentence-BERT model\n",
    "    model = SentenceTransformer('all-MiniLM-L6-v2')\n",
    "    embeddings = model.encode(sentences,show_progress_bar=False)\n",
    "    clustering = AgglomerativeClustering(n_clusters=None, affinity='cosine', linkage='average', distance_threshold=1-threshold)\n",
    "    clustering.fit(embeddings)\n",
    "    clusters = {}\n",
    "    for sentence_id, cluster_id in enumerate(clustering.labels_):\n",
    "        if cluster_id not in clusters:\n",
    "            clusters[cluster_id] = []\n",
    "        clusters[cluster_id].append(sentences[sentence_id])\n",
    "    return [group for group in clusters.values()]\n",
    "\n",
    "genSubRule=lambda lol: {x: sorted(t, key=lambda x: len(x))[0] for t in lol for x in t}\n",
    "\n",
    "def getQNum(qstr):\n",
    "    global df\n",
    "    return len(df[df.QCleaned==qstr])\n",
    "\n",
    "def tabCountry(q):\n",
    "    global df\n",
    "    return df[df.QCleaned==q].Country.value_counts()\n",
    "\n",
    "with open(\"grpdQ.txt\",\"r\") as txt:\n",
    "    grpdQ=eval(txt.read())\n",
    "\n",
    "def replace(qset, brief=None):\n",
    "    '''list of questions, replace all with shortest/given'''\n",
    "    global df\n",
    "    if brief==None:\n",
    "        brief=sorted(qset,key=lambda x : len(x))[0]\n",
    "    rplcidx=list(df[df[\"QCleaned\"].isin(qset)].index)\n",
    "    df.loc[rplcidx,\"QCleaned\"]=brief\n",
    "    # df.loc[rplcidx,\"cleaned\"]=1\n",
    "\n",
    "def getCountry(q):\n",
    "    global df\n",
    "    return df[df.QCleaned==q].Country.unique()"
   ]
  },
  {
   "cell_type": "code",
   "execution_count": 116,
   "metadata": {},
   "outputs": [
    {
     "data": {
      "text/plain": [
       "0    820466\n",
       "1    233138\n",
       "Name: cleaned, dtype: int64"
      ]
     },
     "execution_count": 116,
     "metadata": {},
     "output_type": "execute_result"
    }
   ],
   "source": [
    "# should be:\n",
    "# 0    820466\n",
    "# 1    233138\n",
    "df.cleaned.value_counts()"
   ]
  },
  {
   "cell_type": "code",
   "execution_count": 120,
   "metadata": {},
   "outputs": [],
   "source": [
    "with open(\"grpdRes.txt\", \"r\") as gR:\n",
    "    grl=gR.read().split(\"\\n\")[:-2]\n",
    "\n",
    "# tested, works:\n",
    "for x in grl:\n",
    "    idx= int(x.split(\":\")[0].split(\" \")[-1])\n",
    "    replace(grpdQ[idx])"
   ]
  },
  {
   "cell_type": "markdown",
   "metadata": {},
   "source": [
    "---"
   ]
  },
  {
   "cell_type": "code",
   "execution_count": 122,
   "metadata": {},
   "outputs": [
    {
     "data": {
      "text/plain": [
       "Accessable unlocked emergency exits                                                  6476\n",
       "Periodic emergency drills                                                            6476\n",
       "Fire detection and alarm system                                                      6476\n",
       "Does the workplace have adequate fire-fighting equipment?                            6476\n",
       "At least 2 possible emergency exits                                                  6476\n",
       "Emergency exits/escape routes clearly marked                                         6269\n",
       "Flammable materials safely stored                                                    6225\n",
       "Are possible sources of ignition appropriately safeguarded?                          6212\n",
       "Trained workers on fire fighting                                                     5637\n",
       "Escape routes locked                                                                 4994\n",
       "Has the employer elaborated and implemented an emergency plan?                       1921\n",
       "Does the employer comply with size requirements for escape routes?                   1802\n",
       "Has the employer appointed and trained a fire management team?                        833\n",
       "Does the workplace have adequate stairways that can be used in case of emergency?     584\n",
       "Does the workplace have at least one adequate window exit per floor?                  566\n",
       "Are floors and corridors in line with legal requirements?                             117\n",
       "Are the emergency exits  unlocked during working hours, including overtime?            12\n",
       "Name: QCleaned, dtype: int64"
      ]
     },
     "execution_count": 122,
     "metadata": {},
     "output_type": "execute_result"
    }
   ],
   "source": [
    "#0:\n",
    "df[df.CPCleaned==CPCleanedUnique[0]].QCleaned.value_counts()"
   ]
  },
  {
   "cell_type": "code",
   "execution_count": 123,
   "metadata": {},
   "outputs": [],
   "source": [
    "replace([\"Trained workers on fire fighting\",\"Has the employer appointed and trained a fire management team?\"])"
   ]
  },
  {
   "cell_type": "code",
   "execution_count": 124,
   "metadata": {},
   "outputs": [
    {
     "data": {
      "text/plain": [
       "Accessable unlocked emergency exits                                                  6476\n",
       "Fire detection and alarm system                                                      6476\n",
       "At least 2 possible emergency exits                                                  6476\n",
       "Periodic emergency drills                                                            6476\n",
       "Does the workplace have adequate fire-fighting equipment?                            6476\n",
       "Trained workers on fire fighting                                                     6470\n",
       "Emergency exits/escape routes clearly marked                                         6269\n",
       "Flammable materials safely stored                                                    6225\n",
       "Are possible sources of ignition appropriately safeguarded?                          6212\n",
       "Escape routes locked                                                                 4994\n",
       "Has the employer elaborated and implemented an emergency plan?                       1921\n",
       "Does the employer comply with size requirements for escape routes?                   1802\n",
       "Does the workplace have adequate stairways that can be used in case of emergency?     584\n",
       "Does the workplace have at least one adequate window exit per floor?                  566\n",
       "Are floors and corridors in line with legal requirements?                             117\n",
       "Are the emergency exits  unlocked during working hours, including overtime?            12\n",
       "Name: QCleaned, dtype: int64"
      ]
     },
     "execution_count": 124,
     "metadata": {},
     "output_type": "execute_result"
    }
   ],
   "source": [
    "#0after:\n",
    "df[df.CPCleaned==CPCleanedUnique[0]].QCleaned.value_counts()"
   ]
  },
  {
   "cell_type": "markdown",
   "metadata": {},
   "source": [
    "drop: <4994\n",
    "\n",
    "-----\n"
   ]
  },
  {
   "cell_type": "code",
   "execution_count": 135,
   "metadata": {},
   "outputs": [
    {
     "data": {
      "text/plain": [
       "Payment of overtime                                                                                                          6476\n",
       "Does the employer pay workers correctly for paid public holidays?                                                            4305\n",
       "Does the employer pay all workers the correct meal allowance or give them a reasonable free meal when they work overtime?    2503\n",
       "Does the employer pay workers double their normal wage for all hours worked on weekly rest days?                             2503\n",
       "Does the employer pay workers double their normal wage for all overtime hours worked at night?                               2238\n",
       "Does the employer pay workers correctly for all overtime hours worked at night?                                              1919\n",
       "Does the employer pay workers correctly for all overtime hours worked on weekly rest days?                                   1802\n",
       "Does the employer provide meals and drinks of at least 1,400 calories to workers working overtime for 3 hours or more?        833\n",
       "Are piece-rate workers paid correctly for ordinary hours of work?                                                             584\n",
       "Do workers have at least one day off per week?                                                                                584\n",
       "Does the employer pay workers 150% of their normal wage for overtime worked on weekly rest days and public holidays?          474\n",
       "Does the employer pay workers 100% more than their normal wage for all overtime hours worked on weekly rest days?             119\n",
       "Name: QCleaned, dtype: int64"
      ]
     },
     "execution_count": 135,
     "metadata": {},
     "output_type": "execute_result"
    }
   ],
   "source": [
    "#1:\n",
    "# undo(\"Does the employer pay workers correctly for all overtime hours worked at night?\")\n",
    "df[df.CPCleaned==CPCleanedUnique[1]].QCleaned.value_counts()"
   ]
  },
  {
   "cell_type": "markdown",
   "metadata": {},
   "source": [
    "**combine**:\n",
    "other pay for overtime=\n",
    "[\n",
    "Does the employer pay workers double their normal wage for all hours worked on weekly rest days?                      \n",
    "Does the employer pay workers correctly for all overtime hours worked on weekly rest days?                            \n",
    "Does the employer provide meals and drinks of at least 1,400 calories to workers working overtime for 3 hours or more?\n",
    "Does the employer pay workers 150% of their normal wage for overtime worked on weekly rest days and public holidays?  \n",
    "Does the employer pay workers 100% more than their normal wage for all overtime hours worked on weekly rest days?   ]  "
   ]
  },
  {
   "cell_type": "code",
   "execution_count": null,
   "metadata": {},
   "outputs": [],
   "source": [
    "#*\n",
    "replace([\"Does the employer pay workers correctly for paid public holidays?\",\\\n",
    "         \"Does the employer pay workers 150% of their normal wage for overtime worked on weekly rest days and public holidays?\"])"
   ]
  },
  {
   "cell_type": "code",
   "execution_count": 286,
   "metadata": {},
   "outputs": [
    {
     "data": {
      "text/plain": [
       "Does the employer pay workers correctly for paid public holidays?                                                                                             3550\n",
       "Does the employer pay all workers correctly for work on public holidays?                                                                                      2503\n",
       "Does the employer pay workers for legally mandated paid public holidays?                                                                                      1802\n",
       "Does the employer pay workers correctly for all overtime hours worked on public holidays?                                                                     1802\n",
       "Does the employer pay workers correctly for festival holidays (including compensatory festival holidays when workers work on festival holidays)?               584\n",
       "Does the employer provide workers at least 11 festival holidays per year (or compensatory and substitute holidays when workers work on festival holidays)?     566\n",
       "Does the employer pay workers correctly for legally mandated holidays?                                                                                         133\n",
       "Does the employer provide workers 11 festival holidays per year (or compensatory and substitute holidays when workers work on festival holidays)?               18\n",
       "Name: Q, dtype: int64"
      ]
     },
     "execution_count": 286,
     "metadata": {},
     "output_type": "execute_result"
    }
   ],
   "source": [
    "getOriginalQ(\"Does the employer pay workers correctly for paid public holidays?\")"
   ]
  },
  {
   "cell_type": "code",
   "execution_count": 66,
   "metadata": {},
   "outputs": [
    {
     "name": "stdout",
     "output_type": "stream",
     "text": [
      "Payment of overtime \n",
      " ['Vietnam' 'Indonesia' 'Jordan' 'Nicaragua' 'Haiti' 'Cambodia'\n",
      " 'Bangladesh']\n",
      "Does the employer pay workers correctly for all overtime hours worked at night? \n",
      " ['Vietnam' 'Nicaragua']\n",
      "Does the employer pay workers correctly for all overtime hours worked on public holidays? \n",
      " ['Vietnam']\n",
      "Does the employer pay workers correctly for all overtime hours worked on weekly rest days? \n",
      " ['Vietnam']\n",
      "Does the employer provide meals and drinks of at least 1,400 calories to workers working overtime for 3 hours or more? \n",
      " ['Indonesia']\n",
      "Does the employer pay workers 150% of their normal wage for overtime worked on weekly rest days and public holidays? \n",
      " ['Jordan']\n",
      "Does the employer pay workers 100% more than their normal wage for all overtime hours worked on weekly rest days? \n",
      " ['Nicaragua']\n",
      "Does the employer pay workers double their normal wage for all overtime hours worked at night? \n",
      " ['Cambodia']\n",
      "Does the employer pay all workers the correct meal allowance or give them a reasonable free meal when they work overtime? \n",
      " ['Cambodia']\n",
      "Does the employer pay workers double their normal wage for all hours worked on weekly rest days? \n",
      " ['Cambodia']\n",
      "Does the employer pay all workers correctly for work on public holidays? \n",
      " ['Cambodia']\n",
      "Does the employer pay  piece rate workers correctly for all overtime hours worked on regular work days? \n",
      " ['Bangladesh']\n",
      "Does the employer pay workers correctly when they take compensatory days off after working on weekly rest days? \n",
      " ['Bangladesh']\n",
      "Does the employer pay workers correctly when they take compensatory days off after working on weekly rest day(s)? \n",
      " ['Bangladesh']\n"
     ]
    }
   ],
   "source": [
    "for i in df[df.CPCleaned==CPCleanedUnique[1]].QCleaned.unique():\n",
    "    print(i,\"\\n\",df[df.QCleaned==i].Country.unique())"
   ]
  },
  {
   "cell_type": "code",
   "execution_count": 217,
   "metadata": {},
   "outputs": [
    {
     "data": {
      "text/plain": [
       "833"
      ]
     },
     "execution_count": 217,
     "metadata": {},
     "output_type": "execute_result"
    }
   ],
   "source": [
    "len(df[df.QCleaned=='Does the employer pay workers the religious holiday allowance?'])"
   ]
  },
  {
   "cell_type": "code",
   "execution_count": 215,
   "metadata": {},
   "outputs": [
    {
     "data": {
      "text/plain": [
       "array(['Does the employer pay workers correctly for paid public holidays?',\n",
       "       'Does the employer pay workers the religious holiday allowance?',\n",
       "       'Does the employer pay workers 150% of their normal wage for overtime worked on weekly rest days and public holidays?'],\n",
       "      dtype=object)"
      ]
     },
     "execution_count": 215,
     "metadata": {},
     "output_type": "execute_result"
    }
   ],
   "source": [
    "df[df.QCleaned.str.contains(\"holiday\")].QCleaned.unique()"
   ]
  },
  {
   "cell_type": "code",
   "execution_count": 316,
   "metadata": {},
   "outputs": [
    {
     "data": {
      "text/plain": [
       "Gender discrimination on conditions of work                                                                                                                                   6476\n",
       "Sexual harassment                                                                                                                                                             6476\n",
       "Is gender a factor in decisions regarding pay?                                                                                                                                6315\n",
       "Does the employer require pregnancy tests or use of contraceptives as a condition of employment?                                                                              6209\n",
       "Is an applicant's gender a factor in hiring decisions?                                                                                                                        6002\n",
       "Is gender a factor in decisions regarding opportunities for promotion or access to training?                                                                                  5841\n",
       "Is gender a factor in the employer's decisions regarding termination or retirement of workers?                                                                                5841\n",
       "Does the employer change the employment status, position, wages, benefits or seniority of workers during maternity leave?                                                     5735\n",
       "Do job announcements refer to the applicant's gender?                                                                                                                         5524\n",
       "Does the employer terminate workers who are on maternity leave or force them to resign?                                                                                       4124\n",
       "Is maternity leave excluded from workers' period of continuous service?                                                                                                       3772\n",
       "Does the employer terminate workers who are pregnant or force them to resign?                                                                                                 2503\n",
       "Are periods of maternity leave included in a worker's period of continuous service?                                                                                           1802\n",
       "Does the employer terminate workers due to the worker's pregnancy, maternity leave, or breast-feeding of a child under 12 months of age or force them to resign?              1054\n",
       "Does the employer terminate workers due to the worker's pregnancy, maternity leave, marriage, or breast-feeding of a child under 12 months of age or force them to resign?     721\n",
       "Does the employer terminate workers who are pregnant or on maternity leave or force them to resign ?                                                                           480\n",
       "Does the employer dismiss workers or force them to resign if they are pregnant, on maternity leave or nursing?                                                                 161\n",
       "Does the employer terminate workers due to the worker's pregnancy, maternity leave, or nursing of a child under 12 months of age or force them to resign?                       27\n",
       "Name: QCleaned, dtype: int64"
      ]
     },
     "execution_count": 316,
     "metadata": {},
     "output_type": "execute_result"
    }
   ],
   "source": [
    "#2:\n",
    "# undo(\"Does the employer terminate workers who are on maternity leave or force them to resign?\")\n",
    "# undo(\"Is maternity leave excluded from workers' period of continuous service?\")\n",
    "# undo(\"Terminate workers due to pregnancy or maternity leave\")\n",
    "# replace([\"Does the employer dismiss workers or force them to resign if they are pregnant, on maternity leave or nursing? [differentiation question]\",\n",
    "# \"Does the employer dismiss workers or force them to resign if they are pregnant, on maternity leave or nursing?\"])\n",
    "\n",
    "# replace([\"Does the employer terminate workers who are pregnant or on maternity leave or force them to resign?\",\n",
    "#          \"Does the employer terminate workers who are on maternity leave or force them to resign?\"])\n",
    "df[df.CPCleaned==CPCleanedUnique[2]].QCleaned.value_counts()"
   ]
  },
  {
   "cell_type": "code",
   "execution_count": 330,
   "metadata": {},
   "outputs": [
    {
     "data": {
      "text/html": [
       "<div>\n",
       "<style scoped>\n",
       "    .dataframe tbody tr th:only-of-type {\n",
       "        vertical-align: middle;\n",
       "    }\n",
       "\n",
       "    .dataframe tbody tr th {\n",
       "        vertical-align: top;\n",
       "    }\n",
       "\n",
       "    .dataframe thead th {\n",
       "        text-align: right;\n",
       "    }\n",
       "</style>\n",
       "<table border=\"1\" class=\"dataframe\">\n",
       "  <thead>\n",
       "    <tr style=\"text-align: right;\">\n",
       "      <th></th>\n",
       "      <th>Country</th>\n",
       "      <th>FactoryAssessedID</th>\n",
       "      <th>AssesmentDate</th>\n",
       "      <th>QuestID</th>\n",
       "      <th>CP</th>\n",
       "      <th>Q</th>\n",
       "      <th>Finding</th>\n",
       "      <th>QCleaned</th>\n",
       "      <th>CPCleaned</th>\n",
       "      <th>cleaned</th>\n",
       "    </tr>\n",
       "  </thead>\n",
       "  <tbody>\n",
       "    <tr>\n",
       "      <th>23042</th>\n",
       "      <td>Cambodia</td>\n",
       "      <td>1151</td>\n",
       "      <td>04/05/2015</td>\n",
       "      <td>8984</td>\n",
       "      <td>Gender</td>\n",
       "      <td>Does the employer terminate workers who are pr...</td>\n",
       "      <td>0</td>\n",
       "      <td>Does the employer terminate workers who are on...</td>\n",
       "      <td>Gender</td>\n",
       "      <td>1</td>\n",
       "    </tr>\n",
       "    <tr>\n",
       "      <th>23260</th>\n",
       "      <td>Cambodia</td>\n",
       "      <td>747</td>\n",
       "      <td>05/05/2015</td>\n",
       "      <td>9017</td>\n",
       "      <td>Gender</td>\n",
       "      <td>Does the employer terminate workers who are pr...</td>\n",
       "      <td>0</td>\n",
       "      <td>Does the employer terminate workers who are on...</td>\n",
       "      <td>Gender</td>\n",
       "      <td>1</td>\n",
       "    </tr>\n",
       "    <tr>\n",
       "      <th>23882</th>\n",
       "      <td>Cambodia</td>\n",
       "      <td>1165</td>\n",
       "      <td>19/05/2015</td>\n",
       "      <td>9061</td>\n",
       "      <td>Gender</td>\n",
       "      <td>Does the employer terminate workers who are pr...</td>\n",
       "      <td>0</td>\n",
       "      <td>Does the employer terminate workers who are on...</td>\n",
       "      <td>Gender</td>\n",
       "      <td>1</td>\n",
       "    </tr>\n",
       "    <tr>\n",
       "      <th>24604</th>\n",
       "      <td>Cambodia</td>\n",
       "      <td>755</td>\n",
       "      <td>05/05/2015</td>\n",
       "      <td>9085</td>\n",
       "      <td>Gender</td>\n",
       "      <td>Does the employer terminate workers who are pr...</td>\n",
       "      <td>0</td>\n",
       "      <td>Does the employer terminate workers who are on...</td>\n",
       "      <td>Gender</td>\n",
       "      <td>1</td>\n",
       "    </tr>\n",
       "    <tr>\n",
       "      <th>25856</th>\n",
       "      <td>Cambodia</td>\n",
       "      <td>1541</td>\n",
       "      <td>07/05/2015</td>\n",
       "      <td>9150</td>\n",
       "      <td>Gender</td>\n",
       "      <td>Does the employer terminate workers who are pr...</td>\n",
       "      <td>0</td>\n",
       "      <td>Does the employer terminate workers who are on...</td>\n",
       "      <td>Gender</td>\n",
       "      <td>1</td>\n",
       "    </tr>\n",
       "    <tr>\n",
       "      <th>...</th>\n",
       "      <td>...</td>\n",
       "      <td>...</td>\n",
       "      <td>...</td>\n",
       "      <td>...</td>\n",
       "      <td>...</td>\n",
       "      <td>...</td>\n",
       "      <td>...</td>\n",
       "      <td>...</td>\n",
       "      <td>...</td>\n",
       "      <td>...</td>\n",
       "    </tr>\n",
       "    <tr>\n",
       "      <th>59143</th>\n",
       "      <td>Cambodia</td>\n",
       "      <td>1799</td>\n",
       "      <td>16/06/2015</td>\n",
       "      <td>10452</td>\n",
       "      <td>Gender</td>\n",
       "      <td>Does the employer terminate workers who are pr...</td>\n",
       "      <td>0</td>\n",
       "      <td>Does the employer terminate workers who are on...</td>\n",
       "      <td>Gender</td>\n",
       "      <td>1</td>\n",
       "    </tr>\n",
       "    <tr>\n",
       "      <th>60430</th>\n",
       "      <td>Cambodia</td>\n",
       "      <td>1172</td>\n",
       "      <td>06/07/2015</td>\n",
       "      <td>10500</td>\n",
       "      <td>Gender</td>\n",
       "      <td>Does the employer terminate workers who are pr...</td>\n",
       "      <td>0</td>\n",
       "      <td>Does the employer terminate workers who are on...</td>\n",
       "      <td>Gender</td>\n",
       "      <td>1</td>\n",
       "    </tr>\n",
       "    <tr>\n",
       "      <th>61057</th>\n",
       "      <td>Cambodia</td>\n",
       "      <td>1450</td>\n",
       "      <td>22/06/2015</td>\n",
       "      <td>10515</td>\n",
       "      <td>Gender</td>\n",
       "      <td>Does the employer terminate workers who are pr...</td>\n",
       "      <td>0</td>\n",
       "      <td>Does the employer terminate workers who are on...</td>\n",
       "      <td>Gender</td>\n",
       "      <td>1</td>\n",
       "    </tr>\n",
       "    <tr>\n",
       "      <th>69183</th>\n",
       "      <td>Cambodia</td>\n",
       "      <td>871</td>\n",
       "      <td>13/07/2015</td>\n",
       "      <td>10833</td>\n",
       "      <td>Gender</td>\n",
       "      <td>Does the employer terminate workers who are pr...</td>\n",
       "      <td>0</td>\n",
       "      <td>Does the employer terminate workers who are on...</td>\n",
       "      <td>Gender</td>\n",
       "      <td>1</td>\n",
       "    </tr>\n",
       "    <tr>\n",
       "      <th>71239</th>\n",
       "      <td>Cambodia</td>\n",
       "      <td>943</td>\n",
       "      <td>02/06/2015</td>\n",
       "      <td>10904</td>\n",
       "      <td>Gender</td>\n",
       "      <td>Does the employer terminate workers who are pr...</td>\n",
       "      <td>0</td>\n",
       "      <td>Does the employer terminate workers who are on...</td>\n",
       "      <td>Gender</td>\n",
       "      <td>1</td>\n",
       "    </tr>\n",
       "  </tbody>\n",
       "</table>\n",
       "<p>91 rows × 10 columns</p>\n",
       "</div>"
      ],
      "text/plain": [
       "        Country  FactoryAssessedID AssesmentDate  QuestID      CP  \\\n",
       "23042  Cambodia               1151    04/05/2015     8984  Gender   \n",
       "23260  Cambodia                747    05/05/2015     9017  Gender   \n",
       "23882  Cambodia               1165    19/05/2015     9061  Gender   \n",
       "24604  Cambodia                755    05/05/2015     9085  Gender   \n",
       "25856  Cambodia               1541    07/05/2015     9150  Gender   \n",
       "...         ...                ...           ...      ...     ...   \n",
       "59143  Cambodia               1799    16/06/2015    10452  Gender   \n",
       "60430  Cambodia               1172    06/07/2015    10500  Gender   \n",
       "61057  Cambodia               1450    22/06/2015    10515  Gender   \n",
       "69183  Cambodia                871    13/07/2015    10833  Gender   \n",
       "71239  Cambodia                943    02/06/2015    10904  Gender   \n",
       "\n",
       "                                                       Q  Finding  \\\n",
       "23042  Does the employer terminate workers who are pr...        0   \n",
       "23260  Does the employer terminate workers who are pr...        0   \n",
       "23882  Does the employer terminate workers who are pr...        0   \n",
       "24604  Does the employer terminate workers who are pr...        0   \n",
       "25856  Does the employer terminate workers who are pr...        0   \n",
       "...                                                  ...      ...   \n",
       "59143  Does the employer terminate workers who are pr...        0   \n",
       "60430  Does the employer terminate workers who are pr...        0   \n",
       "61057  Does the employer terminate workers who are pr...        0   \n",
       "69183  Does the employer terminate workers who are pr...        0   \n",
       "71239  Does the employer terminate workers who are pr...        0   \n",
       "\n",
       "                                                QCleaned CPCleaned  cleaned  \n",
       "23042  Does the employer terminate workers who are on...    Gender        1  \n",
       "23260  Does the employer terminate workers who are on...    Gender        1  \n",
       "23882  Does the employer terminate workers who are on...    Gender        1  \n",
       "24604  Does the employer terminate workers who are on...    Gender        1  \n",
       "25856  Does the employer terminate workers who are on...    Gender        1  \n",
       "...                                                  ...       ...      ...  \n",
       "59143  Does the employer terminate workers who are on...    Gender        1  \n",
       "60430  Does the employer terminate workers who are on...    Gender        1  \n",
       "61057  Does the employer terminate workers who are on...    Gender        1  \n",
       "69183  Does the employer terminate workers who are on...    Gender        1  \n",
       "71239  Does the employer terminate workers who are on...    Gender        1  \n",
       "\n",
       "[91 rows x 10 columns]"
      ]
     },
     "execution_count": 330,
     "metadata": {},
     "output_type": "execute_result"
    }
   ],
   "source": [
    "#* drop:\n",
    "df.drop(df[(df.Q==\"Does the employer terminate workers who are pregnant or on maternity leave or force them to resign?\") & (df.Country==\"Cambodia\")])"
   ]
  },
  {
   "cell_type": "code",
   "execution_count": 320,
   "metadata": {},
   "outputs": [
    {
     "name": "stdout",
     "output_type": "stream",
     "text": [
      "Gender discrimination on conditions of work\n",
      "Cambodia      2503\n",
      "Vietnam       1802\n",
      "Indonesia      833\n",
      "Bangladesh     584\n",
      "Jordan         474\n",
      "Haiti          161\n",
      "Nicaragua      119\n",
      "Name: Country, dtype: int64\n",
      "---------------------------\n",
      "6476\n",
      "Does the employer terminate workers due to the worker's pregnancy, maternity leave, marriage, or breast-feeding of a child under 12 months of age or force them to resign?\n",
      "Vietnam    721\n",
      "Name: Country, dtype: int64\n",
      "---------------------------\n",
      "721\n",
      "Sexual harassment\n",
      "Cambodia      2503\n",
      "Vietnam       1802\n",
      "Indonesia      833\n",
      "Bangladesh     584\n",
      "Jordan         474\n",
      "Haiti          161\n",
      "Nicaragua      119\n",
      "Name: Country, dtype: int64\n",
      "---------------------------\n",
      "6476\n",
      "Is gender a factor in decisions regarding pay?\n",
      "Cambodia      2503\n",
      "Vietnam       1802\n",
      "Indonesia      833\n",
      "Bangladesh     584\n",
      "Jordan         474\n",
      "Nicaragua      119\n",
      "Name: Country, dtype: int64\n",
      "---------------------------\n",
      "6315\n",
      "Is gender a factor in decisions regarding opportunities for promotion or access to training?\n",
      "Cambodia      2503\n",
      "Vietnam       1802\n",
      "Indonesia      833\n",
      "Bangladesh     584\n",
      "Nicaragua      119\n",
      "Name: Country, dtype: int64\n",
      "---------------------------\n",
      "5841\n",
      "Is gender a factor in the employer's decisions regarding termination or retirement of workers?\n",
      "Cambodia      2503\n",
      "Vietnam       1802\n",
      "Indonesia      833\n",
      "Bangladesh     584\n",
      "Nicaragua      119\n",
      "Name: Country, dtype: int64\n",
      "---------------------------\n",
      "5841\n",
      "Does the employer require pregnancy tests or use of contraceptives as a condition of employment?\n",
      "Cambodia      2236\n",
      "Vietnam       1802\n",
      "Indonesia      833\n",
      "Bangladesh     584\n",
      "Jordan         474\n",
      "Haiti          161\n",
      "Nicaragua      119\n",
      "Name: Country, dtype: int64\n",
      "---------------------------\n",
      "6209\n",
      "Does the employer change the employment status, position, wages, benefits or seniority of workers during maternity leave?\n",
      "Cambodia      2236\n",
      "Vietnam       1802\n",
      "Indonesia      833\n",
      "Bangladesh     584\n",
      "Haiti          161\n",
      "Nicaragua      119\n",
      "Name: Country, dtype: int64\n",
      "---------------------------\n",
      "5735\n",
      "Are periods of maternity leave included in a worker's period of continuous service?\n",
      "Vietnam    1802\n",
      "Name: Country, dtype: int64\n",
      "---------------------------\n",
      "1802\n",
      "Do job announcements refer to the applicant's gender?\n",
      "Cambodia      2503\n",
      "Vietnam       1802\n",
      "Bangladesh     584\n",
      "Jordan         474\n",
      "Haiti          161\n",
      "Name: Country, dtype: int64\n",
      "---------------------------\n",
      "5524\n",
      "Is an applicant's gender a factor in hiring decisions?\n",
      "Cambodia      2503\n",
      "Vietnam       1802\n",
      "Indonesia      833\n",
      "Bangladesh     584\n",
      "Haiti          161\n",
      "Nicaragua      119\n",
      "Name: Country, dtype: int64\n",
      "---------------------------\n",
      "6002\n",
      "Does the employer terminate workers who are on maternity leave or force them to resign?\n",
      "Cambodia      2594\n",
      "Bangladesh     584\n",
      "Jordan         474\n",
      "Indonesia      353\n",
      "Nicaragua      119\n",
      "Name: Country, dtype: int64\n",
      "---------------------------\n",
      "4124\n",
      "Is maternity leave excluded from workers' period of continuous service?\n",
      "Cambodia      2236\n",
      "Indonesia      833\n",
      "Bangladesh     584\n",
      "Nicaragua      119\n",
      "Name: Country, dtype: int64\n",
      "---------------------------\n",
      "3772\n",
      "Does the employer dismiss workers or force them to resign if they are pregnant, on maternity leave or nursing?\n",
      "Haiti    161\n",
      "Name: Country, dtype: int64\n",
      "---------------------------\n",
      "161\n",
      "Does the employer terminate workers who are pregnant or force them to resign?\n",
      "Cambodia    2503\n",
      "Name: Country, dtype: int64\n",
      "---------------------------\n",
      "2503\n",
      "Does the employer terminate workers who are pregnant or on maternity leave or force them to resign ?\n",
      "Indonesia    480\n",
      "Name: Country, dtype: int64\n",
      "---------------------------\n",
      "480\n",
      "Does the employer terminate workers due to the worker's pregnancy, maternity leave, or breast-feeding of a child under 12 months of age or force them to resign?\n",
      "Vietnam    1054\n",
      "Name: Country, dtype: int64\n",
      "---------------------------\n",
      "1054\n",
      "Does the employer terminate workers due to the worker's pregnancy, maternity leave, or nursing of a child under 12 months of age or force them to resign?\n",
      "Vietnam    27\n",
      "Name: Country, dtype: int64\n",
      "---------------------------\n",
      "27\n"
     ]
    }
   ],
   "source": [
    "collapse(CPCleanedUnique[2])"
   ]
  },
  {
   "cell_type": "code",
   "execution_count": 319,
   "metadata": {},
   "outputs": [
    {
     "data": {
      "text/plain": [
       "6540"
      ]
     },
     "execution_count": 319,
     "metadata": {},
     "output_type": "execute_result"
    }
   ],
   "source": [
    "4124+1054+721+480+161"
   ]
  },
  {
   "cell_type": "code",
   "execution_count": 312,
   "metadata": {},
   "outputs": [
    {
     "data": {
      "text/plain": [
       "array(['Gender discrimination on conditions of work',\n",
       "       \"Do job announcements refer to the applicant's gender?\",\n",
       "       'Is gender a factor in decisions regarding pay?'], dtype=object)"
      ]
     },
     "execution_count": 312,
     "metadata": {},
     "output_type": "execute_result"
    }
   ],
   "source": [
    "df[(df.Country==\"Jordan\") & (df.Q.str.contains(\"gender\"))].QCleaned.unique()"
   ]
  },
  {
   "cell_type": "code",
   "execution_count": 310,
   "metadata": {},
   "outputs": [
    {
     "data": {
      "text/plain": [
       "Cambodia      2503\n",
       "Vietnam       1802\n",
       "Indonesia      833\n",
       "Bangladesh     584\n",
       "Haiti          161\n",
       "Nicaragua      119\n",
       "Name: Country, dtype: int64"
      ]
     },
     "execution_count": 310,
     "metadata": {},
     "output_type": "execute_result"
    }
   ],
   "source": [
    "tabCountry(\"Is an applicant's gender a factor in hiring decisions?\")"
   ]
  },
  {
   "cell_type": "code",
   "execution_count": 153,
   "metadata": {},
   "outputs": [
    {
     "name": "stdout",
     "output_type": "stream",
     "text": [
      "Gender discrimination on conditions of work \n",
      " Cambodia      2503\n",
      "Vietnam       1802\n",
      "Indonesia      833\n",
      "Bangladesh     584\n",
      "Jordan         474\n",
      "Haiti          161\n",
      "Nicaragua      119\n",
      "Name: Country, dtype: int64\n",
      "Does the employer terminate workers due to the worker's pregnancy, maternity leave, marriage, or breast-feeding of a child under 12 months of age or force them to resign? \n",
      " Vietnam    721\n",
      "Name: Country, dtype: int64\n",
      "Sexual harassment \n",
      " Cambodia      2503\n",
      "Vietnam       1802\n",
      "Indonesia      833\n",
      "Bangladesh     584\n",
      "Jordan         474\n",
      "Haiti          161\n",
      "Nicaragua      119\n",
      "Name: Country, dtype: int64\n",
      "Is gender a factor in decisions regarding pay? \n",
      " Cambodia      2503\n",
      "Vietnam       1802\n",
      "Indonesia      833\n",
      "Bangladesh     584\n",
      "Jordan         474\n",
      "Nicaragua      119\n",
      "Name: Country, dtype: int64\n",
      "Is gender a factor in decisions regarding opportunities for promotion or access to training? \n",
      " Cambodia      2503\n",
      "Vietnam       1802\n",
      "Indonesia      833\n",
      "Bangladesh     584\n",
      "Nicaragua      119\n",
      "Name: Country, dtype: int64\n",
      "Is gender a factor in the employer's decisions regarding termination or retirement of workers? \n",
      " Cambodia      2503\n",
      "Vietnam       1802\n",
      "Indonesia      833\n",
      "Bangladesh     584\n",
      "Nicaragua      119\n",
      "Name: Country, dtype: int64\n",
      "Does the employer require pregnancy tests or use of contraceptives as a condition of employment? \n",
      " Cambodia      2236\n",
      "Vietnam       1802\n",
      "Indonesia      833\n",
      "Bangladesh     584\n",
      "Jordan         474\n",
      "Haiti          161\n",
      "Nicaragua      119\n",
      "Name: Country, dtype: int64\n",
      "Does the employer change the employment status, position, wages, benefits or seniority of workers during maternity leave? \n",
      " Cambodia      2236\n",
      "Vietnam       1802\n",
      "Indonesia      833\n",
      "Bangladesh     584\n",
      "Haiti          161\n",
      "Nicaragua      119\n",
      "Name: Country, dtype: int64\n",
      "Are periods of maternity leave included in a worker's period of continuous service? \n",
      " Vietnam    1802\n",
      "Name: Country, dtype: int64\n",
      "Do job announcements refer to the applicant's gender? \n",
      " Cambodia      2503\n",
      "Vietnam       1802\n",
      "Bangladesh     584\n",
      "Jordan         474\n",
      "Haiti          161\n",
      "Name: Country, dtype: int64\n",
      "Is an applicant's gender a factor in hiring decisions? \n",
      " Cambodia      2503\n",
      "Vietnam       1802\n",
      "Indonesia      833\n",
      "Bangladesh     584\n",
      "Haiti          161\n",
      "Nicaragua      119\n",
      "Name: Country, dtype: int64\n",
      "Does the employer terminate workers who are pregnant or on maternity leave or force them to resign? \n",
      " Bangladesh    584\n",
      "Jordan        474\n",
      "Indonesia     353\n",
      "Nicaragua     119\n",
      "Cambodia       91\n",
      "Name: Country, dtype: int64\n",
      "Is maternity leave excluded from workers' period of continuous service? \n",
      " Cambodia      2236\n",
      "Indonesia      833\n",
      "Bangladesh     584\n",
      "Nicaragua      119\n",
      "Name: Country, dtype: int64\n",
      "Does the employer dismiss workers or force them to resign if they are pregnant, on maternity leave or nursing? \n",
      " Haiti    55\n",
      "Name: Country, dtype: int64\n",
      "Does the employer terminate workers who are pregnant or force them to resign? \n",
      " Cambodia    2503\n",
      "Name: Country, dtype: int64\n",
      "Does the employer terminate workers who are on maternity leave or force them to resign? \n",
      " Cambodia    2503\n",
      "Name: Country, dtype: int64\n",
      "Does the employer dismiss workers or force them to resign if they are pregnant, on maternity leave or nursing? [differentiation question] \n",
      " Haiti    106\n",
      "Name: Country, dtype: int64\n",
      "Does the employer terminate workers who are pregnant or on maternity leave or force them to resign ? \n",
      " Indonesia    480\n",
      "Name: Country, dtype: int64\n",
      "Does the employer terminate workers due to the worker's pregnancy, maternity leave, or breast-feeding of a child under 12 months of age or force them to resign? \n",
      " Vietnam    1054\n",
      "Name: Country, dtype: int64\n",
      "Does the employer terminate workers due to the worker's pregnancy, maternity leave, or nursing of a child under 12 months of age or force them to resign? \n",
      " Vietnam    27\n",
      "Name: Country, dtype: int64\n"
     ]
    }
   ],
   "source": [
    "for i in df[df.CPCleaned==CPCleanedUnique[2]].QCleaned.unique():\n",
    "    print(i,\"\\n\",tabCountry(i))"
   ]
  },
  {
   "cell_type": "code",
   "execution_count": 155,
   "metadata": {},
   "outputs": [
    {
     "data": {
      "text/plain": [
       "array(['2015', '2016', '2017', '2018', '2019', '2020', '2021'],\n",
       "      dtype=object)"
      ]
     },
     "execution_count": 155,
     "metadata": {},
     "output_type": "execute_result"
    }
   ],
   "source": [
    "df[df.Q==\"Does the employer terminate workers who are pregnant or force them to resign?\"].AssesmentDate.str[-4:].unique()"
   ]
  },
  {
   "cell_type": "code",
   "execution_count": 156,
   "metadata": {},
   "outputs": [
    {
     "data": {
      "text/plain": [
       "array(['2015', '2016', '2017', '2018', '2019', '2020', '2021'],\n",
       "      dtype=object)"
      ]
     },
     "execution_count": 156,
     "metadata": {},
     "output_type": "execute_result"
    }
   ],
   "source": [
    "df[df.Q==\"Does the employer terminate workers who are on maternity leave or force them to resign?\"].AssesmentDate.str[-4:].unique()"
   ]
  },
  {
   "cell_type": "code",
   "execution_count": 81,
   "metadata": {},
   "outputs": [
    {
     "data": {
      "text/plain": [
       "array(['del'], dtype=object)"
      ]
     },
     "execution_count": 81,
     "metadata": {},
     "output_type": "execute_result"
    }
   ],
   "source": [
    "df.loc[df.Q == \"Does the employer dismiss workers or force them to resign if they are pregnant, on maternity leave or nursing? [differentiation question]\", \"QCleaned\"] = \"del\"\n",
    "df[df.Q==\"Does the employer dismiss workers or force them to resign if they are pregnant, on maternity leave or nursing? [differentiation question]\"].QCleaned.unique()"
   ]
  },
  {
   "cell_type": "code",
   "execution_count": 86,
   "metadata": {},
   "outputs": [
    {
     "name": "stdout",
     "output_type": "stream",
     "text": [
      "Gender discrimination on conditions of work \n",
      " ['Vietnam' 'Indonesia' 'Jordan' 'Nicaragua' 'Haiti' 'Cambodia'\n",
      " 'Bangladesh']\n",
      "Terminate workers due to pregnancy or maternity leave \n",
      " ['Vietnam' 'Indonesia' 'Jordan' 'Nicaragua' 'Haiti' 'Cambodia'\n",
      " 'Bangladesh']\n",
      "Sexual harassment \n",
      " ['Vietnam' 'Indonesia' 'Jordan' 'Nicaragua' 'Haiti' 'Cambodia'\n",
      " 'Bangladesh']\n",
      "Is the gender or marital status of a worker a factor in decisions regarding pay? \n",
      " ['Vietnam']\n",
      "Is the gender or marital status of a worker a factor in decisions regarding opportunities for promotion or access to training? \n",
      " ['Vietnam']\n",
      "Is the gender or marital status of the worker a factor in employer decisions regarding termination or retirement of workers? \n",
      " ['Vietnam']\n",
      "Does the employer require pregnancy tests or use of contraceptives as a condition of employment? \n",
      " ['Vietnam']\n",
      "Does the employer change the employment status, position, wages, benefits or seniority of workers during maternity leave? \n",
      " ['Vietnam' 'Indonesia' 'Nicaragua' 'Haiti' 'Cambodia' 'Bangladesh']\n",
      "Are periods of maternity leave included in a worker's period of continuous service? \n",
      " ['Vietnam']\n",
      "Do job announcements refer to the applicants gender or marital status? \n",
      " ['Vietnam']\n",
      "Is an applicant's gender or marital status a factor in hiring decisions? \n",
      " ['Vietnam' 'Haiti']\n",
      "Is gender a factor in decisions regarding pay? \n",
      " ['Indonesia' 'Jordan' 'Nicaragua' 'Cambodia' 'Bangladesh']\n",
      "Is gender a factor in decisions regarding opportunities for promotion or access to training? \n",
      " ['Indonesia' 'Nicaragua' 'Cambodia' 'Bangladesh']\n",
      "Is gender a factor in the employer's decisions regarding termination or retirement of workers? \n",
      " ['Indonesia' 'Nicaragua' 'Cambodia' 'Bangladesh']\n",
      "Is an applicant's gender a factor in recruitment or hiring? \n",
      " ['Indonesia']\n",
      "Is maternity leave excluded from workers' period of continuous service? \n",
      " ['Indonesia' 'Nicaragua' 'Cambodia' 'Bangladesh']\n",
      "Does the employer require pregnancy tests or the use of contraceptives as a condition of employment? \n",
      " ['Indonesia' 'Jordan' 'Nicaragua' 'Haiti' 'Cambodia' 'Bangladesh']\n",
      "Do job announcements refer to the applicant's gender and/or is an applicant's gender a factor in decisions regarding hiring, opportunities for promotion or access to training, termination and/or retirement of workers? \n",
      " ['Jordan']\n",
      "Is an applicant's gender a factor in hiring decisions? \n",
      " ['Nicaragua' 'Cambodia' 'Bangladesh']\n",
      "Do job announcements refer to the applicant's gender or marital status? \n",
      " ['Haiti' 'Vietnam']\n",
      "Do job announcements refer to the applicant's gender? \n",
      " ['Cambodia' 'Bangladesh']\n",
      "Does the employer terminate workers who are on maternity leave or force them to resign? \n",
      " ['Cambodia']\n",
      "del \n",
      " ['Haiti']\n",
      "Is the gender or marital status of a worker a factor in employer decisions regarding termination or retirement of workers? \n",
      " ['Vietnam']\n"
     ]
    }
   ],
   "source": [
    "for i in df[df.CPCleaned==CPCleanedUnique[2]].QCleaned.unique():\n",
    "    print(i,\"\\n\",getCountry(i))"
   ]
  },
  {
   "cell_type": "code",
   "execution_count": 334,
   "metadata": {},
   "outputs": [
    {
     "data": {
      "text/plain": [
       "'Welfare Facilities'"
      ]
     },
     "execution_count": 334,
     "metadata": {},
     "output_type": "execute_result"
    }
   ],
   "source": [
    "CPCleanedUnique[3]"
   ]
  },
  {
   "cell_type": "code",
   "execution_count": 157,
   "metadata": {},
   "outputs": [
    {
     "data": {
      "text/plain": [
       "Providing drinking water                                                                           6476\n",
       "Does the workplace have adequate accessible toilets?                                               6252\n",
       "Adequate washing facilities                                                                        4674\n",
       "Does the workplace provide all workers a place to store their clothes?                             2688\n",
       "Does the workplace have a functioning and accessible nursing room?                                 2383\n",
       "Does employer provide cups or other sanitary means\\nfor drinking water?                            2368\n",
       "Does the workplace have adequate day care facilities?                                              2288\n",
       "Adequate eating area                                                                               2118\n",
       "Adequate hand washing taps                                                                         1802\n",
       "Does the employer comply with requirements regarding canteen?                                      1802\n",
       "Does the workplace have adequate shelters or rest rooms?                                            584\n",
       "Does the workplace have adequate changing rooms/lockers to meet the needs of workers?               474\n",
       "When provided as in-kind payment, does the employer give workers enough food of decent quality?     474\n",
       "Does the workplace have all required facilities?                                                    225\n",
       "Does the workplace have adequate kitchen and dining areas?                                           53\n",
       "Name: QCleaned, dtype: int64"
      ]
     },
     "execution_count": 157,
     "metadata": {},
     "output_type": "execute_result"
    }
   ],
   "source": [
    "#3:\n",
    "df[df.CPCleaned==CPCleanedUnique[3]].QCleaned.value_counts()"
   ]
  },
  {
   "cell_type": "code",
   "execution_count": 335,
   "metadata": {},
   "outputs": [
    {
     "data": {
      "text/plain": [
       "Cambodia    2368\n",
       "Name: Country, dtype: int64"
      ]
     },
     "execution_count": 335,
     "metadata": {},
     "output_type": "execute_result"
    }
   ],
   "source": [
    "tabCountry(\"Does employer provide cups or other sanitary means\\nfor drinking water?\")"
   ]
  },
  {
   "cell_type": "code",
   "execution_count": 333,
   "metadata": {},
   "outputs": [
    {
     "data": {
      "text/plain": [
       "4447"
      ]
     },
     "execution_count": 333,
     "metadata": {},
     "output_type": "execute_result"
    }
   ],
   "source": [
    "2118+1802+53+474"
   ]
  },
  {
   "cell_type": "code",
   "execution_count": 338,
   "metadata": {},
   "outputs": [
    {
     "data": {
      "text/plain": [
       "Are chemical mixing rooms properly equipped and used?                                      2238\n",
       "Chemicals/hazardous substance properly labelled                                            5164\n",
       "Chemicals/hazardous substance properly stored                                              1802\n",
       "Does the employer keep an inventory of hazardous chemicals used in the workplace?         12163\n",
       "Has the employer appointed a Chemical Officer?                                              833\n",
       "Has the employer prepared for response, control and cleaning of chemical spills?           8519\n",
       "Has the employer trained all workers who work with chemicals and hazardous substances?     9412\n",
       "Storage of chemicals and hazardous substances                                              6476\n",
       "Name: QCleaned, dtype: int64"
      ]
     },
     "execution_count": 338,
     "metadata": {},
     "output_type": "execute_result"
    }
   ],
   "source": [
    "#4: cleaned\n",
    "#5:\n",
    "df[df.CPCleaned==CPCleanedUnique[5]].QCleaned.value_counts().sort_index()"
   ]
  },
  {
   "cell_type": "code",
   "execution_count": 173,
   "metadata": {},
   "outputs": [
    {
     "data": {
      "text/plain": [
       "Has the employer effectively trained workers and supervisor who work with or are responsible for hazardous chemicals?                          249\n",
       "Has the employer effectively trained workers and supervisors who work with or are responsible for hazardous chemicals?                        1553\n",
       "Has the employer effectively trained workers who work with chemicals and hazardous substances?                                                3149\n",
       "Has the employer provided workers who work with chemical substances with proper clothing and personal protective equipment when necessary?    1441\n",
       "Has the employer taken action to  prevent and limit workers' exposure to chemicals and hazardous substances?                                  2290\n",
       "Has the employer taken action to assess, monitor, prevent and limit workers' exposure to chemicals and hazardous substances?                   747\n",
       "Has the employer taken action to prevent and limit workers' exposure to chemicals and hazardous substances?                                    474\n",
       "Has the employer taken action to, prevent and limit workers' exposure to chemicals and hazardous substances?                                   117\n",
       "Has the employer trained all workers who work with chemicals and hazardous substances?                                                         833\n",
       "Name: Q, dtype: int64"
      ]
     },
     "execution_count": 173,
     "metadata": {},
     "output_type": "execute_result"
    }
   ],
   "source": [
    "getOriginalQ(\"Has the employer trained all workers who work with chemicals and hazardous substances?\").sort_index()"
   ]
  },
  {
   "cell_type": "code",
   "execution_count": 174,
   "metadata": {},
   "outputs": [
    {
     "data": {
      "text/plain": [
       "Does the employer have chemical safety data sheets for all the hazardous chemicals used in the workplace?                                                  161\n",
       "Does the employer have chemical safety data sheets for the hazardous chemicals used in the workplace, and are the chemicals properly labelled?             833\n",
       "Does the employer have chemical safety data sheets for the hazardous chemicals used in the workplace?                                                     2982\n",
       "Does the employer keep a chemical inventory, and ensure that all chemicals and hazardous substances are properly labelled and have safety data sheets?     474\n",
       "Does the employer keep an inventory of chemicals and hazardous substances used in the workplace?                                                          3990\n",
       "Does the employer keep an inventory of hazardous chemicals used in the workplace?                                                                         1802\n",
       "Does the employer keep chemical safety records for the hazardous chemicals used in the workplace?                                                         1802\n",
       "Does the employer provide information on the chemicals and hazardous substances used in the workplace to the Ministry of Labour?                           119\n",
       "Name: Q, dtype: int64"
      ]
     },
     "execution_count": 174,
     "metadata": {},
     "output_type": "execute_result"
    }
   ],
   "source": [
    "getOriginalQ(\"Does the employer keep an inventory of hazardous chemicals used in the workplace?\").sort_index()"
   ]
  },
  {
   "cell_type": "code",
   "execution_count": 177,
   "metadata": {},
   "outputs": [
    {
     "data": {
      "text/plain": [
       "Does the employer pay workers correctly for personal leave?                                                                                                                    7524\n",
       "Payment for maternity leave                                                                                                                                                    6474\n",
       "Does the employer pay workers correctly for paid public holidays?                                                                                                              6069\n",
       "Does the employer provide required breastfeeding breaks?                                                                                                                       4061\n",
       "Paid annual leave                                                                                                                                                              3841\n",
       "Does the employer pay workers correctly during suspensions of work?                                                                                                            2503\n",
       "Does the employer provide paid sick leave as required by the factory’s Internal Regulations, or if there are no Internal Regulations, according to the Ministry's practice?    2503\n",
       "Paid sick leave                                                                                                                                                                2033\n",
       "Does the employer pay for paternity leave when required?                                                                                                                       1919\n",
       "Does the employer pay workers correctly during work stoppages?                                                                                                                 1891\n",
       "Are pregnant workers provided time off for prenatal visits?                                                                                                                    1802\n",
       "Does the employer allow workers to take 30 minutes rest during their period?                                                                                                   1802\n",
       "Do workers receive correct payment during sick leave and other types of leave that are covered by social insurance?                                                            1802\n",
       "Paid leave for breastfeed                                                                                                                                                      1587\n",
       "Can female workers take time off when they feel pain during the first two days of menstruation and they notify the employer?                                                    833\n",
       "Does the employer pay workers correctly when they take time off for personal/ family matters, as required by national law?                                                      833\n",
       "Paid rest and breaks                                                                                                                                                            161\n",
       "Name: QCleaned, dtype: int64"
      ]
     },
     "execution_count": 177,
     "metadata": {},
     "output_type": "execute_result"
    }
   ],
   "source": [
    "#6: cleaned\n",
    "#7: \n",
    "df[df.CPCleaned==CPCleanedUnique[7]].QCleaned.value_counts()"
   ]
  },
  {
   "cell_type": "code",
   "execution_count": 178,
   "metadata": {},
   "outputs": [
    {
     "data": {
      "text/plain": [
       "Does the employer keep only one accurate payroll record?         6476\n",
       "Has the employer made any unauthorized deductions from wages?    6476\n",
       "Inform workers about wage pay and deduction                      5643\n",
       "Name: QCleaned, dtype: int64"
      ]
     },
     "execution_count": 178,
     "metadata": {},
     "output_type": "execute_result"
    }
   ],
   "source": [
    "#8: \n",
    "df[df.CPCleaned==CPCleanedUnique[8]].QCleaned.value_counts()"
   ]
  },
  {
   "cell_type": "code",
   "execution_count": 179,
   "metadata": {},
   "outputs": [
    {
     "data": {
      "text/plain": [
       "Cambodia      2503\n",
       "Vietnam       1802\n",
       "Bangladesh     584\n",
       "Jordan         474\n",
       "Haiti          161\n",
       "Nicaragua      119\n",
       "Name: Country, dtype: int64"
      ]
     },
     "execution_count": 179,
     "metadata": {},
     "output_type": "execute_result"
    }
   ],
   "source": [
    "tabCountry(\"Inform workers about wage pay and deduction\")"
   ]
  },
  {
   "cell_type": "code",
   "execution_count": 187,
   "metadata": {},
   "outputs": [
    {
     "data": {
      "text/plain": [
       "Are workers free to meet without management present?                                                                                                           6210\n",
       "Does the employer provide incentives to workers to keep them from joining a union or engaging in union activities?                                             4674\n",
       "Does the employer threaten, intimidate, or harass workers who join a union or engage in union activities?                                                      6476\n",
       "Has the employer terminated a union official without getting permission from the Ministry?                                                                     2503\n",
       "Has the employer terminated a union official without the written agreement of the union board or the higher-level union?                                       1775\n",
       "Has the employer tried to interfere with, manipulate, or control the union(s)?                                                                                 1775\n",
       "If there is more than one union, does the employer treat them equally?                                                                                         3548\n",
       "Interfere union                                                                                                                                                6458\n",
       "Is a job applicant's union membership or union activities a factor in hiring decisions?                                                                        6476\n",
       "Is the employer involved in union decision making, the formation of the constitution and rules, in union activities, administration, finances or elections?    1350\n",
       "Punish unionists                                                                                                                                               6476\n",
       "Terminate workers for union activity                                                                                                                           6476\n",
       "Name: QCleaned, dtype: int64"
      ]
     },
     "execution_count": 187,
     "metadata": {},
     "output_type": "execute_result"
    }
   ],
   "source": [
    "#9:\n",
    "df[df.CPCleaned==CPCleanedUnique[9]].QCleaned.value_counts().sort_index()"
   ]
  },
  {
   "cell_type": "code",
   "execution_count": 188,
   "metadata": {},
   "outputs": [
    {
     "data": {
      "text/plain": [
       "Are disciplinary measures proportional to the seriousness of workers' misconduct?                     2236\n",
       "Bullying harassment                                                                                   6476\n",
       "Did the employer resolve grievances and disputes in compliance with legal requirements?               6357\n",
       "Do disciplinary measures comply with legal requirements?                                              3693\n",
       "Do the disciplinary measures comply with the company's by-laws approved by the Ministry of Labor?      119\n",
       "Does dialogue at the workplace take place in compliance with legal requirement?                       1802\n",
       "Does the employer comply with requirements regarding shop stewards?                                   2411\n",
       "Does the factory have a functioning Participation Committee?                                           959\n",
       "Does the factory have a functioning bipartite cooperation institution?                                 833\n",
       "Has the employer complied with arbitration awards?                                                    2503\n",
       "Has the employer complied with court orders arising from individual or collective disputes?           2237\n",
       "Has the employer complied with final conciliation agreements?                                         2503\n",
       "If Union Labour Committee is formed, does employer meet worker representatives on a regular basis?      99\n",
       "Qualified welfare officer                                                                              584\n",
       "Name: QCleaned, dtype: int64"
      ]
     },
     "execution_count": 188,
     "metadata": {},
     "output_type": "execute_result"
    }
   ],
   "source": [
    "#10:\n",
    "df[df.CPCleaned==CPCleanedUnique[10]].QCleaned.value_counts().sort_index()"
   ]
  },
  {
   "cell_type": "code",
   "execution_count": 189,
   "metadata": {},
   "outputs": [
    {
     "data": {
      "text/plain": [
       "Are workers free to terminate their employment with reasonable notice, and to leave their jobs when their contracts expire?                                  4930\n",
       "Does the employer delay or withhold wage payments in order to coerce workers to work?                                                                        6092\n",
       "Does the employer deny workers access to their personal documents (such as birth certificates, passports, work permits and ID cards) when they need them?    3380\n",
       "Does the employer force workers to work to discipline them or as punishment for participation in a strike?                                                   6090\n",
       "Does the employer restrict workers' freedom to come and go from the dormitories and/or the industrial park or zone in which the factory is located?          6476\n",
       "Does the employer use threats such as deportation, cancellation of visas or reporting to the authorities in order to force workers to stay at the job?       3973\n",
       "Does the employer use violence or the threat of violence to intimidate workers?                                                                              6209\n",
       "Free exit from workplace at all times                                                                                                                        6476\n",
       "Name: QCleaned, dtype: int64"
      ]
     },
     "execution_count": 189,
     "metadata": {},
     "output_type": "execute_result"
    }
   ],
   "source": [
    "#11:\n",
    "df[df.CPCleaned==CPCleanedUnique[11]].QCleaned.value_counts().sort_index()"
   ]
  },
  {
   "cell_type": "code",
   "execution_count": 192,
   "metadata": {},
   "outputs": [
    {
     "data": {
      "text/plain": [
       "Adequate OSH policy                                                                                                                               2412\n",
       "Does the employer conduct risk assessment?                                                                                                        1802\n",
       "Does the employer develop an OSH plan annually?                                                                                                   2278\n",
       "Does the employer have an OSH license?                                                                                                             119\n",
       "Does the employer have legally required construction/building permits?                                                                            5150\n",
       "Does the employer have the required certificates for the installation/ operation of electrical installations and other machines and equipment?     833\n",
       "Does the employer inspect and measure the environmental conditions in the workplace on a annual basis?                                            1802\n",
       "Does the employer record work-related accidents and diseases?                                                                                     6587\n",
       "Does the employer regularly inspect and maintain machines, equipment, buildings and stores?                                                       1802\n",
       "Does the employer report both accidents and non-occurrences to the Ministry of Labor?                                                              119\n",
       "Does the factory employ the required OSH specialists?                                                                                              593\n",
       "Does the factory have a written OSH policy?                                                                                                        833\n",
       "Has an officer trained in firefighting                                                                                                             566\n",
       "Has legal construction permits/structural safety certificate                                                                                       584\n",
       "Has the employer designated a person exclusively devoted to OSH promotion, prevention and protection?                                              119\n",
       "Has the employer done an initial industrial hygiene risk assessment, a risk map, and annual risk assessments?                                      119\n",
       "Has the employer elaborated an OSH training program?                                                                                               119\n",
       "Has the employer set up a properly functioning OSH collaborators network?                                                                         1802\n",
       "Has the factory conducted an assessment of the potential hazards in the workplace?                                                                4053\n",
       "Have a valid business licence                                                                                                                     1058\n",
       "Mechanisms/committee for cooperation on OSH                                                                                                       6476\n",
       "OSH technical organizational regulations                                                                                                           117\n",
       "Steam generator safety                                                                                                                             117\n",
       "Name: QCleaned, dtype: int64"
      ]
     },
     "execution_count": 192,
     "metadata": {},
     "output_type": "execute_result"
    }
   ],
   "source": [
    "#12: cleaned\n",
    "#13:\n",
    "df[df.CPCleaned==CPCleanedUnique[13]].QCleaned.value_counts().sort_index()"
   ]
  },
  {
   "cell_type": "code",
   "execution_count": 194,
   "metadata": {},
   "outputs": [
    {
     "data": {
      "text/plain": [
       "Minimum wages for regular workers                                                                                                                                                 6476\n",
       "Paid piece rate workers correctluy                                                                                                                                                5160\n",
       "Does the employer pay at least minimum wage for temporary and probationary workers?                                                                                               3678\n",
       "Does the employer pay apprentices the wage agreed to by the parties?                                                                                                              2386\n",
       "Is the piece rate set at a level that permits workers of average ability working normal hours to earn minimum wage?                                                               2284\n",
       "Does the employer pay at least 7% higher than the applicable legal minimum wage for ordinary hours of work to workers who have received vocational training?                      1802\n",
       "Does the employer pay at least 85% of the wage paid to other workers for the same job for ordinary hours of work to probationary workers?                                         1802\n",
       "Are piece-rate workers paid correctly for ordinary hours of work?                                                                                                                 1153\n",
       "Does the employer pay higher than district minimum wage for ordinary hours of work to permanent (PKWTT) and non-permanent workers (PKWT) who have worked for more than 1 year?     833\n",
       "Name: QCleaned, dtype: int64"
      ]
     },
     "execution_count": 194,
     "metadata": {},
     "output_type": "execute_result"
    }
   ],
   "source": [
    "#14:\n",
    "df[df.CPCleaned==CPCleanedUnique[14]].QCleaned.value_counts()"
   ]
  },
  {
   "cell_type": "code",
   "execution_count": 202,
   "metadata": {},
   "outputs": [
    {
     "data": {
      "text/plain": [
       "Punish workers for striking                                                                                                      6476\n",
       "Has the employer hired new workers to replace striking workers during a strike?                                                  6209\n",
       "prevent workers from strike?                                                                                                     6209\n",
       "Has the employer called security guards, the police or armed forces to break up a peaceful strike or arrest striking workers?    1802\n",
       "Name: QCleaned, dtype: int64"
      ]
     },
     "execution_count": 202,
     "metadata": {},
     "output_type": "execute_result"
    }
   ],
   "source": [
    "#15:\n",
    "df[df.CPCleaned==CPCleanedUnique[15]].QCleaned.value_counts()"
   ]
  },
  {
   "cell_type": "code",
   "execution_count": 201,
   "metadata": {},
   "outputs": [],
   "source": [
    "undo(\"Has the employer tried to prevent workers from participating in a strike?\")\n",
    "replace([\"Has the employer tried to prevent any workers from participating in a strike?\",\\\n",
    "         \"Has the employer tried to prevent workers from participating in a strike?\"],\"prevent workers from strike?\")"
   ]
  },
  {
   "cell_type": "code",
   "execution_count": 198,
   "metadata": {},
   "outputs": [
    {
     "data": {
      "text/plain": [
       "array(['Vietnam'], dtype=object)"
      ]
     },
     "execution_count": 198,
     "metadata": {},
     "output_type": "execute_result"
    }
   ],
   "source": [
    "getCountry(\"Has the employer called security guards, the police or armed forces to break up a peaceful strike or arrest striking workers?\")"
   ]
  },
  {
   "cell_type": "code",
   "execution_count": 204,
   "metadata": {},
   "outputs": [
    {
     "data": {
      "text/plain": [
       "Implement CBA                                                                                                                                                       6476\n",
       "Are the provisions of the collective agreement at least as favourable for workers as the law?                                                                       5839\n",
       "Does the employer consult with unions where legally required?                                                                                                       5275\n",
       "Does the employer provide workers access to the collective bargaining agreements?                                                                                   4038\n",
       "Does the employer refuse to bargain collectively or refuse to bargain in good faith with the union, worker representatives, union federations or confederations?    3849\n",
       "Is the grassroots level union in the factory involved in the bargaining process at the enterprise level?                                                            1802\n",
       "Has the collective agreement in force been approved by more than 50% of workers covered?                                                                            1802\n",
       "Does the employer inform workers about the contents of the collective bargaining agreement, and provide workers the text of the agreement?                           833\n",
       "Does the employer consult with worker representatives where legally required?                                                                                        566\n",
       "Are workers informed about the CBA?                                                                                                                                  474\n",
       "Name: QCleaned, dtype: int64"
      ]
     },
     "execution_count": 204,
     "metadata": {},
     "output_type": "execute_result"
    }
   ],
   "source": [
    "#16:\n",
    "df[df.CPCleaned==CPCleanedUnique[16]].QCleaned.value_counts()"
   ]
  },
  {
   "cell_type": "code",
   "execution_count": 205,
   "metadata": {},
   "outputs": [
    {
     "data": {
      "text/plain": [
       "Do regular daily working hours exceed 10 hours?                                                    6469\n",
       "Do the working time records reflect the hours actually worked?                                     5368\n",
       "Does the employer provide required weekly rest periods?                                            2836\n",
       "Does the employer comply with daily break periods?                                                 2666\n",
       "Do workers have at least one day off per week?                                                     2547\n",
       "Does the employer comply with shift work requirements?                                             1804\n",
       "Do the attendance records reflect the hours actually worked?                                        833\n",
       "Does the employer post the factory's working hours (for all shifts, and including break times)?      81\n",
       "Does the employer provide required breastfeeding breaks?                                             60\n",
       "Name: QCleaned, dtype: int64"
      ]
     },
     "execution_count": 205,
     "metadata": {},
     "output_type": "execute_result"
    }
   ],
   "source": [
    "#17:\n",
    "df[df.CPCleaned==CPCleanedUnique[17]].QCleaned.value_counts()"
   ]
  },
  {
   "cell_type": "code",
   "execution_count": 209,
   "metadata": {},
   "outputs": [
    {
     "data": {
      "text/plain": [
       "Does the employer pay all workers who work regularly the correct attendance bonus when workers take sick leave?                                                7312\n",
       "Does the employer pay workers the correct seniority bonus?                                                                                                     2977\n",
       "Does the employer pay workers the correct compensation for work-related accidents and diseases?                                                                2860\n",
       "Does the employer pay all workers the correct mandatory wage supplements (including  transportation and housing allowances)?                                   2503\n",
       "Does the employer pay the required employer contribution to the National Social Security Fund?                                                                 2503\n",
       "Does the employer provide transport home or a place to sleep for workers who finish work between 22:00 and 05:00?                                              2250\n",
       "Does the employer collect and forward workers' contributions to social insurance funds on time?                                                                1919\n",
       "Does the employer pay workers who are not covered by compulsory social insurance the employer's contribution for social, health and unemployment insurance?    1802\n",
       "Does the employer comply with requirements when workers have occupational accidents and diseases?                                                              1802\n",
       "Does the employer pay the required contributions for social insurance (BPJS Ketenagakerjaan) and health care funds (BPJS Kesehatan) to BPJS?                   1666\n",
       "Does the employer correctly calculate and send the employer contribution to the Social Security Corporation?                                                    948\n",
       "Does the employer pay workers the religious holiday allowance?                                                                                                  833\n",
       "Does the employer provide round trip transport for female workers who work between 11 p.m. and 5 a.m?                                                           833\n",
       "Does the employer provide nutritious food and drinks  to female workers who work between 11 p.m. and  7 a.m?                                                    833\n",
       "Does the employer pay the required amount each year into the Workers' Participation Fund?                                                                       602\n",
       "Does the employer provide compulsory group insurance for workers?                                                                                               584\n",
       "Does the employer pay the correct compensation in the event of a worker's death?                                                                                584\n",
       "If a Provident Fund has been established, does the employer collect and deposit workers' contributions into the fund?                                           584\n",
       "Does the employer pay workers two festival bonuses per year?                                                                                                    566\n",
       "Are the Workers' Participation and Welfare Funds used and distributed as required?                                                                              566\n",
       "Does the employer pay 3% of workers' salary to OFATMA for work-related accident insurance?                                                                      322\n",
       "Does the employer forward workers contributions to ONA?                                                                                                         322\n",
       "Does the employer pay UDC workers the correct seniority indemnity?                                                                                              269\n",
       "Does the employer pay workers their annual salary supplement or bonus?                                                                                          161\n",
       "Does the employer collect and forward workers contributions to OFATMA?                                                                                          156\n",
       "Does the employer pay 2% of the gross payroll to INATEC?                                                                                                        119\n",
       "Does the employer pay workers a 13th month of wages?                                                                                                            119\n",
       "Does the employer pay the correct percentage of workers' total wages to the Nicaraguan Social Security Institute?                                               117\n",
       "Do workers receive required distributions from the Workers' Participation Fund?                                                                                  18\n",
       "Does the employer comply with other wage payments?                                                                                                               18\n",
       "Are the Welfare Fund and Workers’ Welfare Foundation Fund used in the manner determined by the Fund Board of Trustees?                                           18\n",
       "Name: QCleaned, dtype: int64"
      ]
     },
     "execution_count": 209,
     "metadata": {},
     "output_type": "execute_result"
    }
   ],
   "source": [
    "#18:\n",
    "df[df.CPCleaned==CPCleanedUnique[18]].QCleaned.value_counts()"
   ]
  },
  {
   "cell_type": "code",
   "execution_count": 210,
   "metadata": {},
   "outputs": [
    {
     "data": {
      "text/plain": [
       "Do the employment contracts comply with other legal requirements?                                            5846\n",
       "Do workers understand the terms and conditions of employment?                                                5468\n",
       "Do all persons who perform work for the factory, both on the premises and offsite, have a contract?          4940\n",
       "Do the internal work rules comply with national law?                                                         4347\n",
       "Do the contracts comply with the labour law, collective agreement and work rules?                            3629\n",
       "Do the employment contracts comply with Cambodian labour law and with the factory's internal regulations?    2286\n",
       "Has the employer provided all workers with a letter of appointment?                                          1752\n",
       "Does the employer give a copy of the work agreement in Bahasa to workers?                                     833\n",
       "Do the factory bylaws comply with Jordanian legal requirements and were they communicated to workers?         474\n",
       "Do the employment contracts comply with Jordanian legal requirements?                                         474\n",
       "Does the employer maintain a personnel file for each worker?                                                  474\n",
       "Does the employer provide workers with a copy of their contract?                                              474\n",
       "Name: QCleaned, dtype: int64"
      ]
     },
     "execution_count": 210,
     "metadata": {},
     "output_type": "execute_result"
    }
   ],
   "source": [
    "#19:\n",
    "df[df.CPCleaned==CPCleanedUnique[19]].QCleaned.value_counts()"
   ]
  },
  {
   "cell_type": "code",
   "execution_count": 226,
   "metadata": {},
   "outputs": [
    {
     "data": {
      "text/plain": [
       "Does the employer comply with limits on the period of employment for training workers?                                                                                                     4627\n",
       "Does the employer comply with the legal limit on the use of fixed term contracts?                                                                                                          2503\n",
       "Does the employer include the entire period of continuous employment when determining workers' entitlements to maternity leave, attendance bonus, seniority bonus, and/or annual leave?    2503\n",
       "Does the employer comply with requirements for apprentices?                                                                                                                                2282\n",
       "Do workers have to pay anyone to get a job?                                                                                                                                                2236\n",
       "Does the employer comply with requirements for temporary transfers of workers to new work?                                                                                                 1802\n",
       "Does the employer comply with national law concerning dispatched workers at the workplace?                                                                                                 1802\n",
       "Have you found non-compliance with legal requirements for compensation, contracts, OSH and/or working time pertaining to non-production workers and/or sub-contracted workers?             1448\n",
       "Do workers pay any recruitment fees?                                                                                                                                                       1307\n",
       "Is the probationary period applied only to permanent workers (PKWTT) and for no longer than 3 months?                                                                                       833\n",
       "Does the employer comply with legal requirements when subcontracting part of its work to another enterprise?                                                                                833\n",
       "Does the employer comply with limits on the use of work agreements for a specified period of time (i.e., limits on the employment of non-permanent workers)?                                833\n",
       "Do all workers (other than apprentices, badli or casual workers) have a service book?                                                                                                       584\n",
       "Does the employer comply with requirements concerning sub-contracted workers at the workplace?                                                                                              580\n",
       "Does the employer comply with legal requirements relating to outsourced workers?                                                                                                            480\n",
       "Is the probationary period limited to 3 months?                                                                                                                                             474\n",
       "Do the migrant workers have valid work permits and residence IDs?                                                                                                                           474\n",
       "Name: QCleaned, dtype: int64"
      ]
     },
     "execution_count": 226,
     "metadata": {},
     "output_type": "execute_result"
    }
   ],
   "source": [
    "#20:\n",
    "df[df.CPCleaned==CPCleanedUnique[20]].QCleaned.value_counts()"
   ]
  },
  {
   "cell_type": "code",
   "execution_count": 224,
   "metadata": {},
   "outputs": [
    {
     "data": {
      "text/plain": [
       "Cambodia      2241\n",
       "Vietnam       1802\n",
       "Bangladesh     584\n",
       "Name: Country, dtype: int64"
      ]
     },
     "execution_count": 224,
     "metadata": {},
     "output_type": "execute_result"
    }
   ],
   "source": [
    "tabCountry(\"Does the employer comply with limits on the period of employment for training workers?\")"
   ]
  },
  {
   "cell_type": "code",
   "execution_count": 223,
   "metadata": {},
   "outputs": [
    {
     "data": {
      "text/plain": [
       "Does the employer only terminate workers for valid reasons?                                                                                           8158\n",
       "Does the employer compensate workers for unused paid annual leave when they resign or are terminated?                                                 6357\n",
       "Does the employer pay workers the correct severance pay?                                                                                              6313\n",
       "Are workers given the opportunities required under law to defend themselves before they are terminated?                                               6196\n",
       "Does the employer pay all outstanding wages and indemnities within 48 hours of termination?                                                           4674\n",
       "Does the employer comply with legal requirements before suspending workers or reducing the size of the workforce due to changes in operations?        4578\n",
       "Does the employer provide workers proper notice of termination?                                                                                       3021\n",
       "Does the employer pay workers their outstanding wages and the correct indemnity for dismissal?                                                        2412\n",
       "Does the employer pay terminated workers the correct damages when required?                                                                           2237\n",
       "Do resigned or terminated workers receive all other termination benefits required by law?                                                             1802\n",
       "Does the employer provide terminated workers their Provident Funds (if applicable)?                                                                    584\n",
       "Does the employer comply with legal requirements before laying off workers due to force majeure, and before retrenching workers due to redundancy?     566\n",
       "Does the employer pay workers their annual salary supplement or bonus?                                                                                 161\n",
       "Name: QCleaned, dtype: int64"
      ]
     },
     "execution_count": 223,
     "metadata": {},
     "output_type": "execute_result"
    }
   ],
   "source": [
    "#21:\n",
    "df[df.CPCleaned==CPCleanedUnique[21]].QCleaned.value_counts()"
   ]
  },
  {
   "cell_type": "code",
   "execution_count": 227,
   "metadata": {},
   "outputs": [
    {
     "data": {
      "text/plain": [
       "Does the employer only terminate workers for valid reasons?                                  4042\n",
       "Does the employer unilaterally terminate workers for reasons that are not allowed by law?    1802\n",
       "Does the employer dismiss workers for reasons that are not allowed by law?                   1801\n",
       "Does the employer only terminate or dismiss workers for valid reasons?                        357\n",
       "Does the employer terminate workers for reasons that are invalid under national law?          156\n",
       "Name: Q, dtype: int64"
      ]
     },
     "execution_count": 227,
     "metadata": {},
     "output_type": "execute_result"
    }
   ],
   "source": [
    "getOriginalQ(\"Does the employer only terminate workers for valid reasons?\")"
   ]
  },
  {
   "cell_type": "code",
   "execution_count": 232,
   "metadata": {},
   "outputs": [
    {
     "data": {
      "text/plain": [
       "array(['Indonesia', 'Jordan', 'Haiti', 'Cambodia', 'Bangladesh'],\n",
       "      dtype=object)"
      ]
     },
     "execution_count": 232,
     "metadata": {},
     "output_type": "execute_result"
    }
   ],
   "source": [
    "df[df.Q==\"Does the employer only terminate workers for valid reasons?\"].Country.unique()"
   ]
  },
  {
   "cell_type": "code",
   "execution_count": 230,
   "metadata": {},
   "outputs": [
    {
     "data": {
      "text/plain": [
       "Series([], Name: Country, dtype: int64)"
      ]
     },
     "execution_count": 230,
     "metadata": {},
     "output_type": "execute_result"
    }
   ],
   "source": [
    "tabCountry(\"Does the employer only terminate or dismiss workers for valid reasons?\")"
   ]
  },
  {
   "cell_type": "code",
   "execution_count": 234,
   "metadata": {},
   "outputs": [
    {
     "data": {
      "text/plain": [
       "Does the employer provide at least 12 weeks of maternity leave?                                                                 5801\n",
       "Does the employer provide required breastfeeding breaks?                                                                        5623\n",
       "Does the employer provide 12 days of annual leave per year?                                                                     4555\n",
       "Does the employer provide 14 days of sick leave per year?                                                                       4473\n",
       "Does the employer provide required annual leave?                                                                                4188\n",
       "Does the employer pay for paternity leave when required?                                                                        2752\n",
       "Do workers have at least one day off per week?                                                                                  2503\n",
       "Are pregnant workers provided time off for prenatal visits?                                                                     1802\n",
       "Does the employer allow workers to take 30 minutes rest during their period?                                                    1802\n",
       "Do workers receive correct payment during sick leave and other types of leave that are covered by social insurance?             1802\n",
       "Can female workers take time off when they feel pain during the first two days of menstruation and they notify the employer?     833\n",
       "Does the employer pay workers correctly for paid public holidays?                                                                584\n",
       "Name: QCleaned, dtype: int64"
      ]
     },
     "execution_count": 234,
     "metadata": {},
     "output_type": "execute_result"
    }
   ],
   "source": [
    "#22:\n",
    "df[df.CPCleaned==CPCleanedUnique[22]].QCleaned.value_counts()"
   ]
  },
  {
   "cell_type": "code",
   "execution_count": 243,
   "metadata": {},
   "outputs": [
    {
     "data": {
      "text/plain": [
       "Do union representatives have access to workers in the workplace?                                                      6476\n",
       "Does the employer deduct union dues from wages when workers request this in writing?                                   6175\n",
       "Does the employer allow workers to carry out trade union activities during working hours as agreed by both parties?    2635\n",
       "Does the employer provide a place to post the names, positions, and activities of the union leaders?                   2503\n",
       "Does the employer provide workers access to the collective bargaining agreements?                                       584\n",
       "Does the employer provide unions with access to bulletin boards in the workplace?                                       474\n",
       "Name: QCleaned, dtype: int64"
      ]
     },
     "execution_count": 243,
     "metadata": {},
     "output_type": "execute_result"
    }
   ],
   "source": [
    "#23:\n",
    "df[df.CPCleaned==CPCleanedUnique[23]].QCleaned.value_counts()"
   ]
  },
  {
   "cell_type": "code",
   "execution_count": 244,
   "metadata": {},
   "outputs": [
    {
     "data": {
      "text/plain": [
       "'Union Operations'"
      ]
     },
     "execution_count": 244,
     "metadata": {},
     "output_type": "execute_result"
    }
   ],
   "source": [
    "CPCleanedUnique[23]"
   ]
  },
  {
   "cell_type": "code",
   "execution_count": 245,
   "metadata": {},
   "outputs": [
    {
     "data": {
      "text/plain": [
       "array(['Collective Bargaining', 'Union Operations'], dtype=object)"
      ]
     },
     "execution_count": 245,
     "metadata": {},
     "output_type": "execute_result"
    }
   ],
   "source": [
    "df[df.QCleaned==\"Does the employer provide workers access to the collective bargaining agreements?\"].CPCleaned.unique()"
   ]
  },
  {
   "cell_type": "code",
   "execution_count": 240,
   "metadata": {},
   "outputs": [
    {
     "name": "stdout",
     "output_type": "stream",
     "text": [
      "Do union representatives have access to workers in the workplace? \n",
      " Cambodia      2503\n",
      "Vietnam       1802\n",
      "Indonesia      833\n",
      "Bangladesh     584\n",
      "Jordan         474\n",
      "Haiti          161\n",
      "Nicaragua      119\n",
      "Name: Country, dtype: int64\n",
      "Does the employer deduct union dues from wages when workers request this in writing? \n",
      " Cambodia      2240\n",
      "Vietnam       1775\n",
      "Indonesia      833\n",
      "Bangladesh     584\n",
      "Jordan         463\n",
      "Haiti          161\n",
      "Nicaragua      119\n",
      "Name: Country, dtype: int64\n",
      "Does the employer allow workers to carry out trade union activities during working hours as agreed by both parties? \n",
      " Vietnam      1802\n",
      "Indonesia     833\n",
      "Name: Country, dtype: int64\n",
      "Does the employer provide unions with access to bulletin boards in the workplace? \n",
      " Jordan    474\n",
      "Name: Country, dtype: int64\n",
      "Does the employer provide a place to post the names, positions, and activities of the union leaders? \n",
      " Cambodia    2503\n",
      "Name: Country, dtype: int64\n",
      "Does the employer provide workers access to the collective bargaining agreements? \n",
      " Cambodia      2236\n",
      "Vietnam       1802\n",
      "Bangladesh     584\n",
      "Name: Country, dtype: int64\n"
     ]
    }
   ],
   "source": [
    "for i in df[df.CPCleaned==CPCleanedUnique[23]].QCleaned.unique():\n",
    "    print(i,\"\\n\",tabCountry(i))\n"
   ]
  },
  {
   "cell_type": "code",
   "execution_count": 246,
   "metadata": {},
   "outputs": [
    {
     "data": {
      "text/plain": [
       "Do workers use the machines and equipment in a safe manner?                                                                                             8892\n",
       "Safety warnings posted                                                                                                                                  6476\n",
       "Electrical wires/switches/plugs properly installed                                                                                                      6476\n",
       "Proper guards installed and maintained                                                                                                                  6476\n",
       "Does the employer comply with ergonomic requirements?                                                                                                   6287\n",
       "Provide PPE                                                                                                                                             5035\n",
       "Protect workers from falls from heights                                                                                                                 4400\n",
       "Do the operators / technicians for boiler, generator, compressor, and pressure vessels have legally required permit and training?                       2434\n",
       "Are workers punished if they remove themselves from work situations that they believe present an imminent and serious danger to life or health?         2052\n",
       "Has the factory conducted an assessment of the potential hazards in the workplace?                                                                      2001\n",
       "Comply with strict occupational safety requirement                                                                                                      1802\n",
       "Comply with machines and equipment requirements                                                                                                         1802\n",
       "Does the employer force workers to continue working when they have refused to work due to clear imminent and serious danger to their life or health?    1802\n",
       "Are workers effectively trained on occupational health and safety?                                                                                      1802\n",
       "Has the employer provided workers with metal gloves when necessary?                                                                                     1441\n",
       "Has the employer provided workers with ear plugs when necessary?                                                                                        1441\n",
       "Has the employer provided workers with dust masks when necessary?                                                                                       1441\n",
       "Has the employer provided workers with necessary PPE to protect against wet processes when necessary?                                                   1441\n",
       "Has the employer provided workers with other PPE when necessary?                                                                                        1441\n",
       "Has the employer trained all workers who work with chemicals and hazardous substances?                                                                  1441\n",
       "Do the operators/ technicians/ officers responsible for machinery/ equipment/ installations/ lifting equipment have the required license?                833\n",
       "Is the workplace overcrowded?                                                                                                                            584\n",
       "Boilers registered/certified                                                                                                                             357\n",
       "Do the technicians for electrical installations and boiler operators have the legally required license/ certification?                                   357\n",
       "Do steam generating machine operators have valid licenses?                                                                                               119\n",
       "Do workers have suitable chairs?                                                                                                                           7\n",
       "Name: QCleaned, dtype: int64"
      ]
     },
     "execution_count": 246,
     "metadata": {},
     "output_type": "execute_result"
    }
   ],
   "source": [
    "#24:\n",
    "df[df.CPCleaned==CPCleanedUnique[24]].QCleaned.value_counts()"
   ]
  },
  {
   "cell_type": "code",
   "execution_count": 252,
   "metadata": {},
   "outputs": [
    {
     "data": {
      "text/plain": [
       "Is the workplace adequately lit?                                                             6416\n",
       "Are noise levels acceptable?                                                                 6344\n",
       "Is the workplace clean and tidy?                                                             5411\n",
       "Is the temperature and ventilation aceptable?                                                3107\n",
       "Is the temperature in the workplace acceptable?                                              2432\n",
       "Is the workplace adequately ventilated?                                                      1809\n",
       "Is the workplace climate measured by the employer, and in line with applicable standards?     833\n",
       "Name: QCleaned, dtype: int64"
      ]
     },
     "execution_count": 252,
     "metadata": {},
     "output_type": "execute_result"
    }
   ],
   "source": [
    "#25:\n",
    "df[df.CPCleaned==CPCleanedUnique[25]].QCleaned.value_counts()"
   ]
  },
  {
   "cell_type": "code",
   "execution_count": 251,
   "metadata": {},
   "outputs": [],
   "source": [
    "replace([\"Are noise levels acceptable?\",\"Are noise levels  measured by the employer and in line with applicable standard?\"])"
   ]
  },
  {
   "cell_type": "code",
   "execution_count": 253,
   "metadata": {},
   "outputs": [
    {
     "name": "stdout",
     "output_type": "stream",
     "text": [
      "Is the temperature in the workplace acceptable? \n",
      " Vietnam    1802\n",
      "Jordan      474\n",
      "Haiti       156\n",
      "Name: Country, dtype: int64\n",
      "Is the workplace clean and tidy? \n",
      " Cambodia      2271\n",
      "Vietnam       1802\n",
      "Bangladesh     584\n",
      "Jordan         474\n",
      "Haiti          161\n",
      "Nicaragua      119\n",
      "Name: Country, dtype: int64\n",
      "Is the workplace adequately ventilated? \n",
      " Vietnam       3604\n",
      "Indonesia      833\n",
      "Bangladesh     584\n",
      "Haiti          166\n",
      "Cambodia         3\n",
      "Nicaragua        2\n",
      "Name: Country, dtype: int64\n",
      "Are noise levels acceptable? \n",
      " Cambodia      2371\n",
      "Vietnam       1802\n",
      "Indonesia      833\n",
      "Bangladesh     584\n",
      "Jordan         474\n",
      "Haiti          161\n",
      "Nicaragua      119\n",
      "Name: Country, dtype: int64\n",
      "Is the workplace adequately lit? \n",
      " Cambodia      2443\n",
      "Vietnam       1802\n",
      "Indonesia      833\n",
      "Bangladesh     584\n",
      "Jordan         474\n",
      "Haiti          161\n",
      "Nicaragua      119\n",
      "Name: Country, dtype: int64\n",
      "Is the workplace climate measured by the employer, and in line with applicable standards? \n",
      " Indonesia    833\n",
      "Name: Country, dtype: int64\n",
      "Is the temperature and ventilation aceptable? \n",
      " Cambodia      2406\n",
      "Bangladesh     584\n",
      "Nicaragua      117\n",
      "Name: Country, dtype: int64\n"
     ]
    }
   ],
   "source": [
    "for i in df[df.CPCleaned==CPCleanedUnique[25]].QCleaned.unique():\n",
    "    print(i,\"\\n\",tabCountry(i))"
   ]
  },
  {
   "cell_type": "code",
   "execution_count": 256,
   "metadata": {},
   "outputs": [
    {
     "data": {
      "text/plain": [
       "{1, None}"
      ]
     },
     "execution_count": 256,
     "metadata": {},
     "output_type": "execute_result"
    }
   ],
   "source": [
    "set([1,None,None])"
   ]
  },
  {
   "cell_type": "code",
   "execution_count": null,
   "metadata": {},
   "outputs": [],
   "source": [
    "def find(qkw=None,country=None,year=None)\n",
    "    if \n",
    "    df[(df.QCleaned.str.contains(qkw)) & ()]"
   ]
  },
  {
   "cell_type": "code",
   "execution_count": 257,
   "metadata": {},
   "outputs": [
    {
     "data": {
      "text/plain": [
       "Does the employer provide adequate first-aid facilities?                             7077\n",
       "Comply with HIV/AIDS policy                                                          5841\n",
       "Does the employer address safety and health risks to pregnant or nursing workers?    5735\n",
       "Trained workers on first aid                                                         5426\n",
       "Does the workplace have an adequately equipped and staffed infirmary?                2503\n",
       "Does the workplace have all required facilities?                                     2437\n",
       "Do workers undergo a medical examination before being employed?                      2386\n",
       "Do workers have annual medical checks?                                               2240\n",
       "Do workers receive free periodic health checks as required by law?                   1963\n",
       "Does the employer provide required medical services?                                 1417\n",
       "Trained workers on first aid                                                          833\n",
       "Do workers receive the health cards within the first 3 months of hiring ?              79\n",
       "Name: QCleaned, dtype: int64"
      ]
     },
     "execution_count": 257,
     "metadata": {},
     "output_type": "execute_result"
    }
   ],
   "source": [
    "#26:\n",
    "df[df.CPCleaned==CPCleanedUnique[26]].QCleaned.value_counts()"
   ]
  },
  {
   "cell_type": "code",
   "execution_count": 258,
   "metadata": {},
   "outputs": [
    {
     "data": {
      "text/plain": [
       "Do workers who are under age 18 work overtime or work at night?              5929\n",
       "Do workers who are under age 18 perform work that is hazardous by nature?    5616\n",
       "Name: QCleaned, dtype: int64"
      ]
     },
     "execution_count": 258,
     "metadata": {},
     "output_type": "execute_result"
    }
   ],
   "source": [
    "#27: cleaned*\n",
    "df[df.CPCleaned==CPCleanedUnique[27]].QCleaned.value_counts()"
   ]
  },
  {
   "cell_type": "code",
   "execution_count": 259,
   "metadata": {},
   "outputs": [
    {
     "name": "stdout",
     "output_type": "stream",
     "text": [
      "Do workers who are under age 18 work overtime or work at night? \n",
      " Cambodia      2236\n",
      "Vietnam       1802\n",
      "Indonesia      833\n",
      "Bangladesh     584\n",
      "Jordan         474\n",
      "Name: Country, dtype: int64\n",
      "Do workers who are under age 18 perform work that is hazardous by nature? \n",
      " Cambodia      2236\n",
      "Vietnam       1802\n",
      "Indonesia      833\n",
      "Bangladesh     584\n",
      "Haiti          161\n",
      "Name: Country, dtype: int64\n"
     ]
    }
   ],
   "source": [
    "for i in df[df.CPCleaned==CPCleanedUnique[27]].QCleaned.unique():\n",
    "    print(i,\"\\n\",tabCountry(i))"
   ]
  },
  {
   "cell_type": "code",
   "execution_count": 263,
   "metadata": {},
   "outputs": [
    {
     "data": {
      "text/plain": [
       "Have you found that religion or political opinion is a factor in the employer's decisions regarding termination or retirement of workers?    1802\n",
       "Are workers harassed on the basis of their religion or political opinion?                                                                    1802\n",
       "Name: QCleaned, dtype: int64"
      ]
     },
     "execution_count": 263,
     "metadata": {},
     "output_type": "execute_result"
    }
   ],
   "source": [
    "#28: cleaned*\n",
    "df[df.CPCleaned==CPCleanedUnique[28]].QCleaned.value_counts()"
   ]
  },
  {
   "cell_type": "code",
   "execution_count": 265,
   "metadata": {},
   "outputs": [
    {
     "data": {
      "text/plain": [
       "Are workers paid on time, twice per month?                                            2878\n",
       "Are workers' full wages paid directly to workers at the workplace on working days?    2404\n",
       "Does the employer pay wages on time and pay interest in case of late payment?         1802\n",
       "Are wages paid on time?                                                               1113\n",
       "Are workers paid within seven days from the date wages become payable?                 474\n",
       "Does the employer comply with other wage payments?                                     474\n",
       "Name: QCleaned, dtype: int64"
      ]
     },
     "execution_count": 265,
     "metadata": {},
     "output_type": "execute_result"
    }
   ],
   "source": [
    "#29:\n",
    "df[df.CPCleaned==CPCleanedUnique[29]].QCleaned.value_counts()"
   ]
  },
  {
   "cell_type": "code",
   "execution_count": 266,
   "metadata": {},
   "outputs": [
    {
     "data": {
      "text/plain": [
       "Is the accommodation separate from the workplace (even though it may be in the same compound/industrial park)?                 6091\n",
       "Has the employer adequately prepared for emergencies in the accommodation?                                                     5651\n",
       "Is the accommodation protected against fire?                                                                                   5619\n",
       "Adequate toilets, shower, sewage in dorm                                                                                       3857\n",
       "Is the accommodation protected against disease carrying animals or insects?                                                    3857\n",
       "Does the accommodation offer workers adequate privacy?                                                                         3857\n",
       "Is the workplace adequately ventilated?                                                                                        3383\n",
       "Does the accommodation have adequate cooking facilities?                                                                       2529\n",
       "Does the accommodation have enough safe water?                                                                                 2055\n",
       "Does the accommodation comply with minimum space requirements?                                                                 2052\n",
       "Is the accommodation adequately lit?                                                                                           1581\n",
       "Does the accommodation have laundry facilities?                                                                                 474\n",
       "Are trained first aid personnel and adequate first aid supplies available in the accommodation?                                 474\n",
       "Is the accommodation adequately protected against heat, cold, dampness, and noise, and is it adequately ventilated and lit?     474\n",
       "Name: QCleaned, dtype: int64"
      ]
     },
     "execution_count": 266,
     "metadata": {},
     "output_type": "execute_result"
    }
   ],
   "source": [
    "#30:\n",
    "df[df.CPCleaned==CPCleanedUnique[30]].QCleaned.value_counts()"
   ]
  },
  {
   "cell_type": "code",
   "execution_count": 267,
   "metadata": {},
   "outputs": [
    {
     "data": {
      "text/plain": [
       "Is an applicant's race, colour or origin a factor in hiring decisions?                                          11171\n",
       "Is race, colour or origin a factor in decisions regarding opportunities for promotion or access to training?     5643\n",
       "Is race, colour, origin or citizenship status a factor in decisions regarding pay?                                474\n",
       "Name: QCleaned, dtype: int64"
      ]
     },
     "execution_count": 267,
     "metadata": {},
     "output_type": "execute_result"
    }
   ],
   "source": [
    "#31:\n",
    "df[df.CPCleaned==CPCleanedUnique[31]].QCleaned.value_counts()"
   ]
  },
  {
   "cell_type": "code",
   "execution_count": 280,
   "metadata": {},
   "outputs": [
    {
     "name": "stdout",
     "output_type": "stream",
     "text": [
      "Is an applicant's race, colour or origin a factor in hiring decisions?\n",
      "Cambodia      5006\n",
      "Vietnam       3604\n",
      "Bangladesh    1168\n",
      "Indonesia      833\n",
      "Haiti          322\n",
      "Nicaragua      238\n",
      "Name: Country, dtype: int64\n",
      "---------------------------\n",
      "11171\n",
      "Is race, colour or origin a factor in decisions regarding opportunities for promotion or access to training?\n",
      "Cambodia      2503\n",
      "Vietnam       1802\n",
      "Bangladesh     584\n",
      "Jordan         474\n",
      "Haiti          161\n",
      "Nicaragua      119\n",
      "Name: Country, dtype: int64\n",
      "---------------------------\n",
      "5643\n",
      "Is race, colour, origin or citizenship status a factor in decisions regarding pay?\n",
      "Jordan    474\n",
      "Name: Country, dtype: int64\n",
      "---------------------------\n",
      "474\n"
     ]
    }
   ],
   "source": [
    "collapse(CPCleanedUnique[31])"
   ]
  },
  {
   "cell_type": "code",
   "execution_count": 271,
   "metadata": {},
   "outputs": [
    {
     "data": {
      "text/plain": [
       "Has the employer made required accommodations for physically disabled workers?                                                                             3109\n",
       "Does the employer hire one disabled worker for every 100 workers?                                                                                           833\n",
       "Is an applicant's age a factor in hiring decisions?                                                                                                         721\n",
       "Do recruitment materials such as job announcements or job application forms refer to age in a manner that could discourage older workers from applying?     721\n",
       "Is age a factor in decisions regarding opportunities for promotion or access to training?                                                                   721\n",
       "Name: QCleaned, dtype: int64"
      ]
     },
     "execution_count": 271,
     "metadata": {},
     "output_type": "execute_result"
    }
   ],
   "source": [
    "#32:\n",
    "df[df.CPCleaned==CPCleanedUnique[32]].QCleaned.value_counts()"
   ]
  },
  {
   "cell_type": "code",
   "execution_count": 272,
   "metadata": {},
   "outputs": [
    {
     "data": {
      "text/plain": [
       "Is overtime work limited to two hours per day?                                                     9546\n",
       "Is overtime voluntary?                                                                             6476\n",
       "Does the employer get permission from the Labour Inspector before workers work overtime?           2458\n",
       "Does the employer get permission from the Labor Inspector before suspending weekly rest days?      2276\n",
       "Does the employer provide required weekly rest periods?                                            1802\n",
       "Does the employer prepare written instructions on overtime?                                        1417\n",
       "Do workers have at least one day off per week?                                                      584\n",
       "Does the employer get written consent from women to work at night?                                  584\n",
       "Does the employer obtain authorization from the Department of Labour before working on Sundays?      80\n",
       "Name: QCleaned, dtype: int64"
      ]
     },
     "execution_count": 272,
     "metadata": {},
     "output_type": "execute_result"
    }
   ],
   "source": [
    "#33:\n",
    "df[df.CPCleaned==CPCleanedUnique[33]].QCleaned.value_counts()"
   ]
  },
  {
   "cell_type": "code",
   "execution_count": 275,
   "metadata": {},
   "outputs": [
    {
     "name": "stdout",
     "output_type": "stream",
     "text": [
      "Is overtime voluntary?\n",
      "Cambodia      2503\n",
      "Vietnam       1802\n",
      "Indonesia      833\n",
      "Bangladesh     584\n",
      "Jordan         474\n",
      "Haiti          161\n",
      "Nicaragua      119\n",
      "Name: Country, dtype: int64\n",
      "Does the employer provide required weekly rest periods?\n",
      "Cambodia     2243\n",
      "Vietnam      1802\n",
      "Jordan        474\n",
      "Nicaragua     119\n",
      "Name: Country, dtype: int64\n",
      "Is overtime work limited to two hours per day?\n",
      "Vietnam       5406\n",
      "Cambodia      2503\n",
      "Indonesia      833\n",
      "Bangladesh     584\n",
      "Nicaragua      119\n",
      "Haiti          101\n",
      "Name: Country, dtype: int64\n",
      "Does the employer prepare written instructions on overtime?\n",
      "Indonesia     833\n",
      "Bangladesh    584\n",
      "Name: Country, dtype: int64\n",
      "Does the employer get permission from the Labour Inspector before workers work overtime?\n",
      "Cambodia     2259\n",
      "Nicaragua     119\n",
      "Haiti          80\n",
      "Name: Country, dtype: int64\n",
      "Does the employer obtain authorization from the Department of Labour before working on Sundays?\n",
      "Haiti    80\n",
      "Name: Country, dtype: int64\n",
      "Does the employer get permission from the Labor Inspector before suspending weekly rest days?\n",
      "Cambodia    2276\n",
      "Name: Country, dtype: int64\n",
      "Do workers have at least one day off per week?\n",
      "Cambodia      2503\n",
      "Vietnam       1802\n",
      "Bangladesh    1752\n",
      "Haiti          161\n",
      "Name: Country, dtype: int64\n",
      "Does the employer get written consent from women to work at night?\n",
      "Bangladesh    584\n",
      "Name: Country, dtype: int64\n"
     ]
    }
   ],
   "source": [
    "collapse(CPCleanedUnique[33])"
   ]
  },
  {
   "cell_type": "code",
   "execution_count": 273,
   "metadata": {},
   "outputs": [
    {
     "data": {
      "text/plain": [
       "Does the employer reliably verify the age of workers prior to hiring?                                                                 5050\n",
       "Does the employer keep a record of workers under 18 years of age?                                                                     4784\n",
       "Does the employer comply with documentation requirements for workers under age of 18?                                                 1307\n",
       "Does the employer have a verification system in place to ensure they do not hire child labour in accordance with the National Law?     833\n",
       "Does the employer comply with requirements regarding the certificate of fitness for workers under age 18?                              584\n",
       "Name: QCleaned, dtype: int64"
      ]
     },
     "execution_count": 273,
     "metadata": {},
     "output_type": "execute_result"
    }
   ],
   "source": [
    "#34:\n",
    "df[df.CPCleaned==CPCleanedUnique[34]].QCleaned.value_counts()"
   ]
  },
  {
   "cell_type": "markdown",
   "metadata": {},
   "source": [
    "----"
   ]
  }
 ],
 "metadata": {
  "kernelspec": {
   "display_name": "base",
   "language": "python",
   "name": "python3"
  },
  "language_info": {
   "codemirror_mode": {
    "name": "ipython",
    "version": 3
   },
   "file_extension": ".py",
   "mimetype": "text/x-python",
   "name": "python",
   "nbconvert_exporter": "python",
   "pygments_lexer": "ipython3",
   "version": "3.9.13"
  }
 },
 "nbformat": 4,
 "nbformat_minor": 2
}
