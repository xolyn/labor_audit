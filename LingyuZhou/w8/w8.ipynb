{
 "cells": [
  {
   "cell_type": "markdown",
   "metadata": {},
   "source": [
    "# 7.25 todo \n",
    "\n",
    "1. former -> no need to process [x]\n",
    "2. double check llc & sa [x]\n",
    "3. rerun column assign [x]\n",
    "4. rerun fuzz + country filter [x]\n",
    "5. 2 words check existence\n",
    "6. apply prof's result on 1 candidate\n",
    "\n",
    "# 7.27 results\n",
    "- nunique `cName` in bw: 1842 \n",
    "- match1 (direct): 351\n",
    "- match2 (similarity by fuzzywuzzy): 295(>1 candidates) + 316(1 candidate) &rArr; ~300 total\n",
    "- no possible match (first 2 words, splitted by space): 807/882\n",
    "## todo\n",
    "1. problem (dup after str processing)\n",
    "2. remove all country name in `cName`?"
   ]
  },
  {
   "cell_type": "code",
   "execution_count": 41,
   "metadata": {},
   "outputs": [],
   "source": [
    "# import & func. def.\n",
    "import pandas as pd\n",
    "from fuzzywuzzy import process,fuzz\n",
    "from tqdm import tqdm,trange\n",
    "import re\n",
    "import sqldf\n",
    "\n",
    "def strProcess(s:str, aggresive=False):\n",
    "    s=s.strip()\n",
    "    s=s.replace(\"Co.,\",\"Co.\") # Co., -> Co.\n",
    "    s=s.lower() #小写 \n",
    "    s=s.replace('corp.','corp')\n",
    "    s=s.replace('corporation','corp')\n",
    "    s=s.replace(\"&\",\" and \").replace(\"–\",\"-\").replace(\"mfg.\",\"manufacturing\").replace(\"ltd co\",\"\")\n",
    "    s=re.sub(r\"joint\\s{1,}stock\\s{1,}co[^\\s]{1,}\",'jsc', s) #joint stock co -> jsc\n",
    "    if \"former\" not in s: \n",
    "        s=re.sub(r'\\(.*?\\)', '', s) # 括号内文字删除，除了former的情况\n",
    "    s=re.sub(r'\\s{2,}', ' ', s) #多个空格 -> 单个\n",
    "    s=re.sub(r'company limit[^\\s]{0,}','co., ltd',s)\n",
    "    s=re.sub(r'limited[^\\w]{0,}$', 'ltd', s)\n",
    "    if aggresive==True:\n",
    "        s=re.sub(r'-\\s.{2,}',\"\",s) # - xxx -> 删除\n",
    "        s=re.sub(r'co\\.?\\,?\\s?ltd\\.?',\"\",s) # co ltd 删除\n",
    "    s=re.sub(r'[^\\w\\d)]*$',\"\",s) #处理结尾除右括号的特殊符号\n",
    "    s=re.sub(r\"[^\\w\\s.,()-]\",'',s) #处理除.,()-空格外的特殊符号\n",
    "    # llc, sa:\n",
    "    s=re.sub(r'l\\.*[\\s]*l\\.*[\\s]*c\\.*','llc',s)\n",
    "    s=re.sub(r's\\.[\\s]{0,}a\\.{0,}','sa',s)\n",
    "\n",
    "    if s.startswith(\"pt \"): \n",
    "        s=re.sub(r'^pt\\.?\\s', '', s)+\" pt\" # 处理pt: 开头转结尾\n",
    "    return s\n",
    "\n",
    "def getBWDuplicates(verbose=False, col=\"FactoryName\"):\n",
    "    global bw\n",
    "    nameCounts=bw.groupby(\"FactoryBWID\")[col].nunique()\n",
    "    susNames=nameCounts[nameCounts > 1].index\n",
    "    opdfv=bw[bw['FactoryBWID'].isin(susNames)]\n",
    "    opdf=opdfv.groupby(\"FactoryBWID\")[col].unique().apply(list).to_dict()\n",
    "    if verbose==False:\n",
    "        return opdf\n",
    "    else:\n",
    "        return opdfv\n",
    "    \n",
    "def queryOrigName(df:str, s, rgx=False):\n",
    "    if df==\"bw\":\n",
    "        global bw\n",
    "        return bw[bw[\"FactoryName\"].str.lower().str.contains(s, regex=rgx)]\n",
    "    elif df==\"ci\":\n",
    "        global ci\n",
    "        return ci[ci[\"company_name\"].str.lower().str.contains(s,regex=rgx)]\n",
    "    else:\n",
    "        return None\n",
    "\n",
    "def getFirst2(s):\n",
    "    if len(s.split(\" \"))<2:\n",
    "        return s\n",
    "    else:\n",
    "        return \" \".join(s.split(\" \")[:2])"
   ]
  },
  {
   "cell_type": "code",
   "execution_count": 42,
   "metadata": {},
   "outputs": [],
   "source": [
    "bw=pd.read_csv(\"../w7/bw.csv\")\n",
    "ci=pd.read_csv(\"../w7/cif.csv\")\n",
    "bwFacts=list(bw.FactoryName.unique()) #len: \n",
    "ciFacts=list(ci.company_name.unique()) #len: "
   ]
  },
  {
   "cell_type": "code",
   "execution_count": 43,
   "metadata": {},
   "outputs": [],
   "source": [
    "bw[\"cName\"]=bw[\"FactoryName\"].apply(strProcess, aggresive=1)\n",
    "ci[\"cName\"]=ci[\"company_name\"].apply(strProcess, aggresive=1)"
   ]
  },
  {
   "cell_type": "code",
   "execution_count": 60,
   "metadata": {},
   "outputs": [
    {
     "data": {
      "text/html": [
       "<div>\n",
       "<style scoped>\n",
       "    .dataframe tbody tr th:only-of-type {\n",
       "        vertical-align: middle;\n",
       "    }\n",
       "\n",
       "    .dataframe tbody tr th {\n",
       "        vertical-align: top;\n",
       "    }\n",
       "\n",
       "    .dataframe thead th {\n",
       "        text-align: right;\n",
       "    }\n",
       "</style>\n",
       "<table border=\"1\" class=\"dataframe\">\n",
       "  <thead>\n",
       "    <tr style=\"text-align: right;\">\n",
       "      <th></th>\n",
       "      <th>QuestID</th>\n",
       "      <th>FactoryBWID</th>\n",
       "      <th>FactoryName</th>\n",
       "      <th>Country</th>\n",
       "      <th>AssessmentDate</th>\n",
       "      <th>year</th>\n",
       "      <th>FNC</th>\n",
       "      <th>cName</th>\n",
       "      <th>CNRR</th>\n",
       "      <th>repriskID</th>\n",
       "    </tr>\n",
       "  </thead>\n",
       "  <tbody>\n",
       "    <tr>\n",
       "      <th>0</th>\n",
       "      <td>12129</td>\n",
       "      <td>2</td>\n",
       "      <td>Hi-Tech Textile L.L.C.</td>\n",
       "      <td>Jordan</td>\n",
       "      <td>19/10/2015</td>\n",
       "      <td>2015</td>\n",
       "      <td>None</td>\n",
       "      <td>hi-tech textile llc</td>\n",
       "      <td>Hi-Tech Textile LLC</td>\n",
       "      <td>106981.0</td>\n",
       "    </tr>\n",
       "    <tr>\n",
       "      <th>1</th>\n",
       "      <td>17215</td>\n",
       "      <td>2</td>\n",
       "      <td>Hi-Tech Textile L.L.C.</td>\n",
       "      <td>Jordan</td>\n",
       "      <td>16/10/2016</td>\n",
       "      <td>2016</td>\n",
       "      <td>None</td>\n",
       "      <td>hi-tech textile llc</td>\n",
       "      <td>Hi-Tech Textile LLC</td>\n",
       "      <td>106981.0</td>\n",
       "    </tr>\n",
       "    <tr>\n",
       "      <th>2</th>\n",
       "      <td>22596</td>\n",
       "      <td>2</td>\n",
       "      <td>Hi-Tech Textile L.L.C.</td>\n",
       "      <td>Jordan</td>\n",
       "      <td>27/09/2017</td>\n",
       "      <td>2017</td>\n",
       "      <td>None</td>\n",
       "      <td>hi-tech textile llc</td>\n",
       "      <td>Hi-Tech Textile LLC</td>\n",
       "      <td>106981.0</td>\n",
       "    </tr>\n",
       "    <tr>\n",
       "      <th>3</th>\n",
       "      <td>30133</td>\n",
       "      <td>2</td>\n",
       "      <td>Hi-Tech Textile L.L.C.</td>\n",
       "      <td>Jordan</td>\n",
       "      <td>16/10/2018</td>\n",
       "      <td>2018</td>\n",
       "      <td>None</td>\n",
       "      <td>hi-tech textile llc</td>\n",
       "      <td>Hi-Tech Textile LLC</td>\n",
       "      <td>106981.0</td>\n",
       "    </tr>\n",
       "    <tr>\n",
       "      <th>4</th>\n",
       "      <td>36539</td>\n",
       "      <td>2</td>\n",
       "      <td>Hi-Tech Textile L.L.C.</td>\n",
       "      <td>Jordan</td>\n",
       "      <td>14/10/2019</td>\n",
       "      <td>2019</td>\n",
       "      <td>None</td>\n",
       "      <td>hi-tech textile llc</td>\n",
       "      <td>Hi-Tech Textile LLC</td>\n",
       "      <td>106981.0</td>\n",
       "    </tr>\n",
       "    <tr>\n",
       "      <th>...</th>\n",
       "      <td>...</td>\n",
       "      <td>...</td>\n",
       "      <td>...</td>\n",
       "      <td>...</td>\n",
       "      <td>...</td>\n",
       "      <td>...</td>\n",
       "      <td>...</td>\n",
       "      <td>...</td>\n",
       "      <td>...</td>\n",
       "      <td>...</td>\n",
       "    </tr>\n",
       "    <tr>\n",
       "      <th>6495</th>\n",
       "      <td>8197</td>\n",
       "      <td>36</td>\n",
       "      <td>CODEVI</td>\n",
       "      <td>Haiti</td>\n",
       "      <td>2015-10-02 00:00:00</td>\n",
       "      <td>2015</td>\n",
       "      <td>None</td>\n",
       "      <td>codevi</td>\n",
       "      <td>CODEVI</td>\n",
       "      <td>118360.0</td>\n",
       "    </tr>\n",
       "    <tr>\n",
       "      <th>6496</th>\n",
       "      <td>8262</td>\n",
       "      <td>1540</td>\n",
       "      <td>Valdor Apparel Mfg S.A.</td>\n",
       "      <td>Haiti</td>\n",
       "      <td>27/01/2015</td>\n",
       "      <td>2015</td>\n",
       "      <td>None</td>\n",
       "      <td>valdor apparel mfg sa</td>\n",
       "      <td>NaN</td>\n",
       "      <td>NaN</td>\n",
       "    </tr>\n",
       "    <tr>\n",
       "      <th>6497</th>\n",
       "      <td>8212</td>\n",
       "      <td>112</td>\n",
       "      <td>Casual Wear Apparel L.L.C.</td>\n",
       "      <td>Haiti</td>\n",
       "      <td>18/01/2015</td>\n",
       "      <td>2015</td>\n",
       "      <td>None</td>\n",
       "      <td>casual wear apparel llc</td>\n",
       "      <td>NaN</td>\n",
       "      <td>NaN</td>\n",
       "    </tr>\n",
       "    <tr>\n",
       "      <th>6498</th>\n",
       "      <td>8214</td>\n",
       "      <td>139</td>\n",
       "      <td>One World Apparel S.A.</td>\n",
       "      <td>Haiti</td>\n",
       "      <td>14/01/2015</td>\n",
       "      <td>2015</td>\n",
       "      <td>None</td>\n",
       "      <td>one world apparel sa</td>\n",
       "      <td>NaN</td>\n",
       "      <td>NaN</td>\n",
       "    </tr>\n",
       "    <tr>\n",
       "      <th>6499</th>\n",
       "      <td>8191</td>\n",
       "      <td>175</td>\n",
       "      <td>Palm Apparel S.A.</td>\n",
       "      <td>Haiti</td>\n",
       "      <td>13/01/2015</td>\n",
       "      <td>2015</td>\n",
       "      <td>None</td>\n",
       "      <td>palm apparel sa</td>\n",
       "      <td>Palm Apparel SA</td>\n",
       "      <td>118376.0</td>\n",
       "    </tr>\n",
       "  </tbody>\n",
       "</table>\n",
       "<p>6500 rows × 10 columns</p>\n",
       "</div>"
      ],
      "text/plain": [
       "      QuestID  FactoryBWID                 FactoryName Country  \\\n",
       "0       12129            2      Hi-Tech Textile L.L.C.  Jordan   \n",
       "1       17215            2      Hi-Tech Textile L.L.C.  Jordan   \n",
       "2       22596            2      Hi-Tech Textile L.L.C.  Jordan   \n",
       "3       30133            2      Hi-Tech Textile L.L.C.  Jordan   \n",
       "4       36539            2      Hi-Tech Textile L.L.C.  Jordan   \n",
       "...       ...          ...                         ...     ...   \n",
       "6495     8197           36                      CODEVI   Haiti   \n",
       "6496     8262         1540     Valdor Apparel Mfg S.A.   Haiti   \n",
       "6497     8212          112  Casual Wear Apparel L.L.C.   Haiti   \n",
       "6498     8214          139      One World Apparel S.A.   Haiti   \n",
       "6499     8191          175           Palm Apparel S.A.   Haiti   \n",
       "\n",
       "           AssessmentDate  year   FNC                    cName  \\\n",
       "0              19/10/2015  2015  None      hi-tech textile llc   \n",
       "1              16/10/2016  2016  None      hi-tech textile llc   \n",
       "2              27/09/2017  2017  None      hi-tech textile llc   \n",
       "3              16/10/2018  2018  None      hi-tech textile llc   \n",
       "4              14/10/2019  2019  None      hi-tech textile llc   \n",
       "...                   ...   ...   ...                      ...   \n",
       "6495  2015-10-02 00:00:00  2015  None                   codevi   \n",
       "6496           27/01/2015  2015  None    valdor apparel mfg sa   \n",
       "6497           18/01/2015  2015  None  casual wear apparel llc   \n",
       "6498           14/01/2015  2015  None     one world apparel sa   \n",
       "6499           13/01/2015  2015  None          palm apparel sa   \n",
       "\n",
       "                     CNRR  repriskID  \n",
       "0     Hi-Tech Textile LLC   106981.0  \n",
       "1     Hi-Tech Textile LLC   106981.0  \n",
       "2     Hi-Tech Textile LLC   106981.0  \n",
       "3     Hi-Tech Textile LLC   106981.0  \n",
       "4     Hi-Tech Textile LLC   106981.0  \n",
       "...                   ...        ...  \n",
       "6495               CODEVI   118360.0  \n",
       "6496                  NaN        NaN  \n",
       "6497                  NaN        NaN  \n",
       "6498                  NaN        NaN  \n",
       "6499      Palm Apparel SA   118376.0  \n",
       "\n",
       "[6500 rows x 10 columns]"
      ]
     },
     "execution_count": 60,
     "metadata": {},
     "output_type": "execute_result"
    }
   ],
   "source": [
    "bw"
   ]
  },
  {
   "cell_type": "code",
   "execution_count": 61,
   "metadata": {},
   "outputs": [
    {
     "data": {
      "text/html": [
       "<div>\n",
       "<style scoped>\n",
       "    .dataframe tbody tr th:only-of-type {\n",
       "        vertical-align: middle;\n",
       "    }\n",
       "\n",
       "    .dataframe tbody tr th {\n",
       "        vertical-align: top;\n",
       "    }\n",
       "\n",
       "    .dataframe thead th {\n",
       "        text-align: right;\n",
       "    }\n",
       "</style>\n",
       "<table border=\"1\" class=\"dataframe\">\n",
       "  <thead>\n",
       "    <tr style=\"text-align: right;\">\n",
       "      <th></th>\n",
       "      <th>cName</th>\n",
       "    </tr>\n",
       "  </thead>\n",
       "  <tbody>\n",
       "    <tr>\n",
       "      <th>0</th>\n",
       "      <td>andalan mandiri busana pt</td>\n",
       "    </tr>\n",
       "    <tr>\n",
       "      <th>1</th>\n",
       "      <td>arindo garmentama pt</td>\n",
       "    </tr>\n",
       "    <tr>\n",
       "      <th>2</th>\n",
       "      <td>beauty silk screen ltd</td>\n",
       "    </tr>\n",
       "    <tr>\n",
       "      <th>3</th>\n",
       "      <td>berkah indo garment pt</td>\n",
       "    </tr>\n",
       "    <tr>\n",
       "      <th>4</th>\n",
       "      <td>branch of garment 10 corp jsc</td>\n",
       "    </tr>\n",
       "    <tr>\n",
       "      <th>...</th>\n",
       "      <td>...</td>\n",
       "    </tr>\n",
       "    <tr>\n",
       "      <th>96</th>\n",
       "      <td>united creations llc</td>\n",
       "    </tr>\n",
       "    <tr>\n",
       "      <th>97</th>\n",
       "      <td>y and w garment</td>\n",
       "    </tr>\n",
       "    <tr>\n",
       "      <th>98</th>\n",
       "      <td>yakjin jaya indonesia pt</td>\n",
       "    </tr>\n",
       "    <tr>\n",
       "      <th>99</th>\n",
       "      <td>zaber and zubair fabrics ltd</td>\n",
       "    </tr>\n",
       "    <tr>\n",
       "      <th>100</th>\n",
       "      <td>zheng yong garment factory</td>\n",
       "    </tr>\n",
       "  </tbody>\n",
       "</table>\n",
       "<p>101 rows × 1 columns</p>\n",
       "</div>"
      ],
      "text/plain": [
       "                             cName\n",
       "0        andalan mandiri busana pt\n",
       "1             arindo garmentama pt\n",
       "2           beauty silk screen ltd\n",
       "3           berkah indo garment pt\n",
       "4    branch of garment 10 corp jsc\n",
       "..                             ...\n",
       "96            united creations llc\n",
       "97                 y and w garment\n",
       "98        yakjin jaya indonesia pt\n",
       "99    zaber and zubair fabrics ltd\n",
       "100     zheng yong garment factory\n",
       "\n",
       "[101 rows x 1 columns]"
      ]
     },
     "execution_count": 61,
     "metadata": {},
     "output_type": "execute_result"
    }
   ],
   "source": [
    "sqldf.run('select distinct cName from bw group by cName having count(distinct FactoryBWID)>1')"
   ]
  },
  {
   "cell_type": "markdown",
   "metadata": {},
   "source": [
    "---\n",
    "# additional changes after w7:"
   ]
  },
  {
   "cell_type": "code",
   "execution_count": 44,
   "metadata": {},
   "outputs": [],
   "source": [
    "bw.loc[bw.cName.str.contains(\"kahoindah\"),\"cName\"]=\"kahoindah citragarment pt\""
   ]
  },
  {
   "cell_type": "markdown",
   "metadata": {},
   "source": [
    "---\n",
    "# match 1:"
   ]
  },
  {
   "cell_type": "code",
   "execution_count": 45,
   "metadata": {},
   "outputs": [
    {
     "data": {
      "text/plain": [
       "351"
      ]
     },
     "execution_count": 45,
     "metadata": {},
     "output_type": "execute_result"
    }
   ],
   "source": [
    "match1=sqldf.run(\n",
    "'''\n",
    "select distinct bw.cName from bw inner join ci on\n",
    "bw.Country=ci.headquarters_country and bw.cName=ci.cName and bw.Country=ci.headquarters_country\n",
    "'''\n",
    ")\n",
    "\n",
    "# sqldf.run(\"select distinct(company_name), cName from ci where company_name in (select company_name from ci group by cName having count(distinct(company_name))>1)\")\n",
    "# sqldf.run('select * from bw group by FactoryBWID having count(distinct(cName))>1')\n",
    "\n",
    "len(match1)"
   ]
  },
  {
   "cell_type": "markdown",
   "metadata": {},
   "source": [
    "## match FNC, repriskID after round 1 matching:"
   ]
  },
  {
   "cell_type": "code",
   "execution_count": 46,
   "metadata": {},
   "outputs": [
    {
     "data": {
      "text/html": [
       "<div>\n",
       "<style scoped>\n",
       "    .dataframe tbody tr th:only-of-type {\n",
       "        vertical-align: middle;\n",
       "    }\n",
       "\n",
       "    .dataframe tbody tr th {\n",
       "        vertical-align: top;\n",
       "    }\n",
       "\n",
       "    .dataframe thead th {\n",
       "        text-align: right;\n",
       "    }\n",
       "</style>\n",
       "<table border=\"1\" class=\"dataframe\">\n",
       "  <thead>\n",
       "    <tr style=\"text-align: right;\">\n",
       "      <th></th>\n",
       "      <th>QuestID</th>\n",
       "      <th>FactoryBWID</th>\n",
       "      <th>FactoryName</th>\n",
       "      <th>Country</th>\n",
       "      <th>AssessmentDate</th>\n",
       "      <th>year</th>\n",
       "      <th>FNC</th>\n",
       "      <th>cName</th>\n",
       "      <th>CNRR</th>\n",
       "      <th>repriskID</th>\n",
       "    </tr>\n",
       "  </thead>\n",
       "  <tbody>\n",
       "    <tr>\n",
       "      <th>0</th>\n",
       "      <td>12129</td>\n",
       "      <td>2</td>\n",
       "      <td>Hi-Tech Textile L.L.C.</td>\n",
       "      <td>Jordan</td>\n",
       "      <td>19/10/2015</td>\n",
       "      <td>2015</td>\n",
       "      <td>None</td>\n",
       "      <td>hi-tech textile llc</td>\n",
       "      <td>Hi-Tech Textile LLC</td>\n",
       "      <td>106981.0</td>\n",
       "    </tr>\n",
       "    <tr>\n",
       "      <th>1</th>\n",
       "      <td>17215</td>\n",
       "      <td>2</td>\n",
       "      <td>Hi-Tech Textile L.L.C.</td>\n",
       "      <td>Jordan</td>\n",
       "      <td>16/10/2016</td>\n",
       "      <td>2016</td>\n",
       "      <td>None</td>\n",
       "      <td>hi-tech textile llc</td>\n",
       "      <td>Hi-Tech Textile LLC</td>\n",
       "      <td>106981.0</td>\n",
       "    </tr>\n",
       "    <tr>\n",
       "      <th>2</th>\n",
       "      <td>22596</td>\n",
       "      <td>2</td>\n",
       "      <td>Hi-Tech Textile L.L.C.</td>\n",
       "      <td>Jordan</td>\n",
       "      <td>27/09/2017</td>\n",
       "      <td>2017</td>\n",
       "      <td>None</td>\n",
       "      <td>hi-tech textile llc</td>\n",
       "      <td>Hi-Tech Textile LLC</td>\n",
       "      <td>106981.0</td>\n",
       "    </tr>\n",
       "    <tr>\n",
       "      <th>3</th>\n",
       "      <td>30133</td>\n",
       "      <td>2</td>\n",
       "      <td>Hi-Tech Textile L.L.C.</td>\n",
       "      <td>Jordan</td>\n",
       "      <td>16/10/2018</td>\n",
       "      <td>2018</td>\n",
       "      <td>None</td>\n",
       "      <td>hi-tech textile llc</td>\n",
       "      <td>Hi-Tech Textile LLC</td>\n",
       "      <td>106981.0</td>\n",
       "    </tr>\n",
       "    <tr>\n",
       "      <th>4</th>\n",
       "      <td>36539</td>\n",
       "      <td>2</td>\n",
       "      <td>Hi-Tech Textile L.L.C.</td>\n",
       "      <td>Jordan</td>\n",
       "      <td>14/10/2019</td>\n",
       "      <td>2019</td>\n",
       "      <td>None</td>\n",
       "      <td>hi-tech textile llc</td>\n",
       "      <td>Hi-Tech Textile LLC</td>\n",
       "      <td>106981.0</td>\n",
       "    </tr>\n",
       "    <tr>\n",
       "      <th>...</th>\n",
       "      <td>...</td>\n",
       "      <td>...</td>\n",
       "      <td>...</td>\n",
       "      <td>...</td>\n",
       "      <td>...</td>\n",
       "      <td>...</td>\n",
       "      <td>...</td>\n",
       "      <td>...</td>\n",
       "      <td>...</td>\n",
       "      <td>...</td>\n",
       "    </tr>\n",
       "    <tr>\n",
       "      <th>6495</th>\n",
       "      <td>8197</td>\n",
       "      <td>36</td>\n",
       "      <td>CODEVI</td>\n",
       "      <td>Haiti</td>\n",
       "      <td>2015-10-02 00:00:00</td>\n",
       "      <td>2015</td>\n",
       "      <td>None</td>\n",
       "      <td>codevi</td>\n",
       "      <td>CODEVI</td>\n",
       "      <td>118360.0</td>\n",
       "    </tr>\n",
       "    <tr>\n",
       "      <th>6496</th>\n",
       "      <td>8262</td>\n",
       "      <td>1540</td>\n",
       "      <td>Valdor Apparel Mfg S.A.</td>\n",
       "      <td>Haiti</td>\n",
       "      <td>27/01/2015</td>\n",
       "      <td>2015</td>\n",
       "      <td>None</td>\n",
       "      <td>valdor apparel mfg sa</td>\n",
       "      <td>NaN</td>\n",
       "      <td>NaN</td>\n",
       "    </tr>\n",
       "    <tr>\n",
       "      <th>6497</th>\n",
       "      <td>8212</td>\n",
       "      <td>112</td>\n",
       "      <td>Casual Wear Apparel L.L.C.</td>\n",
       "      <td>Haiti</td>\n",
       "      <td>18/01/2015</td>\n",
       "      <td>2015</td>\n",
       "      <td>None</td>\n",
       "      <td>casual wear apparel llc</td>\n",
       "      <td>NaN</td>\n",
       "      <td>NaN</td>\n",
       "    </tr>\n",
       "    <tr>\n",
       "      <th>6498</th>\n",
       "      <td>8214</td>\n",
       "      <td>139</td>\n",
       "      <td>One World Apparel S.A.</td>\n",
       "      <td>Haiti</td>\n",
       "      <td>14/01/2015</td>\n",
       "      <td>2015</td>\n",
       "      <td>None</td>\n",
       "      <td>one world apparel sa</td>\n",
       "      <td>NaN</td>\n",
       "      <td>NaN</td>\n",
       "    </tr>\n",
       "    <tr>\n",
       "      <th>6499</th>\n",
       "      <td>8191</td>\n",
       "      <td>175</td>\n",
       "      <td>Palm Apparel S.A.</td>\n",
       "      <td>Haiti</td>\n",
       "      <td>13/01/2015</td>\n",
       "      <td>2015</td>\n",
       "      <td>None</td>\n",
       "      <td>palm apparel sa</td>\n",
       "      <td>Palm Apparel SA</td>\n",
       "      <td>118376.0</td>\n",
       "    </tr>\n",
       "  </tbody>\n",
       "</table>\n",
       "<p>6500 rows × 10 columns</p>\n",
       "</div>"
      ],
      "text/plain": [
       "      QuestID  FactoryBWID                 FactoryName Country  \\\n",
       "0       12129            2      Hi-Tech Textile L.L.C.  Jordan   \n",
       "1       17215            2      Hi-Tech Textile L.L.C.  Jordan   \n",
       "2       22596            2      Hi-Tech Textile L.L.C.  Jordan   \n",
       "3       30133            2      Hi-Tech Textile L.L.C.  Jordan   \n",
       "4       36539            2      Hi-Tech Textile L.L.C.  Jordan   \n",
       "...       ...          ...                         ...     ...   \n",
       "6495     8197           36                      CODEVI   Haiti   \n",
       "6496     8262         1540     Valdor Apparel Mfg S.A.   Haiti   \n",
       "6497     8212          112  Casual Wear Apparel L.L.C.   Haiti   \n",
       "6498     8214          139      One World Apparel S.A.   Haiti   \n",
       "6499     8191          175           Palm Apparel S.A.   Haiti   \n",
       "\n",
       "           AssessmentDate  year   FNC                    cName  \\\n",
       "0              19/10/2015  2015  None      hi-tech textile llc   \n",
       "1              16/10/2016  2016  None      hi-tech textile llc   \n",
       "2              27/09/2017  2017  None      hi-tech textile llc   \n",
       "3              16/10/2018  2018  None      hi-tech textile llc   \n",
       "4              14/10/2019  2019  None      hi-tech textile llc   \n",
       "...                   ...   ...   ...                      ...   \n",
       "6495  2015-10-02 00:00:00  2015  None                   codevi   \n",
       "6496           27/01/2015  2015  None    valdor apparel mfg sa   \n",
       "6497           18/01/2015  2015  None  casual wear apparel llc   \n",
       "6498           14/01/2015  2015  None     one world apparel sa   \n",
       "6499           13/01/2015  2015  None          palm apparel sa   \n",
       "\n",
       "                     CNRR  repriskID  \n",
       "0     Hi-Tech Textile LLC   106981.0  \n",
       "1     Hi-Tech Textile LLC   106981.0  \n",
       "2     Hi-Tech Textile LLC   106981.0  \n",
       "3     Hi-Tech Textile LLC   106981.0  \n",
       "4     Hi-Tech Textile LLC   106981.0  \n",
       "...                   ...        ...  \n",
       "6495               CODEVI   118360.0  \n",
       "6496                  NaN        NaN  \n",
       "6497                  NaN        NaN  \n",
       "6498                  NaN        NaN  \n",
       "6499      Palm Apparel SA   118376.0  \n",
       "\n",
       "[6500 rows x 10 columns]"
      ]
     },
     "execution_count": 46,
     "metadata": {},
     "output_type": "execute_result"
    }
   ],
   "source": [
    "bw.drop([\"CNRR\",\"repriskID\"],axis=1, inplace=True, errors='ignore')\n",
    "\n",
    "# merged = pd.merge(bw, ci[['cName', 'company_name','repriskID']], on='cName', how='left')\n",
    "merged = pd.merge(bw, ci[['cName', 'company_name', 'repriskID', 'headquarters_country']],\n",
    "                  left_on=['cName', 'Country'],\n",
    "                  right_on=['cName', 'headquarters_country'],\n",
    "                  how='left')\n",
    "bw['CNRR']=merged['company_name']\n",
    "bw['repriskID']=merged['repriskID'] #.astype('int')\n",
    "# sqldf.run(\"select ci.cName, ci.company_name, ci.repriskID from ci inner join bw on ci.cName=bw.cName\")\n",
    "bw\n",
    "\n",
    "# bw.repriskID.nunique()"
   ]
  },
  {
   "cell_type": "markdown",
   "metadata": {},
   "source": [
    "## problem:\n",
    "1. nunique(cName) < nunique(FactoryBWID) [x]\n",
    "2. [x]"
   ]
  },
  {
   "cell_type": "code",
   "execution_count": 47,
   "metadata": {},
   "outputs": [
    {
     "data": {
      "text/plain": [
       "array(['Hutchison 3 Indonesia; PT [Please refer to Indosat Ooredoo Hutchison Tbk; PT (Indosat Ooredoo; formerly Indosat Tbk; PT)]',\n",
       "       'Pelabuhan Indonesia IV; PT (Pelindo IV) [Please refer to Pelabuhan Indonesia; PT (Pelindo; formerly Pelabuhan Indonesia II; PT)]',\n",
       "       'Pelabuhan Indonesia III; PT (Pelindo III) [Please refer to Pelabuhan Indonesia; PT (Pelindo; formerly Pelabuhan Indonesia II; PT)]',\n",
       "       'Pelabuhan Indonesia I; PT (Pelindo I) [Please refer to Pelabuhan Indonesia; PT (Pelindo; formerly Pelabuhan Indonesia II; PT)]',\n",
       "       'United Middle-East & Commodore Hotels Co; The [Please refer to Union Land Development Corp]'],\n",
       "      dtype=object)"
      ]
     },
     "execution_count": 47,
     "metadata": {},
     "output_type": "execute_result"
    }
   ],
   "source": [
    "ci[ci[\"company_name\"].str.lower().str.contains(\"please refer\")][\"company_name\"].unique()"
   ]
  },
  {
   "cell_type": "markdown",
   "metadata": {},
   "source": [
    "# match 2"
   ]
  },
  {
   "cell_type": "code",
   "execution_count": 48,
   "metadata": {},
   "outputs": [],
   "source": [
    "bwUnmatched1=bw[bw.repriskID.isna()]\n",
    "# ciUnmatched1=set(ci.cName.unique())-set(match1)  #?doesnt work for no some unknown reason"
   ]
  },
  {
   "cell_type": "code",
   "execution_count": 50,
   "metadata": {},
   "outputs": [
    {
     "name": "stderr",
     "output_type": "stream",
     "text": [
      "100%|██████████| 1493/1493 [01:38<00:00, 15.13it/s]\n"
     ]
    }
   ],
   "source": [
    "match2={}\n",
    "bwUnmatched1cName=bwUnmatched1.cName.unique()\n",
    "\n",
    "for cname in tqdm(bwUnmatched1cName):\n",
    "    # id=r.FactoryBWID\n",
    "    countryList=bw[bw.cName==cname].Country.unique()\n",
    "    # bwCName=r.cName\n",
    "    cand=ci[(ci.headquarters_country.isin(countryList)) & (ci.cName.str[0]==cname[0])].cName.unique()\n",
    "    # cand=[x for x in ciFacts1 if x[0]==i[0]] #prev func.\n",
    "    possibleMatch=[y for y in cand if fuzz.partial_ratio(y,cname)>75]\n",
    "    if len(possibleMatch)>0:\n",
    "        match2[cname]=possibleMatch\n",
    "    # sorted(cand,key=lambda x : fuzz.partial_ratio(i,x),reversed=True)\n",
    "\n",
    "# tl=ci[ci.cName.isin(match1.cName.unique())].sectors.unique()\n",
    "# tsl=[]\n",
    "# for i in tl:\n",
    "#     for j in i.split(\"|\"):\n",
    "#         tsl.append(j.strip())\n",
    "\n",
    "# tsl=set(tsl)\n",
    "# tsl"
   ]
  },
  {
   "cell_type": "code",
   "execution_count": null,
   "metadata": {},
   "outputs": [],
   "source": [
    "desiredSectors=['Chemicals',\n",
    "'General Industrials',\n",
    "'Industrial Engineering',\n",
    "'Personal and Household Goods',\n",
    "'Retail',\n",
    "'Support Services (Industrial Goods and Services)',\n",
    "'Unspecified']"
   ]
  },
  {
   "cell_type": "code",
   "execution_count": 51,
   "metadata": {},
   "outputs": [
    {
     "data": {
      "text/plain": [
       "611"
      ]
     },
     "execution_count": 51,
     "metadata": {},
     "output_type": "execute_result"
    }
   ],
   "source": [
    "len(match2)"
   ]
  },
  {
   "cell_type": "code",
   "execution_count": 52,
   "metadata": {},
   "outputs": [
    {
     "data": {
      "text/plain": [
       "295"
      ]
     },
     "execution_count": 52,
     "metadata": {},
     "output_type": "execute_result"
    }
   ],
   "source": [
    "len({x:match2[x] for x in match2 if len(match2[x])>1})"
   ]
  },
  {
   "cell_type": "markdown",
   "metadata": {},
   "source": [
    "## match manually checked item from txt [TODO]"
   ]
  },
  {
   "cell_type": "code",
   "execution_count": 53,
   "metadata": {},
   "outputs": [],
   "source": [
    "with open('m2-1_new.txt') as r2m:\n",
    "    r2m=r2m.read().split(\"$\")"
   ]
  },
  {
   "cell_type": "code",
   "execution_count": 54,
   "metadata": {},
   "outputs": [
    {
     "data": {
      "text/plain": [
       "['*fine apparel ltd: [fine]',\n",
       " '*al hanan for cloth manufacturing est: [al]',\n",
       " '*al masera textile: [al]',\n",
       " '*international elegance garment manufacturing: [international business garments manufacturing company ltd]',\n",
       " '*al kawthar garments industry and trade: [al]',\n",
       " '*eclat highter international garment (cambodia)  (formerly highter): [e-garment]',\n",
       " '*everay textile garment: [e-garment]',\n",
       " '*ever-glory garment manufacturing: [e-garment]',\n",
       " '*e-z international garment factory: [e-garment]',\n",
       " '*eminent garment ltd: [e-garment]',\n",
       " '*indo-chine vn: [indochine import export investment jsc]',\n",
       " '*knit and knitwears ltd: [knit asia ltd]',\n",
       " '*creative wash ltd: [creative shirts ltd]',\n",
       " '*mascot knits ltd: [ms knit ltd]',\n",
       " '*al mustamerah for tex: [al]',\n",
       " '*sc enterprises pt: [sp pt]',\n",
       " '*thats it garments ltd: [tuba garments ltd]',\n",
       " '*thats it sweater ltd: [time sweater ltd]',\n",
       " '*gunung abadi pt: [gunung harta pt]',\n",
       " '*bac giang lng garment corp: [bac giang lgg garment corp]',\n",
       " '*grupo alfatech,sa: [grupo gama]',\n",
       " '*duc hanh garment jsc: [duc canh]',\n",
       " '*js vina: [jsi vina corp]',\n",
       " '*jmtech busana global pt: [jtech]',\n",
       " '*sees vina: [sphere vina]']"
      ]
     },
     "execution_count": 54,
     "metadata": {},
     "output_type": "execute_result"
    }
   ],
   "source": [
    "r2m=[x.replace(\"\\n\",\"\").replace(\"'\",\"\") for x in r2m]\n",
    "[x for x in r2m if x.startswith(\"*\")]"
   ]
  },
  {
   "cell_type": "markdown",
   "metadata": {},
   "source": [
    "---\n",
    "# check if name in BW has no match in reprisk:"
   ]
  },
  {
   "cell_type": "code",
   "execution_count": 55,
   "metadata": {},
   "outputs": [
    {
     "data": {
      "text/plain": [
       "882"
      ]
     },
     "execution_count": 55,
     "metadata": {},
     "output_type": "execute_result"
    }
   ],
   "source": [
    "bwUnmatched2=(set(bw.cName.unique())-set(match1.cName.unique()))-set(match2.keys())\n",
    "len(bwUnmatched2)"
   ]
  },
  {
   "cell_type": "code",
   "execution_count": 56,
   "metadata": {},
   "outputs": [
    {
     "name": "stderr",
     "output_type": "stream",
     "text": [
      "100%|██████████| 882/882 [00:15<00:00, 57.25it/s]\n"
     ]
    },
    {
     "data": {
      "text/plain": [
       "'807/882'"
      ]
     },
     "execution_count": 56,
     "metadata": {},
     "output_type": "execute_result"
    }
   ],
   "source": [
    "cnt=0\n",
    "for i in tqdm(bwUnmatched2):\n",
    "    flag=False\n",
    "    for j in set(ci.cName):\n",
    "        if getFirst2(i) in j:\n",
    "            flag=True\n",
    "            break\n",
    "    if flag:\n",
    "        continue\n",
    "    else:\n",
    "        cnt+=1\n",
    "\n",
    "f\"{cnt}/{len(bwUnmatched2)}\""
   ]
  },
  {
   "cell_type": "code",
   "execution_count": 103,
   "metadata": {},
   "outputs": [
    {
     "data": {
      "text/plain": [
       "42"
      ]
     },
     "execution_count": 103,
     "metadata": {},
     "output_type": "execute_result"
    }
   ],
   "source": [
    "pd.read_excel(\"BWID_factoryname handcoded.xlsx\",sheet_name='data').CNRR.nunique()"
   ]
  }
 ],
 "metadata": {
  "kernelspec": {
   "display_name": "base",
   "language": "python",
   "name": "python3"
  },
  "language_info": {
   "codemirror_mode": {
    "name": "ipython",
    "version": 3
   },
   "file_extension": ".py",
   "mimetype": "text/x-python",
   "name": "python",
   "nbconvert_exporter": "python",
   "pygments_lexer": "ipython3",
   "version": "3.9.13"
  }
 },
 "nbformat": 4,
 "nbformat_minor": 2
}
