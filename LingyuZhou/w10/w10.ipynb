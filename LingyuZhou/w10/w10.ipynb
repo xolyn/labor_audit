{
 "cells": [
  {
   "cell_type": "markdown",
   "metadata": {},
   "source": [
    "[last week's code](../w9/varCode.ipynb)"
   ]
  },
  {
   "cell_type": "code",
   "execution_count": 74,
   "metadata": {},
   "outputs": [],
   "source": [
    "import pandas as pd\n",
    "from tqdm import tqdm, trange"
   ]
  },
  {
   "cell_type": "code",
   "execution_count": 59,
   "metadata": {},
   "outputs": [],
   "source": [
    "bw=pd.read_csv(\"../w9/bw0801.csv\")\n",
    "ri=pd.read_csv('D:/V2_RISK_INCIDENTS.csv')"
   ]
  },
  {
   "cell_type": "code",
   "execution_count": 77,
   "metadata": {},
   "outputs": [],
   "source": [
    "def strYear2Num(s):\n",
    "    if s==\"\" or s==\"nan\":\n",
    "        return s\n",
    "    return s.split(\"/\")[-1][:4]+s.split(\"/\")[1].rjust(2,\"0\")+s.split(\"/\")[0].rjust(2,\"0\")\n"
   ]
  },
  {
   "cell_type": "code",
   "execution_count": 61,
   "metadata": {},
   "outputs": [],
   "source": [
    "ri.incident_date=ri.incident_date.astype(int)"
   ]
  },
  {
   "cell_type": "markdown",
   "metadata": {},
   "source": [
    "---\n",
    "# reCalc: [2010,)"
   ]
  },
  {
   "cell_type": "code",
   "execution_count": 171,
   "metadata": {},
   "outputs": [],
   "source": [
    "# rige2010=ri[ri.incident_date>=20100101]"
   ]
  },
  {
   "cell_type": "code",
   "execution_count": 152,
   "metadata": {},
   "outputs": [
    {
     "name": "stderr",
     "output_type": "stream",
     "text": [
      "100%|██████████| 6500/6500 [00:04<00:00, 1543.68it/s]\n"
     ]
    }
   ],
   "source": [
    "bw['#IncidentFrom2010']=-1\n",
    "rige2010=ri[ri.incident_date>=20100101]\n",
    "rige2010RID=rige2010.reprisk_id.unique()\n",
    "for i,j in tqdm(bw.iterrows(),total=bw.shape[0]):\n",
    "    bwRID=j.repriskid\n",
    "    DateUB=j.dateAsNum\n",
    "    if pd.isna(bwRID) or bwRID not in rige2010RID:\n",
    "        continue\n",
    "    riFiltered=rige2010[(rige2010.reprisk_id==bwRID) & (rige2010.incident_date<=DateUB)]\n",
    "    bw.loc[i,'#IncidentFrom2010']=len(riFiltered)\n",
    "    "
   ]
  },
  {
   "cell_type": "code",
   "execution_count": 153,
   "metadata": {},
   "outputs": [
    {
     "data": {
      "text/plain": [
       "-1     5356\n",
       " 0      432\n",
       " 1      365\n",
       " 2      123\n",
       " 9       68\n",
       " 3       63\n",
       " 4       34\n",
       " 5       22\n",
       " 10      20\n",
       " 7        9\n",
       " 6        4\n",
       " 8        2\n",
       " 11       2\n",
       "Name: #IncidentFrom2010, dtype: int64"
      ]
     },
     "execution_count": 153,
     "metadata": {},
     "output_type": "execute_result"
    }
   ],
   "source": [
    "bw['#IncidentFrom2010'].value_counts()"
   ]
  },
  {
   "cell_type": "code",
   "execution_count": 154,
   "metadata": {},
   "outputs": [
    {
     "data": {
      "text/plain": [
       "712"
      ]
     },
     "execution_count": 154,
     "metadata": {},
     "output_type": "execute_result"
    }
   ],
   "source": [
    "6500-5356-432"
   ]
  },
  {
   "cell_type": "markdown",
   "metadata": {},
   "source": [
    "# 3-in-1:"
   ]
  },
  {
   "cell_type": "code",
   "execution_count": 195,
   "metadata": {},
   "outputs": [
    {
     "name": "stderr",
     "output_type": "stream",
     "text": [
      "C:\\Users\\JselZ\\AppData\\Local\\Temp\\ipykernel_28604\\1937928262.py:2: SettingWithCopyWarning: \n",
      "A value is trying to be set on a copy of a slice from a DataFrame.\n",
      "Try using .loc[row_indexer,col_indexer] = value instead\n",
      "\n",
      "See the caveats in the documentation: https://pandas.pydata.org/pandas-docs/stable/user_guide/indexing.html#returning-a-view-versus-a-copy\n",
      "  threeInOne.AssessmentDate=threeInOne.AssessmentDate.apply(strYear2Num).astype(int)\n",
      "C:\\Users\\JselZ\\AppData\\Local\\Temp\\ipykernel_28604\\1937928262.py:3: SettingWithCopyWarning: \n",
      "A value is trying to be set on a copy of a slice from a DataFrame.\n",
      "Try using .loc[row_indexer,col_indexer] = value instead\n",
      "\n",
      "See the caveats in the documentation: https://pandas.pydata.org/pandas-docs/stable/user_guide/indexing.html#returning-a-view-versus-a-copy\n",
      "  threeInOne[['RRIc3Yr','RRIc5Yr','RRIc2010']]=-1\n",
      "C:\\Users\\JselZ\\AppData\\Local\\Temp\\ipykernel_28604\\1937928262.py:3: SettingWithCopyWarning: \n",
      "A value is trying to be set on a copy of a slice from a DataFrame.\n",
      "Try using .loc[row_indexer,col_indexer] = value instead\n",
      "\n",
      "See the caveats in the documentation: https://pandas.pydata.org/pandas-docs/stable/user_guide/indexing.html#returning-a-view-versus-a-copy\n",
      "  threeInOne[['RRIc3Yr','RRIc5Yr','RRIc2010']]=-1\n",
      "C:\\Users\\JselZ\\AppData\\Local\\Temp\\ipykernel_28604\\1937928262.py:3: SettingWithCopyWarning: \n",
      "A value is trying to be set on a copy of a slice from a DataFrame.\n",
      "Try using .loc[row_indexer,col_indexer] = value instead\n",
      "\n",
      "See the caveats in the documentation: https://pandas.pydata.org/pandas-docs/stable/user_guide/indexing.html#returning-a-view-versus-a-copy\n",
      "  threeInOne[['RRIc3Yr','RRIc5Yr','RRIc2010']]=-1\n"
     ]
    }
   ],
   "source": [
    "threeInOne=bw[['QuestID','repriskid','AssessmentDate']]\n",
    "threeInOne.AssessmentDate=threeInOne.AssessmentDate.apply(strYear2Num).astype(int)\n",
    "threeInOne[['RRIc3Yr','RRIc5Yr','RRIc2010']]=-1"
   ]
  },
  {
   "cell_type": "code",
   "execution_count": 196,
   "metadata": {},
   "outputs": [
    {
     "name": "stderr",
     "output_type": "stream",
     "text": [
      "100%|██████████| 6500/6500 [00:13<00:00, 484.71it/s]\n"
     ]
    }
   ],
   "source": [
    "rige2010RID=rige2010.reprisk_id.unique()\n",
    "for i,j in tqdm(threeInOne.iterrows(),total=threeInOne.shape[0]):\n",
    "    bwRID=j.repriskid\n",
    "    DateUB=int(j.AssessmentDate)\n",
    "    if pd.isna(bwRID) or bwRID not in rige2010RID:\n",
    "        continue\n",
    "    fitRWID=rige2010[(rige2010.reprisk_id==bwRID)]\n",
    "    riFiltered2010=fitRWID[(fitRWID.incident_date<=DateUB)]\n",
    "    riFiltered3yr=fitRWID[fitRWID.incident_date.isin(range(DateUB-30000,DateUB+1))]\n",
    "    riFiltered5yr=fitRWID[fitRWID.incident_date.isin(range(DateUB-50000,DateUB+1))]\n",
    "    threeInOne.loc[i,'RRIc2010']=len(riFiltered2010)\n",
    "    threeInOne.loc[i,'RRIc3Yr']=len(riFiltered3yr)\n",
    "    threeInOne.loc[i,'RRIc5Yr']=len(riFiltered5yr)"
   ]
  },
  {
   "cell_type": "code",
   "execution_count": 200,
   "metadata": {},
   "outputs": [],
   "source": [
    "threeInOne.to_csv(\"3#Incident.csv\",index=0)"
   ]
  }
 ],
 "metadata": {
  "kernelspec": {
   "display_name": "base",
   "language": "python",
   "name": "python3"
  },
  "language_info": {
   "codemirror_mode": {
    "name": "ipython",
    "version": 3
   },
   "file_extension": ".py",
   "mimetype": "text/x-python",
   "name": "python",
   "nbconvert_exporter": "python",
   "pygments_lexer": "ipython3",
   "version": "3.9.13"
  }
 },
 "nbformat": 4,
 "nbformat_minor": 2
}
